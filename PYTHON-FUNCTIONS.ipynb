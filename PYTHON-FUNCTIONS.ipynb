{
 "cells": [
  {
   "cell_type": "markdown",
   "id": "bda9699f",
   "metadata": {},
   "source": [
    "# Python Functions"
   ]
  },
  {
   "cell_type": "code",
   "execution_count": 1,
   "id": "45696f69",
   "metadata": {},
   "outputs": [
    {
     "data": {
      "text/plain": [
       "3"
      ]
     },
     "execution_count": 1,
     "metadata": {},
     "output_type": "execute_result"
    }
   ],
   "source": [
    "a=1\n",
    "b=2\n",
    "a+b"
   ]
  },
  {
   "cell_type": "code",
   "execution_count": 2,
   "id": "8a9dc07a",
   "metadata": {},
   "outputs": [
    {
     "data": {
      "text/plain": [
       "30"
      ]
     },
     "execution_count": 2,
     "metadata": {},
     "output_type": "execute_result"
    }
   ],
   "source": [
    "a=10\n",
    "b=20\n",
    "a+b"
   ]
  },
  {
   "cell_type": "code",
   "execution_count": 3,
   "id": "2b7e9f3b",
   "metadata": {},
   "outputs": [
    {
     "data": {
      "text/plain": [
       "'KrishNaik C.E.O of ineuron'"
      ]
     },
     "execution_count": 3,
     "metadata": {},
     "output_type": "execute_result"
    }
   ],
   "source": [
    "def KrishNaik():\n",
    "    return 'KrishNaik C.E.O of ineuron';\n",
    "\n",
    "KrishNaik()\n"
   ]
  },
  {
   "cell_type": "code",
   "execution_count": 8,
   "id": "3b7e41e8",
   "metadata": {},
   "outputs": [
    {
     "data": {
      "text/plain": [
       "<function __main__.test(X, Y)>"
      ]
     },
     "execution_count": 8,
     "metadata": {},
     "output_type": "execute_result"
    }
   ],
   "source": [
    "def test(X,Y):\n",
    "    pass\n",
    "    \n",
    "test"
   ]
  },
  {
   "cell_type": "code",
   "execution_count": 10,
   "id": "5df1daa7",
   "metadata": {},
   "outputs": [],
   "source": [
    "def test(X,Y):\n",
    "    pass"
   ]
  },
  {
   "cell_type": "code",
   "execution_count": 11,
   "id": "a672ea18",
   "metadata": {},
   "outputs": [],
   "source": [
    "test(23,45)"
   ]
  },
  {
   "cell_type": "code",
   "execution_count": 19,
   "id": "3b8e9c5d",
   "metadata": {},
   "outputs": [
    {
     "name": "stdout",
     "output_type": "stream",
     "text": [
      "68\n"
     ]
    },
    {
     "ename": "TypeError",
     "evalue": "unsupported operand type(s) for +: 'NoneType' and 'int'",
     "output_type": "error",
     "traceback": [
      "\u001b[1;31m---------------------------------------------------------------------------\u001b[0m",
      "\u001b[1;31mTypeError\u001b[0m                                 Traceback (most recent call last)",
      "\u001b[1;32m<ipython-input-19-caf46820066c>\u001b[0m in \u001b[0;36m<module>\u001b[1;34m\u001b[0m\n\u001b[0;32m      2\u001b[0m     \u001b[0mprint\u001b[0m\u001b[1;33m(\u001b[0m\u001b[0mX\u001b[0m\u001b[1;33m+\u001b[0m\u001b[0mY\u001b[0m\u001b[1;33m)\u001b[0m\u001b[1;33m\u001b[0m\u001b[1;33m\u001b[0m\u001b[0m\n\u001b[0;32m      3\u001b[0m \u001b[1;33m\u001b[0m\u001b[0m\n\u001b[1;32m----> 4\u001b[1;33m \u001b[0mtest\u001b[0m\u001b[1;33m(\u001b[0m\u001b[1;36m23\u001b[0m\u001b[1;33m,\u001b[0m\u001b[1;36m45\u001b[0m\u001b[1;33m)\u001b[0m\u001b[1;33m+\u001b[0m\u001b[1;36m6\u001b[0m\u001b[1;33m\u001b[0m\u001b[1;33m\u001b[0m\u001b[0m\n\u001b[0m",
      "\u001b[1;31mTypeError\u001b[0m: unsupported operand type(s) for +: 'NoneType' and 'int'"
     ]
    }
   ],
   "source": [
    "def test(X,Y):\n",
    "    print(X+Y)\n",
    "    \n",
    "test(23,45)+6"
   ]
  },
  {
   "cell_type": "code",
   "execution_count": 13,
   "id": "029ec2a7",
   "metadata": {},
   "outputs": [
    {
     "name": "stdout",
     "output_type": "stream",
     "text": [
      "3\n"
     ]
    }
   ],
   "source": [
    "test(1,2)"
   ]
  },
  {
   "cell_type": "code",
   "execution_count": 14,
   "id": "0024e1e1",
   "metadata": {},
   "outputs": [
    {
     "name": "stdout",
     "output_type": "stream",
     "text": [
      "9\n"
     ]
    }
   ],
   "source": [
    "test(4,5)"
   ]
  },
  {
   "cell_type": "code",
   "execution_count": 15,
   "id": "4c23cc9d",
   "metadata": {},
   "outputs": [
    {
     "name": "stdout",
     "output_type": "stream",
     "text": [
      "12\n"
     ]
    }
   ],
   "source": [
    "test(4,8)"
   ]
  },
  {
   "cell_type": "code",
   "execution_count": 20,
   "id": "580ca5c0",
   "metadata": {},
   "outputs": [
    {
     "data": {
      "text/plain": [
       "451"
      ]
     },
     "execution_count": 20,
     "metadata": {},
     "output_type": "execute_result"
    }
   ],
   "source": [
    "def test2(b,m):\n",
    "    return b*m\n",
    "\n",
    "test2(5,89)+6"
   ]
  },
  {
   "cell_type": "code",
   "execution_count": 21,
   "id": "9095a23c",
   "metadata": {},
   "outputs": [
    {
     "name": "stdout",
     "output_type": "stream",
     "text": [
      "68\n"
     ]
    },
    {
     "data": {
      "text/plain": [
       "NoneType"
      ]
     },
     "execution_count": 21,
     "metadata": {},
     "output_type": "execute_result"
    }
   ],
   "source": [
    "def test(x,y):\n",
    "    print(x+y)\n",
    "    \n",
    "type(test(23,45))"
   ]
  },
  {
   "cell_type": "code",
   "execution_count": 22,
   "id": "99536972",
   "metadata": {},
   "outputs": [
    {
     "data": {
      "text/plain": [
       "int"
      ]
     },
     "execution_count": 22,
     "metadata": {},
     "output_type": "execute_result"
    }
   ],
   "source": [
    "def test2(b,m):\n",
    "    return b*m\n",
    "\n",
    "type(test2(5,89))"
   ]
  },
  {
   "cell_type": "code",
   "execution_count": 23,
   "id": "0a27903c",
   "metadata": {},
   "outputs": [],
   "source": [
    "def test2(b,m):\n",
    "    return b*m\n",
    "\n",
    "a=test2(5,89)"
   ]
  },
  {
   "cell_type": "code",
   "execution_count": 24,
   "id": "e35b4e42",
   "metadata": {},
   "outputs": [
    {
     "data": {
      "text/plain": [
       "445"
      ]
     },
     "execution_count": 24,
     "metadata": {},
     "output_type": "execute_result"
    }
   ],
   "source": [
    "a"
   ]
  },
  {
   "cell_type": "code",
   "execution_count": 25,
   "id": "1c355723",
   "metadata": {},
   "outputs": [
    {
     "name": "stdout",
     "output_type": "stream",
     "text": [
      "68\n"
     ]
    }
   ],
   "source": [
    "def test(X,Y):\n",
    "    print(X+Y)\n",
    "    \n",
    "test(23,45)"
   ]
  },
  {
   "cell_type": "code",
   "execution_count": 27,
   "id": "0af1a1ca",
   "metadata": {},
   "outputs": [
    {
     "name": "stdout",
     "output_type": "stream",
     "text": [
      "90\n"
     ]
    }
   ],
   "source": [
    "b=test(34,56)"
   ]
  },
  {
   "cell_type": "code",
   "execution_count": 28,
   "id": "0fe88422",
   "metadata": {},
   "outputs": [
    {
     "data": {
      "text/plain": [
       "NoneType"
      ]
     },
     "execution_count": 28,
     "metadata": {},
     "output_type": "execute_result"
    }
   ],
   "source": [
    "type(b)"
   ]
  },
  {
   "cell_type": "code",
   "execution_count": 29,
   "id": "40031f9a",
   "metadata": {},
   "outputs": [
    {
     "data": {
      "text/plain": [
       "int"
      ]
     },
     "execution_count": 29,
     "metadata": {},
     "output_type": "execute_result"
    }
   ],
   "source": [
    "type(a)"
   ]
  },
  {
   "cell_type": "code",
   "execution_count": 31,
   "id": "c87fb087",
   "metadata": {},
   "outputs": [
    {
     "data": {
      "text/plain": [
       "30"
      ]
     },
     "execution_count": 31,
     "metadata": {},
     "output_type": "execute_result"
    }
   ],
   "source": [
    "def test2(a,b,c):\n",
    "    return a+b\n",
    "\n",
    "test2(10,20,0)"
   ]
  },
  {
   "cell_type": "code",
   "execution_count": 32,
   "id": "3b2453aa",
   "metadata": {},
   "outputs": [
    {
     "data": {
      "text/plain": [
       "(20, 280, 9)"
      ]
     },
     "execution_count": 32,
     "metadata": {},
     "output_type": "execute_result"
    }
   ],
   "source": [
    "def test3(n,m):\n",
    "    return n*10,m*40,m+n\n",
    "\n",
    "test3(2,7)"
   ]
  },
  {
   "cell_type": "code",
   "execution_count": 33,
   "id": "ed267a70",
   "metadata": {},
   "outputs": [
    {
     "data": {
      "text/plain": [
       "tuple"
      ]
     },
     "execution_count": 33,
     "metadata": {},
     "output_type": "execute_result"
    }
   ],
   "source": [
    "type(test3(2,7))"
   ]
  },
  {
   "cell_type": "code",
   "execution_count": 34,
   "id": "91f90ad8",
   "metadata": {},
   "outputs": [],
   "source": [
    "c,x,v=test3(2,7)"
   ]
  },
  {
   "cell_type": "code",
   "execution_count": 35,
   "id": "33ae8d1a",
   "metadata": {},
   "outputs": [
    {
     "data": {
      "text/plain": [
       "20"
      ]
     },
     "execution_count": 35,
     "metadata": {},
     "output_type": "execute_result"
    }
   ],
   "source": [
    "c"
   ]
  },
  {
   "cell_type": "code",
   "execution_count": 36,
   "id": "a85bcd89",
   "metadata": {},
   "outputs": [
    {
     "data": {
      "text/plain": [
       "280"
      ]
     },
     "execution_count": 36,
     "metadata": {},
     "output_type": "execute_result"
    }
   ],
   "source": [
    "x"
   ]
  },
  {
   "cell_type": "code",
   "execution_count": 38,
   "id": "23068963",
   "metadata": {},
   "outputs": [
    {
     "data": {
      "text/plain": [
       "9"
      ]
     },
     "execution_count": 38,
     "metadata": {},
     "output_type": "execute_result"
    }
   ],
   "source": [
    "v"
   ]
  },
  {
   "cell_type": "code",
   "execution_count": 51,
   "id": "99edfeb7",
   "metadata": {},
   "outputs": [],
   "source": [
    "c,x, _,=test3(2,7)"
   ]
  },
  {
   "cell_type": "code",
   "execution_count": 52,
   "id": "ee5b143c",
   "metadata": {},
   "outputs": [
    {
     "data": {
      "text/plain": [
       "20"
      ]
     },
     "execution_count": 52,
     "metadata": {},
     "output_type": "execute_result"
    }
   ],
   "source": [
    "c"
   ]
  },
  {
   "cell_type": "code",
   "execution_count": 53,
   "id": "98ffe71c",
   "metadata": {},
   "outputs": [
    {
     "data": {
      "text/plain": [
       "280"
      ]
     },
     "execution_count": 53,
     "metadata": {},
     "output_type": "execute_result"
    }
   ],
   "source": [
    "x"
   ]
  },
  {
   "cell_type": "code",
   "execution_count": 54,
   "id": "a1c0e31d",
   "metadata": {},
   "outputs": [
    {
     "data": {
      "text/plain": [
       "9"
      ]
     },
     "execution_count": 54,
     "metadata": {},
     "output_type": "execute_result"
    }
   ],
   "source": [
    "_"
   ]
  },
  {
   "cell_type": "code",
   "execution_count": 56,
   "id": "3e884810",
   "metadata": {},
   "outputs": [],
   "source": [
    "_,_,m=test3(2,7)"
   ]
  },
  {
   "cell_type": "code",
   "execution_count": 62,
   "id": "6bce1aac",
   "metadata": {},
   "outputs": [
    {
     "data": {
      "text/plain": [
       "20"
      ]
     },
     "execution_count": 62,
     "metadata": {},
     "output_type": "execute_result"
    }
   ],
   "source": [
    "c"
   ]
  },
  {
   "cell_type": "code",
   "execution_count": 63,
   "id": "729a1356",
   "metadata": {},
   "outputs": [
    {
     "data": {
      "text/plain": [
       "280"
      ]
     },
     "execution_count": 63,
     "metadata": {},
     "output_type": "execute_result"
    }
   ],
   "source": [
    "_"
   ]
  },
  {
   "cell_type": "code",
   "execution_count": 64,
   "id": "649b90be",
   "metadata": {},
   "outputs": [
    {
     "data": {
      "text/plain": [
       "9"
      ]
     },
     "execution_count": 64,
     "metadata": {},
     "output_type": "execute_result"
    }
   ],
   "source": [
    "m"
   ]
  },
  {
   "cell_type": "code",
   "execution_count": 65,
   "id": "76eeae90",
   "metadata": {},
   "outputs": [],
   "source": [
    "_,_, _=test3(2,7)"
   ]
  },
  {
   "cell_type": "code",
   "execution_count": 66,
   "id": "b469dc4c",
   "metadata": {},
   "outputs": [
    {
     "data": {
      "text/plain": [
       "20"
      ]
     },
     "execution_count": 66,
     "metadata": {},
     "output_type": "execute_result"
    }
   ],
   "source": [
    "c"
   ]
  },
  {
   "cell_type": "code",
   "execution_count": 67,
   "id": "cf1f75ee",
   "metadata": {},
   "outputs": [
    {
     "data": {
      "text/plain": [
       "280"
      ]
     },
     "execution_count": 67,
     "metadata": {},
     "output_type": "execute_result"
    }
   ],
   "source": [
    "x"
   ]
  },
  {
   "cell_type": "code",
   "execution_count": 68,
   "id": "925d06d6",
   "metadata": {},
   "outputs": [
    {
     "data": {
      "text/plain": [
       "9"
      ]
     },
     "execution_count": 68,
     "metadata": {},
     "output_type": "execute_result"
    }
   ],
   "source": [
    "m"
   ]
  },
  {
   "cell_type": "code",
   "execution_count": 69,
   "id": "cfe3a131",
   "metadata": {},
   "outputs": [
    {
     "data": {
      "text/plain": [
       "9"
      ]
     },
     "execution_count": 69,
     "metadata": {},
     "output_type": "execute_result"
    }
   ],
   "source": [
    "def test2(t,n,m):\n",
    "    return t+n\n",
    "    return n+m\n",
    "\n",
    "test2(4,5,6)"
   ]
  },
  {
   "cell_type": "code",
   "execution_count": 70,
   "id": "71c29e87",
   "metadata": {},
   "outputs": [],
   "source": [
    "def test():\n",
    "    return (\"this is my first function\")"
   ]
  },
  {
   "cell_type": "code",
   "execution_count": 71,
   "id": "53e68a31",
   "metadata": {},
   "outputs": [
    {
     "data": {
      "text/plain": [
       "'this is my first function'"
      ]
     },
     "execution_count": 71,
     "metadata": {},
     "output_type": "execute_result"
    }
   ],
   "source": [
    "test()"
   ]
  },
  {
   "cell_type": "code",
   "execution_count": 72,
   "id": "97695696",
   "metadata": {},
   "outputs": [],
   "source": [
    "m=test()"
   ]
  },
  {
   "cell_type": "code",
   "execution_count": 73,
   "id": "8e72ef23",
   "metadata": {},
   "outputs": [
    {
     "data": {
      "text/plain": [
       "'this is my first function'"
      ]
     },
     "execution_count": 73,
     "metadata": {},
     "output_type": "execute_result"
    }
   ],
   "source": [
    "m"
   ]
  },
  {
   "cell_type": "code",
   "execution_count": 83,
   "id": "e75d23d9",
   "metadata": {},
   "outputs": [],
   "source": [
    "def test7():\n",
    "    return (\"this is my first Krish Naik DataScience\")"
   ]
  },
  {
   "cell_type": "code",
   "execution_count": 84,
   "id": "85fa72e8",
   "metadata": {},
   "outputs": [],
   "source": [
    "n=test7()"
   ]
  },
  {
   "cell_type": "code",
   "execution_count": 86,
   "id": "a06b268b",
   "metadata": {},
   "outputs": [
    {
     "data": {
      "text/plain": [
       "'this is my first Krish Naik DataScienceClass'"
      ]
     },
     "execution_count": 86,
     "metadata": {},
     "output_type": "execute_result"
    }
   ],
   "source": [
    "n+\"Class\""
   ]
  },
  {
   "cell_type": "code",
   "execution_count": 87,
   "id": "ed8747a9",
   "metadata": {},
   "outputs": [],
   "source": [
    "def test8(n):\n",
    "    return n*2"
   ]
  },
  {
   "cell_type": "code",
   "execution_count": 88,
   "id": "a35f2d06",
   "metadata": {},
   "outputs": [
    {
     "data": {
      "text/plain": [
       "[3, 4, 5, 6, 7, 3, 4, 5, 6, 7]"
      ]
     },
     "execution_count": 88,
     "metadata": {},
     "output_type": "execute_result"
    }
   ],
   "source": [
    "test8([3,4,5,6,7,])"
   ]
  },
  {
   "cell_type": "code",
   "execution_count": 89,
   "id": "faeaec8c",
   "metadata": {},
   "outputs": [
    {
     "data": {
      "text/plain": [
       "134"
      ]
     },
     "execution_count": 89,
     "metadata": {},
     "output_type": "execute_result"
    }
   ],
   "source": [
    "test8(67)"
   ]
  },
  {
   "cell_type": "code",
   "execution_count": 91,
   "id": "e25f98f5",
   "metadata": {},
   "outputs": [
    {
     "data": {
      "text/plain": [
       "([4, 5, 6, 6, 7],\n",
       " [4,\n",
       "  5,\n",
       "  6,\n",
       "  6,\n",
       "  7,\n",
       "  4,\n",
       "  5,\n",
       "  6,\n",
       "  6,\n",
       "  7,\n",
       "  4,\n",
       "  5,\n",
       "  6,\n",
       "  6,\n",
       "  7,\n",
       "  4,\n",
       "  5,\n",
       "  6,\n",
       "  6,\n",
       "  7,\n",
       "  4,\n",
       "  5,\n",
       "  6,\n",
       "  6,\n",
       "  7,\n",
       "  4,\n",
       "  5,\n",
       "  6,\n",
       "  6,\n",
       "  7,\n",
       "  4,\n",
       "  5,\n",
       "  6,\n",
       "  6,\n",
       "  7])"
      ]
     },
     "execution_count": 91,
     "metadata": {},
     "output_type": "execute_result"
    }
   ],
   "source": [
    "def test9(n):\n",
    "    return n,n*7\n",
    "\n",
    "test9([4,5,6,6,7])"
   ]
  },
  {
   "cell_type": "code",
   "execution_count": 92,
   "id": "6c6b6dc5",
   "metadata": {},
   "outputs": [
    {
     "data": {
      "text/plain": [
       "([4, 5, 6, 6, 7], [4, 5, 6, 6, 7, 4, 5, 6, 6, 7])"
      ]
     },
     "execution_count": 92,
     "metadata": {},
     "output_type": "execute_result"
    }
   ],
   "source": [
    "def test9(n):\n",
    "    return n,n*2\n",
    "\n",
    "test9([4,5,6,6,7])"
   ]
  },
  {
   "cell_type": "code",
   "execution_count": 93,
   "id": "54a4f426",
   "metadata": {},
   "outputs": [],
   "source": [
    "b=test9([4,5,6,6,7])"
   ]
  },
  {
   "cell_type": "code",
   "execution_count": 94,
   "id": "aa90d57d",
   "metadata": {},
   "outputs": [
    {
     "data": {
      "text/plain": [
       "([4, 5, 6, 6, 7], [4, 5, 6, 6, 7, 4, 5, 6, 6, 7])"
      ]
     },
     "execution_count": 94,
     "metadata": {},
     "output_type": "execute_result"
    }
   ],
   "source": [
    "b"
   ]
  },
  {
   "cell_type": "code",
   "execution_count": 95,
   "id": "52b1efe4",
   "metadata": {},
   "outputs": [
    {
     "data": {
      "text/plain": [
       "[4, 5, 6, 6, 7]"
      ]
     },
     "execution_count": 95,
     "metadata": {},
     "output_type": "execute_result"
    }
   ],
   "source": [
    "b[0]"
   ]
  },
  {
   "cell_type": "code",
   "execution_count": 96,
   "id": "d1c0d3f8",
   "metadata": {},
   "outputs": [
    {
     "data": {
      "text/plain": [
       "[4, 5, 6, 6, 7, 4, 5, 6, 6, 7]"
      ]
     },
     "execution_count": 96,
     "metadata": {},
     "output_type": "execute_result"
    }
   ],
   "source": [
    "b[1]"
   ]
  },
  {
   "cell_type": "code",
   "execution_count": 97,
   "id": "790ed413",
   "metadata": {},
   "outputs": [],
   "source": [
    "def test10(n:30,m):\n",
    "    return n+m"
   ]
  },
  {
   "cell_type": "code",
   "execution_count": 98,
   "id": "a2edf2fb",
   "metadata": {},
   "outputs": [
    {
     "data": {
      "text/plain": [
       "90"
      ]
     },
     "execution_count": 98,
     "metadata": {},
     "output_type": "execute_result"
    }
   ],
   "source": [
    "test10(30,60)"
   ]
  },
  {
   "cell_type": "code",
   "execution_count": 99,
   "id": "b27777b9",
   "metadata": {},
   "outputs": [],
   "source": [
    "def test10(n,m=90):\n",
    "    return n+m"
   ]
  },
  {
   "cell_type": "code",
   "execution_count": 100,
   "id": "d32ac90f",
   "metadata": {},
   "outputs": [
    {
     "data": {
      "text/plain": [
       "150"
      ]
     },
     "execution_count": 100,
     "metadata": {},
     "output_type": "execute_result"
    }
   ],
   "source": [
    "test10(60)"
   ]
  },
  {
   "cell_type": "code",
   "execution_count": 101,
   "id": "b6b0dbe1",
   "metadata": {},
   "outputs": [],
   "source": [
    "def test10(n,m=90):\n",
    "    return n+m"
   ]
  },
  {
   "cell_type": "code",
   "execution_count": 102,
   "id": "c4c53669",
   "metadata": {},
   "outputs": [
    {
     "data": {
      "text/plain": [
       "90"
      ]
     },
     "execution_count": 102,
     "metadata": {},
     "output_type": "execute_result"
    }
   ],
   "source": [
    "test10(60,30)"
   ]
  },
  {
   "cell_type": "code",
   "execution_count": 104,
   "id": "ec359d59",
   "metadata": {},
   "outputs": [],
   "source": [
    "def boolx(x=True,y=False):\n",
    "    return x+y"
   ]
  },
  {
   "cell_type": "code",
   "execution_count": 105,
   "id": "4df4ad99",
   "metadata": {},
   "outputs": [
    {
     "data": {
      "text/plain": [
       "1"
      ]
     },
     "execution_count": 105,
     "metadata": {},
     "output_type": "execute_result"
    }
   ],
   "source": [
    "boolx()"
   ]
  },
  {
   "cell_type": "code",
   "execution_count": 106,
   "id": "7418f0d0",
   "metadata": {},
   "outputs": [
    {
     "data": {
      "text/plain": [
       "0"
      ]
     },
     "execution_count": 106,
     "metadata": {},
     "output_type": "execute_result"
    }
   ],
   "source": [
    "boolx(False)"
   ]
  },
  {
   "cell_type": "code",
   "execution_count": 107,
   "id": "c5ad8d41",
   "metadata": {},
   "outputs": [
    {
     "data": {
      "text/plain": [
       "0"
      ]
     },
     "execution_count": 107,
     "metadata": {},
     "output_type": "execute_result"
    }
   ],
   "source": [
    "boolx(False,0)"
   ]
  },
  {
   "cell_type": "code",
   "execution_count": 108,
   "id": "f4b1ba95",
   "metadata": {},
   "outputs": [
    {
     "data": {
      "text/plain": [
       "8"
      ]
     },
     "execution_count": 108,
     "metadata": {},
     "output_type": "execute_result"
    }
   ],
   "source": [
    "boolx(False,8)"
   ]
  },
  {
   "cell_type": "code",
   "execution_count": 109,
   "id": "3b40b6a4",
   "metadata": {},
   "outputs": [
    {
     "data": {
      "text/plain": [
       "1"
      ]
     },
     "execution_count": 109,
     "metadata": {},
     "output_type": "execute_result"
    }
   ],
   "source": [
    "True+False"
   ]
  },
  {
   "cell_type": "code",
   "execution_count": 110,
   "id": "34dccbc4",
   "metadata": {},
   "outputs": [],
   "source": [
    "def travel(bike=True,car=False):\n",
    "    plan_travel=bike or car\n",
    "    return bike,car,plan_travel"
   ]
  },
  {
   "cell_type": "code",
   "execution_count": 111,
   "id": "6fde3540",
   "metadata": {},
   "outputs": [
    {
     "data": {
      "text/plain": [
       "(True, False, True)"
      ]
     },
     "execution_count": 111,
     "metadata": {},
     "output_type": "execute_result"
    }
   ],
   "source": [
    "travel()"
   ]
  },
  {
   "cell_type": "code",
   "execution_count": 112,
   "id": "171e1c5e",
   "metadata": {},
   "outputs": [],
   "source": [
    "def travel(bike=True,car=False):\n",
    "    plan_travel=bike and car\n",
    "    return bike,car,plan_travel"
   ]
  },
  {
   "cell_type": "code",
   "execution_count": 113,
   "id": "d50282df",
   "metadata": {},
   "outputs": [
    {
     "data": {
      "text/plain": [
       "(True, False, False)"
      ]
     },
     "execution_count": 113,
     "metadata": {},
     "output_type": "execute_result"
    }
   ],
   "source": [
    "travel()"
   ]
  },
  {
   "cell_type": "code",
   "execution_count": 114,
   "id": "c91c0ec1",
   "metadata": {},
   "outputs": [
    {
     "data": {
      "text/plain": [
       "(False, False, False)"
      ]
     },
     "execution_count": 114,
     "metadata": {},
     "output_type": "execute_result"
    }
   ],
   "source": [
    "travel(False)"
   ]
  },
  {
   "cell_type": "code",
   "execution_count": 115,
   "id": "658b69f9",
   "metadata": {},
   "outputs": [
    {
     "data": {
      "text/plain": [
       "(True, True, True)"
      ]
     },
     "execution_count": 115,
     "metadata": {},
     "output_type": "execute_result"
    }
   ],
   "source": [
    "travel(car=True)"
   ]
  },
  {
   "cell_type": "code",
   "execution_count": 116,
   "id": "495119ab",
   "metadata": {},
   "outputs": [
    {
     "data": {
      "text/plain": [
       "(9, True, True)"
      ]
     },
     "execution_count": 116,
     "metadata": {},
     "output_type": "execute_result"
    }
   ],
   "source": [
    "travel(_,True)"
   ]
  },
  {
   "cell_type": "code",
   "execution_count": 117,
   "id": "4aa41a7c",
   "metadata": {},
   "outputs": [
    {
     "data": {
      "text/plain": [
       "9"
      ]
     },
     "execution_count": 117,
     "metadata": {},
     "output_type": "execute_result"
    }
   ],
   "source": [
    "_"
   ]
  },
  {
   "cell_type": "code",
   "execution_count": 118,
   "id": "751f7c63",
   "metadata": {},
   "outputs": [],
   "source": [
    "def test11(*args,x=\"Krish\"):\n",
    "    return args"
   ]
  },
  {
   "cell_type": "code",
   "execution_count": 119,
   "id": "d2228841",
   "metadata": {},
   "outputs": [
    {
     "data": {
      "text/plain": [
       "('KrishNaik', 'Sudhanshu', 34, [34, 4, 4, 5, 454, 54])"
      ]
     },
     "execution_count": 119,
     "metadata": {},
     "output_type": "execute_result"
    }
   ],
   "source": [
    "test11(\"KrishNaik\",\"Sudhanshu\",34,[34,4,4,5,454,54])"
   ]
  },
  {
   "cell_type": "code",
   "execution_count": 121,
   "id": "f4cec1bf",
   "metadata": {},
   "outputs": [
    {
     "data": {
      "text/plain": [
       "([1, 2, 3], [4, 5, 6], [7, 8, 9], ['Krish Naik', 'Sudhanshu'])"
      ]
     },
     "execution_count": 121,
     "metadata": {},
     "output_type": "execute_result"
    }
   ],
   "source": [
    "def test12(*args):\n",
    "    return args\n",
    "\n",
    "test12([1,2,3,],[4,5,6],[7,8,9],['Krish Naik','Sudhanshu'])"
   ]
  },
  {
   "cell_type": "code",
   "execution_count": 123,
   "id": "bd063f0c",
   "metadata": {},
   "outputs": [
    {
     "data": {
      "text/plain": [
       "[1, 2, 3, 4, 5, 6, 7, 8, 9, 10, 11]"
      ]
     },
     "execution_count": 123,
     "metadata": {},
     "output_type": "execute_result"
    }
   ],
   "source": [
    "def test13(a,b,c):\n",
    "    return a+b+c\n",
    "\n",
    "test13([1,2,3,4],[5,6,7,8],[9,10,11])"
   ]
  },
  {
   "cell_type": "code",
   "execution_count": 130,
   "id": "745bb731",
   "metadata": {},
   "outputs": [],
   "source": [
    "def test14(*args):\n",
    "    l=[]\n",
    "    for i in args:\n",
    "        l=l+i\n",
    "        l.append(i)\n",
    "    return l"
   ]
  },
  {
   "cell_type": "code",
   "execution_count": 131,
   "id": "798a1046",
   "metadata": {},
   "outputs": [
    {
     "data": {
      "text/plain": [
       "[1, 2, 3, 4, [1, 2, 3, 4], 5, 6, 7, 8, [5, 6, 7, 8], 9, 10, 11, [9, 10, 11]]"
      ]
     },
     "execution_count": 131,
     "metadata": {},
     "output_type": "execute_result"
    }
   ],
   "source": [
    "test14([1,2,3,4],[5,6,7,8],[9,10,11])"
   ]
  },
  {
   "cell_type": "code",
   "execution_count": 133,
   "id": "c38acab9",
   "metadata": {},
   "outputs": [],
   "source": [
    "def test15(*args):\n",
    "    return [i for i in args]"
   ]
  },
  {
   "cell_type": "code",
   "execution_count": 134,
   "id": "4b5397e0",
   "metadata": {},
   "outputs": [
    {
     "data": {
      "text/plain": [
       "[[1, 2, 3], [4, 5, 6], [7, 8, 9]]"
      ]
     },
     "execution_count": 134,
     "metadata": {},
     "output_type": "execute_result"
    }
   ],
   "source": [
    "test15([1,2,3],[4,5,6],[7,8,9])"
   ]
  },
  {
   "cell_type": "code",
   "execution_count": 4,
   "id": "19b2b455",
   "metadata": {},
   "outputs": [],
   "source": [
    "def test16(*args):\n",
    "    l=[]\n",
    "    for i in args:\n",
    "        if type(i)==list:\n",
    "            l=l+i\n",
    "    return l"
   ]
  },
  {
   "cell_type": "code",
   "execution_count": 5,
   "id": "dbbafe28",
   "metadata": {},
   "outputs": [
    {
     "data": {
      "text/plain": [
       "[3, 4, 5, 6, 7, 8, 5, 7, 7, 8, 9]"
      ]
     },
     "execution_count": 5,
     "metadata": {},
     "output_type": "execute_result"
    }
   ],
   "source": [
    "test16(\"Krish Naik\",234,[3,4,5,6,7,8],[5,7,7,8,9])"
   ]
  },
  {
   "cell_type": "code",
   "execution_count": 6,
   "id": "b0e58290",
   "metadata": {},
   "outputs": [],
   "source": [
    "def test17(*args):\n",
    "    l=[]\n",
    "    for i in args:\n",
    "        if type(i)==list:\n",
    "            l=l+i\n",
    "    return l\n"
   ]
  },
  {
   "cell_type": "code",
   "execution_count": 7,
   "id": "9c5b578d",
   "metadata": {},
   "outputs": [
    {
     "data": {
      "text/plain": [
       "[3, 4, 5, 6, 7, 8, 5, 7, 7, 8, 9]"
      ]
     },
     "execution_count": 7,
     "metadata": {},
     "output_type": "execute_result"
    }
   ],
   "source": [
    "test17('Bhushan',234,[3,4,5,6,7,8],[5,7,7,8,9])"
   ]
  },
  {
   "cell_type": "code",
   "execution_count": 9,
   "id": "3b7b21b0",
   "metadata": {},
   "outputs": [
    {
     "data": {
      "text/plain": [
       "{'a': 1, 'b': 2, 'c': 3, 'd': 4}"
      ]
     },
     "execution_count": 9,
     "metadata": {},
     "output_type": "execute_result"
    }
   ],
   "source": [
    "def test18(**kwargs):\n",
    "    return kwargs\n",
    "\n",
    "test18(a=1,b=2,c=3,d=4)"
   ]
  },
  {
   "cell_type": "code",
   "execution_count": 10,
   "id": "6b17d5ac",
   "metadata": {},
   "outputs": [
    {
     "data": {
      "text/plain": [
       "dict"
      ]
     },
     "execution_count": 10,
     "metadata": {},
     "output_type": "execute_result"
    }
   ],
   "source": [
    "type(test18(a=1,b=2,c=3,d=4))"
   ]
  },
  {
   "cell_type": "code",
   "execution_count": 16,
   "id": "58d11496",
   "metadata": {},
   "outputs": [
    {
     "data": {
      "text/plain": [
       "{'a': 10, 'b': 20, 'c': 30, 'd': 40}"
      ]
     },
     "execution_count": 16,
     "metadata": {},
     "output_type": "execute_result"
    }
   ],
   "source": [
    "def test18(**kwargs):\n",
    "    return kwargs\n",
    "\n",
    "test18(a=10,b=20,c=30,d=40)"
   ]
  },
  {
   "cell_type": "code",
   "execution_count": 17,
   "id": "3efaf478",
   "metadata": {},
   "outputs": [
    {
     "data": {
      "text/plain": [
       "{'a': 8, 'b': 'True', 'c': [4, 5, 6, 6, 'Krish Naik'], 'd': 'Bhushan'}"
      ]
     },
     "execution_count": 17,
     "metadata": {},
     "output_type": "execute_result"
    }
   ],
   "source": [
    "def test19(**kwargs):\n",
    "    return kwargs\n",
    "\n",
    "test19(a=8, b='True',c=[4,5,6,6,'Krish Naik'],d=\"Bhushan\")"
   ]
  },
  {
   "cell_type": "code",
   "execution_count": 18,
   "id": "e67b5585",
   "metadata": {},
   "outputs": [],
   "source": [
    "def test20(*args):\n",
    "    return args"
   ]
  },
  {
   "cell_type": "code",
   "execution_count": 19,
   "id": "0d2dd19f",
   "metadata": {},
   "outputs": [
    {
     "data": {
      "text/plain": [
       "(4, 5, 6, 7, 'Krish Naik', [4, 5, 6, 7])"
      ]
     },
     "execution_count": 19,
     "metadata": {},
     "output_type": "execute_result"
    }
   ],
   "source": [
    "test20(4,5,6,7,'Krish Naik',[4,5,6,7])"
   ]
  },
  {
   "cell_type": "code",
   "execution_count": 23,
   "id": "14eedc43",
   "metadata": {},
   "outputs": [],
   "source": [
    "def fun1(*args):\n",
    "    a=[]\n",
    "    b=[]\n",
    "    c=[]\n",
    "    d=[]\n",
    "    e=[]\n",
    "    f=[]\n",
    "    g=[]\n",
    "    h=[]\n",
    "    for i in args:\n",
    "        if type(i)==int:\n",
    "            a.append(i)\n",
    "        if type(i)==float:\n",
    "            b.append(i)\n",
    "        if type(i)==str:\n",
    "            c.append(i)\n",
    "        if type(i)==tuple:\n",
    "            d.append(i)\n",
    "        if type(i)==list:\n",
    "            e.append(i)\n",
    "        if type(i)==dict:\n",
    "            f.append(i)\n",
    "        if type(i)==bool:\n",
    "            g.append(i)\n",
    "        if type(i)==complex:\n",
    "            h.append(i)\n",
    "            \n",
    "    return a,b,c,d,e,f,g,h"
   ]
  },
  {
   "cell_type": "code",
   "execution_count": 24,
   "id": "2b52cffc",
   "metadata": {},
   "outputs": [
    {
     "data": {
      "text/plain": [
       "([10],\n",
       " [1.2],\n",
       " ['Krish Naik'],\n",
       " [(1, 2, 3, 4)],\n",
       " [],\n",
       " [{'name': 'Bhushan', 'age': 10}],\n",
       " [True, False],\n",
       " [(3+9j)])"
      ]
     },
     "execution_count": 24,
     "metadata": {},
     "output_type": "execute_result"
    }
   ],
   "source": [
    "fun1(10,1.2,'Krish Naik',(1,2,3,4),{'name':'Bhushan','age':10},True,False,3+9j)"
   ]
  },
  {
   "cell_type": "code",
   "execution_count": 26,
   "id": "0a056c4f",
   "metadata": {},
   "outputs": [],
   "source": [
    "def fun2(*args,**kwargs):\n",
    "    l=[i for i in args]\n",
    "    d=[i for i in kwargs]\n",
    "    return l,d"
   ]
  },
  {
   "cell_type": "code",
   "execution_count": 28,
   "id": "08737562",
   "metadata": {},
   "outputs": [
    {
     "data": {
      "text/plain": [
       "([[[4, 5.6, 7, 8], [1, 2, 3, 4, 5], 5, 5, 6, 7]], ['a', 'b', 'm'])"
      ]
     },
     "execution_count": 28,
     "metadata": {},
     "output_type": "execute_result"
    }
   ],
   "source": [
    "fun2([[4,5.6,7,8],[1,2,3,4,5] ,5,5,6,7],a=5,b='Krish Naik',m=[4,5,6,7])"
   ]
  },
  {
   "cell_type": "code",
   "execution_count": 29,
   "id": "e05a00fa",
   "metadata": {},
   "outputs": [],
   "source": [
    "def fun2(*args,**kwargs):\n",
    "    l=[i for i in args]\n",
    "    d=[i[1] for i in kwargs.items() if type (i[1])==list]\n",
    "    return l,d"
   ]
  },
  {
   "cell_type": "code",
   "execution_count": 30,
   "id": "08304fa5",
   "metadata": {},
   "outputs": [
    {
     "data": {
      "text/plain": [
       "([[[4, 5.6, 7, 8], [1, 2, 3, 4, 5], 5, 5, 6, 7]], [[4, 5, 6, 7]])"
      ]
     },
     "execution_count": 30,
     "metadata": {},
     "output_type": "execute_result"
    }
   ],
   "source": [
    "fun2([[4,5.6,7,8],[1,2,3,4,5] ,5,5,6,7],a=5,b='Krish Naik',m=[4,5,6,7])"
   ]
  },
  {
   "cell_type": "code",
   "execution_count": 31,
   "id": "cf966b4f",
   "metadata": {},
   "outputs": [],
   "source": [
    "def fun2(*args,**kwargs):\n",
    "    l=[i for i in args if type(i)==list]\n",
    "    d=[i[1] for i in kwargs.items() if type (i[1])==list]\n",
    "    return l,d"
   ]
  },
  {
   "cell_type": "code",
   "execution_count": 32,
   "id": "cc105a50",
   "metadata": {},
   "outputs": [
    {
     "data": {
      "text/plain": [
       "([[[4, 5.6, 7, 8], [1, 2, 3, 4, 5], 5, 5, 6, 7]], [[4, 5, 6, 7]])"
      ]
     },
     "execution_count": 32,
     "metadata": {},
     "output_type": "execute_result"
    }
   ],
   "source": [
    "fun2([[4,5.6,7,8],[1,2,3,4,5] ,5,5,6,7],a=5,b='Krish Naik',m=[4,5,6,7])"
   ]
  },
  {
   "cell_type": "code",
   "execution_count": 35,
   "id": "a3036b90",
   "metadata": {},
   "outputs": [
    {
     "data": {
      "text/plain": [
       "{'a': 10,\n",
       " 'b': [1, 2, 3, 4],\n",
       " 'c': (2+4j),\n",
       " 'd': [5, 6, 7, 8, 9],\n",
       " 'e': ['Krish Naik']}"
      ]
     },
     "execution_count": 35,
     "metadata": {},
     "output_type": "execute_result"
    }
   ],
   "source": [
    "def fun3(**kwargs):\n",
    "    return kwargs\n",
    "\n",
    "fun3(a=10,b=[1,2,3,4],c=2+4J,d=[5,6,7,8,9],e=[\"Krish Naik\"])"
   ]
  },
  {
   "cell_type": "code",
   "execution_count": 36,
   "id": "ab270860",
   "metadata": {},
   "outputs": [
    {
     "name": "stdout",
     "output_type": "stream",
     "text": [
      "('a', 10)\n",
      "('b', [1, 2, 3, 4])\n",
      "('c', (2+4j))\n",
      "('d', [5, 6, 7, 8, 9])\n",
      "('e', ['Krish Naik'])\n"
     ]
    },
    {
     "data": {
      "text/plain": [
       "{'a': 10,\n",
       " 'b': [1, 2, 3, 4],\n",
       " 'c': (2+4j),\n",
       " 'd': [5, 6, 7, 8, 9],\n",
       " 'e': ['Krish Naik']}"
      ]
     },
     "execution_count": 36,
     "metadata": {},
     "output_type": "execute_result"
    }
   ],
   "source": [
    "def fun3(**kwargs):\n",
    "    for i in kwargs.items():\n",
    "        print(i)\n",
    "    return kwargs\n",
    "\n",
    "fun3(a=10,b=[1,2,3,4],c=2+4J,d=[5,6,7,8,9],e=[\"Krish Naik\"])"
   ]
  },
  {
   "cell_type": "code",
   "execution_count": 37,
   "id": "9491d9bf",
   "metadata": {},
   "outputs": [],
   "source": [
    "def fun3(**kwargs):\n",
    "    for i in kwargs.items():\n",
    "        if type(i)==list:\n",
    "            if \"Krish Naik\" in i:\n",
    "                print(\"i am able to find your name in input data\")\n",
    "    return kwargs\n"
   ]
  },
  {
   "cell_type": "code",
   "execution_count": 38,
   "id": "495913f4",
   "metadata": {},
   "outputs": [
    {
     "data": {
      "text/plain": [
       "{'a': 10,\n",
       " 'b': [1, 2, 3, 4],\n",
       " 'c': (2+4j),\n",
       " 'd': [5, 6, 7, 8, 9],\n",
       " 'e': ['Krish Naik']}"
      ]
     },
     "execution_count": 38,
     "metadata": {},
     "output_type": "execute_result"
    }
   ],
   "source": [
    "fun3(a=10,b=[1,2,3,4],c=2+4J,d=[5,6,7,8,9],e=[\"Krish Naik\"])"
   ]
  },
  {
   "cell_type": "code",
   "execution_count": 39,
   "id": "137d3581",
   "metadata": {},
   "outputs": [],
   "source": [
    "def fun3(**kwargs):\n",
    "    for i in kwargs.items():\n",
    "        if type(i[1])==list:\n",
    "            if \"Krish Naik\" in i[1]:\n",
    "                print(\"i am able to find your name in input data\")\n",
    "                print(i[1])\n",
    "    return kwargs\n"
   ]
  },
  {
   "cell_type": "code",
   "execution_count": 40,
   "id": "a68b50ca",
   "metadata": {},
   "outputs": [
    {
     "name": "stdout",
     "output_type": "stream",
     "text": [
      "i am able to find your name in input data\n",
      "['Krish Naik']\n"
     ]
    },
    {
     "data": {
      "text/plain": [
       "{'a': 10,\n",
       " 'b': [1, 2, 3, 4],\n",
       " 'c': (2+4j),\n",
       " 'd': [5, 6, 7, 8, 9],\n",
       " 'e': ['Krish Naik']}"
      ]
     },
     "execution_count": 40,
     "metadata": {},
     "output_type": "execute_result"
    }
   ],
   "source": [
    "fun3(a=10,b=[1,2,3,4],c=2+4J,d=[5,6,7,8,9],e=[\"Krish Naik\"])"
   ]
  },
  {
   "cell_type": "code",
   "execution_count": 45,
   "id": "5b407f28",
   "metadata": {},
   "outputs": [],
   "source": [
    "def fun4(*args):\n",
    "    d={}\n",
    "    k=int\n",
    "    for i in args:\n",
    "        if type(i) in d:\n",
    "           d[type(i)].append(i)\n",
    "        else:\n",
    "              d[type(i)]=[i]\n",
    "    return d"
   ]
  },
  {
   "cell_type": "code",
   "execution_count": 47,
   "id": "91a09dde",
   "metadata": {},
   "outputs": [
    {
     "data": {
      "text/plain": [
       "{int: [1, 2, 3],\n",
       " list: [[5, 6, 7]],\n",
       " str: ['hi', 'io'],\n",
       " complex: [(6+7j), (6+4j)]}"
      ]
     },
     "execution_count": 47,
     "metadata": {},
     "output_type": "execute_result"
    }
   ],
   "source": [
    "fun4(1,2,3,[5,6,7],'hi','io',6+7j,6+4j)"
   ]
  },
  {
   "cell_type": "code",
   "execution_count": 49,
   "id": "4e2e1162",
   "metadata": {},
   "outputs": [
    {
     "name": "stdout",
     "output_type": "stream",
     "text": [
      "Ineuron is good learning platform\n"
     ]
    }
   ],
   "source": [
    "def Ineuron(*args):\n",
    "    print('Ineuron is good learning platform')\n",
    "    \n",
    "Ineuron()\n",
    "    "
   ]
  },
  {
   "cell_type": "code",
   "execution_count": null,
   "id": "39a54412",
   "metadata": {},
   "outputs": [],
   "source": []
  }
 ],
 "metadata": {
  "kernelspec": {
   "display_name": "Python 3",
   "language": "python",
   "name": "python3"
  },
  "language_info": {
   "codemirror_mode": {
    "name": "ipython",
    "version": 3
   },
   "file_extension": ".py",
   "mimetype": "text/x-python",
   "name": "python",
   "nbconvert_exporter": "python",
   "pygments_lexer": "ipython3",
   "version": "3.8.8"
  }
 },
 "nbformat": 4,
 "nbformat_minor": 5
}
