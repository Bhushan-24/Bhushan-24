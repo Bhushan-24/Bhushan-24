{
 "cells": [
  {
   "cell_type": "markdown",
   "id": "4ba17b65",
   "metadata": {},
   "source": [
    "Q1 . In the below elements which of them are values or an expression? eg:- values can be integer or string and expressions will be mathematical operators.\n",
    "Ans :- 1) * = operator\n",
    "2) 'hello'= value\n",
    "3) -87.8 = value\n",
    "4) - = operator\n",
    "5) / = operator\n",
    "6) + = operator\n",
    "7) 6 = value"
   ]
  },
  {
   "cell_type": "markdown",
   "id": "30601112",
   "metadata": {},
   "source": [
    "Q2. What is the difference between string and variable?\n",
    "Ans - String :- String is a datatype .\n",
    "Variable :- Variables are containers for storing data values. For example x= \"Bhushan\" , Here x is a variable and \"Bhushan\" is a string."
   ]
  },
  {
   "cell_type": "markdown",
   "id": "21bc1258",
   "metadata": {},
   "source": [
    "Q3. Describe three different data types.\n",
    "Ans :- Text Type = str\n",
    "Numeric Types = int, float, complex\n",
    "Boolean Type = bool"
   ]
  },
  {
   "cell_type": "markdown",
   "id": "29a11f05",
   "metadata": {},
   "source": [
    "Q4. What is an expression made up of? What do all expressions do?\n",
    "Ans. An expression is a combination of operators, variables, values. Expressions need to be evaluated .All expressions evaluate to a single value"
   ]
  },
  {
   "cell_type": "markdown",
   "id": "f05986f9",
   "metadata": {},
   "source": [
    "Q5. This assignment statements, like spam = 10. What is the difference between an expression and a statement?\n",
    "Ans. A statement does something. Statements represent an action or command e.g print statements, assignment statements. An expression is a combination of operators, variables, values. Expressions need to be evaluated. An expression is something that can be reduced to a value."
   ]
  },
  {
   "cell_type": "markdown",
   "id": "2f0835d9",
   "metadata": {},
   "source": [
    "Q6. After running the following code, what does the variable bacon contain? bacon = 22 bacon + 1"
   ]
  },
  {
   "cell_type": "code",
   "execution_count": 2,
   "id": "48d50556",
   "metadata": {},
   "outputs": [
    {
     "name": "stdout",
     "output_type": "stream",
     "text": [
      "22\n"
     ]
    }
   ],
   "source": [
    "bacon=22\n",
    "bacon+1\n",
    "print(bacon)\n",
    "##bacon will contain 22"
   ]
  },
  {
   "cell_type": "markdown",
   "id": "46f69c47",
   "metadata": {},
   "source": [
    "Q7. What should the values of the following two terms be? 'spam' + 'spamspam' 'spam' * 3"
   ]
  },
  {
   "cell_type": "code",
   "execution_count": 3,
   "id": "1ed15c96",
   "metadata": {},
   "outputs": [
    {
     "name": "stdout",
     "output_type": "stream",
     "text": [
      "spamspamspam\n",
      "spamspamspam\n"
     ]
    }
   ],
   "source": [
    "print('spam'+ 'spamspam')\n",
    "print('spam' *3)"
   ]
  },
  {
   "cell_type": "markdown",
   "id": "9d97711f",
   "metadata": {},
   "source": [
    "Q8. Why is eggs a valid variable name while 100 is invalid?\n",
    "Ans. According to rules in python: A variable name cannot start with a number, therefore 100 cannot be the variable name "
   ]
  },
  {
   "cell_type": "markdown",
   "id": "f5219174",
   "metadata": {},
   "source": [
    "Q9. What three functions can be used to get the integer, floating-point number, or string version of a value?\n",
    "Ans :- The int(), float(), and str() functions will evaluate to the integer, floating-point number, and string versions of the value passed to them.\n",
    "I can explain this by using a code"
   ]
  },
  {
   "cell_type": "code",
   "execution_count": 4,
   "id": "28eac66f",
   "metadata": {},
   "outputs": [
    {
     "name": "stdout",
     "output_type": "stream",
     "text": [
      "<class 'int'>\n",
      "<class 'float'>\n",
      "<class 'str'>\n"
     ]
    }
   ],
   "source": [
    "# Converting to integer\n",
    "int_value = int(10)\n",
    "print(type(int_value))\n",
    "#Converting to float\n",
    "float_value = float(10)\n",
    "print(type(float_value ))\n",
    "#Converting to String\n",
    "string_value = str(10)\n",
    "print(type(string_value))"
   ]
  },
  {
   "cell_type": "markdown",
   "id": "d84b2aa7",
   "metadata": {},
   "source": [
    "Q10. Why does this expression cause an error? How can you fix it?\n",
    "Ans :- The expression causes an error because 99 is an integer, and only strings can be concatenated to other strings with the + operator. The correct way is 'I have eaten ' + str(99) + ' burritos.'."
   ]
  }
 ],
 "metadata": {
  "kernelspec": {
   "display_name": "Python 3",
   "language": "python",
   "name": "python3"
  },
  "language_info": {
   "codemirror_mode": {
    "name": "ipython",
    "version": 3
   },
   "file_extension": ".py",
   "mimetype": "text/x-python",
   "name": "python",
   "nbconvert_exporter": "python",
   "pygments_lexer": "ipython3",
   "version": "3.8.8"
  }
 },
 "nbformat": 4,
 "nbformat_minor": 5
}
