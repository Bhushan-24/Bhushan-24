{
 "cells": [
  {
   "cell_type": "markdown",
   "id": "bda9699f",
   "metadata": {},
   "source": [
    "<h1>Python Functions</h1>"
   ]
  },
  {
   "cell_type": "code",
   "execution_count": 1,
   "id": "45696f69",
   "metadata": {},
   "outputs": [
    {
     "data": {
      "text/plain": [
       "3"
      ]
     },
     "execution_count": 1,
     "metadata": {},
     "output_type": "execute_result"
    }
   ],
   "source": [
    "a=1\n",
    "b=2\n",
    "a+b"
   ]
  },
  {
   "cell_type": "code",
   "execution_count": 2,
   "id": "8a9dc07a",
   "metadata": {},
   "outputs": [
    {
     "data": {
      "text/plain": [
       "30"
      ]
     },
     "execution_count": 2,
     "metadata": {},
     "output_type": "execute_result"
    }
   ],
   "source": [
    "a=10\n",
    "b=20\n",
    "a+b"
   ]
  },
  {
   "cell_type": "code",
   "execution_count": 3,
   "id": "2b7e9f3b",
   "metadata": {},
   "outputs": [
    {
     "data": {
      "text/plain": [
       "'KrishNaik C.E.O of ineuron'"
      ]
     },
     "execution_count": 3,
     "metadata": {},
     "output_type": "execute_result"
    }
   ],
   "source": [
    "def KrishNaik():\n",
    "    return 'KrishNaik C.E.O of ineuron';\n",
    "\n",
    "KrishNaik()\n"
   ]
  },
  {
   "cell_type": "code",
   "execution_count": 4,
   "id": "3b7e41e8",
   "metadata": {},
   "outputs": [
    {
     "data": {
      "text/plain": [
       "<function __main__.test(X, Y)>"
      ]
     },
     "execution_count": 4,
     "metadata": {},
     "output_type": "execute_result"
    }
   ],
   "source": [
    "def test(X,Y):\n",
    "    pass\n",
    "    \n",
    "test"
   ]
  },
  {
   "cell_type": "code",
   "execution_count": 5,
   "id": "5df1daa7",
   "metadata": {},
   "outputs": [],
   "source": [
    "def test(X,Y):\n",
    "    pass"
   ]
  },
  {
   "cell_type": "code",
   "execution_count": 6,
   "id": "a672ea18",
   "metadata": {},
   "outputs": [],
   "source": [
    "test(23,45)"
   ]
  },
  {
   "cell_type": "code",
   "execution_count": 7,
   "id": "3b8e9c5d",
   "metadata": {},
   "outputs": [
    {
     "name": "stdout",
     "output_type": "stream",
     "text": [
      "68\n"
     ]
    },
    {
     "ename": "TypeError",
     "evalue": "unsupported operand type(s) for +: 'NoneType' and 'int'",
     "output_type": "error",
     "traceback": [
      "\u001b[1;31m---------------------------------------------------------------------------\u001b[0m",
      "\u001b[1;31mTypeError\u001b[0m                                 Traceback (most recent call last)",
      "\u001b[1;32m<ipython-input-7-caf46820066c>\u001b[0m in \u001b[0;36m<module>\u001b[1;34m\u001b[0m\n\u001b[0;32m      2\u001b[0m     \u001b[0mprint\u001b[0m\u001b[1;33m(\u001b[0m\u001b[0mX\u001b[0m\u001b[1;33m+\u001b[0m\u001b[0mY\u001b[0m\u001b[1;33m)\u001b[0m\u001b[1;33m\u001b[0m\u001b[1;33m\u001b[0m\u001b[0m\n\u001b[0;32m      3\u001b[0m \u001b[1;33m\u001b[0m\u001b[0m\n\u001b[1;32m----> 4\u001b[1;33m \u001b[0mtest\u001b[0m\u001b[1;33m(\u001b[0m\u001b[1;36m23\u001b[0m\u001b[1;33m,\u001b[0m\u001b[1;36m45\u001b[0m\u001b[1;33m)\u001b[0m\u001b[1;33m+\u001b[0m\u001b[1;36m6\u001b[0m\u001b[1;33m\u001b[0m\u001b[1;33m\u001b[0m\u001b[0m\n\u001b[0m",
      "\u001b[1;31mTypeError\u001b[0m: unsupported operand type(s) for +: 'NoneType' and 'int'"
     ]
    }
   ],
   "source": [
    "def test(X,Y):\n",
    "    print(X+Y)\n",
    "    \n",
    "test(23,45)+6"
   ]
  },
  {
   "cell_type": "code",
   "execution_count": 8,
   "id": "029ec2a7",
   "metadata": {},
   "outputs": [
    {
     "name": "stdout",
     "output_type": "stream",
     "text": [
      "3\n"
     ]
    }
   ],
   "source": [
    "test(1,2)"
   ]
  },
  {
   "cell_type": "code",
   "execution_count": 9,
   "id": "0024e1e1",
   "metadata": {},
   "outputs": [
    {
     "name": "stdout",
     "output_type": "stream",
     "text": [
      "9\n"
     ]
    }
   ],
   "source": [
    "test(4,5)"
   ]
  },
  {
   "cell_type": "code",
   "execution_count": 10,
   "id": "4c23cc9d",
   "metadata": {},
   "outputs": [
    {
     "name": "stdout",
     "output_type": "stream",
     "text": [
      "12\n"
     ]
    }
   ],
   "source": [
    "test(4,8)"
   ]
  },
  {
   "cell_type": "code",
   "execution_count": 11,
   "id": "580ca5c0",
   "metadata": {},
   "outputs": [
    {
     "data": {
      "text/plain": [
       "451"
      ]
     },
     "execution_count": 11,
     "metadata": {},
     "output_type": "execute_result"
    }
   ],
   "source": [
    "def test2(b,m):\n",
    "    return b*m\n",
    "\n",
    "test2(5,89)+6"
   ]
  },
  {
   "cell_type": "code",
   "execution_count": 12,
   "id": "9095a23c",
   "metadata": {},
   "outputs": [
    {
     "name": "stdout",
     "output_type": "stream",
     "text": [
      "68\n"
     ]
    },
    {
     "data": {
      "text/plain": [
       "NoneType"
      ]
     },
     "execution_count": 12,
     "metadata": {},
     "output_type": "execute_result"
    }
   ],
   "source": [
    "def test(x,y):\n",
    "    print(x+y)\n",
    "    \n",
    "type(test(23,45))"
   ]
  },
  {
   "cell_type": "code",
   "execution_count": 13,
   "id": "99536972",
   "metadata": {},
   "outputs": [
    {
     "data": {
      "text/plain": [
       "int"
      ]
     },
     "execution_count": 13,
     "metadata": {},
     "output_type": "execute_result"
    }
   ],
   "source": [
    "def test2(b,m):\n",
    "    return b*m\n",
    "\n",
    "type(test2(5,89))"
   ]
  },
  {
   "cell_type": "code",
   "execution_count": 14,
   "id": "0a27903c",
   "metadata": {},
   "outputs": [],
   "source": [
    "def test2(b,m):\n",
    "    return b*m\n",
    "\n",
    "a=test2(5,89)"
   ]
  },
  {
   "cell_type": "code",
   "execution_count": 15,
   "id": "e35b4e42",
   "metadata": {},
   "outputs": [
    {
     "data": {
      "text/plain": [
       "445"
      ]
     },
     "execution_count": 15,
     "metadata": {},
     "output_type": "execute_result"
    }
   ],
   "source": [
    "a"
   ]
  },
  {
   "cell_type": "code",
   "execution_count": 16,
   "id": "1c355723",
   "metadata": {},
   "outputs": [
    {
     "name": "stdout",
     "output_type": "stream",
     "text": [
      "68\n"
     ]
    }
   ],
   "source": [
    "def test(X,Y):\n",
    "    print(X+Y)\n",
    "    \n",
    "test(23,45)"
   ]
  },
  {
   "cell_type": "code",
   "execution_count": 17,
   "id": "0af1a1ca",
   "metadata": {},
   "outputs": [
    {
     "name": "stdout",
     "output_type": "stream",
     "text": [
      "90\n"
     ]
    }
   ],
   "source": [
    "b=test(34,56)"
   ]
  },
  {
   "cell_type": "code",
   "execution_count": 18,
   "id": "0fe88422",
   "metadata": {},
   "outputs": [
    {
     "data": {
      "text/plain": [
       "NoneType"
      ]
     },
     "execution_count": 18,
     "metadata": {},
     "output_type": "execute_result"
    }
   ],
   "source": [
    "type(b)"
   ]
  },
  {
   "cell_type": "code",
   "execution_count": 19,
   "id": "40031f9a",
   "metadata": {},
   "outputs": [
    {
     "data": {
      "text/plain": [
       "int"
      ]
     },
     "execution_count": 19,
     "metadata": {},
     "output_type": "execute_result"
    }
   ],
   "source": [
    "type(a)"
   ]
  },
  {
   "cell_type": "code",
   "execution_count": 20,
   "id": "c87fb087",
   "metadata": {},
   "outputs": [
    {
     "data": {
      "text/plain": [
       "30"
      ]
     },
     "execution_count": 20,
     "metadata": {},
     "output_type": "execute_result"
    }
   ],
   "source": [
    "def test2(a,b,c):\n",
    "    return a+b\n",
    "\n",
    "test2(10,20,0)"
   ]
  },
  {
   "cell_type": "code",
   "execution_count": 21,
   "id": "3b2453aa",
   "metadata": {},
   "outputs": [
    {
     "data": {
      "text/plain": [
       "(20, 280, 9)"
      ]
     },
     "execution_count": 21,
     "metadata": {},
     "output_type": "execute_result"
    }
   ],
   "source": [
    "def test3(n,m):\n",
    "    return n*10,m*40,m+n\n",
    "\n",
    "test3(2,7)"
   ]
  },
  {
   "cell_type": "code",
   "execution_count": 22,
   "id": "ed267a70",
   "metadata": {},
   "outputs": [
    {
     "data": {
      "text/plain": [
       "tuple"
      ]
     },
     "execution_count": 22,
     "metadata": {},
     "output_type": "execute_result"
    }
   ],
   "source": [
    "type(test3(2,7))"
   ]
  },
  {
   "cell_type": "code",
   "execution_count": 23,
   "id": "91f90ad8",
   "metadata": {},
   "outputs": [],
   "source": [
    "c,x,v=test3(2,7)"
   ]
  },
  {
   "cell_type": "code",
   "execution_count": 24,
   "id": "33ae8d1a",
   "metadata": {},
   "outputs": [
    {
     "data": {
      "text/plain": [
       "20"
      ]
     },
     "execution_count": 24,
     "metadata": {},
     "output_type": "execute_result"
    }
   ],
   "source": [
    "c"
   ]
  },
  {
   "cell_type": "code",
   "execution_count": 25,
   "id": "a85bcd89",
   "metadata": {},
   "outputs": [
    {
     "data": {
      "text/plain": [
       "280"
      ]
     },
     "execution_count": 25,
     "metadata": {},
     "output_type": "execute_result"
    }
   ],
   "source": [
    "x"
   ]
  },
  {
   "cell_type": "code",
   "execution_count": 26,
   "id": "23068963",
   "metadata": {},
   "outputs": [
    {
     "data": {
      "text/plain": [
       "9"
      ]
     },
     "execution_count": 26,
     "metadata": {},
     "output_type": "execute_result"
    }
   ],
   "source": [
    "v"
   ]
  },
  {
   "cell_type": "code",
   "execution_count": 27,
   "id": "99edfeb7",
   "metadata": {},
   "outputs": [],
   "source": [
    "c,x, _,=test3(2,7)"
   ]
  },
  {
   "cell_type": "code",
   "execution_count": 28,
   "id": "ee5b143c",
   "metadata": {},
   "outputs": [
    {
     "data": {
      "text/plain": [
       "20"
      ]
     },
     "execution_count": 28,
     "metadata": {},
     "output_type": "execute_result"
    }
   ],
   "source": [
    "c"
   ]
  },
  {
   "cell_type": "code",
   "execution_count": 29,
   "id": "98ffe71c",
   "metadata": {},
   "outputs": [
    {
     "data": {
      "text/plain": [
       "280"
      ]
     },
     "execution_count": 29,
     "metadata": {},
     "output_type": "execute_result"
    }
   ],
   "source": [
    "x"
   ]
  },
  {
   "cell_type": "code",
   "execution_count": 30,
   "id": "a1c0e31d",
   "metadata": {},
   "outputs": [
    {
     "data": {
      "text/plain": [
       "280"
      ]
     },
     "execution_count": 30,
     "metadata": {},
     "output_type": "execute_result"
    }
   ],
   "source": [
    "_"
   ]
  },
  {
   "cell_type": "code",
   "execution_count": 31,
   "id": "3e884810",
   "metadata": {},
   "outputs": [],
   "source": [
    "_,_,m=test3(2,7)"
   ]
  },
  {
   "cell_type": "code",
   "execution_count": 32,
   "id": "6bce1aac",
   "metadata": {},
   "outputs": [
    {
     "data": {
      "text/plain": [
       "20"
      ]
     },
     "execution_count": 32,
     "metadata": {},
     "output_type": "execute_result"
    }
   ],
   "source": [
    "c"
   ]
  },
  {
   "cell_type": "code",
   "execution_count": 33,
   "id": "729a1356",
   "metadata": {},
   "outputs": [
    {
     "data": {
      "text/plain": [
       "280"
      ]
     },
     "execution_count": 33,
     "metadata": {},
     "output_type": "execute_result"
    }
   ],
   "source": [
    "_"
   ]
  },
  {
   "cell_type": "code",
   "execution_count": 34,
   "id": "649b90be",
   "metadata": {},
   "outputs": [
    {
     "data": {
      "text/plain": [
       "9"
      ]
     },
     "execution_count": 34,
     "metadata": {},
     "output_type": "execute_result"
    }
   ],
   "source": [
    "m"
   ]
  },
  {
   "cell_type": "code",
   "execution_count": 35,
   "id": "76eeae90",
   "metadata": {},
   "outputs": [],
   "source": [
    "_,_, _=test3(2,7)"
   ]
  },
  {
   "cell_type": "code",
   "execution_count": 36,
   "id": "b469dc4c",
   "metadata": {},
   "outputs": [
    {
     "data": {
      "text/plain": [
       "20"
      ]
     },
     "execution_count": 36,
     "metadata": {},
     "output_type": "execute_result"
    }
   ],
   "source": [
    "c"
   ]
  },
  {
   "cell_type": "code",
   "execution_count": 37,
   "id": "cf1f75ee",
   "metadata": {},
   "outputs": [
    {
     "data": {
      "text/plain": [
       "280"
      ]
     },
     "execution_count": 37,
     "metadata": {},
     "output_type": "execute_result"
    }
   ],
   "source": [
    "x"
   ]
  },
  {
   "cell_type": "code",
   "execution_count": 38,
   "id": "925d06d6",
   "metadata": {},
   "outputs": [
    {
     "data": {
      "text/plain": [
       "9"
      ]
     },
     "execution_count": 38,
     "metadata": {},
     "output_type": "execute_result"
    }
   ],
   "source": [
    "m"
   ]
  },
  {
   "cell_type": "code",
   "execution_count": 39,
   "id": "cfe3a131",
   "metadata": {},
   "outputs": [
    {
     "data": {
      "text/plain": [
       "9"
      ]
     },
     "execution_count": 39,
     "metadata": {},
     "output_type": "execute_result"
    }
   ],
   "source": [
    "def test2(t,n,m):\n",
    "    return t+n\n",
    "    return n+m\n",
    "\n",
    "test2(4,5,6)"
   ]
  },
  {
   "cell_type": "code",
   "execution_count": 40,
   "id": "71c29e87",
   "metadata": {},
   "outputs": [],
   "source": [
    "def test():\n",
    "    return (\"this is my first function\")"
   ]
  },
  {
   "cell_type": "code",
   "execution_count": 41,
   "id": "53e68a31",
   "metadata": {},
   "outputs": [
    {
     "data": {
      "text/plain": [
       "'this is my first function'"
      ]
     },
     "execution_count": 41,
     "metadata": {},
     "output_type": "execute_result"
    }
   ],
   "source": [
    "test()"
   ]
  },
  {
   "cell_type": "code",
   "execution_count": 42,
   "id": "97695696",
   "metadata": {},
   "outputs": [],
   "source": [
    "m=test()"
   ]
  },
  {
   "cell_type": "code",
   "execution_count": 43,
   "id": "8e72ef23",
   "metadata": {},
   "outputs": [
    {
     "data": {
      "text/plain": [
       "'this is my first function'"
      ]
     },
     "execution_count": 43,
     "metadata": {},
     "output_type": "execute_result"
    }
   ],
   "source": [
    "m"
   ]
  },
  {
   "cell_type": "code",
   "execution_count": 44,
   "id": "e75d23d9",
   "metadata": {},
   "outputs": [],
   "source": [
    "def test7():\n",
    "    return (\"this is my first Krish Naik DataScience\")"
   ]
  },
  {
   "cell_type": "code",
   "execution_count": 45,
   "id": "85fa72e8",
   "metadata": {},
   "outputs": [],
   "source": [
    "n=test7()"
   ]
  },
  {
   "cell_type": "code",
   "execution_count": 46,
   "id": "a06b268b",
   "metadata": {},
   "outputs": [
    {
     "data": {
      "text/plain": [
       "'this is my first Krish Naik DataScienceClass'"
      ]
     },
     "execution_count": 46,
     "metadata": {},
     "output_type": "execute_result"
    }
   ],
   "source": [
    "n+\"Class\""
   ]
  },
  {
   "cell_type": "code",
   "execution_count": 47,
   "id": "ed8747a9",
   "metadata": {},
   "outputs": [],
   "source": [
    "def test8(n):\n",
    "    return n*2"
   ]
  },
  {
   "cell_type": "code",
   "execution_count": 48,
   "id": "a35f2d06",
   "metadata": {},
   "outputs": [
    {
     "data": {
      "text/plain": [
       "[3, 4, 5, 6, 7, 3, 4, 5, 6, 7]"
      ]
     },
     "execution_count": 48,
     "metadata": {},
     "output_type": "execute_result"
    }
   ],
   "source": [
    "test8([3,4,5,6,7,])"
   ]
  },
  {
   "cell_type": "code",
   "execution_count": 49,
   "id": "faeaec8c",
   "metadata": {},
   "outputs": [
    {
     "data": {
      "text/plain": [
       "134"
      ]
     },
     "execution_count": 49,
     "metadata": {},
     "output_type": "execute_result"
    }
   ],
   "source": [
    "test8(67)"
   ]
  },
  {
   "cell_type": "code",
   "execution_count": 50,
   "id": "e25f98f5",
   "metadata": {},
   "outputs": [
    {
     "data": {
      "text/plain": [
       "([4, 5, 6, 6, 7],\n",
       " [4,\n",
       "  5,\n",
       "  6,\n",
       "  6,\n",
       "  7,\n",
       "  4,\n",
       "  5,\n",
       "  6,\n",
       "  6,\n",
       "  7,\n",
       "  4,\n",
       "  5,\n",
       "  6,\n",
       "  6,\n",
       "  7,\n",
       "  4,\n",
       "  5,\n",
       "  6,\n",
       "  6,\n",
       "  7,\n",
       "  4,\n",
       "  5,\n",
       "  6,\n",
       "  6,\n",
       "  7,\n",
       "  4,\n",
       "  5,\n",
       "  6,\n",
       "  6,\n",
       "  7,\n",
       "  4,\n",
       "  5,\n",
       "  6,\n",
       "  6,\n",
       "  7])"
      ]
     },
     "execution_count": 50,
     "metadata": {},
     "output_type": "execute_result"
    }
   ],
   "source": [
    "def test9(n):\n",
    "    return n,n*7\n",
    "\n",
    "test9([4,5,6,6,7])"
   ]
  },
  {
   "cell_type": "code",
   "execution_count": 51,
   "id": "6c6b6dc5",
   "metadata": {},
   "outputs": [
    {
     "data": {
      "text/plain": [
       "([4, 5, 6, 6, 7], [4, 5, 6, 6, 7, 4, 5, 6, 6, 7])"
      ]
     },
     "execution_count": 51,
     "metadata": {},
     "output_type": "execute_result"
    }
   ],
   "source": [
    "def test9(n):\n",
    "    return n,n*2\n",
    "\n",
    "test9([4,5,6,6,7])"
   ]
  },
  {
   "cell_type": "code",
   "execution_count": 52,
   "id": "54a4f426",
   "metadata": {},
   "outputs": [],
   "source": [
    "b=test9([4,5,6,6,7])"
   ]
  },
  {
   "cell_type": "code",
   "execution_count": 53,
   "id": "aa90d57d",
   "metadata": {},
   "outputs": [
    {
     "data": {
      "text/plain": [
       "([4, 5, 6, 6, 7], [4, 5, 6, 6, 7, 4, 5, 6, 6, 7])"
      ]
     },
     "execution_count": 53,
     "metadata": {},
     "output_type": "execute_result"
    }
   ],
   "source": [
    "b"
   ]
  },
  {
   "cell_type": "code",
   "execution_count": 54,
   "id": "52b1efe4",
   "metadata": {},
   "outputs": [
    {
     "data": {
      "text/plain": [
       "[4, 5, 6, 6, 7]"
      ]
     },
     "execution_count": 54,
     "metadata": {},
     "output_type": "execute_result"
    }
   ],
   "source": [
    "b[0]"
   ]
  },
  {
   "cell_type": "code",
   "execution_count": 55,
   "id": "d1c0d3f8",
   "metadata": {},
   "outputs": [
    {
     "data": {
      "text/plain": [
       "[4, 5, 6, 6, 7, 4, 5, 6, 6, 7]"
      ]
     },
     "execution_count": 55,
     "metadata": {},
     "output_type": "execute_result"
    }
   ],
   "source": [
    "b[1]"
   ]
  },
  {
   "cell_type": "code",
   "execution_count": 56,
   "id": "790ed413",
   "metadata": {},
   "outputs": [],
   "source": [
    "def test10(n:30,m):\n",
    "    return n+m"
   ]
  },
  {
   "cell_type": "code",
   "execution_count": 57,
   "id": "a2edf2fb",
   "metadata": {},
   "outputs": [
    {
     "data": {
      "text/plain": [
       "90"
      ]
     },
     "execution_count": 57,
     "metadata": {},
     "output_type": "execute_result"
    }
   ],
   "source": [
    "test10(30,60)"
   ]
  },
  {
   "cell_type": "code",
   "execution_count": 58,
   "id": "b27777b9",
   "metadata": {},
   "outputs": [],
   "source": [
    "def test10(n,m=90):\n",
    "    return n+m"
   ]
  },
  {
   "cell_type": "code",
   "execution_count": 59,
   "id": "d32ac90f",
   "metadata": {},
   "outputs": [
    {
     "data": {
      "text/plain": [
       "150"
      ]
     },
     "execution_count": 59,
     "metadata": {},
     "output_type": "execute_result"
    }
   ],
   "source": [
    "test10(60)"
   ]
  },
  {
   "cell_type": "code",
   "execution_count": 60,
   "id": "b6b0dbe1",
   "metadata": {},
   "outputs": [],
   "source": [
    "def test10(n,m=90):\n",
    "    return n+m"
   ]
  },
  {
   "cell_type": "code",
   "execution_count": 61,
   "id": "c4c53669",
   "metadata": {},
   "outputs": [
    {
     "data": {
      "text/plain": [
       "90"
      ]
     },
     "execution_count": 61,
     "metadata": {},
     "output_type": "execute_result"
    }
   ],
   "source": [
    "test10(60,30)"
   ]
  },
  {
   "cell_type": "code",
   "execution_count": 62,
   "id": "ec359d59",
   "metadata": {},
   "outputs": [],
   "source": [
    "def boolx(x=True,y=False):\n",
    "    return x+y"
   ]
  },
  {
   "cell_type": "code",
   "execution_count": 63,
   "id": "4df4ad99",
   "metadata": {},
   "outputs": [
    {
     "data": {
      "text/plain": [
       "1"
      ]
     },
     "execution_count": 63,
     "metadata": {},
     "output_type": "execute_result"
    }
   ],
   "source": [
    "boolx()"
   ]
  },
  {
   "cell_type": "code",
   "execution_count": 64,
   "id": "7418f0d0",
   "metadata": {},
   "outputs": [
    {
     "data": {
      "text/plain": [
       "0"
      ]
     },
     "execution_count": 64,
     "metadata": {},
     "output_type": "execute_result"
    }
   ],
   "source": [
    "boolx(False)"
   ]
  },
  {
   "cell_type": "code",
   "execution_count": 65,
   "id": "c5ad8d41",
   "metadata": {},
   "outputs": [
    {
     "data": {
      "text/plain": [
       "0"
      ]
     },
     "execution_count": 65,
     "metadata": {},
     "output_type": "execute_result"
    }
   ],
   "source": [
    "boolx(False,0)"
   ]
  },
  {
   "cell_type": "code",
   "execution_count": 66,
   "id": "f4b1ba95",
   "metadata": {},
   "outputs": [
    {
     "data": {
      "text/plain": [
       "8"
      ]
     },
     "execution_count": 66,
     "metadata": {},
     "output_type": "execute_result"
    }
   ],
   "source": [
    "boolx(False,8)"
   ]
  },
  {
   "cell_type": "code",
   "execution_count": 67,
   "id": "3b40b6a4",
   "metadata": {},
   "outputs": [
    {
     "data": {
      "text/plain": [
       "1"
      ]
     },
     "execution_count": 67,
     "metadata": {},
     "output_type": "execute_result"
    }
   ],
   "source": [
    "True+False"
   ]
  },
  {
   "cell_type": "code",
   "execution_count": 68,
   "id": "34dccbc4",
   "metadata": {},
   "outputs": [],
   "source": [
    "def travel(bike=True,car=False):\n",
    "    plan_travel=bike or car\n",
    "    return bike,car,plan_travel"
   ]
  },
  {
   "cell_type": "code",
   "execution_count": 69,
   "id": "6fde3540",
   "metadata": {},
   "outputs": [
    {
     "data": {
      "text/plain": [
       "(True, False, True)"
      ]
     },
     "execution_count": 69,
     "metadata": {},
     "output_type": "execute_result"
    }
   ],
   "source": [
    "travel()"
   ]
  },
  {
   "cell_type": "code",
   "execution_count": 70,
   "id": "171e1c5e",
   "metadata": {},
   "outputs": [],
   "source": [
    "def travel(bike=True,car=False):\n",
    "    plan_travel=bike and car\n",
    "    return bike,car,plan_travel"
   ]
  },
  {
   "cell_type": "code",
   "execution_count": 71,
   "id": "d50282df",
   "metadata": {},
   "outputs": [
    {
     "data": {
      "text/plain": [
       "(True, False, False)"
      ]
     },
     "execution_count": 71,
     "metadata": {},
     "output_type": "execute_result"
    }
   ],
   "source": [
    "travel()"
   ]
  },
  {
   "cell_type": "code",
   "execution_count": 72,
   "id": "c91c0ec1",
   "metadata": {},
   "outputs": [
    {
     "data": {
      "text/plain": [
       "(False, False, False)"
      ]
     },
     "execution_count": 72,
     "metadata": {},
     "output_type": "execute_result"
    }
   ],
   "source": [
    "travel(False)"
   ]
  },
  {
   "cell_type": "code",
   "execution_count": 73,
   "id": "658b69f9",
   "metadata": {},
   "outputs": [
    {
     "data": {
      "text/plain": [
       "(True, True, True)"
      ]
     },
     "execution_count": 73,
     "metadata": {},
     "output_type": "execute_result"
    }
   ],
   "source": [
    "travel(car=True)"
   ]
  },
  {
   "cell_type": "code",
   "execution_count": 74,
   "id": "495119ab",
   "metadata": {},
   "outputs": [
    {
     "data": {
      "text/plain": [
       "((True, True, True), True, True)"
      ]
     },
     "execution_count": 74,
     "metadata": {},
     "output_type": "execute_result"
    }
   ],
   "source": [
    "travel(_,True)"
   ]
  },
  {
   "cell_type": "code",
   "execution_count": 75,
   "id": "4aa41a7c",
   "metadata": {},
   "outputs": [
    {
     "data": {
      "text/plain": [
       "((True, True, True), True, True)"
      ]
     },
     "execution_count": 75,
     "metadata": {},
     "output_type": "execute_result"
    }
   ],
   "source": [
    "_"
   ]
  },
  {
   "cell_type": "code",
   "execution_count": 76,
   "id": "751f7c63",
   "metadata": {},
   "outputs": [],
   "source": [
    "def test11(*args,x=\"Krish\"):\n",
    "    return args"
   ]
  },
  {
   "cell_type": "code",
   "execution_count": 77,
   "id": "d2228841",
   "metadata": {},
   "outputs": [
    {
     "data": {
      "text/plain": [
       "('KrishNaik', 'Sudhanshu', 34, [34, 4, 4, 5, 454, 54])"
      ]
     },
     "execution_count": 77,
     "metadata": {},
     "output_type": "execute_result"
    }
   ],
   "source": [
    "test11(\"KrishNaik\",\"Sudhanshu\",34,[34,4,4,5,454,54])"
   ]
  },
  {
   "cell_type": "code",
   "execution_count": 78,
   "id": "f4cec1bf",
   "metadata": {},
   "outputs": [
    {
     "data": {
      "text/plain": [
       "([1, 2, 3], [4, 5, 6], [7, 8, 9], ['Krish Naik', 'Sudhanshu'])"
      ]
     },
     "execution_count": 78,
     "metadata": {},
     "output_type": "execute_result"
    }
   ],
   "source": [
    "def test12(*args):\n",
    "    return args\n",
    "\n",
    "test12([1,2,3,],[4,5,6],[7,8,9],['Krish Naik','Sudhanshu'])"
   ]
  },
  {
   "cell_type": "code",
   "execution_count": 79,
   "id": "bd063f0c",
   "metadata": {},
   "outputs": [
    {
     "data": {
      "text/plain": [
       "[1, 2, 3, 4, 5, 6, 7, 8, 9, 10, 11]"
      ]
     },
     "execution_count": 79,
     "metadata": {},
     "output_type": "execute_result"
    }
   ],
   "source": [
    "def test13(a,b,c):\n",
    "    return a+b+c\n",
    "\n",
    "test13([1,2,3,4],[5,6,7,8],[9,10,11])"
   ]
  },
  {
   "cell_type": "code",
   "execution_count": 80,
   "id": "745bb731",
   "metadata": {},
   "outputs": [],
   "source": [
    "def test14(*args):\n",
    "    l=[]\n",
    "    for i in args:\n",
    "        l=l+i\n",
    "        l.append(i)\n",
    "    return l"
   ]
  },
  {
   "cell_type": "code",
   "execution_count": 81,
   "id": "798a1046",
   "metadata": {},
   "outputs": [
    {
     "data": {
      "text/plain": [
       "[1, 2, 3, 4, [1, 2, 3, 4], 5, 6, 7, 8, [5, 6, 7, 8], 9, 10, 11, [9, 10, 11]]"
      ]
     },
     "execution_count": 81,
     "metadata": {},
     "output_type": "execute_result"
    }
   ],
   "source": [
    "test14([1,2,3,4],[5,6,7,8],[9,10,11])"
   ]
  },
  {
   "cell_type": "code",
   "execution_count": 82,
   "id": "c38acab9",
   "metadata": {},
   "outputs": [],
   "source": [
    "def test15(*args):\n",
    "    return [i for i in args]"
   ]
  },
  {
   "cell_type": "code",
   "execution_count": 83,
   "id": "4b5397e0",
   "metadata": {},
   "outputs": [
    {
     "data": {
      "text/plain": [
       "[[1, 2, 3], [4, 5, 6], [7, 8, 9]]"
      ]
     },
     "execution_count": 83,
     "metadata": {},
     "output_type": "execute_result"
    }
   ],
   "source": [
    "test15([1,2,3],[4,5,6],[7,8,9])"
   ]
  },
  {
   "cell_type": "code",
   "execution_count": 84,
   "id": "19b2b455",
   "metadata": {},
   "outputs": [],
   "source": [
    "def test16(*args):\n",
    "    l=[]\n",
    "    for i in args:\n",
    "        if type(i)==list:\n",
    "            l=l+i\n",
    "    return l"
   ]
  },
  {
   "cell_type": "code",
   "execution_count": 85,
   "id": "dbbafe28",
   "metadata": {},
   "outputs": [
    {
     "data": {
      "text/plain": [
       "[3, 4, 5, 6, 7, 8, 5, 7, 7, 8, 9]"
      ]
     },
     "execution_count": 85,
     "metadata": {},
     "output_type": "execute_result"
    }
   ],
   "source": [
    "test16(\"Krish Naik\",234,[3,4,5,6,7,8],[5,7,7,8,9])"
   ]
  },
  {
   "cell_type": "code",
   "execution_count": 86,
   "id": "b0e58290",
   "metadata": {},
   "outputs": [],
   "source": [
    "def test17(*args):\n",
    "    l=[]\n",
    "    for i in args:\n",
    "        if type(i)==list:\n",
    "            l=l+i\n",
    "    return l\n"
   ]
  },
  {
   "cell_type": "code",
   "execution_count": 87,
   "id": "9c5b578d",
   "metadata": {},
   "outputs": [
    {
     "data": {
      "text/plain": [
       "[3, 4, 5, 6, 7, 8, 5, 7, 7, 8, 9]"
      ]
     },
     "execution_count": 87,
     "metadata": {},
     "output_type": "execute_result"
    }
   ],
   "source": [
    "test17('Bhushan',234,[3,4,5,6,7,8],[5,7,7,8,9])"
   ]
  },
  {
   "cell_type": "code",
   "execution_count": 88,
   "id": "3b7b21b0",
   "metadata": {},
   "outputs": [
    {
     "data": {
      "text/plain": [
       "{'a': 1, 'b': 2, 'c': 3, 'd': 4}"
      ]
     },
     "execution_count": 88,
     "metadata": {},
     "output_type": "execute_result"
    }
   ],
   "source": [
    "def test18(**kwargs):\n",
    "    return kwargs\n",
    "\n",
    "test18(a=1,b=2,c=3,d=4)"
   ]
  },
  {
   "cell_type": "code",
   "execution_count": 89,
   "id": "6b17d5ac",
   "metadata": {},
   "outputs": [
    {
     "data": {
      "text/plain": [
       "dict"
      ]
     },
     "execution_count": 89,
     "metadata": {},
     "output_type": "execute_result"
    }
   ],
   "source": [
    "type(test18(a=1,b=2,c=3,d=4))"
   ]
  },
  {
   "cell_type": "code",
   "execution_count": 90,
   "id": "58d11496",
   "metadata": {},
   "outputs": [
    {
     "data": {
      "text/plain": [
       "{'a': 10, 'b': 20, 'c': 30, 'd': 40}"
      ]
     },
     "execution_count": 90,
     "metadata": {},
     "output_type": "execute_result"
    }
   ],
   "source": [
    "def test18(**kwargs):\n",
    "    return kwargs\n",
    "\n",
    "test18(a=10,b=20,c=30,d=40)"
   ]
  },
  {
   "cell_type": "code",
   "execution_count": 91,
   "id": "3efaf478",
   "metadata": {},
   "outputs": [
    {
     "data": {
      "text/plain": [
       "{'a': 8, 'b': 'True', 'c': [4, 5, 6, 6, 'Krish Naik'], 'd': 'Bhushan'}"
      ]
     },
     "execution_count": 91,
     "metadata": {},
     "output_type": "execute_result"
    }
   ],
   "source": [
    "def test19(**kwargs):\n",
    "    return kwargs\n",
    "\n",
    "test19(a=8, b='True',c=[4,5,6,6,'Krish Naik'],d=\"Bhushan\")"
   ]
  },
  {
   "cell_type": "code",
   "execution_count": 92,
   "id": "e67b5585",
   "metadata": {},
   "outputs": [],
   "source": [
    "def test20(*args):\n",
    "    return args"
   ]
  },
  {
   "cell_type": "code",
   "execution_count": 93,
   "id": "0d2dd19f",
   "metadata": {},
   "outputs": [
    {
     "data": {
      "text/plain": [
       "(4, 5, 6, 7, 'Krish Naik', [4, 5, 6, 7])"
      ]
     },
     "execution_count": 93,
     "metadata": {},
     "output_type": "execute_result"
    }
   ],
   "source": [
    "test20(4,5,6,7,'Krish Naik',[4,5,6,7])"
   ]
  },
  {
   "cell_type": "code",
   "execution_count": 94,
   "id": "14eedc43",
   "metadata": {},
   "outputs": [],
   "source": [
    "def fun1(*args):\n",
    "    a=[]\n",
    "    b=[]\n",
    "    c=[]\n",
    "    d=[]\n",
    "    e=[]\n",
    "    f=[]\n",
    "    g=[]\n",
    "    h=[]\n",
    "    for i in args:\n",
    "        if type(i)==int:\n",
    "            a.append(i)\n",
    "        if type(i)==float:\n",
    "            b.append(i)\n",
    "        if type(i)==str:\n",
    "            c.append(i)\n",
    "        if type(i)==tuple:\n",
    "            d.append(i)\n",
    "        if type(i)==list:\n",
    "            e.append(i)\n",
    "        if type(i)==dict:\n",
    "            f.append(i)\n",
    "        if type(i)==bool:\n",
    "            g.append(i)\n",
    "        if type(i)==complex:\n",
    "            h.append(i)\n",
    "            \n",
    "    return a,b,c,d,e,f,g,h"
   ]
  },
  {
   "cell_type": "code",
   "execution_count": 95,
   "id": "2b52cffc",
   "metadata": {},
   "outputs": [
    {
     "data": {
      "text/plain": [
       "([10],\n",
       " [1.2],\n",
       " ['Krish Naik'],\n",
       " [(1, 2, 3, 4)],\n",
       " [],\n",
       " [{'name': 'Bhushan', 'age': 10}],\n",
       " [True, False],\n",
       " [(3+9j)])"
      ]
     },
     "execution_count": 95,
     "metadata": {},
     "output_type": "execute_result"
    }
   ],
   "source": [
    "fun1(10,1.2,'Krish Naik',(1,2,3,4),{'name':'Bhushan','age':10},True,False,3+9j)"
   ]
  },
  {
   "cell_type": "code",
   "execution_count": 96,
   "id": "0a056c4f",
   "metadata": {},
   "outputs": [],
   "source": [
    "def fun2(*args,**kwargs):\n",
    "    l=[i for i in args]\n",
    "    d=[i for i in kwargs]\n",
    "    return l,d"
   ]
  },
  {
   "cell_type": "code",
   "execution_count": 97,
   "id": "08737562",
   "metadata": {},
   "outputs": [
    {
     "data": {
      "text/plain": [
       "([[[4, 5.6, 7, 8], [1, 2, 3, 4, 5], 5, 5, 6, 7]], ['a', 'b', 'm'])"
      ]
     },
     "execution_count": 97,
     "metadata": {},
     "output_type": "execute_result"
    }
   ],
   "source": [
    "fun2([[4,5.6,7,8],[1,2,3,4,5] ,5,5,6,7],a=5,b='Krish Naik',m=[4,5,6,7])"
   ]
  },
  {
   "cell_type": "code",
   "execution_count": 98,
   "id": "e05a00fa",
   "metadata": {},
   "outputs": [],
   "source": [
    "def fun2(*args,**kwargs):\n",
    "    l=[i for i in args]\n",
    "    d=[i[1] for i in kwargs.items() if type (i[1])==list]\n",
    "    return l,d"
   ]
  },
  {
   "cell_type": "code",
   "execution_count": 99,
   "id": "08304fa5",
   "metadata": {},
   "outputs": [
    {
     "data": {
      "text/plain": [
       "([[[4, 5.6, 7, 8], [1, 2, 3, 4, 5], 5, 5, 6, 7]], [[4, 5, 6, 7]])"
      ]
     },
     "execution_count": 99,
     "metadata": {},
     "output_type": "execute_result"
    }
   ],
   "source": [
    "fun2([[4,5.6,7,8],[1,2,3,4,5] ,5,5,6,7],a=5,b='Krish Naik',m=[4,5,6,7])"
   ]
  },
  {
   "cell_type": "code",
   "execution_count": 100,
   "id": "cf966b4f",
   "metadata": {},
   "outputs": [],
   "source": [
    "def fun2(*args,**kwargs):\n",
    "    l=[i for i in args if type(i)==list]\n",
    "    d=[i[1] for i in kwargs.items() if type (i[1])==list]\n",
    "    return l,d"
   ]
  },
  {
   "cell_type": "code",
   "execution_count": 101,
   "id": "cc105a50",
   "metadata": {},
   "outputs": [
    {
     "data": {
      "text/plain": [
       "([[[4, 5.6, 7, 8], [1, 2, 3, 4, 5], 5, 5, 6, 7]], [[4, 5, 6, 7]])"
      ]
     },
     "execution_count": 101,
     "metadata": {},
     "output_type": "execute_result"
    }
   ],
   "source": [
    "fun2([[4,5.6,7,8],[1,2,3,4,5] ,5,5,6,7],a=5,b='Krish Naik',m=[4,5,6,7])"
   ]
  },
  {
   "cell_type": "code",
   "execution_count": 102,
   "id": "a3036b90",
   "metadata": {},
   "outputs": [
    {
     "data": {
      "text/plain": [
       "{'a': 10,\n",
       " 'b': [1, 2, 3, 4],\n",
       " 'c': (2+4j),\n",
       " 'd': [5, 6, 7, 8, 9],\n",
       " 'e': ['Krish Naik']}"
      ]
     },
     "execution_count": 102,
     "metadata": {},
     "output_type": "execute_result"
    }
   ],
   "source": [
    "def fun3(**kwargs):\n",
    "    return kwargs\n",
    "\n",
    "fun3(a=10,b=[1,2,3,4],c=2+4J,d=[5,6,7,8,9],e=[\"Krish Naik\"])"
   ]
  },
  {
   "cell_type": "code",
   "execution_count": 103,
   "id": "ab270860",
   "metadata": {},
   "outputs": [
    {
     "name": "stdout",
     "output_type": "stream",
     "text": [
      "('a', 10)\n",
      "('b', [1, 2, 3, 4])\n",
      "('c', (2+4j))\n",
      "('d', [5, 6, 7, 8, 9])\n",
      "('e', ['Krish Naik'])\n"
     ]
    },
    {
     "data": {
      "text/plain": [
       "{'a': 10,\n",
       " 'b': [1, 2, 3, 4],\n",
       " 'c': (2+4j),\n",
       " 'd': [5, 6, 7, 8, 9],\n",
       " 'e': ['Krish Naik']}"
      ]
     },
     "execution_count": 103,
     "metadata": {},
     "output_type": "execute_result"
    }
   ],
   "source": [
    "def fun3(**kwargs):\n",
    "    for i in kwargs.items():\n",
    "        print(i)\n",
    "    return kwargs\n",
    "\n",
    "fun3(a=10,b=[1,2,3,4],c=2+4J,d=[5,6,7,8,9],e=[\"Krish Naik\"])"
   ]
  },
  {
   "cell_type": "code",
   "execution_count": 104,
   "id": "9491d9bf",
   "metadata": {},
   "outputs": [],
   "source": [
    "def fun3(**kwargs):\n",
    "    for i in kwargs.items():\n",
    "        if type(i)==list:\n",
    "            if \"Krish Naik\" in i:\n",
    "                print(\"i am able to find your name in input data\")\n",
    "    return kwargs\n"
   ]
  },
  {
   "cell_type": "code",
   "execution_count": 105,
   "id": "495913f4",
   "metadata": {},
   "outputs": [
    {
     "data": {
      "text/plain": [
       "{'a': 10,\n",
       " 'b': [1, 2, 3, 4],\n",
       " 'c': (2+4j),\n",
       " 'd': [5, 6, 7, 8, 9],\n",
       " 'e': ['Krish Naik']}"
      ]
     },
     "execution_count": 105,
     "metadata": {},
     "output_type": "execute_result"
    }
   ],
   "source": [
    "fun3(a=10,b=[1,2,3,4],c=2+4J,d=[5,6,7,8,9],e=[\"Krish Naik\"])"
   ]
  },
  {
   "cell_type": "code",
   "execution_count": 106,
   "id": "137d3581",
   "metadata": {},
   "outputs": [],
   "source": [
    "def fun3(**kwargs):\n",
    "    for i in kwargs.items():\n",
    "        if type(i[1])==list:\n",
    "            if \"Krish Naik\" in i[1]:\n",
    "                print(\"i am able to find your name in input data\")\n",
    "                print(i[1])\n",
    "    return kwargs\n"
   ]
  },
  {
   "cell_type": "code",
   "execution_count": 107,
   "id": "a68b50ca",
   "metadata": {},
   "outputs": [
    {
     "name": "stdout",
     "output_type": "stream",
     "text": [
      "i am able to find your name in input data\n",
      "['Krish Naik']\n"
     ]
    },
    {
     "data": {
      "text/plain": [
       "{'a': 10,\n",
       " 'b': [1, 2, 3, 4],\n",
       " 'c': (2+4j),\n",
       " 'd': [5, 6, 7, 8, 9],\n",
       " 'e': ['Krish Naik']}"
      ]
     },
     "execution_count": 107,
     "metadata": {},
     "output_type": "execute_result"
    }
   ],
   "source": [
    "fun3(a=10,b=[1,2,3,4],c=2+4J,d=[5,6,7,8,9],e=[\"Krish Naik\"])"
   ]
  },
  {
   "cell_type": "code",
   "execution_count": 108,
   "id": "5b407f28",
   "metadata": {},
   "outputs": [],
   "source": [
    "def fun4(*args):\n",
    "    d={}\n",
    "    k=int\n",
    "    for i in args:\n",
    "        if type(i) in d:\n",
    "           d[type(i)].append(i)\n",
    "        else:\n",
    "              d[type(i)]=[i]\n",
    "    return d"
   ]
  },
  {
   "cell_type": "code",
   "execution_count": 109,
   "id": "91a09dde",
   "metadata": {},
   "outputs": [
    {
     "data": {
      "text/plain": [
       "{int: [1, 2, 3],\n",
       " list: [[5, 6, 7]],\n",
       " str: ['hi', 'io'],\n",
       " complex: [(6+7j), (6+4j)]}"
      ]
     },
     "execution_count": 109,
     "metadata": {},
     "output_type": "execute_result"
    }
   ],
   "source": [
    "fun4(1,2,3,[5,6,7],'hi','io',6+7j,6+4j)"
   ]
  },
  {
   "cell_type": "code",
   "execution_count": 110,
   "id": "4e2e1162",
   "metadata": {},
   "outputs": [
    {
     "name": "stdout",
     "output_type": "stream",
     "text": [
      "Ineuron is good learning platform\n"
     ]
    }
   ],
   "source": [
    "def Ineuron(*args):\n",
    "    print('Ineuron is good learning platform')\n",
    "    \n",
    "Ineuron()\n",
    "    "
   ]
  },
  {
   "cell_type": "markdown",
   "id": "8d5ee21e",
   "metadata": {},
   "source": [
    "####  Functions Part-2"
   ]
  },
  {
   "cell_type": "code",
   "execution_count": 111,
   "id": "a4f101c0",
   "metadata": {},
   "outputs": [],
   "source": [
    "def test(*args):\n",
    "    return args"
   ]
  },
  {
   "cell_type": "code",
   "execution_count": 112,
   "id": "286791c2",
   "metadata": {},
   "outputs": [
    {
     "data": {
      "text/plain": [
       "('Krish Naik', 10, 3.14)"
      ]
     },
     "execution_count": 112,
     "metadata": {},
     "output_type": "execute_result"
    }
   ],
   "source": [
    "test('Krish Naik',10,3.14)"
   ]
  },
  {
   "cell_type": "code",
   "execution_count": 113,
   "id": "f8fef235",
   "metadata": {},
   "outputs": [],
   "source": [
    "def test(*args):\n",
    "    print('this is my args element')"
   ]
  },
  {
   "cell_type": "code",
   "execution_count": 114,
   "id": "58dae3e1",
   "metadata": {},
   "outputs": [
    {
     "name": "stdout",
     "output_type": "stream",
     "text": [
      "this is my args element\n"
     ]
    }
   ],
   "source": [
    "test('Krish Naik',10,45.6)"
   ]
  },
  {
   "cell_type": "code",
   "execution_count": 115,
   "id": "94e839f2",
   "metadata": {},
   "outputs": [],
   "source": [
    "def test(**kwargs):\n",
    "    print('this is my kwargs element')"
   ]
  },
  {
   "cell_type": "code",
   "execution_count": 116,
   "id": "39acc954",
   "metadata": {},
   "outputs": [
    {
     "name": "stdout",
     "output_type": "stream",
     "text": [
      "this is my kwargs element\n"
     ]
    }
   ],
   "source": [
    "test(x='Krish Naik',y=10,z=[1,2,3,4])"
   ]
  },
  {
   "cell_type": "code",
   "execution_count": 117,
   "id": "d355d49e",
   "metadata": {},
   "outputs": [],
   "source": [
    "def test(**kwargs):\n",
    "    print('this is my kwargs element',kwargs.items())"
   ]
  },
  {
   "cell_type": "code",
   "execution_count": 118,
   "id": "4df05d16",
   "metadata": {},
   "outputs": [
    {
     "name": "stdout",
     "output_type": "stream",
     "text": [
      "this is my kwargs element dict_items([('x', 10), ('y', 'Bhushan'), ('z', [3, 4, 5, 6])])\n"
     ]
    }
   ],
   "source": [
    "test(x=10,y='Bhushan',z=[3,4,5,6])"
   ]
  },
  {
   "cell_type": "code",
   "execution_count": 119,
   "id": "112c05ec",
   "metadata": {},
   "outputs": [],
   "source": [
    "def test(name,mailid):\n",
    "    return name,mailid"
   ]
  },
  {
   "cell_type": "code",
   "execution_count": 120,
   "id": "7c20ec31",
   "metadata": {},
   "outputs": [
    {
     "data": {
      "text/plain": [
       "('xyz@gmail.com', 'Bhushan')"
      ]
     },
     "execution_count": 120,
     "metadata": {},
     "output_type": "execute_result"
    }
   ],
   "source": [
    "test('xyz@gmail.com','Bhushan')"
   ]
  },
  {
   "cell_type": "code",
   "execution_count": 121,
   "id": "9a32fc34",
   "metadata": {},
   "outputs": [],
   "source": [
    "def test(name,mailid):\n",
    "    con=name+mailid\n",
    "    return name,mailid,con"
   ]
  },
  {
   "cell_type": "code",
   "execution_count": 122,
   "id": "99dadcc7",
   "metadata": {},
   "outputs": [
    {
     "data": {
      "text/plain": [
       "('xyz@gmail.com', 'Bhushan', 'xyz@gmail.comBhushan')"
      ]
     },
     "execution_count": 122,
     "metadata": {},
     "output_type": "execute_result"
    }
   ],
   "source": [
    "test('xyz@gmail.com','Bhushan')"
   ]
  },
  {
   "cell_type": "markdown",
   "id": "c3fa7ebf",
   "metadata": {},
   "source": [
    "#### Lambda Functions"
   ]
  },
  {
   "cell_type": "code",
   "execution_count": 123,
   "id": "49169f5a",
   "metadata": {},
   "outputs": [],
   "source": [
    "a=10\n",
    "b=20\n",
    "def test(a,b):\n",
    "    return a+b"
   ]
  },
  {
   "cell_type": "code",
   "execution_count": 124,
   "id": "da67f8d6",
   "metadata": {},
   "outputs": [
    {
     "data": {
      "text/plain": [
       "30"
      ]
     },
     "execution_count": 124,
     "metadata": {},
     "output_type": "execute_result"
    }
   ],
   "source": [
    "test(a,b)"
   ]
  },
  {
   "cell_type": "code",
   "execution_count": 125,
   "id": "b54e2b25",
   "metadata": {},
   "outputs": [],
   "source": [
    "m=lambda a,b : a+b"
   ]
  },
  {
   "cell_type": "code",
   "execution_count": 126,
   "id": "d3cf0ee8",
   "metadata": {},
   "outputs": [
    {
     "data": {
      "text/plain": [
       "<function __main__.<lambda>(a, b)>"
      ]
     },
     "execution_count": 126,
     "metadata": {},
     "output_type": "execute_result"
    }
   ],
   "source": [
    "m"
   ]
  },
  {
   "cell_type": "code",
   "execution_count": 127,
   "id": "c96f3d02",
   "metadata": {},
   "outputs": [
    {
     "data": {
      "text/plain": [
       "30"
      ]
     },
     "execution_count": 127,
     "metadata": {},
     "output_type": "execute_result"
    }
   ],
   "source": [
    "m(a,b)"
   ]
  },
  {
   "cell_type": "code",
   "execution_count": 128,
   "id": "3e44d42f",
   "metadata": {},
   "outputs": [],
   "source": [
    "r=10\n",
    "def test3(a,b):\n",
    "    r=a/b\n",
    "    print(r)"
   ]
  },
  {
   "cell_type": "code",
   "execution_count": 129,
   "id": "8f288509",
   "metadata": {},
   "outputs": [
    {
     "name": "stdout",
     "output_type": "stream",
     "text": [
      "1.0\n"
     ]
    }
   ],
   "source": [
    "test3(10,10)"
   ]
  },
  {
   "cell_type": "code",
   "execution_count": 130,
   "id": "fa64a4db",
   "metadata": {},
   "outputs": [],
   "source": [
    "def test4():\n",
    "    \"\"\"\n",
    "    this is my test function with the\n",
    "    help of this function you will be able to learn basic of functions\n",
    "    \"\"\"\n",
    "    print(\"my naem is xyz\")"
   ]
  },
  {
   "cell_type": "code",
   "execution_count": 131,
   "id": "a92d4ce8",
   "metadata": {},
   "outputs": [
    {
     "name": "stdout",
     "output_type": "stream",
     "text": [
      "my naem is xyz\n"
     ]
    }
   ],
   "source": [
    "test4()"
   ]
  },
  {
   "cell_type": "code",
   "execution_count": 132,
   "id": "74b6cfb0",
   "metadata": {},
   "outputs": [
    {
     "name": "stdout",
     "output_type": "stream",
     "text": [
      "K\n",
      "r\n",
      "i\n",
      "s\n",
      "h\n",
      " \n",
      "N\n",
      "a\n",
      "i\n",
      "k\n"
     ]
    }
   ],
   "source": [
    "for i in \"Krish Naik\":\n",
    "    print(i)"
   ]
  },
  {
   "cell_type": "code",
   "execution_count": 133,
   "id": "16080949",
   "metadata": {},
   "outputs": [],
   "source": [
    "def even_odd(n):\n",
    "    if n%2==0:\n",
    "        print('even')\n",
    "    else:\n",
    "        print('odd')"
   ]
  },
  {
   "cell_type": "code",
   "execution_count": 134,
   "id": "1915875e",
   "metadata": {},
   "outputs": [
    {
     "name": "stdout",
     "output_type": "stream",
     "text": [
      "odd\n"
     ]
    }
   ],
   "source": [
    "even_odd(1)"
   ]
  },
  {
   "cell_type": "code",
   "execution_count": 135,
   "id": "238ca48d",
   "metadata": {},
   "outputs": [
    {
     "name": "stdout",
     "output_type": "stream",
     "text": [
      "K\n",
      "r\n",
      "i\n",
      "s\n",
      "h\n",
      " \n",
      "N\n",
      "a\n",
      "i\n",
      "k\n"
     ]
    }
   ],
   "source": [
    "for i in \"Krish Naik\":\n",
    "    print(i)"
   ]
  },
  {
   "cell_type": "code",
   "execution_count": 136,
   "id": "f5445e06",
   "metadata": {},
   "outputs": [],
   "source": [
    "s=\"Krish Naik\""
   ]
  },
  {
   "cell_type": "code",
   "execution_count": 137,
   "id": "f17a9525",
   "metadata": {},
   "outputs": [
    {
     "ename": "TypeError",
     "evalue": "'str' object is not an iterator",
     "output_type": "error",
     "traceback": [
      "\u001b[1;31m---------------------------------------------------------------------------\u001b[0m",
      "\u001b[1;31mTypeError\u001b[0m                                 Traceback (most recent call last)",
      "\u001b[1;32m<ipython-input-137-61c30b5fe1d5>\u001b[0m in \u001b[0;36m<module>\u001b[1;34m\u001b[0m\n\u001b[1;32m----> 1\u001b[1;33m \u001b[0mnext\u001b[0m\u001b[1;33m(\u001b[0m\u001b[0ms\u001b[0m\u001b[1;33m)\u001b[0m\u001b[1;33m\u001b[0m\u001b[1;33m\u001b[0m\u001b[0m\n\u001b[0m",
      "\u001b[1;31mTypeError\u001b[0m: 'str' object is not an iterator"
     ]
    }
   ],
   "source": [
    "next(s)"
   ]
  },
  {
   "cell_type": "code",
   "execution_count": null,
   "id": "c7ecd2a9",
   "metadata": {},
   "outputs": [],
   "source": [
    "s=iter(s)"
   ]
  },
  {
   "cell_type": "code",
   "execution_count": null,
   "id": "50d92ff8",
   "metadata": {},
   "outputs": [],
   "source": [
    "next(s)"
   ]
  },
  {
   "cell_type": "code",
   "execution_count": 138,
   "id": "3e88ccee",
   "metadata": {},
   "outputs": [
    {
     "ename": "TypeError",
     "evalue": "'str' object is not an iterator",
     "output_type": "error",
     "traceback": [
      "\u001b[1;31m---------------------------------------------------------------------------\u001b[0m",
      "\u001b[1;31mTypeError\u001b[0m                                 Traceback (most recent call last)",
      "\u001b[1;32m<ipython-input-138-61c30b5fe1d5>\u001b[0m in \u001b[0;36m<module>\u001b[1;34m\u001b[0m\n\u001b[1;32m----> 1\u001b[1;33m \u001b[0mnext\u001b[0m\u001b[1;33m(\u001b[0m\u001b[0ms\u001b[0m\u001b[1;33m)\u001b[0m\u001b[1;33m\u001b[0m\u001b[1;33m\u001b[0m\u001b[0m\n\u001b[0m",
      "\u001b[1;31mTypeError\u001b[0m: 'str' object is not an iterator"
     ]
    }
   ],
   "source": [
    "next(s)"
   ]
  },
  {
   "cell_type": "code",
   "execution_count": 139,
   "id": "715a348d",
   "metadata": {},
   "outputs": [
    {
     "ename": "TypeError",
     "evalue": "'str' object is not an iterator",
     "output_type": "error",
     "traceback": [
      "\u001b[1;31m---------------------------------------------------------------------------\u001b[0m",
      "\u001b[1;31mTypeError\u001b[0m                                 Traceback (most recent call last)",
      "\u001b[1;32m<ipython-input-139-61c30b5fe1d5>\u001b[0m in \u001b[0;36m<module>\u001b[1;34m\u001b[0m\n\u001b[1;32m----> 1\u001b[1;33m \u001b[0mnext\u001b[0m\u001b[1;33m(\u001b[0m\u001b[0ms\u001b[0m\u001b[1;33m)\u001b[0m\u001b[1;33m\u001b[0m\u001b[1;33m\u001b[0m\u001b[0m\n\u001b[0m",
      "\u001b[1;31mTypeError\u001b[0m: 'str' object is not an iterator"
     ]
    }
   ],
   "source": [
    "next(s)"
   ]
  },
  {
   "cell_type": "code",
   "execution_count": 140,
   "id": "22e5ede5",
   "metadata": {},
   "outputs": [
    {
     "ename": "TypeError",
     "evalue": "'str' object is not an iterator",
     "output_type": "error",
     "traceback": [
      "\u001b[1;31m---------------------------------------------------------------------------\u001b[0m",
      "\u001b[1;31mTypeError\u001b[0m                                 Traceback (most recent call last)",
      "\u001b[1;32m<ipython-input-140-61c30b5fe1d5>\u001b[0m in \u001b[0;36m<module>\u001b[1;34m\u001b[0m\n\u001b[1;32m----> 1\u001b[1;33m \u001b[0mnext\u001b[0m\u001b[1;33m(\u001b[0m\u001b[0ms\u001b[0m\u001b[1;33m)\u001b[0m\u001b[1;33m\u001b[0m\u001b[1;33m\u001b[0m\u001b[0m\n\u001b[0m",
      "\u001b[1;31mTypeError\u001b[0m: 'str' object is not an iterator"
     ]
    }
   ],
   "source": [
    "next(s)"
   ]
  },
  {
   "cell_type": "code",
   "execution_count": null,
   "id": "f11cda31",
   "metadata": {},
   "outputs": [],
   "source": [
    "next(s)"
   ]
  },
  {
   "cell_type": "code",
   "execution_count": null,
   "id": "aa68ba19",
   "metadata": {},
   "outputs": [],
   "source": [
    "for i in \"Bhushan\":\n",
    "    print(i)"
   ]
  },
  {
   "cell_type": "code",
   "execution_count": null,
   "id": "fedd74cd",
   "metadata": {},
   "outputs": [],
   "source": [
    "l=[1,2,3,4,5]"
   ]
  },
  {
   "cell_type": "code",
   "execution_count": 141,
   "id": "977ff858",
   "metadata": {},
   "outputs": [
    {
     "ename": "NameError",
     "evalue": "name 'l' is not defined",
     "output_type": "error",
     "traceback": [
      "\u001b[1;31m---------------------------------------------------------------------------\u001b[0m",
      "\u001b[1;31mNameError\u001b[0m                                 Traceback (most recent call last)",
      "\u001b[1;32m<ipython-input-141-65e00347812e>\u001b[0m in \u001b[0;36m<module>\u001b[1;34m\u001b[0m\n\u001b[1;32m----> 1\u001b[1;33m \u001b[0ml\u001b[0m\u001b[1;33m=\u001b[0m\u001b[0miter\u001b[0m\u001b[1;33m(\u001b[0m\u001b[0ml\u001b[0m\u001b[1;33m)\u001b[0m\u001b[1;33m\u001b[0m\u001b[1;33m\u001b[0m\u001b[0m\n\u001b[0m",
      "\u001b[1;31mNameError\u001b[0m: name 'l' is not defined"
     ]
    }
   ],
   "source": [
    "l=iter(l)"
   ]
  },
  {
   "cell_type": "code",
   "execution_count": 142,
   "id": "216ce1ab",
   "metadata": {},
   "outputs": [
    {
     "ename": "NameError",
     "evalue": "name 'l' is not defined",
     "output_type": "error",
     "traceback": [
      "\u001b[1;31m---------------------------------------------------------------------------\u001b[0m",
      "\u001b[1;31mNameError\u001b[0m                                 Traceback (most recent call last)",
      "\u001b[1;32m<ipython-input-142-cdc8a39da60d>\u001b[0m in \u001b[0;36m<module>\u001b[1;34m\u001b[0m\n\u001b[1;32m----> 1\u001b[1;33m \u001b[0mnext\u001b[0m\u001b[1;33m(\u001b[0m\u001b[0ml\u001b[0m\u001b[1;33m)\u001b[0m\u001b[1;33m\u001b[0m\u001b[1;33m\u001b[0m\u001b[0m\n\u001b[0m",
      "\u001b[1;31mNameError\u001b[0m: name 'l' is not defined"
     ]
    }
   ],
   "source": [
    "next(l)"
   ]
  },
  {
   "cell_type": "code",
   "execution_count": 143,
   "id": "7b70fc17",
   "metadata": {},
   "outputs": [
    {
     "ename": "NameError",
     "evalue": "name 'l' is not defined",
     "output_type": "error",
     "traceback": [
      "\u001b[1;31m---------------------------------------------------------------------------\u001b[0m",
      "\u001b[1;31mNameError\u001b[0m                                 Traceback (most recent call last)",
      "\u001b[1;32m<ipython-input-143-cdc8a39da60d>\u001b[0m in \u001b[0;36m<module>\u001b[1;34m\u001b[0m\n\u001b[1;32m----> 1\u001b[1;33m \u001b[0mnext\u001b[0m\u001b[1;33m(\u001b[0m\u001b[0ml\u001b[0m\u001b[1;33m)\u001b[0m\u001b[1;33m\u001b[0m\u001b[1;33m\u001b[0m\u001b[0m\n\u001b[0m",
      "\u001b[1;31mNameError\u001b[0m: name 'l' is not defined"
     ]
    }
   ],
   "source": [
    "next(l)"
   ]
  },
  {
   "cell_type": "code",
   "execution_count": 144,
   "id": "c4c81a8e",
   "metadata": {},
   "outputs": [
    {
     "ename": "NameError",
     "evalue": "name 'l' is not defined",
     "output_type": "error",
     "traceback": [
      "\u001b[1;31m---------------------------------------------------------------------------\u001b[0m",
      "\u001b[1;31mNameError\u001b[0m                                 Traceback (most recent call last)",
      "\u001b[1;32m<ipython-input-144-cdc8a39da60d>\u001b[0m in \u001b[0;36m<module>\u001b[1;34m\u001b[0m\n\u001b[1;32m----> 1\u001b[1;33m \u001b[0mnext\u001b[0m\u001b[1;33m(\u001b[0m\u001b[0ml\u001b[0m\u001b[1;33m)\u001b[0m\u001b[1;33m\u001b[0m\u001b[1;33m\u001b[0m\u001b[0m\n\u001b[0m",
      "\u001b[1;31mNameError\u001b[0m: name 'l' is not defined"
     ]
    }
   ],
   "source": [
    "next(l)"
   ]
  },
  {
   "cell_type": "code",
   "execution_count": 145,
   "id": "7c40522a",
   "metadata": {},
   "outputs": [
    {
     "ename": "NameError",
     "evalue": "name 'l' is not defined",
     "output_type": "error",
     "traceback": [
      "\u001b[1;31m---------------------------------------------------------------------------\u001b[0m",
      "\u001b[1;31mNameError\u001b[0m                                 Traceback (most recent call last)",
      "\u001b[1;32m<ipython-input-145-cdc8a39da60d>\u001b[0m in \u001b[0;36m<module>\u001b[1;34m\u001b[0m\n\u001b[1;32m----> 1\u001b[1;33m \u001b[0mnext\u001b[0m\u001b[1;33m(\u001b[0m\u001b[0ml\u001b[0m\u001b[1;33m)\u001b[0m\u001b[1;33m\u001b[0m\u001b[1;33m\u001b[0m\u001b[0m\n\u001b[0m",
      "\u001b[1;31mNameError\u001b[0m: name 'l' is not defined"
     ]
    }
   ],
   "source": [
    "next(l)"
   ]
  },
  {
   "cell_type": "code",
   "execution_count": 146,
   "id": "4b60764b",
   "metadata": {},
   "outputs": [
    {
     "ename": "NameError",
     "evalue": "name 'l' is not defined",
     "output_type": "error",
     "traceback": [
      "\u001b[1;31m---------------------------------------------------------------------------\u001b[0m",
      "\u001b[1;31mNameError\u001b[0m                                 Traceback (most recent call last)",
      "\u001b[1;32m<ipython-input-146-cdc8a39da60d>\u001b[0m in \u001b[0;36m<module>\u001b[1;34m\u001b[0m\n\u001b[1;32m----> 1\u001b[1;33m \u001b[0mnext\u001b[0m\u001b[1;33m(\u001b[0m\u001b[0ml\u001b[0m\u001b[1;33m)\u001b[0m\u001b[1;33m\u001b[0m\u001b[1;33m\u001b[0m\u001b[0m\n\u001b[0m",
      "\u001b[1;31mNameError\u001b[0m: name 'l' is not defined"
     ]
    }
   ],
   "source": [
    "next(l)"
   ]
  },
  {
   "cell_type": "code",
   "execution_count": 147,
   "id": "7edd3e0d",
   "metadata": {},
   "outputs": [],
   "source": [
    "t=(1,2,3,4,5)"
   ]
  },
  {
   "cell_type": "code",
   "execution_count": 148,
   "id": "08df613b",
   "metadata": {},
   "outputs": [],
   "source": [
    "t=iter(t)"
   ]
  },
  {
   "cell_type": "code",
   "execution_count": 149,
   "id": "e20368f6",
   "metadata": {},
   "outputs": [
    {
     "data": {
      "text/plain": [
       "1"
      ]
     },
     "execution_count": 149,
     "metadata": {},
     "output_type": "execute_result"
    }
   ],
   "source": [
    "next(t)"
   ]
  },
  {
   "cell_type": "code",
   "execution_count": 150,
   "id": "9a7ceb4d",
   "metadata": {},
   "outputs": [
    {
     "data": {
      "text/plain": [
       "2"
      ]
     },
     "execution_count": 150,
     "metadata": {},
     "output_type": "execute_result"
    }
   ],
   "source": [
    "next(t)"
   ]
  },
  {
   "cell_type": "code",
   "execution_count": 151,
   "id": "5b2e4df7",
   "metadata": {},
   "outputs": [
    {
     "data": {
      "text/plain": [
       "3"
      ]
     },
     "execution_count": 151,
     "metadata": {},
     "output_type": "execute_result"
    }
   ],
   "source": [
    "next(t)"
   ]
  },
  {
   "cell_type": "code",
   "execution_count": 152,
   "id": "d613afa7",
   "metadata": {},
   "outputs": [
    {
     "data": {
      "text/plain": [
       "4"
      ]
     },
     "execution_count": 152,
     "metadata": {},
     "output_type": "execute_result"
    }
   ],
   "source": [
    "next(t)"
   ]
  },
  {
   "cell_type": "code",
   "execution_count": 153,
   "id": "fba6519a",
   "metadata": {},
   "outputs": [
    {
     "data": {
      "text/plain": [
       "5"
      ]
     },
     "execution_count": 153,
     "metadata": {},
     "output_type": "execute_result"
    }
   ],
   "source": [
    "next(t)"
   ]
  },
  {
   "cell_type": "code",
   "execution_count": 154,
   "id": "05c64e39",
   "metadata": {},
   "outputs": [],
   "source": [
    "d={'1','2','3','4','5'}"
   ]
  },
  {
   "cell_type": "code",
   "execution_count": 155,
   "id": "42598a1e",
   "metadata": {},
   "outputs": [],
   "source": [
    "d=iter(d)"
   ]
  },
  {
   "cell_type": "code",
   "execution_count": 156,
   "id": "0d62bfff",
   "metadata": {},
   "outputs": [
    {
     "data": {
      "text/plain": [
       "'2'"
      ]
     },
     "execution_count": 156,
     "metadata": {},
     "output_type": "execute_result"
    }
   ],
   "source": [
    "next(d)"
   ]
  },
  {
   "cell_type": "code",
   "execution_count": 157,
   "id": "cb400937",
   "metadata": {},
   "outputs": [
    {
     "data": {
      "text/plain": [
       "'4'"
      ]
     },
     "execution_count": 157,
     "metadata": {},
     "output_type": "execute_result"
    }
   ],
   "source": [
    "next(d)"
   ]
  },
  {
   "cell_type": "code",
   "execution_count": 158,
   "id": "61eeda30",
   "metadata": {},
   "outputs": [
    {
     "data": {
      "text/plain": [
       "'3'"
      ]
     },
     "execution_count": 158,
     "metadata": {},
     "output_type": "execute_result"
    }
   ],
   "source": [
    "next(d)"
   ]
  },
  {
   "cell_type": "code",
   "execution_count": 159,
   "id": "24e7f863",
   "metadata": {},
   "outputs": [
    {
     "data": {
      "text/plain": [
       "'5'"
      ]
     },
     "execution_count": 159,
     "metadata": {},
     "output_type": "execute_result"
    }
   ],
   "source": [
    "next(d)"
   ]
  },
  {
   "cell_type": "code",
   "execution_count": 160,
   "id": "585237b4",
   "metadata": {},
   "outputs": [
    {
     "data": {
      "text/plain": [
       "'1'"
      ]
     },
     "execution_count": 160,
     "metadata": {},
     "output_type": "execute_result"
    }
   ],
   "source": [
    "next(d)"
   ]
  },
  {
   "cell_type": "code",
   "execution_count": 181,
   "id": "d2b8ae12",
   "metadata": {},
   "outputs": [],
   "source": [
    "def test4(n):\n",
    "    l= []\n",
    "    for i in range(n):\n",
    "        l.append(i)\n",
    "    return l"
   ]
  },
  {
   "cell_type": "code",
   "execution_count": 182,
   "id": "c86c2b04",
   "metadata": {},
   "outputs": [
    {
     "data": {
      "text/plain": [
       "[0, 1, 2, 3, 4, 5]"
      ]
     },
     "execution_count": 182,
     "metadata": {},
     "output_type": "execute_result"
    }
   ],
   "source": [
    "test4(6)"
   ]
  },
  {
   "cell_type": "code",
   "execution_count": 183,
   "id": "77fc38f6",
   "metadata": {},
   "outputs": [],
   "source": [
    "def test5(n):\n",
    "    l=[]\n",
    "    for i in range(n):\n",
    "        l.append(i**3)\n",
    "    return l"
   ]
  },
  {
   "cell_type": "code",
   "execution_count": 184,
   "id": "f33353e8",
   "metadata": {},
   "outputs": [
    {
     "data": {
      "text/plain": [
       "[0, 1, 8, 27, 64, 125]"
      ]
     },
     "execution_count": 184,
     "metadata": {},
     "output_type": "execute_result"
    }
   ],
   "source": [
    "test5(6)"
   ]
  },
  {
   "cell_type": "code",
   "execution_count": 185,
   "id": "8e8ce057",
   "metadata": {},
   "outputs": [],
   "source": [
    "def test5(n):\n",
    "    l=[]\n",
    "    for i in range(n):\n",
    "        l.append(i**3)\n",
    "    return l"
   ]
  },
  {
   "cell_type": "code",
   "execution_count": 186,
   "id": "5e54e936",
   "metadata": {},
   "outputs": [
    {
     "data": {
      "text/plain": [
       "[0,\n",
       " 1,\n",
       " 8,\n",
       " 27,\n",
       " 64,\n",
       " 125,\n",
       " 216,\n",
       " 343,\n",
       " 512,\n",
       " 729,\n",
       " 1000,\n",
       " 1331,\n",
       " 1728,\n",
       " 2197,\n",
       " 2744,\n",
       " 3375,\n",
       " 4096,\n",
       " 4913,\n",
       " 5832,\n",
       " 6859,\n",
       " 8000,\n",
       " 9261,\n",
       " 10648,\n",
       " 12167,\n",
       " 13824,\n",
       " 15625,\n",
       " 17576,\n",
       " 19683,\n",
       " 21952,\n",
       " 24389,\n",
       " 27000,\n",
       " 29791,\n",
       " 32768,\n",
       " 35937,\n",
       " 39304,\n",
       " 42875,\n",
       " 46656,\n",
       " 50653,\n",
       " 54872,\n",
       " 59319,\n",
       " 64000,\n",
       " 68921,\n",
       " 74088,\n",
       " 79507,\n",
       " 85184,\n",
       " 91125,\n",
       " 97336,\n",
       " 103823,\n",
       " 110592,\n",
       " 117649,\n",
       " 125000,\n",
       " 132651,\n",
       " 140608,\n",
       " 148877,\n",
       " 157464,\n",
       " 166375,\n",
       " 175616,\n",
       " 185193,\n",
       " 195112,\n",
       " 205379,\n",
       " 216000,\n",
       " 226981,\n",
       " 238328,\n",
       " 250047,\n",
       " 262144,\n",
       " 274625,\n",
       " 287496,\n",
       " 300763,\n",
       " 314432,\n",
       " 328509,\n",
       " 343000,\n",
       " 357911,\n",
       " 373248,\n",
       " 389017,\n",
       " 405224,\n",
       " 421875,\n",
       " 438976,\n",
       " 456533,\n",
       " 474552,\n",
       " 493039,\n",
       " 512000,\n",
       " 531441,\n",
       " 551368,\n",
       " 571787,\n",
       " 592704,\n",
       " 614125,\n",
       " 636056,\n",
       " 658503,\n",
       " 681472,\n",
       " 704969,\n",
       " 729000,\n",
       " 753571,\n",
       " 778688,\n",
       " 804357,\n",
       " 830584,\n",
       " 857375,\n",
       " 884736,\n",
       " 912673,\n",
       " 941192,\n",
       " 970299,\n",
       " 1000000,\n",
       " 1030301,\n",
       " 1061208,\n",
       " 1092727,\n",
       " 1124864,\n",
       " 1157625,\n",
       " 1191016,\n",
       " 1225043,\n",
       " 1259712,\n",
       " 1295029,\n",
       " 1331000,\n",
       " 1367631,\n",
       " 1404928,\n",
       " 1442897,\n",
       " 1481544,\n",
       " 1520875,\n",
       " 1560896,\n",
       " 1601613,\n",
       " 1643032,\n",
       " 1685159,\n",
       " 1728000,\n",
       " 1771561,\n",
       " 1815848,\n",
       " 1860867,\n",
       " 1906624,\n",
       " 1953125,\n",
       " 2000376,\n",
       " 2048383,\n",
       " 2097152,\n",
       " 2146689,\n",
       " 2197000,\n",
       " 2248091,\n",
       " 2299968,\n",
       " 2352637,\n",
       " 2406104,\n",
       " 2460375,\n",
       " 2515456,\n",
       " 2571353,\n",
       " 2628072,\n",
       " 2685619,\n",
       " 2744000,\n",
       " 2803221,\n",
       " 2863288,\n",
       " 2924207,\n",
       " 2985984,\n",
       " 3048625,\n",
       " 3112136,\n",
       " 3176523,\n",
       " 3241792,\n",
       " 3307949,\n",
       " 3375000,\n",
       " 3442951,\n",
       " 3511808,\n",
       " 3581577,\n",
       " 3652264,\n",
       " 3723875,\n",
       " 3796416,\n",
       " 3869893,\n",
       " 3944312,\n",
       " 4019679,\n",
       " 4096000,\n",
       " 4173281,\n",
       " 4251528,\n",
       " 4330747,\n",
       " 4410944,\n",
       " 4492125,\n",
       " 4574296,\n",
       " 4657463,\n",
       " 4741632,\n",
       " 4826809,\n",
       " 4913000,\n",
       " 5000211,\n",
       " 5088448,\n",
       " 5177717,\n",
       " 5268024,\n",
       " 5359375,\n",
       " 5451776,\n",
       " 5545233,\n",
       " 5639752,\n",
       " 5735339,\n",
       " 5832000,\n",
       " 5929741,\n",
       " 6028568,\n",
       " 6128487,\n",
       " 6229504,\n",
       " 6331625,\n",
       " 6434856,\n",
       " 6539203,\n",
       " 6644672,\n",
       " 6751269,\n",
       " 6859000,\n",
       " 6967871,\n",
       " 7077888,\n",
       " 7189057,\n",
       " 7301384,\n",
       " 7414875,\n",
       " 7529536,\n",
       " 7645373,\n",
       " 7762392,\n",
       " 7880599,\n",
       " 8000000,\n",
       " 8120601,\n",
       " 8242408,\n",
       " 8365427,\n",
       " 8489664,\n",
       " 8615125,\n",
       " 8741816,\n",
       " 8869743,\n",
       " 8998912,\n",
       " 9129329,\n",
       " 9261000,\n",
       " 9393931,\n",
       " 9528128,\n",
       " 9663597,\n",
       " 9800344,\n",
       " 9938375,\n",
       " 10077696,\n",
       " 10218313,\n",
       " 10360232,\n",
       " 10503459,\n",
       " 10648000,\n",
       " 10793861,\n",
       " 10941048,\n",
       " 11089567,\n",
       " 11239424,\n",
       " 11390625,\n",
       " 11543176,\n",
       " 11697083,\n",
       " 11852352,\n",
       " 12008989,\n",
       " 12167000,\n",
       " 12326391,\n",
       " 12487168,\n",
       " 12649337,\n",
       " 12812904,\n",
       " 12977875,\n",
       " 13144256,\n",
       " 13312053,\n",
       " 13481272,\n",
       " 13651919,\n",
       " 13824000,\n",
       " 13997521,\n",
       " 14172488,\n",
       " 14348907,\n",
       " 14526784,\n",
       " 14706125,\n",
       " 14886936,\n",
       " 15069223,\n",
       " 15252992,\n",
       " 15438249,\n",
       " 15625000,\n",
       " 15813251,\n",
       " 16003008,\n",
       " 16194277,\n",
       " 16387064,\n",
       " 16581375,\n",
       " 16777216,\n",
       " 16974593,\n",
       " 17173512,\n",
       " 17373979,\n",
       " 17576000,\n",
       " 17779581,\n",
       " 17984728,\n",
       " 18191447,\n",
       " 18399744,\n",
       " 18609625,\n",
       " 18821096,\n",
       " 19034163,\n",
       " 19248832,\n",
       " 19465109,\n",
       " 19683000,\n",
       " 19902511,\n",
       " 20123648,\n",
       " 20346417,\n",
       " 20570824,\n",
       " 20796875,\n",
       " 21024576,\n",
       " 21253933,\n",
       " 21484952,\n",
       " 21717639,\n",
       " 21952000,\n",
       " 22188041,\n",
       " 22425768,\n",
       " 22665187,\n",
       " 22906304,\n",
       " 23149125,\n",
       " 23393656,\n",
       " 23639903,\n",
       " 23887872,\n",
       " 24137569,\n",
       " 24389000,\n",
       " 24642171,\n",
       " 24897088,\n",
       " 25153757,\n",
       " 25412184,\n",
       " 25672375,\n",
       " 25934336,\n",
       " 26198073,\n",
       " 26463592,\n",
       " 26730899,\n",
       " 27000000,\n",
       " 27270901,\n",
       " 27543608,\n",
       " 27818127,\n",
       " 28094464,\n",
       " 28372625,\n",
       " 28652616,\n",
       " 28934443,\n",
       " 29218112,\n",
       " 29503629,\n",
       " 29791000,\n",
       " 30080231,\n",
       " 30371328,\n",
       " 30664297,\n",
       " 30959144,\n",
       " 31255875,\n",
       " 31554496,\n",
       " 31855013,\n",
       " 32157432,\n",
       " 32461759,\n",
       " 32768000,\n",
       " 33076161,\n",
       " 33386248,\n",
       " 33698267,\n",
       " 34012224,\n",
       " 34328125,\n",
       " 34645976,\n",
       " 34965783,\n",
       " 35287552,\n",
       " 35611289,\n",
       " 35937000,\n",
       " 36264691,\n",
       " 36594368,\n",
       " 36926037,\n",
       " 37259704,\n",
       " 37595375,\n",
       " 37933056,\n",
       " 38272753,\n",
       " 38614472,\n",
       " 38958219,\n",
       " 39304000,\n",
       " 39651821,\n",
       " 40001688,\n",
       " 40353607,\n",
       " 40707584,\n",
       " 41063625,\n",
       " 41421736,\n",
       " 41781923,\n",
       " 42144192,\n",
       " 42508549,\n",
       " 42875000,\n",
       " 43243551,\n",
       " 43614208,\n",
       " 43986977,\n",
       " 44361864,\n",
       " 44738875,\n",
       " 45118016,\n",
       " 45499293,\n",
       " 45882712,\n",
       " 46268279,\n",
       " 46656000,\n",
       " 47045881,\n",
       " 47437928,\n",
       " 47832147,\n",
       " 48228544,\n",
       " 48627125,\n",
       " 49027896,\n",
       " 49430863,\n",
       " 49836032,\n",
       " 50243409,\n",
       " 50653000,\n",
       " 51064811,\n",
       " 51478848,\n",
       " 51895117,\n",
       " 52313624,\n",
       " 52734375,\n",
       " 53157376,\n",
       " 53582633,\n",
       " 54010152,\n",
       " 54439939,\n",
       " 54872000,\n",
       " 55306341,\n",
       " 55742968,\n",
       " 56181887,\n",
       " 56623104,\n",
       " 57066625,\n",
       " 57512456,\n",
       " 57960603,\n",
       " 58411072,\n",
       " 58863869,\n",
       " 59319000,\n",
       " 59776471,\n",
       " 60236288,\n",
       " 60698457,\n",
       " 61162984,\n",
       " 61629875,\n",
       " 62099136,\n",
       " 62570773,\n",
       " 63044792,\n",
       " 63521199,\n",
       " 64000000,\n",
       " 64481201,\n",
       " 64964808,\n",
       " 65450827,\n",
       " 65939264,\n",
       " 66430125,\n",
       " 66923416,\n",
       " 67419143,\n",
       " 67917312,\n",
       " 68417929,\n",
       " 68921000,\n",
       " 69426531,\n",
       " 69934528,\n",
       " 70444997,\n",
       " 70957944,\n",
       " 71473375,\n",
       " 71991296,\n",
       " 72511713,\n",
       " 73034632,\n",
       " 73560059,\n",
       " 74088000,\n",
       " 74618461,\n",
       " 75151448,\n",
       " 75686967,\n",
       " 76225024,\n",
       " 76765625,\n",
       " 77308776,\n",
       " 77854483,\n",
       " 78402752,\n",
       " 78953589,\n",
       " 79507000,\n",
       " 80062991,\n",
       " 80621568,\n",
       " 81182737,\n",
       " 81746504,\n",
       " 82312875,\n",
       " 82881856,\n",
       " 83453453,\n",
       " 84027672,\n",
       " 84604519,\n",
       " 85184000,\n",
       " 85766121,\n",
       " 86350888,\n",
       " 86938307,\n",
       " 87528384,\n",
       " 88121125,\n",
       " 88716536,\n",
       " 89314623,\n",
       " 89915392,\n",
       " 90518849,\n",
       " 91125000,\n",
       " 91733851,\n",
       " 92345408,\n",
       " 92959677,\n",
       " 93576664,\n",
       " 94196375,\n",
       " 94818816,\n",
       " 95443993,\n",
       " 96071912,\n",
       " 96702579,\n",
       " 97336000,\n",
       " 97972181,\n",
       " 98611128,\n",
       " 99252847,\n",
       " 99897344,\n",
       " 100544625,\n",
       " 101194696,\n",
       " 101847563,\n",
       " 102503232,\n",
       " 103161709,\n",
       " 103823000,\n",
       " 104487111,\n",
       " 105154048,\n",
       " 105823817,\n",
       " 106496424,\n",
       " 107171875,\n",
       " 107850176,\n",
       " 108531333,\n",
       " 109215352,\n",
       " 109902239,\n",
       " 110592000,\n",
       " 111284641,\n",
       " 111980168,\n",
       " 112678587,\n",
       " 113379904,\n",
       " 114084125,\n",
       " 114791256,\n",
       " 115501303,\n",
       " 116214272,\n",
       " 116930169,\n",
       " 117649000,\n",
       " 118370771,\n",
       " 119095488,\n",
       " 119823157,\n",
       " 120553784,\n",
       " 121287375,\n",
       " 122023936,\n",
       " 122763473,\n",
       " 123505992,\n",
       " 124251499,\n",
       " 125000000,\n",
       " 125751501,\n",
       " 126506008,\n",
       " 127263527,\n",
       " 128024064,\n",
       " 128787625,\n",
       " 129554216,\n",
       " 130323843,\n",
       " 131096512,\n",
       " 131872229,\n",
       " 132651000,\n",
       " 133432831,\n",
       " 134217728,\n",
       " 135005697,\n",
       " 135796744,\n",
       " 136590875,\n",
       " 137388096,\n",
       " 138188413,\n",
       " 138991832,\n",
       " 139798359,\n",
       " 140608000,\n",
       " 141420761,\n",
       " 142236648,\n",
       " 143055667,\n",
       " 143877824,\n",
       " 144703125,\n",
       " 145531576,\n",
       " 146363183,\n",
       " 147197952,\n",
       " 148035889,\n",
       " 148877000,\n",
       " 149721291,\n",
       " 150568768,\n",
       " 151419437,\n",
       " 152273304,\n",
       " 153130375,\n",
       " 153990656,\n",
       " 154854153,\n",
       " 155720872,\n",
       " 156590819,\n",
       " 157464000,\n",
       " 158340421,\n",
       " 159220088,\n",
       " 160103007,\n",
       " 160989184,\n",
       " 161878625,\n",
       " 162771336,\n",
       " 163667323,\n",
       " 164566592,\n",
       " 165469149,\n",
       " 166375000,\n",
       " 167284151,\n",
       " 168196608,\n",
       " 169112377,\n",
       " 170031464,\n",
       " 170953875,\n",
       " 171879616,\n",
       " 172808693,\n",
       " 173741112,\n",
       " 174676879,\n",
       " 175616000,\n",
       " 176558481,\n",
       " 177504328,\n",
       " 178453547,\n",
       " 179406144,\n",
       " 180362125,\n",
       " 181321496,\n",
       " 182284263,\n",
       " 183250432,\n",
       " 184220009,\n",
       " 185193000,\n",
       " 186169411,\n",
       " 187149248,\n",
       " 188132517,\n",
       " 189119224,\n",
       " 190109375,\n",
       " 191102976,\n",
       " 192100033,\n",
       " 193100552,\n",
       " 194104539,\n",
       " 195112000,\n",
       " 196122941,\n",
       " 197137368,\n",
       " 198155287,\n",
       " 199176704,\n",
       " 200201625,\n",
       " 201230056,\n",
       " 202262003,\n",
       " 203297472,\n",
       " 204336469,\n",
       " 205379000,\n",
       " 206425071,\n",
       " 207474688,\n",
       " 208527857,\n",
       " 209584584,\n",
       " 210644875,\n",
       " 211708736,\n",
       " 212776173,\n",
       " 213847192,\n",
       " 214921799,\n",
       " 216000000,\n",
       " 217081801,\n",
       " 218167208,\n",
       " 219256227,\n",
       " 220348864,\n",
       " 221445125,\n",
       " 222545016,\n",
       " 223648543,\n",
       " 224755712,\n",
       " 225866529,\n",
       " 226981000,\n",
       " 228099131,\n",
       " 229220928,\n",
       " 230346397,\n",
       " 231475544,\n",
       " 232608375,\n",
       " 233744896,\n",
       " 234885113,\n",
       " 236029032,\n",
       " 237176659,\n",
       " 238328000,\n",
       " 239483061,\n",
       " 240641848,\n",
       " 241804367,\n",
       " 242970624,\n",
       " 244140625,\n",
       " 245314376,\n",
       " 246491883,\n",
       " 247673152,\n",
       " 248858189,\n",
       " 250047000,\n",
       " 251239591,\n",
       " 252435968,\n",
       " 253636137,\n",
       " 254840104,\n",
       " 256047875,\n",
       " 257259456,\n",
       " 258474853,\n",
       " 259694072,\n",
       " 260917119,\n",
       " 262144000,\n",
       " 263374721,\n",
       " 264609288,\n",
       " 265847707,\n",
       " 267089984,\n",
       " 268336125,\n",
       " 269586136,\n",
       " 270840023,\n",
       " 272097792,\n",
       " 273359449,\n",
       " 274625000,\n",
       " 275894451,\n",
       " 277167808,\n",
       " 278445077,\n",
       " 279726264,\n",
       " 281011375,\n",
       " 282300416,\n",
       " 283593393,\n",
       " 284890312,\n",
       " 286191179,\n",
       " 287496000,\n",
       " 288804781,\n",
       " 290117528,\n",
       " 291434247,\n",
       " 292754944,\n",
       " 294079625,\n",
       " 295408296,\n",
       " 296740963,\n",
       " 298077632,\n",
       " 299418309,\n",
       " 300763000,\n",
       " 302111711,\n",
       " 303464448,\n",
       " 304821217,\n",
       " 306182024,\n",
       " 307546875,\n",
       " 308915776,\n",
       " 310288733,\n",
       " 311665752,\n",
       " 313046839,\n",
       " 314432000,\n",
       " 315821241,\n",
       " 317214568,\n",
       " 318611987,\n",
       " 320013504,\n",
       " 321419125,\n",
       " 322828856,\n",
       " 324242703,\n",
       " 325660672,\n",
       " 327082769,\n",
       " 328509000,\n",
       " 329939371,\n",
       " 331373888,\n",
       " 332812557,\n",
       " 334255384,\n",
       " 335702375,\n",
       " 337153536,\n",
       " 338608873,\n",
       " 340068392,\n",
       " 341532099,\n",
       " 343000000,\n",
       " 344472101,\n",
       " 345948408,\n",
       " 347428927,\n",
       " 348913664,\n",
       " 350402625,\n",
       " 351895816,\n",
       " 353393243,\n",
       " 354894912,\n",
       " 356400829,\n",
       " 357911000,\n",
       " 359425431,\n",
       " 360944128,\n",
       " 362467097,\n",
       " 363994344,\n",
       " 365525875,\n",
       " 367061696,\n",
       " 368601813,\n",
       " 370146232,\n",
       " 371694959,\n",
       " 373248000,\n",
       " 374805361,\n",
       " 376367048,\n",
       " 377933067,\n",
       " 379503424,\n",
       " 381078125,\n",
       " 382657176,\n",
       " 384240583,\n",
       " 385828352,\n",
       " 387420489,\n",
       " 389017000,\n",
       " 390617891,\n",
       " 392223168,\n",
       " 393832837,\n",
       " 395446904,\n",
       " 397065375,\n",
       " 398688256,\n",
       " 400315553,\n",
       " 401947272,\n",
       " 403583419,\n",
       " 405224000,\n",
       " 406869021,\n",
       " 408518488,\n",
       " 410172407,\n",
       " 411830784,\n",
       " 413493625,\n",
       " 415160936,\n",
       " 416832723,\n",
       " 418508992,\n",
       " 420189749,\n",
       " 421875000,\n",
       " 423564751,\n",
       " 425259008,\n",
       " 426957777,\n",
       " 428661064,\n",
       " 430368875,\n",
       " 432081216,\n",
       " 433798093,\n",
       " 435519512,\n",
       " 437245479,\n",
       " 438976000,\n",
       " 440711081,\n",
       " 442450728,\n",
       " 444194947,\n",
       " 445943744,\n",
       " 447697125,\n",
       " 449455096,\n",
       " 451217663,\n",
       " 452984832,\n",
       " 454756609,\n",
       " 456533000,\n",
       " 458314011,\n",
       " 460099648,\n",
       " 461889917,\n",
       " 463684824,\n",
       " 465484375,\n",
       " 467288576,\n",
       " 469097433,\n",
       " 470910952,\n",
       " 472729139,\n",
       " 474552000,\n",
       " 476379541,\n",
       " 478211768,\n",
       " 480048687,\n",
       " 481890304,\n",
       " 483736625,\n",
       " 485587656,\n",
       " 487443403,\n",
       " 489303872,\n",
       " 491169069,\n",
       " 493039000,\n",
       " 494913671,\n",
       " 496793088,\n",
       " 498677257,\n",
       " 500566184,\n",
       " 502459875,\n",
       " 504358336,\n",
       " 506261573,\n",
       " 508169592,\n",
       " 510082399,\n",
       " 512000000,\n",
       " 513922401,\n",
       " 515849608,\n",
       " 517781627,\n",
       " 519718464,\n",
       " 521660125,\n",
       " 523606616,\n",
       " 525557943,\n",
       " 527514112,\n",
       " 529475129,\n",
       " 531441000,\n",
       " 533411731,\n",
       " 535387328,\n",
       " 537367797,\n",
       " 539353144,\n",
       " 541343375,\n",
       " 543338496,\n",
       " 545338513,\n",
       " 547343432,\n",
       " 549353259,\n",
       " 551368000,\n",
       " 553387661,\n",
       " 555412248,\n",
       " 557441767,\n",
       " 559476224,\n",
       " 561515625,\n",
       " 563559976,\n",
       " 565609283,\n",
       " 567663552,\n",
       " 569722789,\n",
       " 571787000,\n",
       " 573856191,\n",
       " 575930368,\n",
       " 578009537,\n",
       " 580093704,\n",
       " 582182875,\n",
       " 584277056,\n",
       " 586376253,\n",
       " 588480472,\n",
       " 590589719,\n",
       " 592704000,\n",
       " 594823321,\n",
       " 596947688,\n",
       " 599077107,\n",
       " 601211584,\n",
       " 603351125,\n",
       " 605495736,\n",
       " 607645423,\n",
       " 609800192,\n",
       " 611960049,\n",
       " 614125000,\n",
       " 616295051,\n",
       " 618470208,\n",
       " 620650477,\n",
       " 622835864,\n",
       " 625026375,\n",
       " 627222016,\n",
       " 629422793,\n",
       " 631628712,\n",
       " 633839779,\n",
       " 636056000,\n",
       " 638277381,\n",
       " 640503928,\n",
       " 642735647,\n",
       " 644972544,\n",
       " 647214625,\n",
       " 649461896,\n",
       " 651714363,\n",
       " 653972032,\n",
       " 656234909,\n",
       " 658503000,\n",
       " 660776311,\n",
       " 663054848,\n",
       " 665338617,\n",
       " 667627624,\n",
       " 669921875,\n",
       " 672221376,\n",
       " 674526133,\n",
       " 676836152,\n",
       " 679151439,\n",
       " 681472000,\n",
       " 683797841,\n",
       " 686128968,\n",
       " 688465387,\n",
       " 690807104,\n",
       " 693154125,\n",
       " 695506456,\n",
       " 697864103,\n",
       " 700227072,\n",
       " 702595369,\n",
       " 704969000,\n",
       " 707347971,\n",
       " 709732288,\n",
       " 712121957,\n",
       " 714516984,\n",
       " 716917375,\n",
       " 719323136,\n",
       " 721734273,\n",
       " 724150792,\n",
       " 726572699,\n",
       " 729000000,\n",
       " 731432701,\n",
       " 733870808,\n",
       " 736314327,\n",
       " 738763264,\n",
       " 741217625,\n",
       " 743677416,\n",
       " 746142643,\n",
       " 748613312,\n",
       " 751089429,\n",
       " 753571000,\n",
       " 756058031,\n",
       " 758550528,\n",
       " 761048497,\n",
       " 763551944,\n",
       " 766060875,\n",
       " 768575296,\n",
       " 771095213,\n",
       " 773620632,\n",
       " 776151559,\n",
       " 778688000,\n",
       " 781229961,\n",
       " 783777448,\n",
       " 786330467,\n",
       " 788889024,\n",
       " 791453125,\n",
       " 794022776,\n",
       " 796597983,\n",
       " 799178752,\n",
       " 801765089,\n",
       " 804357000,\n",
       " 806954491,\n",
       " 809557568,\n",
       " 812166237,\n",
       " 814780504,\n",
       " 817400375,\n",
       " 820025856,\n",
       " 822656953,\n",
       " 825293672,\n",
       " 827936019,\n",
       " 830584000,\n",
       " 833237621,\n",
       " 835896888,\n",
       " 838561807,\n",
       " 841232384,\n",
       " 843908625,\n",
       " 846590536,\n",
       " 849278123,\n",
       " 851971392,\n",
       " 854670349,\n",
       " 857375000,\n",
       " 860085351,\n",
       " 862801408,\n",
       " 865523177,\n",
       " 868250664,\n",
       " 870983875,\n",
       " 873722816,\n",
       " 876467493,\n",
       " 879217912,\n",
       " 881974079,\n",
       " 884736000,\n",
       " 887503681,\n",
       " 890277128,\n",
       " 893056347,\n",
       " 895841344,\n",
       " 898632125,\n",
       " 901428696,\n",
       " 904231063,\n",
       " 907039232,\n",
       " 909853209,\n",
       " 912673000,\n",
       " 915498611,\n",
       " 918330048,\n",
       " 921167317,\n",
       " 924010424,\n",
       " 926859375,\n",
       " 929714176,\n",
       " 932574833,\n",
       " 935441352,\n",
       " 938313739,\n",
       " 941192000,\n",
       " 944076141,\n",
       " 946966168,\n",
       " 949862087,\n",
       " 952763904,\n",
       " 955671625,\n",
       " 958585256,\n",
       " 961504803,\n",
       " 964430272,\n",
       " 967361669,\n",
       " 970299000,\n",
       " 973242271,\n",
       " 976191488,\n",
       " 979146657,\n",
       " 982107784,\n",
       " 985074875,\n",
       " 988047936,\n",
       " 991026973,\n",
       " 994011992,\n",
       " 997002999,\n",
       " ...]"
      ]
     },
     "execution_count": 186,
     "metadata": {},
     "output_type": "execute_result"
    }
   ],
   "source": [
    "test5(6000)"
   ]
  },
  {
   "cell_type": "code",
   "execution_count": 188,
   "id": "c8d7b000",
   "metadata": {},
   "outputs": [
    {
     "data": {
      "text/plain": [
       "[0,\n",
       " 1,\n",
       " 8,\n",
       " 27,\n",
       " 64,\n",
       " 125,\n",
       " 216,\n",
       " 343,\n",
       " 512,\n",
       " 729,\n",
       " 1000,\n",
       " 1331,\n",
       " 1728,\n",
       " 2197,\n",
       " 2744,\n",
       " 3375,\n",
       " 4096,\n",
       " 4913,\n",
       " 5832,\n",
       " 6859,\n",
       " 8000,\n",
       " 9261,\n",
       " 10648,\n",
       " 12167,\n",
       " 13824,\n",
       " 15625,\n",
       " 17576,\n",
       " 19683,\n",
       " 21952,\n",
       " 24389,\n",
       " 27000,\n",
       " 29791,\n",
       " 32768,\n",
       " 35937,\n",
       " 39304,\n",
       " 42875,\n",
       " 46656,\n",
       " 50653,\n",
       " 54872,\n",
       " 59319,\n",
       " 64000,\n",
       " 68921,\n",
       " 74088,\n",
       " 79507,\n",
       " 85184,\n",
       " 91125,\n",
       " 97336,\n",
       " 103823,\n",
       " 110592,\n",
       " 117649,\n",
       " 125000,\n",
       " 132651,\n",
       " 140608,\n",
       " 148877,\n",
       " 157464,\n",
       " 166375,\n",
       " 175616,\n",
       " 185193,\n",
       " 195112,\n",
       " 205379,\n",
       " 216000,\n",
       " 226981,\n",
       " 238328,\n",
       " 250047,\n",
       " 262144,\n",
       " 274625,\n",
       " 287496,\n",
       " 300763,\n",
       " 314432,\n",
       " 328509,\n",
       " 343000,\n",
       " 357911,\n",
       " 373248,\n",
       " 389017,\n",
       " 405224,\n",
       " 421875,\n",
       " 438976,\n",
       " 456533,\n",
       " 474552,\n",
       " 493039,\n",
       " 512000,\n",
       " 531441,\n",
       " 551368,\n",
       " 571787,\n",
       " 592704,\n",
       " 614125,\n",
       " 636056,\n",
       " 658503,\n",
       " 681472,\n",
       " 704969,\n",
       " 729000,\n",
       " 753571,\n",
       " 778688,\n",
       " 804357,\n",
       " 830584,\n",
       " 857375,\n",
       " 884736,\n",
       " 912673,\n",
       " 941192,\n",
       " 970299,\n",
       " 1000000,\n",
       " 1030301,\n",
       " 1061208,\n",
       " 1092727,\n",
       " 1124864,\n",
       " 1157625,\n",
       " 1191016,\n",
       " 1225043,\n",
       " 1259712,\n",
       " 1295029,\n",
       " 1331000,\n",
       " 1367631,\n",
       " 1404928,\n",
       " 1442897,\n",
       " 1481544,\n",
       " 1520875,\n",
       " 1560896,\n",
       " 1601613,\n",
       " 1643032,\n",
       " 1685159,\n",
       " 1728000,\n",
       " 1771561,\n",
       " 1815848,\n",
       " 1860867,\n",
       " 1906624,\n",
       " 1953125,\n",
       " 2000376,\n",
       " 2048383,\n",
       " 2097152,\n",
       " 2146689,\n",
       " 2197000,\n",
       " 2248091,\n",
       " 2299968,\n",
       " 2352637,\n",
       " 2406104,\n",
       " 2460375,\n",
       " 2515456,\n",
       " 2571353,\n",
       " 2628072,\n",
       " 2685619,\n",
       " 2744000,\n",
       " 2803221,\n",
       " 2863288,\n",
       " 2924207,\n",
       " 2985984,\n",
       " 3048625,\n",
       " 3112136,\n",
       " 3176523,\n",
       " 3241792,\n",
       " 3307949,\n",
       " 3375000,\n",
       " 3442951,\n",
       " 3511808,\n",
       " 3581577,\n",
       " 3652264,\n",
       " 3723875,\n",
       " 3796416,\n",
       " 3869893,\n",
       " 3944312,\n",
       " 4019679,\n",
       " 4096000,\n",
       " 4173281,\n",
       " 4251528,\n",
       " 4330747,\n",
       " 4410944,\n",
       " 4492125,\n",
       " 4574296,\n",
       " 4657463,\n",
       " 4741632,\n",
       " 4826809,\n",
       " 4913000,\n",
       " 5000211,\n",
       " 5088448,\n",
       " 5177717,\n",
       " 5268024,\n",
       " 5359375,\n",
       " 5451776,\n",
       " 5545233,\n",
       " 5639752,\n",
       " 5735339,\n",
       " 5832000,\n",
       " 5929741,\n",
       " 6028568,\n",
       " 6128487,\n",
       " 6229504,\n",
       " 6331625,\n",
       " 6434856,\n",
       " 6539203,\n",
       " 6644672,\n",
       " 6751269,\n",
       " 6859000,\n",
       " 6967871,\n",
       " 7077888,\n",
       " 7189057,\n",
       " 7301384,\n",
       " 7414875,\n",
       " 7529536,\n",
       " 7645373,\n",
       " 7762392,\n",
       " 7880599,\n",
       " 8000000,\n",
       " 8120601,\n",
       " 8242408,\n",
       " 8365427,\n",
       " 8489664,\n",
       " 8615125,\n",
       " 8741816,\n",
       " 8869743,\n",
       " 8998912,\n",
       " 9129329,\n",
       " 9261000,\n",
       " 9393931,\n",
       " 9528128,\n",
       " 9663597,\n",
       " 9800344,\n",
       " 9938375,\n",
       " 10077696,\n",
       " 10218313,\n",
       " 10360232,\n",
       " 10503459,\n",
       " 10648000,\n",
       " 10793861,\n",
       " 10941048,\n",
       " 11089567,\n",
       " 11239424,\n",
       " 11390625,\n",
       " 11543176,\n",
       " 11697083,\n",
       " 11852352,\n",
       " 12008989,\n",
       " 12167000,\n",
       " 12326391,\n",
       " 12487168,\n",
       " 12649337,\n",
       " 12812904,\n",
       " 12977875,\n",
       " 13144256,\n",
       " 13312053,\n",
       " 13481272,\n",
       " 13651919,\n",
       " 13824000,\n",
       " 13997521,\n",
       " 14172488,\n",
       " 14348907,\n",
       " 14526784,\n",
       " 14706125,\n",
       " 14886936,\n",
       " 15069223,\n",
       " 15252992,\n",
       " 15438249,\n",
       " 15625000,\n",
       " 15813251,\n",
       " 16003008,\n",
       " 16194277,\n",
       " 16387064,\n",
       " 16581375,\n",
       " 16777216,\n",
       " 16974593,\n",
       " 17173512,\n",
       " 17373979,\n",
       " 17576000,\n",
       " 17779581,\n",
       " 17984728,\n",
       " 18191447,\n",
       " 18399744,\n",
       " 18609625,\n",
       " 18821096,\n",
       " 19034163,\n",
       " 19248832,\n",
       " 19465109,\n",
       " 19683000,\n",
       " 19902511,\n",
       " 20123648,\n",
       " 20346417,\n",
       " 20570824,\n",
       " 20796875,\n",
       " 21024576,\n",
       " 21253933,\n",
       " 21484952,\n",
       " 21717639,\n",
       " 21952000,\n",
       " 22188041,\n",
       " 22425768,\n",
       " 22665187,\n",
       " 22906304,\n",
       " 23149125,\n",
       " 23393656,\n",
       " 23639903,\n",
       " 23887872,\n",
       " 24137569,\n",
       " 24389000,\n",
       " 24642171,\n",
       " 24897088,\n",
       " 25153757,\n",
       " 25412184,\n",
       " 25672375,\n",
       " 25934336,\n",
       " 26198073,\n",
       " 26463592,\n",
       " 26730899,\n",
       " 27000000,\n",
       " 27270901,\n",
       " 27543608,\n",
       " 27818127,\n",
       " 28094464,\n",
       " 28372625,\n",
       " 28652616,\n",
       " 28934443,\n",
       " 29218112,\n",
       " 29503629,\n",
       " 29791000,\n",
       " 30080231,\n",
       " 30371328,\n",
       " 30664297,\n",
       " 30959144,\n",
       " 31255875,\n",
       " 31554496,\n",
       " 31855013,\n",
       " 32157432,\n",
       " 32461759,\n",
       " 32768000,\n",
       " 33076161,\n",
       " 33386248,\n",
       " 33698267,\n",
       " 34012224,\n",
       " 34328125,\n",
       " 34645976,\n",
       " 34965783,\n",
       " 35287552,\n",
       " 35611289,\n",
       " 35937000,\n",
       " 36264691,\n",
       " 36594368,\n",
       " 36926037,\n",
       " 37259704,\n",
       " 37595375,\n",
       " 37933056,\n",
       " 38272753,\n",
       " 38614472,\n",
       " 38958219,\n",
       " 39304000,\n",
       " 39651821,\n",
       " 40001688,\n",
       " 40353607,\n",
       " 40707584,\n",
       " 41063625,\n",
       " 41421736,\n",
       " 41781923,\n",
       " 42144192,\n",
       " 42508549,\n",
       " 42875000,\n",
       " 43243551,\n",
       " 43614208,\n",
       " 43986977,\n",
       " 44361864,\n",
       " 44738875,\n",
       " 45118016,\n",
       " 45499293,\n",
       " 45882712,\n",
       " 46268279,\n",
       " 46656000,\n",
       " 47045881,\n",
       " 47437928,\n",
       " 47832147,\n",
       " 48228544,\n",
       " 48627125,\n",
       " 49027896,\n",
       " 49430863,\n",
       " 49836032,\n",
       " 50243409,\n",
       " 50653000,\n",
       " 51064811,\n",
       " 51478848,\n",
       " 51895117,\n",
       " 52313624,\n",
       " 52734375,\n",
       " 53157376,\n",
       " 53582633,\n",
       " 54010152,\n",
       " 54439939,\n",
       " 54872000,\n",
       " 55306341,\n",
       " 55742968,\n",
       " 56181887,\n",
       " 56623104,\n",
       " 57066625,\n",
       " 57512456,\n",
       " 57960603,\n",
       " 58411072,\n",
       " 58863869,\n",
       " 59319000,\n",
       " 59776471,\n",
       " 60236288,\n",
       " 60698457,\n",
       " 61162984,\n",
       " 61629875,\n",
       " 62099136,\n",
       " 62570773,\n",
       " 63044792,\n",
       " 63521199,\n",
       " 64000000,\n",
       " 64481201,\n",
       " 64964808,\n",
       " 65450827,\n",
       " 65939264,\n",
       " 66430125,\n",
       " 66923416,\n",
       " 67419143,\n",
       " 67917312,\n",
       " 68417929,\n",
       " 68921000,\n",
       " 69426531,\n",
       " 69934528,\n",
       " 70444997,\n",
       " 70957944,\n",
       " 71473375,\n",
       " 71991296,\n",
       " 72511713,\n",
       " 73034632,\n",
       " 73560059,\n",
       " 74088000,\n",
       " 74618461,\n",
       " 75151448,\n",
       " 75686967,\n",
       " 76225024,\n",
       " 76765625,\n",
       " 77308776,\n",
       " 77854483,\n",
       " 78402752,\n",
       " 78953589,\n",
       " 79507000,\n",
       " 80062991,\n",
       " 80621568,\n",
       " 81182737,\n",
       " 81746504,\n",
       " 82312875,\n",
       " 82881856,\n",
       " 83453453,\n",
       " 84027672,\n",
       " 84604519,\n",
       " 85184000,\n",
       " 85766121,\n",
       " 86350888,\n",
       " 86938307,\n",
       " 87528384,\n",
       " 88121125,\n",
       " 88716536,\n",
       " 89314623,\n",
       " 89915392,\n",
       " 90518849,\n",
       " 91125000,\n",
       " 91733851,\n",
       " 92345408,\n",
       " 92959677,\n",
       " 93576664,\n",
       " 94196375,\n",
       " 94818816,\n",
       " 95443993,\n",
       " 96071912,\n",
       " 96702579,\n",
       " 97336000,\n",
       " 97972181,\n",
       " 98611128,\n",
       " 99252847,\n",
       " 99897344,\n",
       " 100544625,\n",
       " 101194696,\n",
       " 101847563,\n",
       " 102503232,\n",
       " 103161709,\n",
       " 103823000,\n",
       " 104487111,\n",
       " 105154048,\n",
       " 105823817,\n",
       " 106496424,\n",
       " 107171875,\n",
       " 107850176,\n",
       " 108531333,\n",
       " 109215352,\n",
       " 109902239,\n",
       " 110592000,\n",
       " 111284641,\n",
       " 111980168,\n",
       " 112678587,\n",
       " 113379904,\n",
       " 114084125,\n",
       " 114791256,\n",
       " 115501303,\n",
       " 116214272,\n",
       " 116930169,\n",
       " 117649000,\n",
       " 118370771,\n",
       " 119095488,\n",
       " 119823157,\n",
       " 120553784,\n",
       " 121287375,\n",
       " 122023936,\n",
       " 122763473,\n",
       " 123505992,\n",
       " 124251499,\n",
       " 125000000,\n",
       " 125751501,\n",
       " 126506008,\n",
       " 127263527,\n",
       " 128024064,\n",
       " 128787625,\n",
       " 129554216,\n",
       " 130323843,\n",
       " 131096512,\n",
       " 131872229,\n",
       " 132651000,\n",
       " 133432831,\n",
       " 134217728,\n",
       " 135005697,\n",
       " 135796744,\n",
       " 136590875,\n",
       " 137388096,\n",
       " 138188413,\n",
       " 138991832,\n",
       " 139798359,\n",
       " 140608000,\n",
       " 141420761,\n",
       " 142236648,\n",
       " 143055667,\n",
       " 143877824,\n",
       " 144703125,\n",
       " 145531576,\n",
       " 146363183,\n",
       " 147197952,\n",
       " 148035889,\n",
       " 148877000,\n",
       " 149721291,\n",
       " 150568768,\n",
       " 151419437,\n",
       " 152273304,\n",
       " 153130375,\n",
       " 153990656,\n",
       " 154854153,\n",
       " 155720872,\n",
       " 156590819,\n",
       " 157464000,\n",
       " 158340421,\n",
       " 159220088,\n",
       " 160103007,\n",
       " 160989184,\n",
       " 161878625,\n",
       " 162771336,\n",
       " 163667323,\n",
       " 164566592,\n",
       " 165469149,\n",
       " 166375000,\n",
       " 167284151,\n",
       " 168196608,\n",
       " 169112377,\n",
       " 170031464,\n",
       " 170953875,\n",
       " 171879616,\n",
       " 172808693,\n",
       " 173741112,\n",
       " 174676879,\n",
       " 175616000,\n",
       " 176558481,\n",
       " 177504328,\n",
       " 178453547,\n",
       " 179406144,\n",
       " 180362125,\n",
       " 181321496,\n",
       " 182284263,\n",
       " 183250432,\n",
       " 184220009,\n",
       " 185193000,\n",
       " 186169411,\n",
       " 187149248,\n",
       " 188132517,\n",
       " 189119224,\n",
       " 190109375,\n",
       " 191102976,\n",
       " 192100033,\n",
       " 193100552,\n",
       " 194104539,\n",
       " 195112000,\n",
       " 196122941,\n",
       " 197137368,\n",
       " 198155287,\n",
       " 199176704,\n",
       " 200201625,\n",
       " 201230056,\n",
       " 202262003,\n",
       " 203297472,\n",
       " 204336469,\n",
       " 205379000,\n",
       " 206425071,\n",
       " 207474688,\n",
       " 208527857,\n",
       " 209584584,\n",
       " 210644875,\n",
       " 211708736,\n",
       " 212776173,\n",
       " 213847192,\n",
       " 214921799,\n",
       " 216000000,\n",
       " 217081801,\n",
       " 218167208,\n",
       " 219256227,\n",
       " 220348864,\n",
       " 221445125,\n",
       " 222545016,\n",
       " 223648543,\n",
       " 224755712,\n",
       " 225866529,\n",
       " 226981000,\n",
       " 228099131,\n",
       " 229220928,\n",
       " 230346397,\n",
       " 231475544,\n",
       " 232608375,\n",
       " 233744896,\n",
       " 234885113,\n",
       " 236029032,\n",
       " 237176659,\n",
       " 238328000,\n",
       " 239483061,\n",
       " 240641848,\n",
       " 241804367,\n",
       " 242970624,\n",
       " 244140625,\n",
       " 245314376,\n",
       " 246491883,\n",
       " 247673152,\n",
       " 248858189,\n",
       " 250047000,\n",
       " 251239591,\n",
       " 252435968,\n",
       " 253636137,\n",
       " 254840104,\n",
       " 256047875,\n",
       " 257259456,\n",
       " 258474853,\n",
       " 259694072,\n",
       " 260917119,\n",
       " 262144000,\n",
       " 263374721,\n",
       " 264609288,\n",
       " 265847707,\n",
       " 267089984,\n",
       " 268336125,\n",
       " 269586136,\n",
       " 270840023,\n",
       " 272097792,\n",
       " 273359449,\n",
       " 274625000,\n",
       " 275894451,\n",
       " 277167808,\n",
       " 278445077,\n",
       " 279726264,\n",
       " 281011375,\n",
       " 282300416,\n",
       " 283593393,\n",
       " 284890312,\n",
       " 286191179,\n",
       " 287496000,\n",
       " 288804781,\n",
       " 290117528,\n",
       " 291434247,\n",
       " 292754944,\n",
       " 294079625,\n",
       " 295408296,\n",
       " 296740963,\n",
       " 298077632,\n",
       " 299418309,\n",
       " 300763000,\n",
       " 302111711,\n",
       " 303464448,\n",
       " 304821217,\n",
       " 306182024,\n",
       " 307546875,\n",
       " 308915776,\n",
       " 310288733,\n",
       " 311665752,\n",
       " 313046839,\n",
       " 314432000,\n",
       " 315821241,\n",
       " 317214568,\n",
       " 318611987,\n",
       " 320013504,\n",
       " 321419125,\n",
       " 322828856,\n",
       " 324242703,\n",
       " 325660672,\n",
       " 327082769,\n",
       " 328509000,\n",
       " 329939371,\n",
       " 331373888,\n",
       " 332812557,\n",
       " 334255384,\n",
       " 335702375,\n",
       " 337153536,\n",
       " 338608873,\n",
       " 340068392,\n",
       " 341532099,\n",
       " 343000000,\n",
       " 344472101,\n",
       " 345948408,\n",
       " 347428927,\n",
       " 348913664,\n",
       " 350402625,\n",
       " 351895816,\n",
       " 353393243,\n",
       " 354894912,\n",
       " 356400829,\n",
       " 357911000,\n",
       " 359425431,\n",
       " 360944128,\n",
       " 362467097,\n",
       " 363994344,\n",
       " 365525875,\n",
       " 367061696,\n",
       " 368601813,\n",
       " 370146232,\n",
       " 371694959,\n",
       " 373248000,\n",
       " 374805361,\n",
       " 376367048,\n",
       " 377933067,\n",
       " 379503424,\n",
       " 381078125,\n",
       " 382657176,\n",
       " 384240583,\n",
       " 385828352,\n",
       " 387420489,\n",
       " 389017000,\n",
       " 390617891,\n",
       " 392223168,\n",
       " 393832837,\n",
       " 395446904,\n",
       " 397065375,\n",
       " 398688256,\n",
       " 400315553,\n",
       " 401947272,\n",
       " 403583419,\n",
       " 405224000,\n",
       " 406869021,\n",
       " 408518488,\n",
       " 410172407,\n",
       " 411830784,\n",
       " 413493625,\n",
       " 415160936,\n",
       " 416832723,\n",
       " 418508992,\n",
       " 420189749,\n",
       " 421875000,\n",
       " 423564751,\n",
       " 425259008,\n",
       " 426957777,\n",
       " 428661064,\n",
       " 430368875,\n",
       " 432081216,\n",
       " 433798093,\n",
       " 435519512,\n",
       " 437245479,\n",
       " 438976000,\n",
       " 440711081,\n",
       " 442450728,\n",
       " 444194947,\n",
       " 445943744,\n",
       " 447697125,\n",
       " 449455096,\n",
       " 451217663,\n",
       " 452984832,\n",
       " 454756609,\n",
       " 456533000,\n",
       " 458314011,\n",
       " 460099648,\n",
       " 461889917,\n",
       " 463684824,\n",
       " 465484375,\n",
       " 467288576,\n",
       " 469097433,\n",
       " 470910952,\n",
       " 472729139,\n",
       " 474552000,\n",
       " 476379541,\n",
       " 478211768,\n",
       " 480048687,\n",
       " 481890304,\n",
       " 483736625,\n",
       " 485587656,\n",
       " 487443403,\n",
       " 489303872,\n",
       " 491169069,\n",
       " 493039000,\n",
       " 494913671,\n",
       " 496793088,\n",
       " 498677257,\n",
       " 500566184,\n",
       " 502459875,\n",
       " 504358336,\n",
       " 506261573,\n",
       " 508169592,\n",
       " 510082399,\n",
       " 512000000,\n",
       " 513922401,\n",
       " 515849608,\n",
       " 517781627,\n",
       " 519718464,\n",
       " 521660125,\n",
       " 523606616,\n",
       " 525557943,\n",
       " 527514112,\n",
       " 529475129,\n",
       " 531441000,\n",
       " 533411731,\n",
       " 535387328,\n",
       " 537367797,\n",
       " 539353144,\n",
       " 541343375,\n",
       " 543338496,\n",
       " 545338513,\n",
       " 547343432,\n",
       " 549353259,\n",
       " 551368000,\n",
       " 553387661,\n",
       " 555412248,\n",
       " 557441767,\n",
       " 559476224,\n",
       " 561515625,\n",
       " 563559976,\n",
       " 565609283,\n",
       " 567663552,\n",
       " 569722789,\n",
       " 571787000,\n",
       " 573856191,\n",
       " 575930368,\n",
       " 578009537,\n",
       " 580093704,\n",
       " 582182875,\n",
       " 584277056,\n",
       " 586376253,\n",
       " 588480472,\n",
       " 590589719,\n",
       " 592704000,\n",
       " 594823321,\n",
       " 596947688,\n",
       " 599077107,\n",
       " 601211584,\n",
       " 603351125,\n",
       " 605495736,\n",
       " 607645423,\n",
       " 609800192,\n",
       " 611960049,\n",
       " 614125000,\n",
       " 616295051,\n",
       " 618470208,\n",
       " 620650477,\n",
       " 622835864,\n",
       " 625026375,\n",
       " 627222016,\n",
       " 629422793,\n",
       " 631628712,\n",
       " 633839779,\n",
       " 636056000,\n",
       " 638277381,\n",
       " 640503928,\n",
       " 642735647,\n",
       " 644972544,\n",
       " 647214625,\n",
       " 649461896,\n",
       " 651714363,\n",
       " 653972032,\n",
       " 656234909,\n",
       " 658503000,\n",
       " 660776311,\n",
       " 663054848,\n",
       " 665338617,\n",
       " 667627624,\n",
       " 669921875,\n",
       " 672221376,\n",
       " 674526133,\n",
       " 676836152,\n",
       " 679151439,\n",
       " 681472000,\n",
       " 683797841,\n",
       " 686128968,\n",
       " 688465387,\n",
       " 690807104,\n",
       " 693154125,\n",
       " 695506456,\n",
       " 697864103,\n",
       " 700227072,\n",
       " 702595369,\n",
       " 704969000,\n",
       " 707347971,\n",
       " 709732288,\n",
       " 712121957,\n",
       " 714516984,\n",
       " 716917375,\n",
       " 719323136,\n",
       " 721734273,\n",
       " 724150792,\n",
       " 726572699,\n",
       " 729000000,\n",
       " 731432701,\n",
       " 733870808,\n",
       " 736314327,\n",
       " 738763264,\n",
       " 741217625,\n",
       " 743677416,\n",
       " 746142643,\n",
       " 748613312,\n",
       " 751089429,\n",
       " 753571000,\n",
       " 756058031,\n",
       " 758550528,\n",
       " 761048497,\n",
       " 763551944,\n",
       " 766060875,\n",
       " 768575296,\n",
       " 771095213,\n",
       " 773620632,\n",
       " 776151559,\n",
       " 778688000,\n",
       " 781229961,\n",
       " 783777448,\n",
       " 786330467,\n",
       " 788889024,\n",
       " 791453125,\n",
       " 794022776,\n",
       " 796597983,\n",
       " 799178752,\n",
       " 801765089,\n",
       " 804357000,\n",
       " 806954491,\n",
       " 809557568,\n",
       " 812166237,\n",
       " 814780504,\n",
       " 817400375,\n",
       " 820025856,\n",
       " 822656953,\n",
       " 825293672,\n",
       " 827936019,\n",
       " 830584000,\n",
       " 833237621,\n",
       " 835896888,\n",
       " 838561807,\n",
       " 841232384,\n",
       " 843908625,\n",
       " 846590536,\n",
       " 849278123,\n",
       " 851971392,\n",
       " 854670349,\n",
       " 857375000,\n",
       " 860085351,\n",
       " 862801408,\n",
       " 865523177,\n",
       " 868250664,\n",
       " 870983875,\n",
       " 873722816,\n",
       " 876467493,\n",
       " 879217912,\n",
       " 881974079,\n",
       " 884736000,\n",
       " 887503681,\n",
       " 890277128,\n",
       " 893056347,\n",
       " 895841344,\n",
       " 898632125,\n",
       " 901428696,\n",
       " 904231063,\n",
       " 907039232,\n",
       " 909853209,\n",
       " 912673000,\n",
       " 915498611,\n",
       " 918330048,\n",
       " 921167317,\n",
       " 924010424,\n",
       " 926859375,\n",
       " 929714176,\n",
       " 932574833,\n",
       " 935441352,\n",
       " 938313739,\n",
       " 941192000,\n",
       " 944076141,\n",
       " 946966168,\n",
       " 949862087,\n",
       " 952763904,\n",
       " 955671625,\n",
       " 958585256,\n",
       " 961504803,\n",
       " 964430272,\n",
       " 967361669,\n",
       " 970299000,\n",
       " 973242271,\n",
       " 976191488,\n",
       " 979146657,\n",
       " 982107784,\n",
       " 985074875,\n",
       " 988047936,\n",
       " 991026973,\n",
       " 994011992,\n",
       " 997002999,\n",
       " ...]"
      ]
     },
     "execution_count": 188,
     "metadata": {},
     "output_type": "execute_result"
    }
   ],
   "source": [
    "test5(600000)"
   ]
  },
  {
   "cell_type": "code",
   "execution_count": 190,
   "id": "867f7b8b",
   "metadata": {},
   "outputs": [],
   "source": [
    "def test7(n):\n",
    "    for i in range(n):\n",
    "        yield i**3"
   ]
  },
  {
   "cell_type": "code",
   "execution_count": 191,
   "id": "4f6c6786",
   "metadata": {},
   "outputs": [
    {
     "data": {
      "text/plain": [
       "<generator object test7 at 0x000002A7FD175BA0>"
      ]
     },
     "execution_count": 191,
     "metadata": {},
     "output_type": "execute_result"
    }
   ],
   "source": [
    "test7(6)"
   ]
  },
  {
   "cell_type": "code",
   "execution_count": 192,
   "id": "09bf8a3e",
   "metadata": {},
   "outputs": [
    {
     "data": {
      "text/plain": [
       "range(0, 20)"
      ]
     },
     "execution_count": 192,
     "metadata": {},
     "output_type": "execute_result"
    }
   ],
   "source": [
    "range(20)"
   ]
  },
  {
   "cell_type": "code",
   "execution_count": 193,
   "id": "3e881c6f",
   "metadata": {},
   "outputs": [
    {
     "data": {
      "text/plain": [
       "[0, 1, 2, 3, 4, 5, 6, 7, 8, 9, 10, 11, 12, 13, 14, 15, 16, 17, 18, 19]"
      ]
     },
     "execution_count": 193,
     "metadata": {},
     "output_type": "execute_result"
    }
   ],
   "source": [
    "list(range(20))"
   ]
  },
  {
   "cell_type": "code",
   "execution_count": 194,
   "id": "fef0aa72",
   "metadata": {},
   "outputs": [
    {
     "name": "stdout",
     "output_type": "stream",
     "text": [
      "0\n",
      "1\n",
      "2\n",
      "3\n",
      "4\n",
      "5\n",
      "6\n",
      "7\n",
      "8\n",
      "9\n",
      "10\n",
      "11\n",
      "12\n",
      "13\n",
      "14\n",
      "15\n",
      "16\n",
      "17\n",
      "18\n",
      "19\n"
     ]
    }
   ],
   "source": [
    "for i in range(20):\n",
    "    print(i)"
   ]
  },
  {
   "cell_type": "code",
   "execution_count": 197,
   "id": "c1376422",
   "metadata": {},
   "outputs": [
    {
     "name": "stdout",
     "output_type": "stream",
     "text": [
      "0\n",
      "1\n",
      "8\n",
      "27\n",
      "64\n",
      "125\n",
      "216\n",
      "343\n",
      "512\n",
      "729\n",
      "1000\n",
      "1331\n",
      "1728\n",
      "2197\n",
      "2744\n",
      "3375\n",
      "4096\n",
      "4913\n",
      "5832\n",
      "6859\n",
      "8000\n",
      "9261\n",
      "10648\n",
      "12167\n",
      "13824\n",
      "15625\n",
      "17576\n",
      "19683\n",
      "21952\n",
      "24389\n"
     ]
    }
   ],
   "source": [
    "for i in test5(30):\n",
    "    print(i)\n",
    "    "
   ]
  },
  {
   "cell_type": "code",
   "execution_count": 210,
   "id": "8da3171a",
   "metadata": {},
   "outputs": [],
   "source": [
    "def fibnonacci(n):\n",
    "    x=1\n",
    "    y=1\n",
    "    output=[]\n",
    "    for i in range(n):\n",
    "        output.append(x)\n",
    "        x,y = y, x+y\n",
    "    return output"
   ]
  },
  {
   "cell_type": "code",
   "execution_count": 211,
   "id": "3ae007db",
   "metadata": {},
   "outputs": [
    {
     "data": {
      "text/plain": [
       "[1, 1, 2, 3, 5, 8, 13, 21, 34, 55]"
      ]
     },
     "execution_count": 211,
     "metadata": {},
     "output_type": "execute_result"
    }
   ],
   "source": [
    "fibnonacci(10)"
   ]
  },
  {
   "cell_type": "code",
   "execution_count": 212,
   "id": "202f8efa",
   "metadata": {},
   "outputs": [],
   "source": [
    "def fibnonacci(n):\n",
    "    x=1\n",
    "    y=1\n",
    "    output=[]\n",
    "    for i in range(n):\n",
    "        yield x\n",
    "        x,y =y, x+y\n",
    "        \n",
    "   "
   ]
  },
  {
   "cell_type": "code",
   "execution_count": 213,
   "id": "65e3f0c7",
   "metadata": {},
   "outputs": [
    {
     "data": {
      "text/plain": [
       "<generator object fibnonacci at 0x000002A7FF0D2F20>"
      ]
     },
     "execution_count": 213,
     "metadata": {},
     "output_type": "execute_result"
    }
   ],
   "source": [
    "fibnonacci(10)"
   ]
  },
  {
   "cell_type": "code",
   "execution_count": 215,
   "id": "df912e10",
   "metadata": {},
   "outputs": [
    {
     "name": "stdout",
     "output_type": "stream",
     "text": [
      "1\n",
      "1\n",
      "2\n",
      "3\n",
      "5\n",
      "8\n",
      "13\n",
      "21\n",
      "34\n",
      "55\n"
     ]
    }
   ],
   "source": [
    "for i in fibnonacci(10):\n",
    "    print(i)"
   ]
  },
  {
   "cell_type": "code",
   "execution_count": null,
   "id": "7729ffae",
   "metadata": {},
   "outputs": [],
   "source": []
  }
 ],
 "metadata": {
  "kernelspec": {
   "display_name": "Python 3",
   "language": "python",
   "name": "python3"
  }
 },
 "nbformat": 4,
 "nbformat_minor": 5
}
