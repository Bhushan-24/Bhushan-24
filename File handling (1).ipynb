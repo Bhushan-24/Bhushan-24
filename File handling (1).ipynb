{
 "cells": [
  {
   "cell_type": "markdown",
   "id": "acecf3a8",
   "metadata": {},
   "source": [
    "#### File handling"
   ]
  },
  {
   "cell_type": "code",
   "execution_count": 5,
   "id": "c5460a5f",
   "metadata": {},
   "outputs": [],
   "source": [
    "f=open(\"KrishNaik.txt\",\"w\")"
   ]
  },
  {
   "cell_type": "code",
   "execution_count": 6,
   "id": "248138e1",
   "metadata": {},
   "outputs": [
    {
     "data": {
      "text/plain": [
       "13"
      ]
     },
     "execution_count": 6,
     "metadata": {},
     "output_type": "execute_result"
    }
   ],
   "source": [
    "f.write(\"rIam learning\")"
   ]
  },
  {
   "cell_type": "code",
   "execution_count": 7,
   "id": "dfa19b4a",
   "metadata": {},
   "outputs": [],
   "source": [
    "f.close()"
   ]
  },
  {
   "cell_type": "code",
   "execution_count": 10,
   "id": "52de667c",
   "metadata": {},
   "outputs": [],
   "source": [
    "f=open(\"KrishNaik.txt\")"
   ]
  },
  {
   "cell_type": "code",
   "execution_count": 11,
   "id": "e02e6203",
   "metadata": {},
   "outputs": [
    {
     "data": {
      "text/plain": [
       "'rIam learning'"
      ]
     },
     "execution_count": 11,
     "metadata": {},
     "output_type": "execute_result"
    }
   ],
   "source": [
    "f.read()"
   ]
  },
  {
   "cell_type": "code",
   "execution_count": 12,
   "id": "58601f72",
   "metadata": {},
   "outputs": [
    {
     "data": {
      "text/plain": [
       "''"
      ]
     },
     "execution_count": 12,
     "metadata": {},
     "output_type": "execute_result"
    }
   ],
   "source": [
    "f.read()"
   ]
  },
  {
   "cell_type": "code",
   "execution_count": 13,
   "id": "4215c04f",
   "metadata": {},
   "outputs": [
    {
     "data": {
      "text/plain": [
       "10"
      ]
     },
     "execution_count": 13,
     "metadata": {},
     "output_type": "execute_result"
    }
   ],
   "source": [
    "f.seek(10)"
   ]
  },
  {
   "cell_type": "code",
   "execution_count": 14,
   "id": "1803be25",
   "metadata": {},
   "outputs": [
    {
     "data": {
      "text/plain": [
       "'ing'"
      ]
     },
     "execution_count": 14,
     "metadata": {},
     "output_type": "execute_result"
    }
   ],
   "source": [
    "f.read()"
   ]
  },
  {
   "cell_type": "code",
   "execution_count": 15,
   "id": "4eba91ad",
   "metadata": {},
   "outputs": [
    {
     "data": {
      "text/plain": [
       "0"
      ]
     },
     "execution_count": 15,
     "metadata": {},
     "output_type": "execute_result"
    }
   ],
   "source": [
    "f.seek(0)"
   ]
  },
  {
   "cell_type": "code",
   "execution_count": 16,
   "id": "5bd1b4e9",
   "metadata": {},
   "outputs": [
    {
     "data": {
      "text/plain": [
       "'rIam learning'"
      ]
     },
     "execution_count": 16,
     "metadata": {},
     "output_type": "execute_result"
    }
   ],
   "source": [
    "f.read()"
   ]
  },
  {
   "cell_type": "code",
   "execution_count": 17,
   "id": "2452159d",
   "metadata": {},
   "outputs": [],
   "source": [
    "f=open(\"KrishNaik.txt\",'r')"
   ]
  },
  {
   "cell_type": "code",
   "execution_count": 19,
   "id": "54f617f6",
   "metadata": {},
   "outputs": [
    {
     "ename": "UnsupportedOperation",
     "evalue": "not writable",
     "output_type": "error",
     "traceback": [
      "\u001b[1;31m---------------------------------------------------------------------------\u001b[0m",
      "\u001b[1;31mUnsupportedOperation\u001b[0m                      Traceback (most recent call last)",
      "\u001b[1;32m<ipython-input-19-1ed46ac91246>\u001b[0m in \u001b[0;36m<module>\u001b[1;34m\u001b[0m\n\u001b[1;32m----> 1\u001b[1;33m \u001b[0mf\u001b[0m\u001b[1;33m.\u001b[0m\u001b[0mwrite\u001b[0m\u001b[1;33m(\u001b[0m\u001b[1;34m\"wellcome\"\u001b[0m\u001b[1;33m)\u001b[0m\u001b[1;33m\u001b[0m\u001b[1;33m\u001b[0m\u001b[0m\n\u001b[0m",
      "\u001b[1;31mUnsupportedOperation\u001b[0m: not writable"
     ]
    }
   ],
   "source": [
    "f.write(\"wellcome\")"
   ]
  },
  {
   "cell_type": "code",
   "execution_count": 20,
   "id": "320038d5",
   "metadata": {},
   "outputs": [
    {
     "data": {
      "text/plain": [
       "'rIam learning'"
      ]
     },
     "execution_count": 20,
     "metadata": {},
     "output_type": "execute_result"
    }
   ],
   "source": [
    "f.read()"
   ]
  },
  {
   "cell_type": "code",
   "execution_count": 21,
   "id": "00984fb6",
   "metadata": {},
   "outputs": [
    {
     "data": {
      "text/plain": [
       "0"
      ]
     },
     "execution_count": 21,
     "metadata": {},
     "output_type": "execute_result"
    }
   ],
   "source": [
    "f.seek(0)"
   ]
  },
  {
   "cell_type": "code",
   "execution_count": 22,
   "id": "7f849c68",
   "metadata": {},
   "outputs": [
    {
     "data": {
      "text/plain": [
       "'rIam learning'"
      ]
     },
     "execution_count": 22,
     "metadata": {},
     "output_type": "execute_result"
    }
   ],
   "source": [
    "f.read(25)"
   ]
  },
  {
   "cell_type": "code",
   "execution_count": 23,
   "id": "7343bb39",
   "metadata": {},
   "outputs": [],
   "source": [
    "f.close()"
   ]
  },
  {
   "cell_type": "code",
   "execution_count": 25,
   "id": "0850fa16",
   "metadata": {},
   "outputs": [
    {
     "ename": "ValueError",
     "evalue": "I/O operation on closed file.",
     "output_type": "error",
     "traceback": [
      "\u001b[1;31m---------------------------------------------------------------------------\u001b[0m",
      "\u001b[1;31mValueError\u001b[0m                                Traceback (most recent call last)",
      "\u001b[1;32m<ipython-input-25-571e9fb02258>\u001b[0m in \u001b[0;36m<module>\u001b[1;34m\u001b[0m\n\u001b[1;32m----> 1\u001b[1;33m \u001b[0mf\u001b[0m\u001b[1;33m.\u001b[0m\u001b[0mread\u001b[0m\u001b[1;33m(\u001b[0m\u001b[1;33m)\u001b[0m\u001b[1;33m\u001b[0m\u001b[1;33m\u001b[0m\u001b[0m\n\u001b[0m",
      "\u001b[1;31mValueError\u001b[0m: I/O operation on closed file."
     ]
    }
   ],
   "source": [
    "f.read()"
   ]
  },
  {
   "cell_type": "code",
   "execution_count": 27,
   "id": "4d1a107e",
   "metadata": {},
   "outputs": [],
   "source": [
    "f=open(\"KrishNaik.txt\",'w')"
   ]
  },
  {
   "cell_type": "code",
   "execution_count": 28,
   "id": "b5a8b3fc",
   "metadata": {},
   "outputs": [
    {
     "data": {
      "text/plain": [
       "46"
      ]
     },
     "execution_count": 28,
     "metadata": {},
     "output_type": "execute_result"
    }
   ],
   "source": [
    "f.write(\"iam learning Full stack datascience in INeuron\")"
   ]
  },
  {
   "cell_type": "code",
   "execution_count": 29,
   "id": "3327eaa3",
   "metadata": {},
   "outputs": [],
   "source": [
    "f.close()"
   ]
  },
  {
   "cell_type": "code",
   "execution_count": 30,
   "id": "f3689e39",
   "metadata": {},
   "outputs": [],
   "source": [
    "f=open(\"KrishNaik.txt\",'a')"
   ]
  },
  {
   "cell_type": "code",
   "execution_count": 31,
   "id": "3035cd08",
   "metadata": {},
   "outputs": [
    {
     "data": {
      "text/plain": [
       "31"
      ]
     },
     "execution_count": 31,
     "metadata": {},
     "output_type": "execute_result"
    }
   ],
   "source": [
    "f.write(\"iam start learning Data science\")"
   ]
  },
  {
   "cell_type": "code",
   "execution_count": 32,
   "id": "9079a4de",
   "metadata": {},
   "outputs": [],
   "source": [
    "f.close()"
   ]
  },
  {
   "cell_type": "code",
   "execution_count": 33,
   "id": "3eb17706",
   "metadata": {},
   "outputs": [],
   "source": [
    "f=open(\"text1.txt\",'wb')"
   ]
  },
  {
   "cell_type": "code",
   "execution_count": 34,
   "id": "4145ba26",
   "metadata": {},
   "outputs": [
    {
     "ename": "TypeError",
     "evalue": "a bytes-like object is required, not 'str'",
     "output_type": "error",
     "traceback": [
      "\u001b[1;31m---------------------------------------------------------------------------\u001b[0m",
      "\u001b[1;31mTypeError\u001b[0m                                 Traceback (most recent call last)",
      "\u001b[1;32m<ipython-input-34-a80e52e69415>\u001b[0m in \u001b[0;36m<module>\u001b[1;34m\u001b[0m\n\u001b[1;32m----> 1\u001b[1;33m \u001b[0mf\u001b[0m\u001b[1;33m.\u001b[0m\u001b[0mwrite\u001b[0m\u001b[1;33m(\u001b[0m\u001b[1;34m\"Iam python developer\"\u001b[0m\u001b[1;33m)\u001b[0m\u001b[1;33m\u001b[0m\u001b[1;33m\u001b[0m\u001b[0m\n\u001b[0m",
      "\u001b[1;31mTypeError\u001b[0m: a bytes-like object is required, not 'str'"
     ]
    }
   ],
   "source": [
    "f.write(\"Iam python developer\")"
   ]
  },
  {
   "cell_type": "code",
   "execution_count": 36,
   "id": "b58b477d",
   "metadata": {},
   "outputs": [
    {
     "data": {
      "text/plain": [
       "29"
      ]
     },
     "execution_count": 36,
     "metadata": {},
     "output_type": "execute_result"
    }
   ],
   "source": [
    "f.write(b\"Iam Full stack Data scientist\")"
   ]
  },
  {
   "cell_type": "code",
   "execution_count": 37,
   "id": "67497d2a",
   "metadata": {},
   "outputs": [],
   "source": [
    "f.close()"
   ]
  },
  {
   "cell_type": "code",
   "execution_count": 38,
   "id": "36550a19",
   "metadata": {},
   "outputs": [],
   "source": [
    "f=open(\"text1.txt\",'r')"
   ]
  },
  {
   "cell_type": "code",
   "execution_count": 39,
   "id": "85542672",
   "metadata": {},
   "outputs": [
    {
     "data": {
      "text/plain": [
       "'Iam Full stack Data scientist'"
      ]
     },
     "execution_count": 39,
     "metadata": {},
     "output_type": "execute_result"
    }
   ],
   "source": [
    "f.read()"
   ]
  },
  {
   "cell_type": "code",
   "execution_count": 42,
   "id": "bca7dff1",
   "metadata": {},
   "outputs": [
    {
     "data": {
      "text/plain": [
       "2"
      ]
     },
     "execution_count": 42,
     "metadata": {},
     "output_type": "execute_result"
    }
   ],
   "source": [
    "f.seek(2)"
   ]
  },
  {
   "cell_type": "code",
   "execution_count": 43,
   "id": "3df60552",
   "metadata": {},
   "outputs": [
    {
     "data": {
      "text/plain": [
       "'m'"
      ]
     },
     "execution_count": 43,
     "metadata": {},
     "output_type": "execute_result"
    }
   ],
   "source": [
    "f.read(1)"
   ]
  },
  {
   "cell_type": "code",
   "execution_count": 44,
   "id": "7c4980fc",
   "metadata": {},
   "outputs": [
    {
     "ename": "UnsupportedOperation",
     "evalue": "can't do nonzero end-relative seeks",
     "output_type": "error",
     "traceback": [
      "\u001b[1;31m---------------------------------------------------------------------------\u001b[0m",
      "\u001b[1;31mUnsupportedOperation\u001b[0m                      Traceback (most recent call last)",
      "\u001b[1;32m<ipython-input-44-868646d6663b>\u001b[0m in \u001b[0;36m<module>\u001b[1;34m\u001b[0m\n\u001b[1;32m----> 1\u001b[1;33m \u001b[0mf\u001b[0m\u001b[1;33m.\u001b[0m\u001b[0mseek\u001b[0m\u001b[1;33m(\u001b[0m\u001b[1;33m-\u001b[0m\u001b[1;36m3\u001b[0m\u001b[1;33m,\u001b[0m\u001b[1;36m2\u001b[0m\u001b[1;33m)\u001b[0m\u001b[1;33m\u001b[0m\u001b[1;33m\u001b[0m\u001b[0m\n\u001b[0m",
      "\u001b[1;31mUnsupportedOperation\u001b[0m: can't do nonzero end-relative seeks"
     ]
    }
   ],
   "source": [
    "f.seek(-3,2)"
   ]
  },
  {
   "cell_type": "code",
   "execution_count": 45,
   "id": "cb332ffa",
   "metadata": {},
   "outputs": [],
   "source": [
    "f=open(\"text1.txt\",'rb')"
   ]
  },
  {
   "cell_type": "code",
   "execution_count": 46,
   "id": "ecc34590",
   "metadata": {},
   "outputs": [
    {
     "data": {
      "text/plain": [
       "b'Iam Full stack Data scientist'"
      ]
     },
     "execution_count": 46,
     "metadata": {},
     "output_type": "execute_result"
    }
   ],
   "source": [
    "f.read()"
   ]
  },
  {
   "cell_type": "code",
   "execution_count": 47,
   "id": "c30467f0",
   "metadata": {},
   "outputs": [
    {
     "data": {
      "text/plain": [
       "2"
      ]
     },
     "execution_count": 47,
     "metadata": {},
     "output_type": "execute_result"
    }
   ],
   "source": [
    "f.seek(2)"
   ]
  },
  {
   "cell_type": "code",
   "execution_count": 48,
   "id": "5bf5f750",
   "metadata": {},
   "outputs": [
    {
     "data": {
      "text/plain": [
       "b'm'"
      ]
     },
     "execution_count": 48,
     "metadata": {},
     "output_type": "execute_result"
    }
   ],
   "source": [
    "f.read(1)"
   ]
  },
  {
   "cell_type": "code",
   "execution_count": 49,
   "id": "737a4eac",
   "metadata": {},
   "outputs": [
    {
     "data": {
      "text/plain": [
       "26"
      ]
     },
     "execution_count": 49,
     "metadata": {},
     "output_type": "execute_result"
    }
   ],
   "source": [
    "f.seek(-3,2)"
   ]
  },
  {
   "cell_type": "code",
   "execution_count": 50,
   "id": "539bd3fd",
   "metadata": {},
   "outputs": [
    {
     "data": {
      "text/plain": [
       "25"
      ]
     },
     "execution_count": 50,
     "metadata": {},
     "output_type": "execute_result"
    }
   ],
   "source": [
    "f.seek(-4,2)"
   ]
  },
  {
   "cell_type": "code",
   "execution_count": 51,
   "id": "d123d655",
   "metadata": {},
   "outputs": [],
   "source": [
    "f=open(\"text.txt\",\"w\")"
   ]
  },
  {
   "cell_type": "code",
   "execution_count": 52,
   "id": "90d763c1",
   "metadata": {},
   "outputs": [
    {
     "data": {
      "text/plain": [
       "5"
      ]
     },
     "execution_count": 52,
     "metadata": {},
     "output_type": "execute_result"
    }
   ],
   "source": [
    "f.write(\"hello\")"
   ]
  },
  {
   "cell_type": "code",
   "execution_count": 53,
   "id": "115ae257",
   "metadata": {},
   "outputs": [],
   "source": [
    "f.close()"
   ]
  },
  {
   "cell_type": "code",
   "execution_count": 54,
   "id": "ff3cfe60",
   "metadata": {},
   "outputs": [],
   "source": [
    "f=open(\"text.txt\",\"r\")"
   ]
  },
  {
   "cell_type": "code",
   "execution_count": 57,
   "id": "ffac9d6e",
   "metadata": {},
   "outputs": [
    {
     "data": {
      "text/plain": [
       "''"
      ]
     },
     "execution_count": 57,
     "metadata": {},
     "output_type": "execute_result"
    }
   ],
   "source": [
    "f.read()"
   ]
  },
  {
   "cell_type": "code",
   "execution_count": 58,
   "id": "4fb3fa27",
   "metadata": {},
   "outputs": [
    {
     "data": {
      "text/plain": [
       "0"
      ]
     },
     "execution_count": 58,
     "metadata": {},
     "output_type": "execute_result"
    }
   ],
   "source": [
    "f.seek(0)"
   ]
  },
  {
   "cell_type": "code",
   "execution_count": 59,
   "id": "553ddb6f",
   "metadata": {},
   "outputs": [
    {
     "data": {
      "text/plain": [
       "'hello'"
      ]
     },
     "execution_count": 59,
     "metadata": {},
     "output_type": "execute_result"
    }
   ],
   "source": [
    "f.readline()"
   ]
  },
  {
   "cell_type": "code",
   "execution_count": 60,
   "id": "873b04d2",
   "metadata": {},
   "outputs": [],
   "source": [
    "f.close()"
   ]
  },
  {
   "cell_type": "code",
   "execution_count": 61,
   "id": "21274d35",
   "metadata": {},
   "outputs": [],
   "source": [
    "f=open(\"text.txt\",\"r\")"
   ]
  },
  {
   "cell_type": "code",
   "execution_count": 62,
   "id": "d2dcb048",
   "metadata": {},
   "outputs": [
    {
     "name": "stdout",
     "output_type": "stream",
     "text": [
      "hello\n"
     ]
    }
   ],
   "source": [
    "for i in f:\n",
    "    print(i)"
   ]
  },
  {
   "cell_type": "code",
   "execution_count": 63,
   "id": "ecd01e7e",
   "metadata": {},
   "outputs": [],
   "source": [
    "for i in f:\n",
    "    print(i, end=\" \")"
   ]
  },
  {
   "cell_type": "code",
   "execution_count": 64,
   "id": "868826c3",
   "metadata": {},
   "outputs": [],
   "source": [
    "f.close()"
   ]
  },
  {
   "cell_type": "code",
   "execution_count": 65,
   "id": "e3daf84c",
   "metadata": {},
   "outputs": [],
   "source": [
    "f=open(\"text.txt\",'r')"
   ]
  },
  {
   "cell_type": "code",
   "execution_count": 66,
   "id": "6ecc9612",
   "metadata": {},
   "outputs": [
    {
     "data": {
      "text/plain": [
       "['hello']"
      ]
     },
     "execution_count": 66,
     "metadata": {},
     "output_type": "execute_result"
    }
   ],
   "source": [
    "list(f)"
   ]
  },
  {
   "cell_type": "code",
   "execution_count": 69,
   "id": "9a2bedaf",
   "metadata": {},
   "outputs": [],
   "source": [
    "f=open(\"text1.txt\",'r+')"
   ]
  },
  {
   "cell_type": "code",
   "execution_count": 72,
   "id": "56b106c8",
   "metadata": {},
   "outputs": [],
   "source": [
    "f.writelines(\"hi\")"
   ]
  },
  {
   "cell_type": "code",
   "execution_count": 73,
   "id": "0f101800",
   "metadata": {},
   "outputs": [],
   "source": [
    "f.close()"
   ]
  },
  {
   "cell_type": "code",
   "execution_count": 81,
   "id": "231f0dfa",
   "metadata": {},
   "outputs": [],
   "source": [
    "f=open(\"text1.txt\",'r+')"
   ]
  },
  {
   "cell_type": "code",
   "execution_count": 82,
   "id": "4d7fe3be",
   "metadata": {},
   "outputs": [
    {
     "data": {
      "text/plain": [
       "5"
      ]
     },
     "execution_count": 82,
     "metadata": {},
     "output_type": "execute_result"
    }
   ],
   "source": [
    "f.fileno()"
   ]
  },
  {
   "cell_type": "code",
   "execution_count": 84,
   "id": "f46279f2",
   "metadata": {},
   "outputs": [
    {
     "name": "stdout",
     "output_type": "stream",
     "text": [
      "Writing text5.txt\n"
     ]
    }
   ],
   "source": [
    "%%writefile text5.txt\n",
    "my name is bhushan"
   ]
  },
  {
   "cell_type": "code",
   "execution_count": 1,
   "id": "91cf0823",
   "metadata": {},
   "outputs": [],
   "source": [
    "import os"
   ]
  },
  {
   "cell_type": "code",
   "execution_count": 2,
   "id": "37dfec01",
   "metadata": {},
   "outputs": [
    {
     "data": {
      "text/plain": [
       "'C:\\\\Users\\\\vasudha'"
      ]
     },
     "execution_count": 2,
     "metadata": {},
     "output_type": "execute_result"
    }
   ],
   "source": [
    "pwd"
   ]
  },
  {
   "cell_type": "code",
   "execution_count": 3,
   "id": "e7e69671",
   "metadata": {},
   "outputs": [
    {
     "data": {
      "text/plain": [
       "'C:\\\\Users\\\\vasudha'"
      ]
     },
     "execution_count": 3,
     "metadata": {},
     "output_type": "execute_result"
    }
   ],
   "source": [
    "os.getcwd()"
   ]
  },
  {
   "cell_type": "code",
   "execution_count": 10,
   "id": "056ca0cc",
   "metadata": {},
   "outputs": [
    {
     "data": {
      "text/plain": [
       "['.cache',\n",
       " '.conda',\n",
       " '.condarc',\n",
       " '.continuum',\n",
       " '.cufflinks',\n",
       " '.cvlib',\n",
       " '.deepface',\n",
       " '.idlerc',\n",
       " '.ipynb_checkpoints',\n",
       " '.ipython',\n",
       " '.jupyter',\n",
       " '.keras',\n",
       " '.kivy',\n",
       " '.matplotlib',\n",
       " '.opera',\n",
       " '.pipwin',\n",
       " '.pyforest',\n",
       " '.spyder-py3',\n",
       " '.streamlit',\n",
       " '.vscode',\n",
       " '3D Objects',\n",
       " 'anaconda3',\n",
       " 'AppData',\n",
       " 'Application Data',\n",
       " 'application_log.txt',\n",
       " 'Bank.csv',\n",
       " 'Contacts',\n",
       " 'Cookies',\n",
       " 'dask-worker-space',\n",
       " 'DataPreprocessing.csv',\n",
       " 'diabetes_csv.csv',\n",
       " 'Documents',\n",
       " 'Downloads',\n",
       " 'DP.ipynb',\n",
       " 'Favorites',\n",
       " 'File handling.ipynb',\n",
       " 'functions .ipynb',\n",
       " 'Functions Part-2.ipynb',\n",
       " 'Functions.ipynb',\n",
       " 'Hands on Functions.ipynb',\n",
       " 'Heart disease prediction .ipynb',\n",
       " 'heart.csv',\n",
       " 'IntelGraphicsProfiles',\n",
       " 'KrishNaik.txt',\n",
       " 'Links',\n",
       " 'Local Settings',\n",
       " 'Log_ROC.png',\n",
       " 'lung-cancer.csv',\n",
       " 'Medical Detection Using Machine Learning.ipynb',\n",
       " 'Medical Detection.csv',\n",
       " 'Music',\n",
       " 'My Documents',\n",
       " 'NetHood',\n",
       " 'NTUSER.DAT',\n",
       " 'ntuser.dat.LOG1',\n",
       " 'ntuser.dat.LOG2',\n",
       " 'NTUSER.DAT{6b582381-8277-11ec-97ad-cd1ce5815db3}.TM.blf',\n",
       " 'NTUSER.DAT{6b582381-8277-11ec-97ad-cd1ce5815db3}.TMContainer00000000000000000001.regtrans-ms',\n",
       " 'NTUSER.DAT{6b582381-8277-11ec-97ad-cd1ce5815db3}.TMContainer00000000000000000002.regtrans-ms',\n",
       " 'ntuser.ini',\n",
       " 'OneDrive',\n",
       " 'open-source-logos2x.png',\n",
       " 'Pictures',\n",
       " 'PrintHood',\n",
       " 'Python Basic  Assignment-11.ipynb',\n",
       " 'Python Basic Assignment-10.ipynb',\n",
       " 'Python Basic Assignment-11.ipynb',\n",
       " 'python Basic Assignment-6.ipynb',\n",
       " 'Python Basic Assignment-7.ipynb',\n",
       " 'Python Basic Assignment-8.ipynb',\n",
       " 'Python Basic Assignment-9.ipynb',\n",
       " 'Python Function Part-2.ipynb',\n",
       " 'Python Programming.ipynb',\n",
       " 'PYTHON-FUNCTIONS.ipynb',\n",
       " 'Recent',\n",
       " 'sample.text',\n",
       " 'Saved Games',\n",
       " 'seaborn-data',\n",
       " 'Searches',\n",
       " 'SendTo',\n",
       " 'Start Menu',\n",
       " 'Templates',\n",
       " 'text.txt',\n",
       " 'text1.txt',\n",
       " 'text5.txt',\n",
       " 'Untitled Folder',\n",
       " 'Untitled.ipynb',\n",
       " 'Untitled1.ipynb',\n",
       " 'Untitled10.ipynb',\n",
       " 'Untitled11.ipynb',\n",
       " 'Untitled12.ipynb',\n",
       " 'Untitled13.ipynb',\n",
       " 'Untitled14.ipynb',\n",
       " 'Untitled15.ipynb',\n",
       " 'Untitled16.ipynb',\n",
       " 'Untitled17.ipynb',\n",
       " 'Untitled18.ipynb',\n",
       " 'Untitled19.ipynb',\n",
       " 'Untitled2.ipynb',\n",
       " 'Untitled20.ipynb',\n",
       " 'Untitled21.ipynb',\n",
       " 'Untitled22.ipynb',\n",
       " 'Untitled23.ipynb',\n",
       " 'Untitled24.ipynb',\n",
       " 'Untitled3.ipynb',\n",
       " 'Untitled4.ipynb',\n",
       " 'Untitled5.ipynb',\n",
       " 'Untitled6.ipynb',\n",
       " 'Untitled7.ipynb',\n",
       " 'Untitled8.ipynb',\n",
       " 'Untitled9.ipynb',\n",
       " 'Videos',\n",
       " '__pycache__']"
      ]
     },
     "execution_count": 10,
     "metadata": {},
     "output_type": "execute_result"
    }
   ],
   "source": [
    "os.listdir()"
   ]
  },
  {
   "cell_type": "code",
   "execution_count": 6,
   "id": "5b168155",
   "metadata": {},
   "outputs": [
    {
     "data": {
      "text/plain": [
       "['.cache',\n",
       " '.conda',\n",
       " '.condarc',\n",
       " '.continuum',\n",
       " '.cufflinks',\n",
       " '.cvlib',\n",
       " '.deepface',\n",
       " '.idlerc',\n",
       " '.ipynb_checkpoints',\n",
       " '.ipython',\n",
       " '.jupyter',\n",
       " '.keras',\n",
       " '.kivy',\n",
       " '.matplotlib',\n",
       " '.opera',\n",
       " '.pipwin',\n",
       " '.pyforest',\n",
       " '.spyder-py3',\n",
       " '.streamlit',\n",
       " '.vscode',\n",
       " '3D Objects',\n",
       " 'anaconda3',\n",
       " 'AppData',\n",
       " 'Application Data',\n",
       " 'application_log.txt',\n",
       " 'Bank.csv',\n",
       " 'Contacts',\n",
       " 'Cookies',\n",
       " 'dask-worker-space',\n",
       " 'DataPreprocessing.csv',\n",
       " 'diabetes_csv.csv',\n",
       " 'Documents',\n",
       " 'Downloads',\n",
       " 'DP.ipynb',\n",
       " 'Favorites',\n",
       " 'File handling.ipynb',\n",
       " 'functions .ipynb',\n",
       " 'Functions Part-2.ipynb',\n",
       " 'Functions.ipynb',\n",
       " 'Hands on Functions.ipynb',\n",
       " 'Heart disease prediction .ipynb',\n",
       " 'heart.csv',\n",
       " 'IntelGraphicsProfiles',\n",
       " 'KrishNaik.txt',\n",
       " 'Links',\n",
       " 'Local Settings',\n",
       " 'Log_ROC.png',\n",
       " 'lung-cancer.csv',\n",
       " 'Medical Detection Using Machine Learning.ipynb',\n",
       " 'Medical Detection.csv',\n",
       " 'Music',\n",
       " 'My Documents',\n",
       " 'NetHood',\n",
       " 'NTUSER.DAT',\n",
       " 'ntuser.dat.LOG1',\n",
       " 'ntuser.dat.LOG2',\n",
       " 'NTUSER.DAT{6b582381-8277-11ec-97ad-cd1ce5815db3}.TM.blf',\n",
       " 'NTUSER.DAT{6b582381-8277-11ec-97ad-cd1ce5815db3}.TMContainer00000000000000000001.regtrans-ms',\n",
       " 'NTUSER.DAT{6b582381-8277-11ec-97ad-cd1ce5815db3}.TMContainer00000000000000000002.regtrans-ms',\n",
       " 'ntuser.ini',\n",
       " 'OneDrive',\n",
       " 'open-source-logos2x.png',\n",
       " 'Pictures',\n",
       " 'PrintHood',\n",
       " 'Python Basic  Assignment-11.ipynb',\n",
       " 'Python Basic Assignment-10.ipynb',\n",
       " 'Python Basic Assignment-11.ipynb',\n",
       " 'python Basic Assignment-6.ipynb',\n",
       " 'Python Basic Assignment-7.ipynb',\n",
       " 'Python Basic Assignment-8.ipynb',\n",
       " 'Python Basic Assignment-9.ipynb',\n",
       " 'Python Function Part-2.ipynb',\n",
       " 'Python Programming.ipynb',\n",
       " 'PYTHON-FUNCTIONS.ipynb',\n",
       " 'Recent',\n",
       " 'sample.text',\n",
       " 'Saved Games',\n",
       " 'seaborn-data',\n",
       " 'Searches',\n",
       " 'SendTo',\n",
       " 'Start Menu',\n",
       " 'Templates',\n",
       " 'text.txt',\n",
       " 'text1.txt',\n",
       " 'text5.txt',\n",
       " 'Untitled Folder',\n",
       " 'Untitled.ipynb',\n",
       " 'Untitled1.ipynb',\n",
       " 'Untitled10.ipynb',\n",
       " 'Untitled11.ipynb',\n",
       " 'Untitled12.ipynb',\n",
       " 'Untitled13.ipynb',\n",
       " 'Untitled14.ipynb',\n",
       " 'Untitled15.ipynb',\n",
       " 'Untitled16.ipynb',\n",
       " 'Untitled17.ipynb',\n",
       " 'Untitled18.ipynb',\n",
       " 'Untitled19.ipynb',\n",
       " 'Untitled2.ipynb',\n",
       " 'Untitled20.ipynb',\n",
       " 'Untitled21.ipynb',\n",
       " 'Untitled22.ipynb',\n",
       " 'Untitled23.ipynb',\n",
       " 'Untitled24.ipynb',\n",
       " 'Untitled3.ipynb',\n",
       " 'Untitled4.ipynb',\n",
       " 'Untitled5.ipynb',\n",
       " 'Untitled6.ipynb',\n",
       " 'Untitled7.ipynb',\n",
       " 'Untitled8.ipynb',\n",
       " 'Untitled9.ipynb',\n",
       " 'Videos',\n",
       " '__pycache__']"
      ]
     },
     "execution_count": 6,
     "metadata": {},
     "output_type": "execute_result"
    }
   ],
   "source": [
    "os.listdir()"
   ]
  },
  {
   "cell_type": "code",
   "execution_count": 17,
   "id": "d5d8019e",
   "metadata": {},
   "outputs": [
    {
     "data": {
      "text/plain": [
       "['.cache',\n",
       " '.conda',\n",
       " '.condarc',\n",
       " '.continuum',\n",
       " '.cufflinks',\n",
       " '.cvlib',\n",
       " '.deepface',\n",
       " '.idlerc',\n",
       " '.ipynb_checkpoints',\n",
       " '.ipython',\n",
       " '.jupyter',\n",
       " '.keras',\n",
       " '.kivy',\n",
       " '.matplotlib',\n",
       " '.opera',\n",
       " '.pipwin',\n",
       " '.pyforest',\n",
       " '.spyder-py3',\n",
       " '.streamlit',\n",
       " '.vscode',\n",
       " '3D Objects',\n",
       " 'anaconda3',\n",
       " 'AppData',\n",
       " 'Application Data',\n",
       " 'application_log.txt',\n",
       " 'Bank.csv',\n",
       " 'Contacts',\n",
       " 'Cookies',\n",
       " 'dask-worker-space',\n",
       " 'DataPreprocessing.csv',\n",
       " 'diabetes_csv.csv',\n",
       " 'Documents',\n",
       " 'Downloads',\n",
       " 'DP.ipynb',\n",
       " 'Favorites',\n",
       " 'File handling.ipynb',\n",
       " 'functions .ipynb',\n",
       " 'Functions Part-2.ipynb',\n",
       " 'Functions.ipynb',\n",
       " 'Hands on Functions.ipynb',\n",
       " 'Heart disease prediction .ipynb',\n",
       " 'heart.csv',\n",
       " 'IntelGraphicsProfiles',\n",
       " 'KrishNaik.txt',\n",
       " 'Links',\n",
       " 'Local Settings',\n",
       " 'Log_ROC.png',\n",
       " 'lung-cancer.csv',\n",
       " 'Medical Detection Using Machine Learning.ipynb',\n",
       " 'Medical Detection.csv',\n",
       " 'Music',\n",
       " 'My Documents',\n",
       " 'NetHood',\n",
       " 'NTUSER.DAT',\n",
       " 'ntuser.dat.LOG1',\n",
       " 'ntuser.dat.LOG2',\n",
       " 'NTUSER.DAT{6b582381-8277-11ec-97ad-cd1ce5815db3}.TM.blf',\n",
       " 'NTUSER.DAT{6b582381-8277-11ec-97ad-cd1ce5815db3}.TMContainer00000000000000000001.regtrans-ms',\n",
       " 'NTUSER.DAT{6b582381-8277-11ec-97ad-cd1ce5815db3}.TMContainer00000000000000000002.regtrans-ms',\n",
       " 'ntuser.ini',\n",
       " 'OneDrive',\n",
       " 'open-source-logos2x.png',\n",
       " 'Pictures',\n",
       " 'PrintHood',\n",
       " 'Python Basic  Assignment-11.ipynb',\n",
       " 'Python Basic Assignment-10.ipynb',\n",
       " 'Python Basic Assignment-11.ipynb',\n",
       " 'python Basic Assignment-6.ipynb',\n",
       " 'Python Basic Assignment-7.ipynb',\n",
       " 'Python Basic Assignment-8.ipynb',\n",
       " 'Python Basic Assignment-9.ipynb',\n",
       " 'Python Function Part-2.ipynb',\n",
       " 'Python Programming.ipynb',\n",
       " 'PYTHON-FUNCTIONS.ipynb',\n",
       " 'Recent',\n",
       " 'sample.text',\n",
       " 'Saved Games',\n",
       " 'seaborn-data',\n",
       " 'Searches',\n",
       " 'SendTo',\n",
       " 'Start Menu',\n",
       " 'Templates',\n",
       " 'text.txt',\n",
       " 'text1.txt',\n",
       " 'text5.txt',\n",
       " 'Untitled Folder',\n",
       " 'Untitled.ipynb',\n",
       " 'Untitled1.ipynb',\n",
       " 'Untitled10.ipynb',\n",
       " 'Untitled11.ipynb',\n",
       " 'Untitled12.ipynb',\n",
       " 'Untitled13.ipynb',\n",
       " 'Untitled14.ipynb',\n",
       " 'Untitled15.ipynb',\n",
       " 'Untitled16.ipynb',\n",
       " 'Untitled17.ipynb',\n",
       " 'Untitled18.ipynb',\n",
       " 'Untitled19.ipynb',\n",
       " 'Untitled2.ipynb',\n",
       " 'Untitled20.ipynb',\n",
       " 'Untitled21.ipynb',\n",
       " 'Untitled22.ipynb',\n",
       " 'Untitled23.ipynb',\n",
       " 'Untitled24.ipynb',\n",
       " 'Untitled3.ipynb',\n",
       " 'Untitled4.ipynb',\n",
       " 'Untitled5.ipynb',\n",
       " 'Untitled6.ipynb',\n",
       " 'Untitled7.ipynb',\n",
       " 'Untitled8.ipynb',\n",
       " 'Untitled9.ipynb',\n",
       " 'Videos',\n",
       " '__pycache__']"
      ]
     },
     "execution_count": 17,
     "metadata": {},
     "output_type": "execute_result"
    }
   ],
   "source": [
    "os.listdir(\"C:\\\\Users\\\\vasudha\")"
   ]
  },
  {
   "cell_type": "code",
   "execution_count": 18,
   "id": "4661bf33",
   "metadata": {},
   "outputs": [
    {
     "data": {
      "text/plain": [
       "'C:\\\\Users\\\\vasudha'"
      ]
     },
     "execution_count": 18,
     "metadata": {},
     "output_type": "execute_result"
    }
   ],
   "source": [
    "pwd()"
   ]
  },
  {
   "cell_type": "code",
   "execution_count": 19,
   "id": "a218281f",
   "metadata": {},
   "outputs": [
    {
     "data": {
      "text/plain": [
       "'C:\\\\Users\\\\vasudha'"
      ]
     },
     "execution_count": 19,
     "metadata": {},
     "output_type": "execute_result"
    }
   ],
   "source": [
    "os.getcwd()"
   ]
  },
  {
   "cell_type": "code",
   "execution_count": 21,
   "id": "cea3fbdb",
   "metadata": {},
   "outputs": [],
   "source": [
    "os.chdir('c:\\\\Users\\\\vasudha')"
   ]
  },
  {
   "cell_type": "code",
   "execution_count": 22,
   "id": "9572c87b",
   "metadata": {},
   "outputs": [
    {
     "data": {
      "text/plain": [
       "'C:\\\\Users\\\\vasudha'"
      ]
     },
     "execution_count": 22,
     "metadata": {},
     "output_type": "execute_result"
    }
   ],
   "source": [
    "pwd()"
   ]
  },
  {
   "cell_type": "code",
   "execution_count": 25,
   "id": "412e30ef",
   "metadata": {},
   "outputs": [],
   "source": [
    "os.mkdir('KrishNaik')"
   ]
  },
  {
   "cell_type": "code",
   "execution_count": 27,
   "id": "7fd52363",
   "metadata": {},
   "outputs": [],
   "source": [
    "os.chdir('c:\\\\Users\\\\vasudha\\\\KrishNaik')"
   ]
  },
  {
   "cell_type": "code",
   "execution_count": 28,
   "id": "b0e21d46",
   "metadata": {},
   "outputs": [
    {
     "data": {
      "text/plain": [
       "'c:\\\\Users\\\\vasudha\\\\KrishNaik'"
      ]
     },
     "execution_count": 28,
     "metadata": {},
     "output_type": "execute_result"
    }
   ],
   "source": [
    "pwd()"
   ]
  },
  {
   "cell_type": "code",
   "execution_count": 30,
   "id": "b4b25006",
   "metadata": {},
   "outputs": [
    {
     "data": {
      "text/plain": [
       "[]"
      ]
     },
     "execution_count": 30,
     "metadata": {},
     "output_type": "execute_result"
    }
   ],
   "source": [
    "os.listdir('c:\\\\Users\\\\vasudha\\\\KrishNaik')"
   ]
  },
  {
   "cell_type": "code",
   "execution_count": 31,
   "id": "2ff2ecd5",
   "metadata": {},
   "outputs": [
    {
     "name": "stdout",
     "output_type": "stream",
     "text": [
      "no this file is not avaiable\n"
     ]
    }
   ],
   "source": [
    "if \"test5.txt\" in os.listdir():\n",
    "    print(\"my file is available is this dir\")\n",
    "else:\n",
    "    print(\"no this file is not avaiable in this dir\")"
   ]
  },
  {
   "cell_type": "code",
   "execution_count": 33,
   "id": "751c927e",
   "metadata": {},
   "outputs": [
    {
     "name": "stdout",
     "output_type": "stream",
     "text": [
      "no this file is not avaiable in this dir\n"
     ]
    }
   ],
   "source": [
    "if \"KrishNaik.txt\" in os.listdir():\n",
    "    print(\"my file is available is this dir\")\n",
    "else:\n",
    "    print(\"no this file is not avaiable in this dir\")"
   ]
  },
  {
   "cell_type": "code",
   "execution_count": 34,
   "id": "d5fcc22e",
   "metadata": {},
   "outputs": [
    {
     "name": "stdout",
     "output_type": "stream",
     "text": [
      "no this file is not avaiable in this dir\n"
     ]
    }
   ],
   "source": [
    "if \"KrishNaik.txt\" in os.listdir():\n",
    "    print(\"my file is available is this dir\")\n",
    "    f=open(\"KrishNaik.txt\",'r+')\n",
    "    print(f)\n",
    "else:\n",
    "    print(\"no this file is not avaiable in this dir\")"
   ]
  },
  {
   "cell_type": "code",
   "execution_count": 37,
   "id": "34256b36",
   "metadata": {},
   "outputs": [
    {
     "name": "stdout",
     "output_type": "stream",
     "text": [
      "no this file is not avaiable in this dir\n"
     ]
    }
   ],
   "source": [
    "if \"KrishNaik.txt\" in os.listdir():\n",
    "    print(\"my file is available is this dir\")\n",
    "    f=open(\"KrishNaik.txt\",'r+')\n",
    "    for i in f:\n",
    "        print(i)\n",
    "    print(f)\n",
    "else:\n",
    "    print(\"no this file is not avaiable in this dir\")"
   ]
  },
  {
   "cell_type": "code",
   "execution_count": 39,
   "id": "fccf2552",
   "metadata": {},
   "outputs": [],
   "source": [
    "f=open(\"KrishNaik.txt\",\"w\")"
   ]
  },
  {
   "cell_type": "code",
   "execution_count": 40,
   "id": "7aa2cc12",
   "metadata": {},
   "outputs": [
    {
     "data": {
      "text/plain": [
       "20"
      ]
     },
     "execution_count": 40,
     "metadata": {},
     "output_type": "execute_result"
    }
   ],
   "source": [
    "f.write(\"Iam python Developer\")"
   ]
  },
  {
   "cell_type": "code",
   "execution_count": 41,
   "id": "2eecf2c4",
   "metadata": {},
   "outputs": [
    {
     "name": "stdout",
     "output_type": "stream",
     "text": [
      "my file is available is this dir\n",
      "Iam python Developer\n",
      "<_io.TextIOWrapper name='KrishNaik.txt' mode='r+' encoding='cp1252'>\n"
     ]
    }
   ],
   "source": [
    "if \"KrishNaik.txt\" in os.listdir():\n",
    "    print(\"my file is available is this dir\")\n",
    "    f=open(\"KrishNaik.txt\",'r+')\n",
    "    for i in f:\n",
    "        print(i)\n",
    "    print(f)\n",
    "else:\n",
    "    print(\"no this file is not avaiable in this dir\")"
   ]
  },
  {
   "cell_type": "code",
   "execution_count": 42,
   "id": "2d5618d9",
   "metadata": {},
   "outputs": [],
   "source": [
    "if not os.path.isdir(\"Krish\"):\n",
    "    os.mkdir(\"Krish\")"
   ]
  },
  {
   "cell_type": "code",
   "execution_count": 47,
   "id": "4079cd7a",
   "metadata": {},
   "outputs": [],
   "source": [
    "f=open(\"KrishNaik.txt\",\"r+\")"
   ]
  },
  {
   "cell_type": "code",
   "execution_count": 52,
   "id": "2894a417",
   "metadata": {},
   "outputs": [],
   "source": [
    "f.close()"
   ]
  },
  {
   "cell_type": "code",
   "execution_count": 54,
   "id": "940b05e6",
   "metadata": {},
   "outputs": [],
   "source": [
    "import shutil"
   ]
  },
  {
   "cell_type": "code",
   "execution_count": 62,
   "id": "01059cf3",
   "metadata": {},
   "outputs": [
    {
     "data": {
      "text/plain": [
       "'c:\\\\Users\\\\vasudha\\\\KrishNaik\\\\new'"
      ]
     },
     "execution_count": 62,
     "metadata": {},
     "output_type": "execute_result"
    }
   ],
   "source": [
    "shutil.move(\"c:\\\\Users\\\\vasudha\\\\KrishNaik\\\\Tasleem\",\"c:\\\\Users\\\\vasudha\\\\KrishNaik\\\\new\")"
   ]
  },
  {
   "cell_type": "code",
   "execution_count": 63,
   "id": "e4b8b1be",
   "metadata": {},
   "outputs": [],
   "source": [
    "f=open(\"iNeuron.txt\",\"w\")"
   ]
  },
  {
   "cell_type": "code",
   "execution_count": 64,
   "id": "5f27d23b",
   "metadata": {},
   "outputs": [
    {
     "data": {
      "text/plain": [
       "33"
      ]
     },
     "execution_count": 64,
     "metadata": {},
     "output_type": "execute_result"
    }
   ],
   "source": [
    "f.write(\"iNeuron is good learning platform\")"
   ]
  },
  {
   "cell_type": "code",
   "execution_count": null,
   "id": "78f3ee83",
   "metadata": {},
   "outputs": [],
   "source": []
  }
 ],
 "metadata": {
  "kernelspec": {
   "display_name": "Python 3",
   "language": "python",
   "name": "python3"
  },
  "language_info": {
   "codemirror_mode": {
    "name": "ipython",
    "version": 3
   },
   "file_extension": ".py",
   "mimetype": "text/x-python",
   "name": "python",
   "nbconvert_exporter": "python",
   "pygments_lexer": "ipython3",
   "version": "3.8.8"
  }
 },
 "nbformat": 4,
 "nbformat_minor": 5
}
