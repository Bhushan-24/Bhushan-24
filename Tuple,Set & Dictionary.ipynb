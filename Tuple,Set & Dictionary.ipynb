{
 "cells": [
  {
   "cell_type": "markdown",
   "id": "1d6efb11",
   "metadata": {},
   "source": [
    "<center>\n",
    "<h1> # Tuple,set,dictionary</h1>\n",
    "</center>"
   ]
  },
  {
   "cell_type": "code",
   "execution_count": 1,
   "id": "90184397",
   "metadata": {},
   "outputs": [],
   "source": [
    "# Empty Tuple\n",
    "T=()"
   ]
  },
  {
   "cell_type": "code",
   "execution_count": 2,
   "id": "b2fd6fe1",
   "metadata": {},
   "outputs": [
    {
     "data": {
      "text/plain": [
       "tuple"
      ]
     },
     "execution_count": 2,
     "metadata": {},
     "output_type": "execute_result"
    }
   ],
   "source": [
    "type(T)"
   ]
  },
  {
   "cell_type": "code",
   "execution_count": 3,
   "id": "f0dffe20",
   "metadata": {},
   "outputs": [
    {
     "data": {
      "text/plain": [
       "list"
      ]
     },
     "execution_count": 3,
     "metadata": {},
     "output_type": "execute_result"
    }
   ],
   "source": [
    "l=[]\n",
    "type(l)"
   ]
  },
  {
   "cell_type": "code",
   "execution_count": 4,
   "id": "5f8d849a",
   "metadata": {},
   "outputs": [
    {
     "data": {
      "text/plain": [
       "dict"
      ]
     },
     "execution_count": 4,
     "metadata": {},
     "output_type": "execute_result"
    }
   ],
   "source": [
    "d={}\n",
    "type(d)"
   ]
  },
  {
   "cell_type": "code",
   "execution_count": 5,
   "id": "4235e982",
   "metadata": {},
   "outputs": [],
   "source": [
    "T=(10,3.14,'Krish Naik',3+9j,True)"
   ]
  },
  {
   "cell_type": "code",
   "execution_count": 6,
   "id": "0e76c915",
   "metadata": {},
   "outputs": [
    {
     "data": {
      "text/plain": [
       "(10, 3.14, 'Krish Naik', (3+9j), True)"
      ]
     },
     "execution_count": 6,
     "metadata": {},
     "output_type": "execute_result"
    }
   ],
   "source": [
    "T"
   ]
  },
  {
   "cell_type": "code",
   "execution_count": 7,
   "id": "90317014",
   "metadata": {},
   "outputs": [
    {
     "data": {
      "text/plain": [
       "tuple"
      ]
     },
     "execution_count": 7,
     "metadata": {},
     "output_type": "execute_result"
    }
   ],
   "source": [
    "type(T)"
   ]
  },
  {
   "cell_type": "code",
   "execution_count": 8,
   "id": "db3052bf",
   "metadata": {},
   "outputs": [],
   "source": [
    "l=[10,3.14,'Krish Naik',6+12j,True]"
   ]
  },
  {
   "cell_type": "code",
   "execution_count": 9,
   "id": "a57ec9a5",
   "metadata": {},
   "outputs": [
    {
     "data": {
      "text/plain": [
       "[10, 3.14, 'Krish Naik', (6+12j), True]"
      ]
     },
     "execution_count": 9,
     "metadata": {},
     "output_type": "execute_result"
    }
   ],
   "source": [
    "l"
   ]
  },
  {
   "cell_type": "code",
   "execution_count": 10,
   "id": "74a303e4",
   "metadata": {},
   "outputs": [
    {
     "data": {
      "text/plain": [
       "list"
      ]
     },
     "execution_count": 10,
     "metadata": {},
     "output_type": "execute_result"
    }
   ],
   "source": [
    "type(l)"
   ]
  },
  {
   "cell_type": "code",
   "execution_count": 11,
   "id": "8acdffb6",
   "metadata": {},
   "outputs": [
    {
     "data": {
      "text/plain": [
       "10"
      ]
     },
     "execution_count": 11,
     "metadata": {},
     "output_type": "execute_result"
    }
   ],
   "source": [
    "T[0]"
   ]
  },
  {
   "cell_type": "code",
   "execution_count": 12,
   "id": "e28645f6",
   "metadata": {},
   "outputs": [
    {
     "data": {
      "text/plain": [
       "(3.14, 'Krish Naik', (3+9j), True)"
      ]
     },
     "execution_count": 12,
     "metadata": {},
     "output_type": "execute_result"
    }
   ],
   "source": [
    "T[1::]"
   ]
  },
  {
   "cell_type": "code",
   "execution_count": 13,
   "id": "ef39d23a",
   "metadata": {},
   "outputs": [
    {
     "data": {
      "text/plain": [
       "[3.14, 'Krish Naik', (6+12j), True]"
      ]
     },
     "execution_count": 13,
     "metadata": {},
     "output_type": "execute_result"
    }
   ],
   "source": [
    "l[1::]"
   ]
  },
  {
   "cell_type": "code",
   "execution_count": 14,
   "id": "069ed5b2",
   "metadata": {},
   "outputs": [
    {
     "data": {
      "text/plain": [
       "2940959263296"
      ]
     },
     "execution_count": 14,
     "metadata": {},
     "output_type": "execute_result"
    }
   ],
   "source": [
    "id(T)"
   ]
  },
  {
   "cell_type": "code",
   "execution_count": 15,
   "id": "542f3903",
   "metadata": {},
   "outputs": [
    {
     "data": {
      "text/plain": [
       "2940959493568"
      ]
     },
     "execution_count": 15,
     "metadata": {},
     "output_type": "execute_result"
    }
   ],
   "source": [
    "id(l)"
   ]
  },
  {
   "cell_type": "code",
   "execution_count": 16,
   "id": "1d406f4b",
   "metadata": {},
   "outputs": [
    {
     "data": {
      "text/plain": [
       "(10, 3.14, 'Krish Naik', (3+9j))"
      ]
     },
     "execution_count": 16,
     "metadata": {},
     "output_type": "execute_result"
    }
   ],
   "source": [
    "T[0:4]"
   ]
  },
  {
   "cell_type": "code",
   "execution_count": 17,
   "id": "ecd4ec90",
   "metadata": {},
   "outputs": [
    {
     "data": {
      "text/plain": [
       "[10, 3.14, 'Krish Naik', (6+12j)]"
      ]
     },
     "execution_count": 17,
     "metadata": {},
     "output_type": "execute_result"
    }
   ],
   "source": [
    "l[0:4]"
   ]
  },
  {
   "cell_type": "code",
   "execution_count": 18,
   "id": "e59ef912",
   "metadata": {},
   "outputs": [
    {
     "data": {
      "text/plain": [
       "(True, (3+9j), 'Krish Naik', 3.14, 10)"
      ]
     },
     "execution_count": 18,
     "metadata": {},
     "output_type": "execute_result"
    }
   ],
   "source": [
    "T[::-1]"
   ]
  },
  {
   "cell_type": "code",
   "execution_count": 19,
   "id": "2edcc0af",
   "metadata": {},
   "outputs": [
    {
     "data": {
      "text/plain": [
       "[True, (6+12j), 'Krish Naik', 3.14, 10]"
      ]
     },
     "execution_count": 19,
     "metadata": {},
     "output_type": "execute_result"
    }
   ],
   "source": [
    "l[::-1]"
   ]
  },
  {
   "cell_type": "code",
   "execution_count": 20,
   "id": "55682a3d",
   "metadata": {},
   "outputs": [
    {
     "data": {
      "text/plain": [
       "True"
      ]
     },
     "execution_count": 20,
     "metadata": {},
     "output_type": "execute_result"
    }
   ],
   "source": [
    "T[-1]"
   ]
  },
  {
   "cell_type": "code",
   "execution_count": 21,
   "id": "0613b193",
   "metadata": {},
   "outputs": [
    {
     "data": {
      "text/plain": [
       "5"
      ]
     },
     "execution_count": 21,
     "metadata": {},
     "output_type": "execute_result"
    }
   ],
   "source": [
    "len(T)"
   ]
  },
  {
   "cell_type": "code",
   "execution_count": 22,
   "id": "c298cb53",
   "metadata": {},
   "outputs": [
    {
     "data": {
      "text/plain": [
       "5"
      ]
     },
     "execution_count": 22,
     "metadata": {},
     "output_type": "execute_result"
    }
   ],
   "source": [
    "len(l)"
   ]
  },
  {
   "cell_type": "code",
   "execution_count": 23,
   "id": "bd4b4609",
   "metadata": {},
   "outputs": [],
   "source": [
    "l[0]='Tasleem'"
   ]
  },
  {
   "cell_type": "code",
   "execution_count": 24,
   "id": "ec021d52",
   "metadata": {},
   "outputs": [
    {
     "data": {
      "text/plain": [
       "['Tasleem', 3.14, 'Krish Naik', (6+12j), True]"
      ]
     },
     "execution_count": 24,
     "metadata": {},
     "output_type": "execute_result"
    }
   ],
   "source": [
    "l"
   ]
  },
  {
   "cell_type": "code",
   "execution_count": 25,
   "id": "65451334",
   "metadata": {},
   "outputs": [],
   "source": [
    "l[2]='Bhushan'"
   ]
  },
  {
   "cell_type": "code",
   "execution_count": 26,
   "id": "95a75c81",
   "metadata": {},
   "outputs": [
    {
     "data": {
      "text/plain": [
       "['Tasleem', 3.14, 'Bhushan', (6+12j), True]"
      ]
     },
     "execution_count": 26,
     "metadata": {},
     "output_type": "execute_result"
    }
   ],
   "source": [
    "l"
   ]
  },
  {
   "cell_type": "code",
   "execution_count": 27,
   "id": "4702ed14",
   "metadata": {},
   "outputs": [],
   "source": [
    "l[1]='vasudha'"
   ]
  },
  {
   "cell_type": "code",
   "execution_count": 28,
   "id": "1c4e1a2e",
   "metadata": {},
   "outputs": [
    {
     "data": {
      "text/plain": [
       "['Tasleem', 'vasudha', 'Bhushan', (6+12j), True]"
      ]
     },
     "execution_count": 28,
     "metadata": {},
     "output_type": "execute_result"
    }
   ],
   "source": [
    "l"
   ]
  },
  {
   "cell_type": "code",
   "execution_count": 29,
   "id": "f82b3a09",
   "metadata": {},
   "outputs": [
    {
     "ename": "TypeError",
     "evalue": "'tuple' object does not support item assignment",
     "output_type": "error",
     "traceback": [
      "\u001b[1;31m---------------------------------------------------------------------------\u001b[0m",
      "\u001b[1;31mTypeError\u001b[0m                                 Traceback (most recent call last)",
      "\u001b[1;32m<ipython-input-29-e059cc0faa32>\u001b[0m in \u001b[0;36m<module>\u001b[1;34m\u001b[0m\n\u001b[1;32m----> 1\u001b[1;33m \u001b[0mT\u001b[0m\u001b[1;33m[\u001b[0m\u001b[1;36m0\u001b[0m\u001b[1;33m]\u001b[0m\u001b[1;33m=\u001b[0m\u001b[1;34m'Sriram'\u001b[0m\u001b[1;33m\u001b[0m\u001b[1;33m\u001b[0m\u001b[0m\n\u001b[0m",
      "\u001b[1;31mTypeError\u001b[0m: 'tuple' object does not support item assignment"
     ]
    }
   ],
   "source": [
    "T[0]='Sriram'"
   ]
  },
  {
   "cell_type": "code",
   "execution_count": 30,
   "id": "cc2f4562",
   "metadata": {},
   "outputs": [
    {
     "data": {
      "text/plain": [
       "(234, 54, 565, 565, 45, 432)"
      ]
     },
     "execution_count": 30,
     "metadata": {},
     "output_type": "execute_result"
    }
   ],
   "source": [
    "T1=(234,54,565)\n",
    "T2=(565,45,432)\n",
    "T1+T2"
   ]
  },
  {
   "cell_type": "code",
   "execution_count": 31,
   "id": "034409d6",
   "metadata": {},
   "outputs": [
    {
     "data": {
      "text/plain": [
       "(234, 54, 565, 234, 54, 565, 234, 54, 565, 234, 54, 565)"
      ]
     },
     "execution_count": 31,
     "metadata": {},
     "output_type": "execute_result"
    }
   ],
   "source": [
    "T1*4"
   ]
  },
  {
   "cell_type": "code",
   "execution_count": 32,
   "id": "cca5e541",
   "metadata": {},
   "outputs": [
    {
     "data": {
      "text/plain": [
       "(234, 54, 565)"
      ]
     },
     "execution_count": 32,
     "metadata": {},
     "output_type": "execute_result"
    }
   ],
   "source": [
    "T1"
   ]
  },
  {
   "cell_type": "code",
   "execution_count": 33,
   "id": "db76d71b",
   "metadata": {},
   "outputs": [
    {
     "data": {
      "text/plain": [
       "True"
      ]
     },
     "execution_count": 33,
     "metadata": {},
     "output_type": "execute_result"
    }
   ],
   "source": [
    "54 in T1"
   ]
  },
  {
   "cell_type": "code",
   "execution_count": 34,
   "id": "26ef474b",
   "metadata": {},
   "outputs": [
    {
     "data": {
      "text/plain": [
       "False"
      ]
     },
     "execution_count": 34,
     "metadata": {},
     "output_type": "execute_result"
    }
   ],
   "source": [
    "\"fdsfds\" in T1"
   ]
  },
  {
   "cell_type": "code",
   "execution_count": 35,
   "id": "85c1ce88",
   "metadata": {},
   "outputs": [
    {
     "data": {
      "text/plain": [
       "1"
      ]
     },
     "execution_count": 35,
     "metadata": {},
     "output_type": "execute_result"
    }
   ],
   "source": [
    "T1.count(54)"
   ]
  },
  {
   "cell_type": "code",
   "execution_count": 36,
   "id": "d9ff8be2",
   "metadata": {},
   "outputs": [
    {
     "data": {
      "text/plain": [
       "1"
      ]
     },
     "execution_count": 36,
     "metadata": {},
     "output_type": "execute_result"
    }
   ],
   "source": [
    "T1.index(54)"
   ]
  },
  {
   "cell_type": "code",
   "execution_count": 37,
   "id": "8bd373fe",
   "metadata": {},
   "outputs": [
    {
     "data": {
      "text/plain": [
       "54"
      ]
     },
     "execution_count": 37,
     "metadata": {},
     "output_type": "execute_result"
    }
   ],
   "source": [
    "min(T1)"
   ]
  },
  {
   "cell_type": "code",
   "execution_count": 38,
   "id": "0ff240ea",
   "metadata": {},
   "outputs": [
    {
     "data": {
      "text/plain": [
       "565"
      ]
     },
     "execution_count": 38,
     "metadata": {},
     "output_type": "execute_result"
    }
   ],
   "source": [
    "max(T1)"
   ]
  },
  {
   "cell_type": "code",
   "execution_count": 39,
   "id": "99d6bf82",
   "metadata": {},
   "outputs": [],
   "source": [
    "T1=(1,2,3,4,5,'Krish')"
   ]
  },
  {
   "cell_type": "code",
   "execution_count": 40,
   "id": "a60c8244",
   "metadata": {},
   "outputs": [
    {
     "data": {
      "text/plain": [
       "(1, 2, 3, 4, 5, 'Krish')"
      ]
     },
     "execution_count": 40,
     "metadata": {},
     "output_type": "execute_result"
    }
   ],
   "source": [
    "T1"
   ]
  },
  {
   "cell_type": "code",
   "execution_count": 41,
   "id": "a160489e",
   "metadata": {},
   "outputs": [
    {
     "ename": "TypeError",
     "evalue": "'<' not supported between instances of 'str' and 'int'",
     "output_type": "error",
     "traceback": [
      "\u001b[1;31m---------------------------------------------------------------------------\u001b[0m",
      "\u001b[1;31mTypeError\u001b[0m                                 Traceback (most recent call last)",
      "\u001b[1;32m<ipython-input-41-9f248eb01d7d>\u001b[0m in \u001b[0;36m<module>\u001b[1;34m\u001b[0m\n\u001b[1;32m----> 1\u001b[1;33m \u001b[0mmin\u001b[0m\u001b[1;33m(\u001b[0m\u001b[0mT1\u001b[0m\u001b[1;33m)\u001b[0m\u001b[1;33m\u001b[0m\u001b[1;33m\u001b[0m\u001b[0m\n\u001b[0m",
      "\u001b[1;31mTypeError\u001b[0m: '<' not supported between instances of 'str' and 'int'"
     ]
    }
   ],
   "source": [
    "min(T1)"
   ]
  },
  {
   "cell_type": "code",
   "execution_count": 42,
   "id": "3333c364",
   "metadata": {},
   "outputs": [],
   "source": [
    "t5=(90,45)"
   ]
  },
  {
   "cell_type": "code",
   "execution_count": 43,
   "id": "788beadf",
   "metadata": {},
   "outputs": [
    {
     "data": {
      "text/plain": [
       "(1, 2, 3, 4, 5, 'Krish', 90, 45)"
      ]
     },
     "execution_count": 43,
     "metadata": {},
     "output_type": "execute_result"
    }
   ],
   "source": [
    "T1+t5"
   ]
  },
  {
   "cell_type": "code",
   "execution_count": 44,
   "id": "5a84bc8e",
   "metadata": {},
   "outputs": [],
   "source": [
    "t6=56"
   ]
  },
  {
   "cell_type": "code",
   "execution_count": 45,
   "id": "58ec3831",
   "metadata": {},
   "outputs": [],
   "source": [
    "l=list(T1)"
   ]
  },
  {
   "cell_type": "code",
   "execution_count": 46,
   "id": "2a502c4b",
   "metadata": {},
   "outputs": [
    {
     "data": {
      "text/plain": [
       "[1, 2, 3, 4, 5, 'Krish']"
      ]
     },
     "execution_count": 46,
     "metadata": {},
     "output_type": "execute_result"
    }
   ],
   "source": [
    "l"
   ]
  },
  {
   "cell_type": "code",
   "execution_count": 47,
   "id": "872557c6",
   "metadata": {},
   "outputs": [],
   "source": [
    "l.insert(5,'Tasleem')"
   ]
  },
  {
   "cell_type": "code",
   "execution_count": 48,
   "id": "ad038cf5",
   "metadata": {},
   "outputs": [
    {
     "data": {
      "text/plain": [
       "[1, 2, 3, 4, 5, 'Tasleem', 'Krish']"
      ]
     },
     "execution_count": 48,
     "metadata": {},
     "output_type": "execute_result"
    }
   ],
   "source": [
    "l"
   ]
  },
  {
   "cell_type": "code",
   "execution_count": 49,
   "id": "0bcf35e8",
   "metadata": {},
   "outputs": [
    {
     "data": {
      "text/plain": [
       "(1, 2, 3, 4, 5, 'Tasleem', 'Krish')"
      ]
     },
     "execution_count": 49,
     "metadata": {},
     "output_type": "execute_result"
    }
   ],
   "source": [
    "tuple(l)"
   ]
  },
  {
   "cell_type": "code",
   "execution_count": 50,
   "id": "7595c303",
   "metadata": {},
   "outputs": [],
   "source": [
    "t=((1,2,3,'Sriram'),(4,5,6,'Bhushan'),(7,8,9,'Tasleem'))"
   ]
  },
  {
   "cell_type": "code",
   "execution_count": 51,
   "id": "b6287c8e",
   "metadata": {},
   "outputs": [
    {
     "data": {
      "text/plain": [
       "((1, 2, 3, 'Sriram'), (4, 5, 6, 'Bhushan'), (7, 8, 9, 'Tasleem'))"
      ]
     },
     "execution_count": 51,
     "metadata": {},
     "output_type": "execute_result"
    }
   ],
   "source": [
    "t"
   ]
  },
  {
   "cell_type": "code",
   "execution_count": 52,
   "id": "c5bfdfb5",
   "metadata": {},
   "outputs": [
    {
     "data": {
      "text/plain": [
       "(4, 5, 6, 'Bhushan')"
      ]
     },
     "execution_count": 52,
     "metadata": {},
     "output_type": "execute_result"
    }
   ],
   "source": [
    "t[1]"
   ]
  },
  {
   "cell_type": "code",
   "execution_count": 53,
   "id": "f49fdeda",
   "metadata": {},
   "outputs": [],
   "source": [
    "t=((3,4,5,6,7),(\"sdfsd\",45,45),(\"454\",54),45,454,67,[4,5,6,7])"
   ]
  },
  {
   "cell_type": "code",
   "execution_count": 54,
   "id": "38105260",
   "metadata": {},
   "outputs": [
    {
     "data": {
      "text/plain": [
       "((3, 4, 5, 6, 7), ('sdfsd', 45, 45), ('454', 54), 45, 454, 67, [4, 5, 6, 7])"
      ]
     },
     "execution_count": 54,
     "metadata": {},
     "output_type": "execute_result"
    }
   ],
   "source": [
    "t"
   ]
  },
  {
   "cell_type": "code",
   "execution_count": 55,
   "id": "a47e873a",
   "metadata": {},
   "outputs": [
    {
     "data": {
      "text/plain": [
       "[4, 5, 6, 7]"
      ]
     },
     "execution_count": 55,
     "metadata": {},
     "output_type": "execute_result"
    }
   ],
   "source": [
    "t[6]"
   ]
  },
  {
   "cell_type": "code",
   "execution_count": 56,
   "id": "ca8964ce",
   "metadata": {},
   "outputs": [
    {
     "data": {
      "text/plain": [
       "[5, 6]"
      ]
     },
     "execution_count": 56,
     "metadata": {},
     "output_type": "execute_result"
    }
   ],
   "source": [
    "t[6][1:3]"
   ]
  },
  {
   "cell_type": "code",
   "execution_count": 57,
   "id": "7f84d0de",
   "metadata": {},
   "outputs": [
    {
     "data": {
      "text/plain": [
       "[5, 6, 7]"
      ]
     },
     "execution_count": 57,
     "metadata": {},
     "output_type": "execute_result"
    }
   ],
   "source": [
    "t[6][1:4]"
   ]
  },
  {
   "cell_type": "code",
   "execution_count": 58,
   "id": "b6df11ae",
   "metadata": {},
   "outputs": [
    {
     "data": {
      "text/plain": [
       "('sdfsd', 45, 45)"
      ]
     },
     "execution_count": 58,
     "metadata": {},
     "output_type": "execute_result"
    }
   ],
   "source": [
    "t[1]"
   ]
  },
  {
   "cell_type": "code",
   "execution_count": 59,
   "id": "0335001a",
   "metadata": {},
   "outputs": [
    {
     "data": {
      "text/plain": [
       "'sdfsd'"
      ]
     },
     "execution_count": 59,
     "metadata": {},
     "output_type": "execute_result"
    }
   ],
   "source": [
    "t[1][0]"
   ]
  },
  {
   "cell_type": "code",
   "execution_count": 60,
   "id": "696b6359",
   "metadata": {},
   "outputs": [
    {
     "name": "stdout",
     "output_type": "stream",
     "text": [
      "(3, 4, 5, 6, 7)\n",
      "('sdfsd', 45, 45)\n",
      "('454', 54)\n",
      "45\n",
      "454\n",
      "67\n",
      "[4, 5, 6, 7]\n"
     ]
    }
   ],
   "source": [
    "for i in t:\n",
    "    print(i)"
   ]
  },
  {
   "cell_type": "code",
   "execution_count": 61,
   "id": "f29402ea",
   "metadata": {},
   "outputs": [
    {
     "name": "stdout",
     "output_type": "stream",
     "text": [
      "3\n",
      "sdfsd\n",
      "454\n"
     ]
    }
   ],
   "source": [
    "for i in t:\n",
    "    if type(i)==tuple:\n",
    "        print(i[0])"
   ]
  },
  {
   "cell_type": "code",
   "execution_count": 62,
   "id": "5485ff34",
   "metadata": {},
   "outputs": [
    {
     "name": "stdout",
     "output_type": "stream",
     "text": [
      "4\n",
      "45\n",
      "54\n"
     ]
    }
   ],
   "source": [
    "for i in t:\n",
    "    if type(i)==tuple:\n",
    "        print(i[1])"
   ]
  },
  {
   "cell_type": "code",
   "execution_count": 63,
   "id": "19431721",
   "metadata": {},
   "outputs": [
    {
     "data": {
      "text/plain": [
       "((3, 4, 5, 6, 7), ('sdfsd', 45, 45), ('454', 54), 45, 454, 67, [4, 5, 6, 7])"
      ]
     },
     "execution_count": 63,
     "metadata": {},
     "output_type": "execute_result"
    }
   ],
   "source": [
    "t"
   ]
  },
  {
   "cell_type": "code",
   "execution_count": 64,
   "id": "c89c4639",
   "metadata": {},
   "outputs": [],
   "source": [
    "t1=(234,34,'Krish',3.45,34,34,34,True)"
   ]
  },
  {
   "cell_type": "code",
   "execution_count": 65,
   "id": "cd315b02",
   "metadata": {},
   "outputs": [],
   "source": [
    "t2=(234,54,565)"
   ]
  },
  {
   "cell_type": "code",
   "execution_count": 66,
   "id": "6d2201a6",
   "metadata": {},
   "outputs": [
    {
     "data": {
      "text/plain": [
       "(234, 34, 'Krish', 3.45, 34, 34, 34, True)"
      ]
     },
     "execution_count": 66,
     "metadata": {},
     "output_type": "execute_result"
    }
   ],
   "source": [
    "t1"
   ]
  },
  {
   "cell_type": "code",
   "execution_count": 67,
   "id": "9dae8f1b",
   "metadata": {},
   "outputs": [
    {
     "data": {
      "text/plain": [
       "(234, 54, 565)"
      ]
     },
     "execution_count": 67,
     "metadata": {},
     "output_type": "execute_result"
    }
   ],
   "source": [
    "t2"
   ]
  },
  {
   "cell_type": "code",
   "execution_count": 68,
   "id": "f7c14b6d",
   "metadata": {},
   "outputs": [
    {
     "name": "stdout",
     "output_type": "stream",
     "text": [
      "its not same\n"
     ]
    }
   ],
   "source": [
    "if len(t1)==len(t2):\n",
    "    print('its same')\n",
    "else:\n",
    "    print('its not same')"
   ]
  },
  {
   "cell_type": "code",
   "execution_count": 69,
   "id": "fbf77f74",
   "metadata": {},
   "outputs": [],
   "source": [
    "t=(234,34,'Krish',3.45,34,34,34,True,'kumar')"
   ]
  },
  {
   "cell_type": "code",
   "execution_count": 70,
   "id": "4cf52146",
   "metadata": {},
   "outputs": [
    {
     "name": "stdout",
     "output_type": "stream",
     "text": [
      "take a user input\n",
      "your name is not avaiable\n"
     ]
    }
   ],
   "source": [
    "i=input('take a user input')\n",
    "if i in t:\n",
    "    print('yes your name is avaiable')\n",
    "else:\n",
    "    print('your name is not avaiable')"
   ]
  },
  {
   "cell_type": "code",
   "execution_count": 71,
   "id": "02015cf7",
   "metadata": {},
   "outputs": [],
   "source": [
    "del(t)"
   ]
  },
  {
   "cell_type": "code",
   "execution_count": 72,
   "id": "ec5bc7f2",
   "metadata": {},
   "outputs": [
    {
     "ename": "NameError",
     "evalue": "name 't' is not defined",
     "output_type": "error",
     "traceback": [
      "\u001b[1;31m---------------------------------------------------------------------------\u001b[0m",
      "\u001b[1;31mNameError\u001b[0m                                 Traceback (most recent call last)",
      "\u001b[1;32m<ipython-input-72-34fc7a11cb38>\u001b[0m in \u001b[0;36m<module>\u001b[1;34m\u001b[0m\n\u001b[1;32m----> 1\u001b[1;33m \u001b[0mt\u001b[0m\u001b[1;33m\u001b[0m\u001b[1;33m\u001b[0m\u001b[0m\n\u001b[0m",
      "\u001b[1;31mNameError\u001b[0m: name 't' is not defined"
     ]
    }
   ],
   "source": [
    "t"
   ]
  },
  {
   "cell_type": "code",
   "execution_count": 73,
   "id": "87c92b06",
   "metadata": {},
   "outputs": [],
   "source": [
    "del(t1)"
   ]
  },
  {
   "cell_type": "code",
   "execution_count": 74,
   "id": "649de3db",
   "metadata": {},
   "outputs": [
    {
     "ename": "NameError",
     "evalue": "name 't1' is not defined",
     "output_type": "error",
     "traceback": [
      "\u001b[1;31m---------------------------------------------------------------------------\u001b[0m",
      "\u001b[1;31mNameError\u001b[0m                                 Traceback (most recent call last)",
      "\u001b[1;32m<ipython-input-74-5db19043943a>\u001b[0m in \u001b[0;36m<module>\u001b[1;34m\u001b[0m\n\u001b[1;32m----> 1\u001b[1;33m \u001b[0mt1\u001b[0m\u001b[1;33m\u001b[0m\u001b[1;33m\u001b[0m\u001b[0m\n\u001b[0m",
      "\u001b[1;31mNameError\u001b[0m: name 't1' is not defined"
     ]
    }
   ],
   "source": [
    "t1"
   ]
  },
  {
   "cell_type": "code",
   "execution_count": 75,
   "id": "b2471671",
   "metadata": {},
   "outputs": [],
   "source": [
    "del(t2)"
   ]
  },
  {
   "cell_type": "code",
   "execution_count": 76,
   "id": "5478be1d",
   "metadata": {},
   "outputs": [
    {
     "ename": "NameError",
     "evalue": "name 't2' is not defined",
     "output_type": "error",
     "traceback": [
      "\u001b[1;31m---------------------------------------------------------------------------\u001b[0m",
      "\u001b[1;31mNameError\u001b[0m                                 Traceback (most recent call last)",
      "\u001b[1;32m<ipython-input-76-be5b813c2dd9>\u001b[0m in \u001b[0;36m<module>\u001b[1;34m\u001b[0m\n\u001b[1;32m----> 1\u001b[1;33m \u001b[0mt2\u001b[0m\u001b[1;33m\u001b[0m\u001b[1;33m\u001b[0m\u001b[0m\n\u001b[0m",
      "\u001b[1;31mNameError\u001b[0m: name 't2' is not defined"
     ]
    }
   ],
   "source": [
    "t2"
   ]
  },
  {
   "cell_type": "code",
   "execution_count": 77,
   "id": "c5d921df",
   "metadata": {},
   "outputs": [],
   "source": [
    "del(l)"
   ]
  },
  {
   "cell_type": "code",
   "execution_count": 78,
   "id": "29ee17b5",
   "metadata": {},
   "outputs": [
    {
     "ename": "NameError",
     "evalue": "name 'l' is not defined",
     "output_type": "error",
     "traceback": [
      "\u001b[1;31m---------------------------------------------------------------------------\u001b[0m",
      "\u001b[1;31mNameError\u001b[0m                                 Traceback (most recent call last)",
      "\u001b[1;32m<ipython-input-78-cde25b5e10ad>\u001b[0m in \u001b[0;36m<module>\u001b[1;34m\u001b[0m\n\u001b[1;32m----> 1\u001b[1;33m \u001b[0ml\u001b[0m\u001b[1;33m\u001b[0m\u001b[1;33m\u001b[0m\u001b[0m\n\u001b[0m",
      "\u001b[1;31mNameError\u001b[0m: name 'l' is not defined"
     ]
    }
   ],
   "source": [
    "l"
   ]
  },
  {
   "cell_type": "markdown",
   "id": "4ead06c6",
   "metadata": {},
   "source": [
    "# Set"
   ]
  },
  {
   "cell_type": "code",
   "execution_count": 79,
   "id": "d8fced24",
   "metadata": {},
   "outputs": [],
   "source": [
    "s=set()"
   ]
  },
  {
   "cell_type": "code",
   "execution_count": 80,
   "id": "8260917a",
   "metadata": {},
   "outputs": [
    {
     "data": {
      "text/plain": [
       "set"
      ]
     },
     "execution_count": 80,
     "metadata": {},
     "output_type": "execute_result"
    }
   ],
   "source": [
    "type(s)"
   ]
  },
  {
   "cell_type": "code",
   "execution_count": 81,
   "id": "510516cc",
   "metadata": {},
   "outputs": [],
   "source": [
    "l=[23,25,25, 27,29,29, 31,'Krish']"
   ]
  },
  {
   "cell_type": "code",
   "execution_count": 82,
   "id": "780cd6e9",
   "metadata": {},
   "outputs": [],
   "source": [
    "s=set(l)"
   ]
  },
  {
   "cell_type": "code",
   "execution_count": 83,
   "id": "cb8d1a07",
   "metadata": {},
   "outputs": [
    {
     "data": {
      "text/plain": [
       "{23, 25, 27, 29, 31, 'Krish'}"
      ]
     },
     "execution_count": 83,
     "metadata": {},
     "output_type": "execute_result"
    }
   ],
   "source": [
    "s"
   ]
  },
  {
   "cell_type": "code",
   "execution_count": 84,
   "id": "f4efa403",
   "metadata": {},
   "outputs": [
    {
     "name": "stdout",
     "output_type": "stream",
     "text": [
      "Krish\n",
      "23\n",
      "25\n",
      "27\n",
      "29\n",
      "31\n"
     ]
    }
   ],
   "source": [
    "for i in s:\n",
    "    print(i)"
   ]
  },
  {
   "cell_type": "code",
   "execution_count": 85,
   "id": "a114ed72",
   "metadata": {},
   "outputs": [
    {
     "name": "stdout",
     "output_type": "stream",
     "text": [
      "krish\n",
      "23\n",
      "25\n",
      "27\n",
      "29\n",
      "31\n"
     ]
    }
   ],
   "source": [
    "s=set([23,25,27,27,29,31,'krish'])\n",
    "for i in s:\n",
    "    print(i)"
   ]
  },
  {
   "cell_type": "code",
   "execution_count": 86,
   "id": "c5c2c137",
   "metadata": {},
   "outputs": [
    {
     "data": {
      "text/plain": [
       "True"
      ]
     },
     "execution_count": 86,
     "metadata": {},
     "output_type": "execute_result"
    }
   ],
   "source": [
    "23 in s"
   ]
  },
  {
   "cell_type": "code",
   "execution_count": 87,
   "id": "c0f5c8b1",
   "metadata": {},
   "outputs": [
    {
     "data": {
      "text/plain": [
       "True"
      ]
     },
     "execution_count": 87,
     "metadata": {},
     "output_type": "execute_result"
    }
   ],
   "source": [
    "'krish'in s"
   ]
  },
  {
   "cell_type": "code",
   "execution_count": 88,
   "id": "a7079f87",
   "metadata": {},
   "outputs": [
    {
     "data": {
      "text/plain": [
       "False"
      ]
     },
     "execution_count": 88,
     "metadata": {},
     "output_type": "execute_result"
    }
   ],
   "source": [
    "'kumar' in s"
   ]
  },
  {
   "cell_type": "code",
   "execution_count": 89,
   "id": "90de02f6",
   "metadata": {},
   "outputs": [],
   "source": [
    "l=[1,2,3,4,5,6,7,8,9,10,'Bhushan',3.14,['Krish']]"
   ]
  },
  {
   "cell_type": "code",
   "execution_count": 90,
   "id": "2bb2dfc0",
   "metadata": {},
   "outputs": [
    {
     "ename": "TypeError",
     "evalue": "unhashable type: 'list'",
     "output_type": "error",
     "traceback": [
      "\u001b[1;31m---------------------------------------------------------------------------\u001b[0m",
      "\u001b[1;31mTypeError\u001b[0m                                 Traceback (most recent call last)",
      "\u001b[1;32m<ipython-input-90-77fc889cda16>\u001b[0m in \u001b[0;36m<module>\u001b[1;34m\u001b[0m\n\u001b[1;32m----> 1\u001b[1;33m \u001b[0ms\u001b[0m\u001b[1;33m=\u001b[0m\u001b[0mset\u001b[0m\u001b[1;33m(\u001b[0m\u001b[0ml\u001b[0m\u001b[1;33m)\u001b[0m\u001b[1;33m\u001b[0m\u001b[1;33m\u001b[0m\u001b[0m\n\u001b[0m",
      "\u001b[1;31mTypeError\u001b[0m: unhashable type: 'list'"
     ]
    }
   ],
   "source": [
    "s=set(l)"
   ]
  },
  {
   "cell_type": "code",
   "execution_count": 91,
   "id": "6478babe",
   "metadata": {},
   "outputs": [
    {
     "data": {
      "text/plain": [
       "{23, 25, 27, 29, 31, 'krish'}"
      ]
     },
     "execution_count": 91,
     "metadata": {},
     "output_type": "execute_result"
    }
   ],
   "source": [
    "s"
   ]
  },
  {
   "cell_type": "code",
   "execution_count": 92,
   "id": "50b7ec23",
   "metadata": {},
   "outputs": [
    {
     "name": "stdout",
     "output_type": "stream",
     "text": [
      "krish\n",
      "23\n",
      "25\n",
      "27\n",
      "29\n",
      "31\n"
     ]
    }
   ],
   "source": [
    "for i in s:\n",
    "    print(i)"
   ]
  },
  {
   "cell_type": "code",
   "execution_count": 93,
   "id": "e657f143",
   "metadata": {},
   "outputs": [
    {
     "ename": "TypeError",
     "evalue": "'set' object is not subscriptable",
     "output_type": "error",
     "traceback": [
      "\u001b[1;31m---------------------------------------------------------------------------\u001b[0m",
      "\u001b[1;31mTypeError\u001b[0m                                 Traceback (most recent call last)",
      "\u001b[1;32m<ipython-input-93-c9c96910e542>\u001b[0m in \u001b[0;36m<module>\u001b[1;34m\u001b[0m\n\u001b[1;32m----> 1\u001b[1;33m \u001b[0ms\u001b[0m\u001b[1;33m[\u001b[0m\u001b[1;36m0\u001b[0m\u001b[1;33m]\u001b[0m\u001b[1;33m\u001b[0m\u001b[1;33m\u001b[0m\u001b[0m\n\u001b[0m",
      "\u001b[1;31mTypeError\u001b[0m: 'set' object is not subscriptable"
     ]
    }
   ],
   "source": [
    "s[0]"
   ]
  },
  {
   "cell_type": "code",
   "execution_count": 94,
   "id": "f6669d5e",
   "metadata": {},
   "outputs": [
    {
     "data": {
      "text/plain": [
       "{23, 25, 27, 29, 31, 'krish'}"
      ]
     },
     "execution_count": 94,
     "metadata": {},
     "output_type": "execute_result"
    }
   ],
   "source": [
    "s.copy()"
   ]
  },
  {
   "cell_type": "code",
   "execution_count": 95,
   "id": "46be4e26",
   "metadata": {},
   "outputs": [],
   "source": [
    "s.add('Bhushan')"
   ]
  },
  {
   "cell_type": "code",
   "execution_count": 96,
   "id": "10a53c7c",
   "metadata": {},
   "outputs": [
    {
     "data": {
      "text/plain": [
       "{23, 25, 27, 29, 31, 'Bhushan', 'krish'}"
      ]
     },
     "execution_count": 96,
     "metadata": {},
     "output_type": "execute_result"
    }
   ],
   "source": [
    "s"
   ]
  },
  {
   "cell_type": "code",
   "execution_count": 97,
   "id": "811221d5",
   "metadata": {},
   "outputs": [],
   "source": [
    "s.remove(23)"
   ]
  },
  {
   "cell_type": "code",
   "execution_count": 98,
   "id": "b5290e5c",
   "metadata": {},
   "outputs": [
    {
     "data": {
      "text/plain": [
       "{25, 27, 29, 31, 'Bhushan', 'krish'}"
      ]
     },
     "execution_count": 98,
     "metadata": {},
     "output_type": "execute_result"
    }
   ],
   "source": [
    "s"
   ]
  },
  {
   "cell_type": "code",
   "execution_count": 99,
   "id": "921fa6c1",
   "metadata": {},
   "outputs": [
    {
     "data": {
      "text/plain": [
       "False"
      ]
     },
     "execution_count": 99,
     "metadata": {},
     "output_type": "execute_result"
    }
   ],
   "source": [
    "45 in s"
   ]
  },
  {
   "cell_type": "code",
   "execution_count": 100,
   "id": "72528893",
   "metadata": {},
   "outputs": [],
   "source": [
    "s.add('Tasleem')"
   ]
  },
  {
   "cell_type": "code",
   "execution_count": 101,
   "id": "e53fac5b",
   "metadata": {},
   "outputs": [],
   "source": [
    "s.add('Vasu')"
   ]
  },
  {
   "cell_type": "code",
   "execution_count": 102,
   "id": "78214cc1",
   "metadata": {},
   "outputs": [],
   "source": [
    "s.add('Kavya')"
   ]
  },
  {
   "cell_type": "code",
   "execution_count": 103,
   "id": "a758b1af",
   "metadata": {},
   "outputs": [
    {
     "data": {
      "text/plain": [
       "{25, 27, 29, 31, 'Bhushan', 'Kavya', 'Tasleem', 'Vasu', 'krish'}"
      ]
     },
     "execution_count": 103,
     "metadata": {},
     "output_type": "execute_result"
    }
   ],
   "source": [
    "s"
   ]
  },
  {
   "cell_type": "code",
   "execution_count": 104,
   "id": "ac4935f4",
   "metadata": {},
   "outputs": [],
   "source": [
    "l=[5,10,15,25,35,45]"
   ]
  },
  {
   "cell_type": "code",
   "execution_count": 105,
   "id": "51bdaffa",
   "metadata": {},
   "outputs": [],
   "source": [
    "s1=set(l)"
   ]
  },
  {
   "cell_type": "code",
   "execution_count": 106,
   "id": "ad2682db",
   "metadata": {},
   "outputs": [
    {
     "data": {
      "text/plain": [
       "{5, 10, 15, 25, 35, 45}"
      ]
     },
     "execution_count": 106,
     "metadata": {},
     "output_type": "execute_result"
    }
   ],
   "source": [
    "s1"
   ]
  },
  {
   "cell_type": "code",
   "execution_count": 107,
   "id": "9aece177",
   "metadata": {},
   "outputs": [
    {
     "ename": "TypeError",
     "evalue": "unsupported operand type(s) for +: 'set' and 'set'",
     "output_type": "error",
     "traceback": [
      "\u001b[1;31m---------------------------------------------------------------------------\u001b[0m",
      "\u001b[1;31mTypeError\u001b[0m                                 Traceback (most recent call last)",
      "\u001b[1;32m<ipython-input-107-d4a57f000bc9>\u001b[0m in \u001b[0;36m<module>\u001b[1;34m\u001b[0m\n\u001b[1;32m----> 1\u001b[1;33m \u001b[0ms\u001b[0m\u001b[1;33m+\u001b[0m\u001b[0ms1\u001b[0m\u001b[1;33m\u001b[0m\u001b[1;33m\u001b[0m\u001b[0m\n\u001b[0m",
      "\u001b[1;31mTypeError\u001b[0m: unsupported operand type(s) for +: 'set' and 'set'"
     ]
    }
   ],
   "source": [
    "s+s1"
   ]
  },
  {
   "cell_type": "code",
   "execution_count": 108,
   "id": "26002f63",
   "metadata": {},
   "outputs": [
    {
     "ename": "TypeError",
     "evalue": "unsupported operand type(s) for *: 'set' and 'int'",
     "output_type": "error",
     "traceback": [
      "\u001b[1;31m---------------------------------------------------------------------------\u001b[0m",
      "\u001b[1;31mTypeError\u001b[0m                                 Traceback (most recent call last)",
      "\u001b[1;32m<ipython-input-108-183afb5d29ec>\u001b[0m in \u001b[0;36m<module>\u001b[1;34m\u001b[0m\n\u001b[1;32m----> 1\u001b[1;33m \u001b[0ms\u001b[0m \u001b[1;33m*\u001b[0m\u001b[1;36m4\u001b[0m\u001b[1;33m\u001b[0m\u001b[1;33m\u001b[0m\u001b[0m\n\u001b[0m",
      "\u001b[1;31mTypeError\u001b[0m: unsupported operand type(s) for *: 'set' and 'int'"
     ]
    }
   ],
   "source": [
    "s *4"
   ]
  },
  {
   "cell_type": "code",
   "execution_count": null,
   "id": "48c83052",
   "metadata": {},
   "outputs": [],
   "source": [
    "s"
   ]
  },
  {
   "cell_type": "code",
   "execution_count": 109,
   "id": "bbf5fa26",
   "metadata": {},
   "outputs": [
    {
     "data": {
      "text/plain": [
       "['krish', 'Kavya', 'Bhushan', 'Tasleem', 'Vasu', 25, 27, 29, 31]"
      ]
     },
     "execution_count": 109,
     "metadata": {},
     "output_type": "execute_result"
    }
   ],
   "source": [
    "list(s)"
   ]
  },
  {
   "cell_type": "code",
   "execution_count": 110,
   "id": "0f71635b",
   "metadata": {},
   "outputs": [],
   "source": [
    "l4=list(s)"
   ]
  },
  {
   "cell_type": "code",
   "execution_count": 111,
   "id": "bd2d9270",
   "metadata": {},
   "outputs": [],
   "source": [
    "l4.append(454)"
   ]
  },
  {
   "cell_type": "code",
   "execution_count": 112,
   "id": "cc2d572c",
   "metadata": {},
   "outputs": [
    {
     "data": {
      "text/plain": [
       "['krish', 'Kavya', 'Bhushan', 'Tasleem', 'Vasu', 25, 27, 29, 31, 454]"
      ]
     },
     "execution_count": 112,
     "metadata": {},
     "output_type": "execute_result"
    }
   ],
   "source": [
    "l4"
   ]
  },
  {
   "cell_type": "code",
   "execution_count": 113,
   "id": "e0cdd3c4",
   "metadata": {},
   "outputs": [
    {
     "data": {
      "text/plain": [
       "('krish', 'Kavya', 'Bhushan', 'Tasleem', 'Vasu', 25, 27, 29, 31)"
      ]
     },
     "execution_count": 113,
     "metadata": {},
     "output_type": "execute_result"
    }
   ],
   "source": [
    "tuple(s)"
   ]
  },
  {
   "cell_type": "code",
   "execution_count": 114,
   "id": "48104777",
   "metadata": {},
   "outputs": [],
   "source": [
    "t4=tuple(s)"
   ]
  },
  {
   "cell_type": "code",
   "execution_count": 115,
   "id": "ef361160",
   "metadata": {},
   "outputs": [
    {
     "data": {
      "text/plain": [
       "{25, 27, 29, 31, 'Bhushan', 'Kavya', 'Tasleem', 'Vasu', 'krish'}"
      ]
     },
     "execution_count": 115,
     "metadata": {},
     "output_type": "execute_result"
    }
   ],
   "source": [
    "set(t4)"
   ]
  },
  {
   "cell_type": "code",
   "execution_count": 116,
   "id": "cbc27654",
   "metadata": {},
   "outputs": [
    {
     "data": {
      "text/plain": [
       "{25, 27, 29, 31, 'Bhushan', 'Kavya', 'Tasleem', 'Vasu', 'krish'}"
      ]
     },
     "execution_count": 116,
     "metadata": {},
     "output_type": "execute_result"
    }
   ],
   "source": [
    "s1=[1,2,3,4]\n",
    "s.intersection(s1)\n",
    "s"
   ]
  },
  {
   "cell_type": "code",
   "execution_count": 117,
   "id": "9d261061",
   "metadata": {},
   "outputs": [],
   "source": [
    "s.clear()"
   ]
  },
  {
   "cell_type": "code",
   "execution_count": 118,
   "id": "428def8f",
   "metadata": {},
   "outputs": [
    {
     "data": {
      "text/plain": [
       "set()"
      ]
     },
     "execution_count": 118,
     "metadata": {},
     "output_type": "execute_result"
    }
   ],
   "source": [
    "s"
   ]
  },
  {
   "cell_type": "code",
   "execution_count": 119,
   "id": "5669c73c",
   "metadata": {},
   "outputs": [],
   "source": [
    "dict={}"
   ]
  },
  {
   "cell_type": "code",
   "execution_count": 120,
   "id": "f7c55323",
   "metadata": {},
   "outputs": [
    {
     "data": {
      "text/plain": [
       "dict"
      ]
     },
     "execution_count": 120,
     "metadata": {},
     "output_type": "execute_result"
    }
   ],
   "source": [
    "type(dict)"
   ]
  },
  {
   "cell_type": "code",
   "execution_count": 121,
   "id": "62f60721",
   "metadata": {},
   "outputs": [],
   "source": [
    "dict={9,24}"
   ]
  },
  {
   "cell_type": "code",
   "execution_count": 122,
   "id": "85468937",
   "metadata": {},
   "outputs": [
    {
     "data": {
      "text/plain": [
       "set"
      ]
     },
     "execution_count": 122,
     "metadata": {},
     "output_type": "execute_result"
    }
   ],
   "source": [
    "type(dict)"
   ]
  },
  {
   "cell_type": "code",
   "execution_count": 123,
   "id": "008863d5",
   "metadata": {},
   "outputs": [],
   "source": [
    "dict={'empid':'101','emp_name':'xyz','salary':5000}"
   ]
  },
  {
   "cell_type": "code",
   "execution_count": 124,
   "id": "0991f5c8",
   "metadata": {},
   "outputs": [
    {
     "data": {
      "text/plain": [
       "dict"
      ]
     },
     "execution_count": 124,
     "metadata": {},
     "output_type": "execute_result"
    }
   ],
   "source": [
    "type(dict)"
   ]
  },
  {
   "cell_type": "code",
   "execution_count": 125,
   "id": "d17ec236",
   "metadata": {},
   "outputs": [],
   "source": [
    "d={\"name\":\"Bhushan\",\"age\":21,\"gender\":\"male\",\"color\":\"white\"}"
   ]
  },
  {
   "cell_type": "code",
   "execution_count": 126,
   "id": "f0680242",
   "metadata": {},
   "outputs": [
    {
     "data": {
      "text/plain": [
       "dict"
      ]
     },
     "execution_count": 126,
     "metadata": {},
     "output_type": "execute_result"
    }
   ],
   "source": [
    "type(d)"
   ]
  },
  {
   "cell_type": "code",
   "execution_count": 127,
   "id": "c6e629c0",
   "metadata": {},
   "outputs": [],
   "source": [
    "d={\"name\":\"Bhushan\",\"age\":21,\"gender\":\"male\",\"color\":\"white\"}"
   ]
  },
  {
   "cell_type": "code",
   "execution_count": 128,
   "id": "739ff95f",
   "metadata": {},
   "outputs": [
    {
     "data": {
      "text/plain": [
       "{'name': 'Bhushan', 'age': 21, 'gender': 'male', 'color': 'white'}"
      ]
     },
     "execution_count": 128,
     "metadata": {},
     "output_type": "execute_result"
    }
   ],
   "source": [
    "d"
   ]
  },
  {
   "cell_type": "code",
   "execution_count": 129,
   "id": "74839f15",
   "metadata": {},
   "outputs": [],
   "source": [
    "d={\"name\":\"Bhushan\",\"age\": 21,True :\"Sai\",\"key\":False, 345:45, \"_sfsdf\" : \"Bhushan\"}"
   ]
  },
  {
   "cell_type": "code",
   "execution_count": 130,
   "id": "2eaf7c01",
   "metadata": {},
   "outputs": [
    {
     "data": {
      "text/plain": [
       "{'name': 'Bhushan',\n",
       " 'age': 21,\n",
       " True: 'Sai',\n",
       " 'key': False,\n",
       " 345: 45,\n",
       " '_sfsdf': 'Bhushan'}"
      ]
     },
     "execution_count": 130,
     "metadata": {},
     "output_type": "execute_result"
    }
   ],
   "source": [
    "d"
   ]
  },
  {
   "cell_type": "code",
   "execution_count": 131,
   "id": "3b7ed622",
   "metadata": {},
   "outputs": [],
   "source": [
    "d={\"name\":\"Bhushan\",\"age\": 21,True :\"Sai\",\"key\":False, 345:45, \"_sfsdf\" : [1,2,3,4]}"
   ]
  },
  {
   "cell_type": "code",
   "execution_count": 132,
   "id": "ddab4189",
   "metadata": {},
   "outputs": [
    {
     "data": {
      "text/plain": [
       "{'name': 'Bhushan',\n",
       " 'age': 21,\n",
       " True: 'Sai',\n",
       " 'key': False,\n",
       " 345: 45,\n",
       " '_sfsdf': [1, 2, 3, 4]}"
      ]
     },
     "execution_count": 132,
     "metadata": {},
     "output_type": "execute_result"
    }
   ],
   "source": [
    "d"
   ]
  },
  {
   "cell_type": "code",
   "execution_count": 133,
   "id": "4bde45a1",
   "metadata": {},
   "outputs": [],
   "source": [
    "d={\"name\":\"Bhushan\",\"age\": 21,True:{245,256},\"key\":False, 34545:(2,4,6,8), \"_sfsdf\" : [1,2,3,4]}"
   ]
  },
  {
   "cell_type": "code",
   "execution_count": 134,
   "id": "565ed1e1",
   "metadata": {},
   "outputs": [
    {
     "data": {
      "text/plain": [
       "{'name': 'Bhushan',\n",
       " 'age': 21,\n",
       " True: {245, 256},\n",
       " 'key': False,\n",
       " 34545: (2, 4, 6, 8),\n",
       " '_sfsdf': [1, 2, 3, 4]}"
      ]
     },
     "execution_count": 134,
     "metadata": {},
     "output_type": "execute_result"
    }
   ],
   "source": [
    "d"
   ]
  },
  {
   "cell_type": "code",
   "execution_count": 135,
   "id": "36d2f051",
   "metadata": {},
   "outputs": [],
   "source": [
    "d1={\"name\":{\"k1\":\"wer\",\"k4\":[100,200,300]},\"age\":21,True:{245,256},\"key\":False,34545:(2,4,6,8),\"_sfsdf\":[1,2,3,4,5]}"
   ]
  },
  {
   "cell_type": "code",
   "execution_count": 136,
   "id": "3f2d5d30",
   "metadata": {},
   "outputs": [
    {
     "data": {
      "text/plain": [
       "{'name': {'k1': 'wer', 'k4': [100, 200, 300]},\n",
       " 'age': 21,\n",
       " True: {245, 256},\n",
       " 'key': False,\n",
       " 34545: (2, 4, 6, 8),\n",
       " '_sfsdf': [1, 2, 3, 4, 5]}"
      ]
     },
     "execution_count": 136,
     "metadata": {},
     "output_type": "execute_result"
    }
   ],
   "source": [
    "d1"
   ]
  },
  {
   "cell_type": "code",
   "execution_count": 137,
   "id": "2fed1355",
   "metadata": {},
   "outputs": [],
   "source": [
    "d3={5:\"wer\",'k4':[345,534535,534]}"
   ]
  },
  {
   "cell_type": "code",
   "execution_count": 138,
   "id": "c4f91f4a",
   "metadata": {},
   "outputs": [
    {
     "data": {
      "text/plain": [
       "{5: 'wer', 'k4': [345, 534535, 534]}"
      ]
     },
     "execution_count": 138,
     "metadata": {},
     "output_type": "execute_result"
    }
   ],
   "source": [
    "d3"
   ]
  },
  {
   "cell_type": "code",
   "execution_count": 139,
   "id": "d6ef2148",
   "metadata": {},
   "outputs": [],
   "source": [
    "l=[34,45,4,54]"
   ]
  },
  {
   "cell_type": "code",
   "execution_count": 140,
   "id": "d5f72c8e",
   "metadata": {},
   "outputs": [
    {
     "data": {
      "text/plain": [
       "4"
      ]
     },
     "execution_count": 140,
     "metadata": {},
     "output_type": "execute_result"
    }
   ],
   "source": [
    "l[2]"
   ]
  },
  {
   "cell_type": "code",
   "execution_count": 141,
   "id": "f26adb41",
   "metadata": {},
   "outputs": [
    {
     "data": {
      "text/plain": [
       "False"
      ]
     },
     "execution_count": 141,
     "metadata": {},
     "output_type": "execute_result"
    }
   ],
   "source": [
    "d[\"key\"]"
   ]
  },
  {
   "cell_type": "code",
   "execution_count": 142,
   "id": "101ae291",
   "metadata": {},
   "outputs": [
    {
     "data": {
      "text/plain": [
       "[345, 534535, 534]"
      ]
     },
     "execution_count": 142,
     "metadata": {},
     "output_type": "execute_result"
    }
   ],
   "source": [
    "d3['k4']"
   ]
  },
  {
   "cell_type": "code",
   "execution_count": 143,
   "id": "a411eb6b",
   "metadata": {},
   "outputs": [
    {
     "data": {
      "text/plain": [
       "list"
      ]
     },
     "execution_count": 143,
     "metadata": {},
     "output_type": "execute_result"
    }
   ],
   "source": [
    "type(d1[\"_sfsdf\"])"
   ]
  },
  {
   "cell_type": "code",
   "execution_count": 144,
   "id": "5ea5547a",
   "metadata": {},
   "outputs": [
    {
     "data": {
      "text/plain": [
       "4"
      ]
     },
     "execution_count": 144,
     "metadata": {},
     "output_type": "execute_result"
    }
   ],
   "source": [
    "d1[\"_sfsdf\"][3]"
   ]
  },
  {
   "cell_type": "code",
   "execution_count": 145,
   "id": "d9fad343",
   "metadata": {},
   "outputs": [
    {
     "data": {
      "text/plain": [
       "{'k1': 'wer', 'k4': [100, 200, 300]}"
      ]
     },
     "execution_count": 145,
     "metadata": {},
     "output_type": "execute_result"
    }
   ],
   "source": [
    "d1[\"name\"]"
   ]
  },
  {
   "cell_type": "code",
   "execution_count": 146,
   "id": "1fa03b59",
   "metadata": {},
   "outputs": [
    {
     "data": {
      "text/plain": [
       "[100, 200, 300]"
      ]
     },
     "execution_count": 146,
     "metadata": {},
     "output_type": "execute_result"
    }
   ],
   "source": [
    "d1[\"name\"]['k4']"
   ]
  },
  {
   "cell_type": "code",
   "execution_count": 147,
   "id": "d220ed04",
   "metadata": {},
   "outputs": [
    {
     "data": {
      "text/plain": [
       "{5: 'wer', 'k4': [345, 534535, 534]}"
      ]
     },
     "execution_count": 147,
     "metadata": {},
     "output_type": "execute_result"
    }
   ],
   "source": [
    "d3"
   ]
  },
  {
   "cell_type": "code",
   "execution_count": 148,
   "id": "89bb38aa",
   "metadata": {},
   "outputs": [],
   "source": [
    "d3['k4']=434"
   ]
  },
  {
   "cell_type": "code",
   "execution_count": 149,
   "id": "e54f66c7",
   "metadata": {},
   "outputs": [
    {
     "data": {
      "text/plain": [
       "{5: 'wer', 'k4': 434}"
      ]
     },
     "execution_count": 149,
     "metadata": {},
     "output_type": "execute_result"
    }
   ],
   "source": [
    "d3"
   ]
  },
  {
   "cell_type": "code",
   "execution_count": 150,
   "id": "a65d7e02",
   "metadata": {},
   "outputs": [],
   "source": [
    "d3['k4']-=10"
   ]
  },
  {
   "cell_type": "code",
   "execution_count": 151,
   "id": "87967824",
   "metadata": {},
   "outputs": [],
   "source": [
    "d3['k4']=d3['k4']-10"
   ]
  },
  {
   "cell_type": "code",
   "execution_count": 152,
   "id": "5ca8fe1b",
   "metadata": {},
   "outputs": [
    {
     "data": {
      "text/plain": [
       "{5: 'wer', 'k4': 414}"
      ]
     },
     "execution_count": 152,
     "metadata": {},
     "output_type": "execute_result"
    }
   ],
   "source": [
    "d3"
   ]
  },
  {
   "cell_type": "code",
   "execution_count": 153,
   "id": "6731d826",
   "metadata": {},
   "outputs": [
    {
     "data": {
      "text/plain": [
       "dict_items([(5, 'wer'), ('k4', 414)])"
      ]
     },
     "execution_count": 153,
     "metadata": {},
     "output_type": "execute_result"
    }
   ],
   "source": [
    "d3.items()"
   ]
  },
  {
   "cell_type": "code",
   "execution_count": 154,
   "id": "15b91b3b",
   "metadata": {},
   "outputs": [
    {
     "data": {
      "text/plain": [
       "dict_keys([5, 'k4'])"
      ]
     },
     "execution_count": 154,
     "metadata": {},
     "output_type": "execute_result"
    }
   ],
   "source": [
    "d3.keys()"
   ]
  },
  {
   "cell_type": "code",
   "execution_count": 155,
   "id": "fc3d862b",
   "metadata": {},
   "outputs": [
    {
     "data": {
      "text/plain": [
       "{5: 'wer', 'k4': 414}"
      ]
     },
     "execution_count": 155,
     "metadata": {},
     "output_type": "execute_result"
    }
   ],
   "source": [
    "d3.copy()"
   ]
  },
  {
   "cell_type": "code",
   "execution_count": 156,
   "id": "e3592e41",
   "metadata": {},
   "outputs": [
    {
     "data": {
      "text/plain": [
       "{5: 'wer', 'k4': 414}"
      ]
     },
     "execution_count": 156,
     "metadata": {},
     "output_type": "execute_result"
    }
   ],
   "source": [
    "d3"
   ]
  },
  {
   "cell_type": "code",
   "execution_count": 157,
   "id": "2d62991a",
   "metadata": {},
   "outputs": [
    {
     "data": {
      "text/plain": [
       "{'name': {'k1': 'wer', 'k4': [100, 200, 300]},\n",
       " 'age': 21,\n",
       " True: {245, 256},\n",
       " 'key': False,\n",
       " 34545: (2, 4, 6, 8),\n",
       " '_sfsdf': [1, 2, 3, 4, 5]}"
      ]
     },
     "execution_count": 157,
     "metadata": {},
     "output_type": "execute_result"
    }
   ],
   "source": [
    "d1"
   ]
  },
  {
   "cell_type": "code",
   "execution_count": 158,
   "id": "eb8752b4",
   "metadata": {},
   "outputs": [
    {
     "name": "stdout",
     "output_type": "stream",
     "text": [
      "{'k1': 'wer', 'k4': [100, 200, 300]}\n",
      "21\n",
      "{256, 245}\n",
      "False\n",
      "(2, 4, 6, 8)\n",
      "[1, 2, 3, 4, 5]\n"
     ]
    }
   ],
   "source": [
    "for i in d1.keys():\n",
    "    print(d1[i])"
   ]
  },
  {
   "cell_type": "code",
   "execution_count": 159,
   "id": "bcbb99f1",
   "metadata": {},
   "outputs": [
    {
     "name": "stdout",
     "output_type": "stream",
     "text": [
      "<class 'list'>\n"
     ]
    }
   ],
   "source": [
    "print(type(d1[i]))"
   ]
  },
  {
   "cell_type": "code",
   "execution_count": 160,
   "id": "147e0eb7",
   "metadata": {},
   "outputs": [
    {
     "data": {
      "text/plain": [
       "dict_items([('name', {'k1': 'wer', 'k4': [100, 200, 300]}), ('age', 21), (True, {256, 245}), ('key', False), (34545, (2, 4, 6, 8)), ('_sfsdf', [1, 2, 3, 4, 5])])"
      ]
     },
     "execution_count": 160,
     "metadata": {},
     "output_type": "execute_result"
    }
   ],
   "source": [
    "d1.items()"
   ]
  },
  {
   "cell_type": "code",
   "execution_count": 162,
   "id": "a21dca3a",
   "metadata": {},
   "outputs": [
    {
     "name": "stdout",
     "output_type": "stream",
     "text": [
      "('name', {'k1': 'wer', 'k4': [100, 200, 300]})\n",
      "('age', 21)\n",
      "(True, {256, 245})\n",
      "('key', False)\n",
      "(34545, (2, 4, 6, 8))\n",
      "('_sfsdf', [1, 2, 3, 4, 5])\n"
     ]
    }
   ],
   "source": [
    "for i in d1.items():\n",
    "    print(i)"
   ]
  },
  {
   "cell_type": "code",
   "execution_count": 163,
   "id": "4b2337a4",
   "metadata": {},
   "outputs": [
    {
     "name": "stdout",
     "output_type": "stream",
     "text": [
      "name\n",
      "age\n",
      "True\n",
      "key\n",
      "34545\n",
      "_sfsdf\n"
     ]
    }
   ],
   "source": [
    "for i in d1.items():\n",
    "    print(i[0])"
   ]
  },
  {
   "cell_type": "code",
   "execution_count": 164,
   "id": "0ef5d072",
   "metadata": {},
   "outputs": [
    {
     "name": "stdout",
     "output_type": "stream",
     "text": [
      "{'k1': 'wer', 'k4': [100, 200, 300]}\n",
      "21\n",
      "{256, 245}\n",
      "False\n",
      "(2, 4, 6, 8)\n",
      "[1, 2, 3, 4, 5]\n"
     ]
    }
   ],
   "source": [
    "for i in d1.items():\n",
    "    print(i[1])"
   ]
  },
  {
   "cell_type": "code",
   "execution_count": 167,
   "id": "9feecfcb",
   "metadata": {},
   "outputs": [],
   "source": [
    "d5={(34,56,56):\"Bhushan\"}"
   ]
  },
  {
   "cell_type": "code",
   "execution_count": 168,
   "id": "1eea4376",
   "metadata": {},
   "outputs": [
    {
     "data": {
      "text/plain": [
       "'Bhushan'"
      ]
     },
     "execution_count": 168,
     "metadata": {},
     "output_type": "execute_result"
    }
   ],
   "source": [
    "d5[34,56,56]"
   ]
  },
  {
   "cell_type": "code",
   "execution_count": 169,
   "id": "43f7f814",
   "metadata": {},
   "outputs": [
    {
     "data": {
      "text/plain": [
       "6"
      ]
     },
     "execution_count": 169,
     "metadata": {},
     "output_type": "execute_result"
    }
   ],
   "source": [
    "len(d1)"
   ]
  },
  {
   "cell_type": "code",
   "execution_count": 170,
   "id": "9e1055ce",
   "metadata": {},
   "outputs": [],
   "source": [
    "e={56:(45,78,89)}"
   ]
  },
  {
   "cell_type": "code",
   "execution_count": 171,
   "id": "ee225dcb",
   "metadata": {},
   "outputs": [
    {
     "data": {
      "text/plain": [
       "(45, 78, 89)"
      ]
     },
     "execution_count": 171,
     "metadata": {},
     "output_type": "execute_result"
    }
   ],
   "source": [
    "e[56]"
   ]
  },
  {
   "cell_type": "markdown",
   "id": "649c98f0",
   "metadata": {},
   "source": [
    "Q1) Take input as a paragraph by using input function"
   ]
  },
  {
   "cell_type": "code",
   "execution_count": 172,
   "id": "4bcbae6d",
   "metadata": {},
   "outputs": [
    {
     "name": "stdout",
     "output_type": "stream",
     "text": [
      "Enter the paragraph-->> dfsafs\n",
      "Tuple List-->>  ('akshat',)\n",
      "List Keys-->>  ['dfsafs']\n"
     ]
    }
   ],
   "source": [
    "data=input(\"Enter the paragraph-->> \")\n",
    "\n",
    "# Q1\n",
    "data_list= data.split(\" \")\n",
    "\n",
    "# Q2\n",
    "no_duplicate=set(data_list)\n",
    "\n",
    "# Q3\n",
    "my_dict={}\n",
    "for i in no_duplicate:\n",
    "    my_dict[i]=\"akshat\"\n",
    "# my_dict\n",
    "\n",
    "# Q4\n",
    "tup_list=[]\n",
    "for i in my_dict.keys():\n",
    "    tup_list.append(my_dict[i])\n",
    "\n",
    "print(\"Tuple List-->> \",tuple(tup_list))\n",
    "\n",
    "\n",
    "    \n",
    "# Q5\n",
    "list_keys=[]\n",
    "for i in my_dict.keys():\n",
    "    list_keys.append(i)\n",
    "\n",
    "print(\"List Keys-->> \",list_keys)\n"
   ]
  },
  {
   "cell_type": "code",
   "execution_count": 173,
   "id": "fac1e442",
   "metadata": {},
   "outputs": [
    {
     "name": "stdout",
     "output_type": "stream",
     "text": [
      "Enter the para:dfsafs\n"
     ]
    }
   ],
   "source": [
    "paragph = input(\"Enter the para:\")\n",
    "lst1=paragph.split(\" \")\n",
    "s1=set(lst1)\n",
    "dic1=dict.fromkeys(s1,'db')\n",
    "t1=tuple(dic1.keys())\n",
    "l2=list(dic1.values())"
   ]
  },
  {
   "cell_type": "code",
   "execution_count": 174,
   "id": "4fed2018",
   "metadata": {},
   "outputs": [
    {
     "data": {
      "text/plain": [
       "{'dfsafs': 'db'}"
      ]
     },
     "execution_count": 174,
     "metadata": {},
     "output_type": "execute_result"
    }
   ],
   "source": [
    "dic1"
   ]
  },
  {
   "cell_type": "code",
   "execution_count": 175,
   "id": "abfbc6e9",
   "metadata": {},
   "outputs": [
    {
     "data": {
      "text/plain": [
       "('dfsafs',)"
      ]
     },
     "execution_count": 175,
     "metadata": {},
     "output_type": "execute_result"
    }
   ],
   "source": [
    "t1"
   ]
  },
  {
   "cell_type": "code",
   "execution_count": 176,
   "id": "12a95c76",
   "metadata": {},
   "outputs": [
    {
     "data": {
      "text/plain": [
       "['db']"
      ]
     },
     "execution_count": 176,
     "metadata": {},
     "output_type": "execute_result"
    }
   ],
   "source": [
    "l2"
   ]
  },
  {
   "cell_type": "code",
   "execution_count": 177,
   "id": "1240f238",
   "metadata": {},
   "outputs": [],
   "source": [
    "d = {\"company\":\"ineuron\" ,\"course\": \"full stack data science\" , \"year\" : 2022}"
   ]
  },
  {
   "cell_type": "code",
   "execution_count": 178,
   "id": "9ec70424",
   "metadata": {},
   "outputs": [
    {
     "name": "stdout",
     "output_type": "stream",
     "text": [
      " print a key  :  company  ;  value wise :   ineuron\n",
      " print a key  :  course  ;  value wise :   full stack data science\n",
      " print a key  :  year  ;  value wise :   2022\n"
     ]
    }
   ],
   "source": [
    "for i in d :\n",
    "    print(\" print a key  : \" ,i  , \" ; \", \"value wise :  \" , d[i])"
   ]
  },
  {
   "cell_type": "code",
   "execution_count": 179,
   "id": "7adc243b",
   "metadata": {},
   "outputs": [
    {
     "data": {
      "text/plain": [
       "True"
      ]
     },
     "execution_count": 179,
     "metadata": {},
     "output_type": "execute_result"
    }
   ],
   "source": [
    "\"course\" in d "
   ]
  },
  {
   "cell_type": "code",
   "execution_count": 180,
   "id": "967e4b12",
   "metadata": {},
   "outputs": [
    {
     "name": "stdout",
     "output_type": "stream",
     "text": [
      "year is fine \n"
     ]
    }
   ],
   "source": [
    "for i in d :\n",
    "    if i == 'year':\n",
    "        if d[i] > 2021:\n",
    "            print(\"year is fine \")\n",
    "        else :\n",
    "            d[i] = 2022"
   ]
  },
  {
   "cell_type": "code",
   "execution_count": 181,
   "id": "58648b60",
   "metadata": {},
   "outputs": [
    {
     "data": {
      "text/plain": [
       "{'company': 'ineuron', 'course': 'full stack data science', 'year': 2022}"
      ]
     },
     "execution_count": 181,
     "metadata": {},
     "output_type": "execute_result"
    }
   ],
   "source": [
    "d"
   ]
  },
  {
   "cell_type": "code",
   "execution_count": null,
   "id": "a0439fbc",
   "metadata": {},
   "outputs": [],
   "source": []
  }
 ],
 "metadata": {
  "kernelspec": {
   "display_name": "Python 3",
   "language": "python",
   "name": "python3"
  },
  "language_info": {
   "codemirror_mode": {
    "name": "ipython",
    "version": 3
   },
   "file_extension": ".py",
   "mimetype": "text/x-python",
   "name": "python",
   "nbconvert_exporter": "python",
   "pygments_lexer": "ipython3",
   "version": "3.8.8"
  }
 },
 "nbformat": 4,
 "nbformat_minor": 5
}
