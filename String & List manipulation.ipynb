{
 "cells": [
  {
   "cell_type": "markdown",
   "id": "ff295bdf",
   "metadata": {},
   "source": [
    "# String and List manipulation"
   ]
  },
  {
   "cell_type": "code",
   "execution_count": 1,
   "id": "f62b60a3",
   "metadata": {},
   "outputs": [],
   "source": [
    "Str='iNeuron'"
   ]
  },
  {
   "cell_type": "code",
   "execution_count": 2,
   "id": "62dfa9ce",
   "metadata": {},
   "outputs": [
    {
     "data": {
      "text/plain": [
       "'iNeuron'"
      ]
     },
     "execution_count": 2,
     "metadata": {},
     "output_type": "execute_result"
    }
   ],
   "source": [
    "Str"
   ]
  },
  {
   "cell_type": "code",
   "execution_count": 3,
   "id": "d1c7606c",
   "metadata": {},
   "outputs": [],
   "source": [
    "Str=\"iNeuron\""
   ]
  },
  {
   "cell_type": "code",
   "execution_count": 4,
   "id": "5947cc0c",
   "metadata": {},
   "outputs": [
    {
     "data": {
      "text/plain": [
       "'iNeuron'"
      ]
     },
     "execution_count": 4,
     "metadata": {},
     "output_type": "execute_result"
    }
   ],
   "source": [
    "Str"
   ]
  },
  {
   "cell_type": "code",
   "execution_count": 5,
   "id": "e2b948b8",
   "metadata": {},
   "outputs": [
    {
     "data": {
      "text/plain": [
       "str"
      ]
     },
     "execution_count": 5,
     "metadata": {},
     "output_type": "execute_result"
    }
   ],
   "source": [
    "type(Str)"
   ]
  },
  {
   "cell_type": "code",
   "execution_count": 6,
   "id": "6fe04d16",
   "metadata": {},
   "outputs": [
    {
     "name": "stdout",
     "output_type": "stream",
     "text": [
      "iNeuron is a good learning platform\n"
     ]
    },
    {
     "data": {
      "text/plain": [
       "str"
      ]
     },
     "execution_count": 6,
     "metadata": {},
     "output_type": "execute_result"
    }
   ],
   "source": [
    "Str='iNeuron is a good learning platform'\n",
    "print(Str)\n",
    "type(Str)"
   ]
  },
  {
   "cell_type": "code",
   "execution_count": 7,
   "id": "04f4c6e6",
   "metadata": {},
   "outputs": [
    {
     "data": {
      "text/plain": [
       "35"
      ]
     },
     "execution_count": 7,
     "metadata": {},
     "output_type": "execute_result"
    }
   ],
   "source": [
    "len(Str)"
   ]
  },
  {
   "cell_type": "markdown",
   "id": "f3f9d323",
   "metadata": {},
   "source": [
    "# String indexing"
   ]
  },
  {
   "cell_type": "code",
   "execution_count": 8,
   "id": "b6d995a6",
   "metadata": {},
   "outputs": [
    {
     "data": {
      "text/plain": [
       "'i'"
      ]
     },
     "execution_count": 8,
     "metadata": {},
     "output_type": "execute_result"
    }
   ],
   "source": [
    "Str[0]"
   ]
  },
  {
   "cell_type": "code",
   "execution_count": 9,
   "id": "c41ed3f6",
   "metadata": {},
   "outputs": [
    {
     "data": {
      "text/plain": [
       "'N'"
      ]
     },
     "execution_count": 9,
     "metadata": {},
     "output_type": "execute_result"
    }
   ],
   "source": [
    "Str[1]"
   ]
  },
  {
   "cell_type": "code",
   "execution_count": 10,
   "id": "a792cd0f",
   "metadata": {},
   "outputs": [
    {
     "data": {
      "text/plain": [
       "'e'"
      ]
     },
     "execution_count": 10,
     "metadata": {},
     "output_type": "execute_result"
    }
   ],
   "source": [
    "Str[2]"
   ]
  },
  {
   "cell_type": "code",
   "execution_count": 11,
   "id": "e9411f3b",
   "metadata": {},
   "outputs": [
    {
     "data": {
      "text/plain": [
       "'u'"
      ]
     },
     "execution_count": 11,
     "metadata": {},
     "output_type": "execute_result"
    }
   ],
   "source": [
    "Str[3]"
   ]
  },
  {
   "cell_type": "code",
   "execution_count": 12,
   "id": "0d97ea2d",
   "metadata": {},
   "outputs": [
    {
     "data": {
      "text/plain": [
       "'r'"
      ]
     },
     "execution_count": 12,
     "metadata": {},
     "output_type": "execute_result"
    }
   ],
   "source": [
    "Str[4]"
   ]
  },
  {
   "cell_type": "code",
   "execution_count": 13,
   "id": "a5072b48",
   "metadata": {},
   "outputs": [
    {
     "data": {
      "text/plain": [
       "'o'"
      ]
     },
     "execution_count": 13,
     "metadata": {},
     "output_type": "execute_result"
    }
   ],
   "source": [
    "Str[5]"
   ]
  },
  {
   "cell_type": "code",
   "execution_count": 14,
   "id": "8ee40379",
   "metadata": {},
   "outputs": [
    {
     "data": {
      "text/plain": [
       "'n'"
      ]
     },
     "execution_count": 14,
     "metadata": {},
     "output_type": "execute_result"
    }
   ],
   "source": [
    "Str[6]"
   ]
  },
  {
   "cell_type": "markdown",
   "id": "ae144ca3",
   "metadata": {},
   "source": [
    "# String Slicling"
   ]
  },
  {
   "cell_type": "code",
   "execution_count": 15,
   "id": "faf26f77",
   "metadata": {},
   "outputs": [
    {
     "data": {
      "text/plain": [
       "'iNeu'"
      ]
     },
     "execution_count": 15,
     "metadata": {},
     "output_type": "execute_result"
    }
   ],
   "source": [
    "Str[0:4]"
   ]
  },
  {
   "cell_type": "code",
   "execution_count": 16,
   "id": "b2ecdc36",
   "metadata": {},
   "outputs": [
    {
     "data": {
      "text/plain": [
       "'iNeuro'"
      ]
     },
     "execution_count": 16,
     "metadata": {},
     "output_type": "execute_result"
    }
   ],
   "source": [
    "Str[0:6]"
   ]
  },
  {
   "cell_type": "code",
   "execution_count": 17,
   "id": "8b146a4d",
   "metadata": {},
   "outputs": [
    {
     "data": {
      "text/plain": [
       "'iNeuron'"
      ]
     },
     "execution_count": 17,
     "metadata": {},
     "output_type": "execute_result"
    }
   ],
   "source": [
    "Str[0:7]"
   ]
  },
  {
   "cell_type": "markdown",
   "id": "d75a27c0",
   "metadata": {},
   "source": [
    "# Negitive indexing"
   ]
  },
  {
   "cell_type": "code",
   "execution_count": 18,
   "id": "e4ada603",
   "metadata": {},
   "outputs": [
    {
     "data": {
      "text/plain": [
       "'m'"
      ]
     },
     "execution_count": 18,
     "metadata": {},
     "output_type": "execute_result"
    }
   ],
   "source": [
    "Str[-1]"
   ]
  },
  {
   "cell_type": "code",
   "execution_count": 19,
   "id": "2fa865a6",
   "metadata": {},
   "outputs": [
    {
     "data": {
      "text/plain": [
       "'iNeuron is a good learning platfor'"
      ]
     },
     "execution_count": 19,
     "metadata": {},
     "output_type": "execute_result"
    }
   ],
   "source": [
    "Str[:-1]"
   ]
  },
  {
   "cell_type": "code",
   "execution_count": 20,
   "id": "0b5e03d4",
   "metadata": {},
   "outputs": [
    {
     "data": {
      "text/plain": [
       "'iNeuron is a good learning platfo'"
      ]
     },
     "execution_count": 20,
     "metadata": {},
     "output_type": "execute_result"
    }
   ],
   "source": [
    "Str[:-2]"
   ]
  },
  {
   "cell_type": "code",
   "execution_count": 21,
   "id": "fb69e26a",
   "metadata": {},
   "outputs": [
    {
     "data": {
      "text/plain": [
       "''"
      ]
     },
     "execution_count": 21,
     "metadata": {},
     "output_type": "execute_result"
    }
   ],
   "source": [
    "Str[-1:-10:1]"
   ]
  },
  {
   "cell_type": "code",
   "execution_count": 22,
   "id": "2e3e9ebd",
   "metadata": {},
   "outputs": [
    {
     "data": {
      "text/plain": [
       "'mroftalp '"
      ]
     },
     "execution_count": 22,
     "metadata": {},
     "output_type": "execute_result"
    }
   ],
   "source": [
    "Str[-1:-10:-1]"
   ]
  },
  {
   "cell_type": "code",
   "execution_count": 23,
   "id": "0262343c",
   "metadata": {},
   "outputs": [
    {
     "data": {
      "text/plain": [
       "'iNeuron is a good learning platform'"
      ]
     },
     "execution_count": 23,
     "metadata": {},
     "output_type": "execute_result"
    }
   ],
   "source": [
    "Str"
   ]
  },
  {
   "cell_type": "code",
   "execution_count": 24,
   "id": "8840061c",
   "metadata": {},
   "outputs": [
    {
     "name": "stdout",
     "output_type": "stream",
     "text": [
      "i\n",
      "N\n",
      "e\n",
      "u\n",
      "r\n",
      "o\n",
      "n\n",
      " \n",
      "i\n",
      "s\n",
      " \n",
      "a\n",
      " \n",
      "g\n",
      "o\n",
      "o\n",
      "d\n",
      " \n",
      "l\n",
      "e\n",
      "a\n",
      "r\n",
      "n\n",
      "i\n",
      "n\n",
      "g\n",
      " \n",
      "p\n",
      "l\n",
      "a\n",
      "t\n",
      "f\n",
      "o\n",
      "r\n",
      "m\n"
     ]
    }
   ],
   "source": [
    "for i in Str:\n",
    "    print(i)"
   ]
  },
  {
   "cell_type": "code",
   "execution_count": 25,
   "id": "85e33251",
   "metadata": {},
   "outputs": [
    {
     "name": "stdout",
     "output_type": "stream",
     "text": [
      "i\n",
      "N\n",
      "e\n",
      "u\n",
      "r\n",
      "o\n",
      "n\n",
      " \n",
      "i\n",
      "s\n",
      " \n",
      "a\n",
      " \n",
      "g\n",
      "o\n",
      "o\n",
      "d\n",
      " \n",
      "l\n",
      "e\n",
      "a\n",
      "r\n",
      "n\n",
      "i\n",
      "n\n",
      "g\n",
      " \n",
      "p\n",
      "l\n",
      "a\n",
      "t\n",
      "f\n",
      "o\n",
      "r\n",
      "m\n"
     ]
    }
   ],
   "source": [
    "for i in range (len(Str)):\n",
    "    print(Str[i])"
   ]
  },
  {
   "cell_type": "code",
   "execution_count": 26,
   "id": "6fed5dfa",
   "metadata": {},
   "outputs": [
    {
     "data": {
      "text/plain": [
       "'mroftalp gninrael doog a si norueNi'"
      ]
     },
     "execution_count": 26,
     "metadata": {},
     "output_type": "execute_result"
    }
   ],
   "source": [
    "Str[::-1]"
   ]
  },
  {
   "cell_type": "code",
   "execution_count": 27,
   "id": "d471197e",
   "metadata": {},
   "outputs": [],
   "source": [
    "l=[\"Krish Naik\",234,345,45,True]"
   ]
  },
  {
   "cell_type": "code",
   "execution_count": 28,
   "id": "512b13ce",
   "metadata": {},
   "outputs": [
    {
     "data": {
      "text/plain": [
       "['Krish Naik', 234, 345, 45, True]"
      ]
     },
     "execution_count": 28,
     "metadata": {},
     "output_type": "execute_result"
    }
   ],
   "source": [
    "l"
   ]
  },
  {
   "cell_type": "code",
   "execution_count": 29,
   "id": "7e7857d2",
   "metadata": {},
   "outputs": [],
   "source": [
    "l[0]=\"Krishna\""
   ]
  },
  {
   "cell_type": "code",
   "execution_count": 30,
   "id": "ee9b731e",
   "metadata": {},
   "outputs": [
    {
     "data": {
      "text/plain": [
       "['Krishna', 234, 345, 45, True]"
      ]
     },
     "execution_count": 30,
     "metadata": {},
     "output_type": "execute_result"
    }
   ],
   "source": [
    "l"
   ]
  },
  {
   "cell_type": "code",
   "execution_count": 31,
   "id": "00687ff9",
   "metadata": {},
   "outputs": [
    {
     "data": {
      "text/plain": [
       "'iNeuron is a good learning platform'"
      ]
     },
     "execution_count": 31,
     "metadata": {},
     "output_type": "execute_result"
    }
   ],
   "source": [
    "Str"
   ]
  },
  {
   "cell_type": "markdown",
   "id": "7a6c2e6b",
   "metadata": {},
   "source": [
    "# string concatenation "
   ]
  },
  {
   "cell_type": "code",
   "execution_count": 32,
   "id": "d26fc521",
   "metadata": {},
   "outputs": [
    {
     "data": {
      "text/plain": [
       "'KrishNaik'"
      ]
     },
     "execution_count": 32,
     "metadata": {},
     "output_type": "execute_result"
    }
   ],
   "source": [
    "\"Krish\" + \"Naik\""
   ]
  },
  {
   "cell_type": "code",
   "execution_count": 33,
   "id": "34727929",
   "metadata": {},
   "outputs": [
    {
     "data": {
      "text/plain": [
       "'Krish3'"
      ]
     },
     "execution_count": 33,
     "metadata": {},
     "output_type": "execute_result"
    }
   ],
   "source": [
    "\"Krish\" + \"3\""
   ]
  },
  {
   "cell_type": "code",
   "execution_count": 34,
   "id": "8545dad9",
   "metadata": {},
   "outputs": [
    {
     "data": {
      "text/plain": [
       "'Krish3'"
      ]
     },
     "execution_count": 34,
     "metadata": {},
     "output_type": "execute_result"
    }
   ],
   "source": [
    "\"Krish\" + str(3)"
   ]
  },
  {
   "cell_type": "code",
   "execution_count": 35,
   "id": "9ff023fe",
   "metadata": {},
   "outputs": [
    {
     "data": {
      "text/plain": [
       "'KrishNaikKrishNaikKrishNaik'"
      ]
     },
     "execution_count": 35,
     "metadata": {},
     "output_type": "execute_result"
    }
   ],
   "source": [
    "\"KrishNaik\" * 3"
   ]
  },
  {
   "cell_type": "code",
   "execution_count": 36,
   "id": "c76e7f64",
   "metadata": {},
   "outputs": [
    {
     "data": {
      "text/plain": [
       "' sudhanshukumar  sudhanshukumar  sudhanshukumar '"
      ]
     },
     "execution_count": 36,
     "metadata": {},
     "output_type": "execute_result"
    }
   ],
   "source": [
    "\" sudhanshukumar \" * 3"
   ]
  },
  {
   "cell_type": "code",
   "execution_count": 37,
   "id": "db46834b",
   "metadata": {},
   "outputs": [
    {
     "data": {
      "text/plain": [
       "'Krish Naik'"
      ]
     },
     "execution_count": 37,
     "metadata": {},
     "output_type": "execute_result"
    }
   ],
   "source": [
    "S=\"Krish Naik\"\n",
    "S.capitalize()\n",
    "S"
   ]
  },
  {
   "cell_type": "code",
   "execution_count": 38,
   "id": "ea6db33d",
   "metadata": {},
   "outputs": [
    {
     "data": {
      "text/plain": [
       "'KRISH NAIK'"
      ]
     },
     "execution_count": 38,
     "metadata": {},
     "output_type": "execute_result"
    }
   ],
   "source": [
    "S.upper()"
   ]
  },
  {
   "cell_type": "code",
   "execution_count": 39,
   "id": "3b9ed6c9",
   "metadata": {},
   "outputs": [
    {
     "data": {
      "text/plain": [
       "'krish naik'"
      ]
     },
     "execution_count": 39,
     "metadata": {},
     "output_type": "execute_result"
    }
   ],
   "source": [
    "S.lower()"
   ]
  },
  {
   "cell_type": "code",
   "execution_count": 40,
   "id": "8f8299f9",
   "metadata": {},
   "outputs": [
    {
     "data": {
      "text/plain": [
       "'krish naik'"
      ]
     },
     "execution_count": 40,
     "metadata": {},
     "output_type": "execute_result"
    }
   ],
   "source": [
    "S.casefold()"
   ]
  },
  {
   "cell_type": "code",
   "execution_count": 41,
   "id": "a05b9b03",
   "metadata": {},
   "outputs": [
    {
     "data": {
      "text/plain": [
       "['Krish', 'Naik']"
      ]
     },
     "execution_count": 41,
     "metadata": {},
     "output_type": "execute_result"
    }
   ],
   "source": [
    "S.split()"
   ]
  },
  {
   "cell_type": "code",
   "execution_count": 42,
   "id": "9644875a",
   "metadata": {},
   "outputs": [
    {
     "data": {
      "text/plain": [
       "-1"
      ]
     },
     "execution_count": 42,
     "metadata": {},
     "output_type": "execute_result"
    }
   ],
   "source": [
    "S.find('krish')"
   ]
  },
  {
   "cell_type": "code",
   "execution_count": 43,
   "id": "c9a601d6",
   "metadata": {},
   "outputs": [
    {
     "name": "stdout",
     "output_type": "stream",
     "text": [
      "0\n",
      "1\n",
      "2\n",
      "3\n",
      "4\n"
     ]
    }
   ],
   "source": [
    "b=S.find(\"Krish\")\n",
    "for i in range(len(\"Krish\")):\n",
    "    print(b+i)"
   ]
  },
  {
   "cell_type": "code",
   "execution_count": 44,
   "id": "2d996e38",
   "metadata": {},
   "outputs": [
    {
     "data": {
      "text/plain": [
       "1"
      ]
     },
     "execution_count": 44,
     "metadata": {},
     "output_type": "execute_result"
    }
   ],
   "source": [
    "S.count('Krish')"
   ]
  },
  {
   "cell_type": "code",
   "execution_count": 45,
   "id": "86b45a79",
   "metadata": {},
   "outputs": [
    {
     "data": {
      "text/plain": [
       "False"
      ]
     },
     "execution_count": 45,
     "metadata": {},
     "output_type": "execute_result"
    }
   ],
   "source": [
    "S.isupper()"
   ]
  },
  {
   "cell_type": "code",
   "execution_count": 46,
   "id": "9c77fcb1",
   "metadata": {},
   "outputs": [
    {
     "data": {
      "text/plain": [
       "'KKrish NaikrKrish NaikiKrish NaiksKrish NaikhKrish Naik Krish NaikNKrish NaikaKrish NaikiKrish Naikk'"
      ]
     },
     "execution_count": 46,
     "metadata": {},
     "output_type": "execute_result"
    }
   ],
   "source": [
    "S.join(S)"
   ]
  },
  {
   "cell_type": "code",
   "execution_count": 47,
   "id": "cdf3ec5f",
   "metadata": {},
   "outputs": [
    {
     "data": {
      "text/plain": [
       "'kRISH nAIK'"
      ]
     },
     "execution_count": 47,
     "metadata": {},
     "output_type": "execute_result"
    }
   ],
   "source": [
    "S.swapcase()"
   ]
  },
  {
   "cell_type": "code",
   "execution_count": 48,
   "id": "ccad66d8",
   "metadata": {},
   "outputs": [
    {
     "data": {
      "text/plain": [
       "False"
      ]
     },
     "execution_count": 48,
     "metadata": {},
     "output_type": "execute_result"
    }
   ],
   "source": [
    "S.isspace()"
   ]
  },
  {
   "cell_type": "code",
   "execution_count": 49,
   "id": "8b6a3358",
   "metadata": {},
   "outputs": [
    {
     "data": {
      "text/plain": [
       "False"
      ]
     },
     "execution_count": 49,
     "metadata": {},
     "output_type": "execute_result"
    }
   ],
   "source": [
    "S.islower()"
   ]
  },
  {
   "cell_type": "code",
   "execution_count": 50,
   "id": "4e87a9fd",
   "metadata": {},
   "outputs": [
    {
     "data": {
      "text/plain": [
       "False"
      ]
     },
     "execution_count": 50,
     "metadata": {},
     "output_type": "execute_result"
    }
   ],
   "source": [
    "S.isdigit()"
   ]
  },
  {
   "cell_type": "code",
   "execution_count": 51,
   "id": "fe4b9a9d",
   "metadata": {},
   "outputs": [],
   "source": [
    "s=\"iNeuron\""
   ]
  },
  {
   "cell_type": "code",
   "execution_count": 52,
   "id": "75f2db3d",
   "metadata": {},
   "outputs": [
    {
     "data": {
      "text/plain": [
       "True"
      ]
     },
     "execution_count": 52,
     "metadata": {},
     "output_type": "execute_result"
    }
   ],
   "source": [
    "s.endswith('n')"
   ]
  },
  {
   "cell_type": "code",
   "execution_count": 53,
   "id": "210d93bc",
   "metadata": {},
   "outputs": [
    {
     "data": {
      "text/plain": [
       "False"
      ]
     },
     "execution_count": 53,
     "metadata": {},
     "output_type": "execute_result"
    }
   ],
   "source": [
    "s.startswith(\"n\")"
   ]
  },
  {
   "cell_type": "code",
   "execution_count": 54,
   "id": "d9269c12",
   "metadata": {},
   "outputs": [
    {
     "data": {
      "text/plain": [
       "True"
      ]
     },
     "execution_count": 54,
     "metadata": {},
     "output_type": "execute_result"
    }
   ],
   "source": [
    "s.isalnum()"
   ]
  },
  {
   "cell_type": "code",
   "execution_count": 55,
   "id": "4a98d8a7",
   "metadata": {},
   "outputs": [
    {
     "data": {
      "text/plain": [
       "True"
      ]
     },
     "execution_count": 55,
     "metadata": {},
     "output_type": "execute_result"
    }
   ],
   "source": [
    "s.isalpha()"
   ]
  },
  {
   "cell_type": "code",
   "execution_count": 56,
   "id": "bd37fc98",
   "metadata": {},
   "outputs": [
    {
     "data": {
      "text/plain": [
       "False"
      ]
     },
     "execution_count": 56,
     "metadata": {},
     "output_type": "execute_result"
    }
   ],
   "source": [
    "s.istitle()"
   ]
  },
  {
   "cell_type": "code",
   "execution_count": 57,
   "id": "de3ae585",
   "metadata": {},
   "outputs": [],
   "source": [
    "s=\"this is a full stack batch\""
   ]
  },
  {
   "cell_type": "code",
   "execution_count": 58,
   "id": "3d3bb8f2",
   "metadata": {},
   "outputs": [
    {
     "name": "stdout",
     "output_type": "stream",
     "text": [
      "t\n",
      "h\n",
      "i\n",
      "s\n",
      " \n",
      "i\n",
      "s\n",
      " \n",
      "a\n",
      " \n",
      "f\n",
      "u\n",
      "l\n",
      "l\n",
      " \n",
      "s\n",
      "t\n",
      "a\n",
      "c\n",
      "k\n",
      " \n",
      "b\n",
      "a\n",
      "t\n",
      "c\n",
      "h\n"
     ]
    }
   ],
   "source": [
    "for i in s:\n",
    "    print(i)"
   ]
  },
  {
   "cell_type": "code",
   "execution_count": 59,
   "id": "1f621f3b",
   "metadata": {},
   "outputs": [
    {
     "data": {
      "text/plain": [
       "26"
      ]
     },
     "execution_count": 59,
     "metadata": {},
     "output_type": "execute_result"
    }
   ],
   "source": [
    "len(s)"
   ]
  },
  {
   "cell_type": "code",
   "execution_count": 60,
   "id": "07abca9f",
   "metadata": {},
   "outputs": [
    {
     "name": "stdout",
     "output_type": "stream",
     "text": [
      "t\n",
      "h\n",
      "i\n",
      "s\n",
      " \n",
      "i\n",
      "s\n",
      " \n",
      "a\n",
      " \n",
      "f\n",
      "u\n",
      "l\n",
      "l\n",
      " \n",
      "s\n",
      "t\n",
      "a\n",
      "c\n",
      "k\n",
      " \n",
      "b\n",
      "a\n",
      "t\n",
      "c\n",
      "h\n"
     ]
    }
   ],
   "source": [
    "for i in s:\n",
    "    print(i)"
   ]
  },
  {
   "cell_type": "code",
   "execution_count": 61,
   "id": "9f5a254f",
   "metadata": {},
   "outputs": [
    {
     "name": "stdout",
     "output_type": "stream",
     "text": [
      "t\n",
      "h\n",
      "i\n",
      "s\n",
      " \n",
      "i\n",
      "s\n",
      " \n",
      "a\n",
      " \n",
      "f\n",
      "u\n",
      "l\n",
      "l\n",
      " \n",
      "s\n",
      "t\n",
      "a\n",
      "c\n",
      "k\n",
      " \n",
      "b\n",
      "a\n",
      "t\n",
      "c\n",
      "h\n"
     ]
    }
   ],
   "source": [
    "for i in range(len(s)):\n",
    "    print(s[i])"
   ]
  },
  {
   "cell_type": "code",
   "execution_count": 62,
   "id": "160d3d26",
   "metadata": {},
   "outputs": [
    {
     "name": "stdout",
     "output_type": "stream",
     "text": [
      "n\n",
      "o\n",
      "r\n",
      "u\n",
      "e\n",
      "N\n",
      "i\n"
     ]
    }
   ],
   "source": [
    "s=\"iNeuron\"\n",
    "char=len(s) -1\n",
    "while char>=0:\n",
    "    print(s[char])\n",
    "    char=char-1"
   ]
  },
  {
   "cell_type": "code",
   "execution_count": 63,
   "id": "a045749b",
   "metadata": {},
   "outputs": [
    {
     "name": "stdout",
     "output_type": "stream",
     "text": [
      "m\n",
      "e\n",
      "e\n",
      "l\n",
      "s\n",
      "a\n",
      "T\n"
     ]
    }
   ],
   "source": [
    "s=\"Tasleem\"\n",
    "ch=len(s) -1\n",
    "while ch>=0:\n",
    "    print(s[ch])\n",
    "    ch=ch-1"
   ]
  },
  {
   "cell_type": "code",
   "execution_count": 64,
   "id": "13c2b351",
   "metadata": {},
   "outputs": [
    {
     "name": "stdout",
     "output_type": "stream",
     "text": [
      "a\n",
      "n\n",
      "h\n",
      "s\n",
      "i\n",
      "r\n",
      "K\n",
      " \n",
      "i\n",
      "s\n",
      "m\n",
      "a\n",
      "V\n"
     ]
    }
   ],
   "source": [
    "s=\"Vamsi Krishna\"\n",
    "ch=len(s)-1\n",
    "while ch>=0:\n",
    "    print(s[ch])\n",
    "    ch=ch-1"
   ]
  },
  {
   "cell_type": "code",
   "execution_count": 65,
   "id": "33d309cd",
   "metadata": {},
   "outputs": [
    {
     "name": "stdout",
     "output_type": "stream",
     "text": [
      "k\n",
      "i\n",
      "a\n",
      "N\n",
      " \n",
      "h\n",
      "s\n",
      "i\n",
      "r\n",
      "K\n"
     ]
    }
   ],
   "source": [
    "s=\"Krish Naik\"\n",
    "ch=len(s)-1\n",
    "while ch>=0:\n",
    "    print(s[ch])\n",
    "    ch=ch-1"
   ]
  },
  {
   "cell_type": "code",
   "execution_count": 66,
   "id": "56d6b2af",
   "metadata": {},
   "outputs": [
    {
     "name": "stdout",
     "output_type": "stream",
     "text": [
      "K is not a vowel\n",
      "r is not a vowel\n",
      "i is a vowel\n",
      "s is not a vowel\n",
      "h is not a vowel\n",
      "  is not a vowel\n",
      "N is not a vowel\n",
      "a is a vowel\n",
      "i is a vowel\n",
      "k is not a vowel\n"
     ]
    }
   ],
   "source": [
    "name=\"Krish Naik\"\n",
    "vowels=\"AaEeIiOoUu\"\n",
    "for i in name:\n",
    "    if i in vowels:\n",
    "        print(\"{} is a vowel\".format(i))\n",
    "    else:\n",
    "        print(\"{} is not a vowel\".format(i))"
   ]
  },
  {
   "cell_type": "code",
   "execution_count": 67,
   "id": "795e5bbc",
   "metadata": {},
   "outputs": [
    {
     "name": "stdout",
     "output_type": "stream",
     "text": [
      "Krish Naik\n",
      "AeEeIiOoUu\n",
      "K is not a vowel\n",
      "r is not a vowel\n",
      "i is a vowel\n",
      "s is not a vowel\n",
      "h is not a vowel\n",
      "  is not a vowel\n",
      "N is not a vowel\n",
      "a is not a vowel\n",
      "i is a vowel\n",
      "k is not a vowel\n"
     ]
    }
   ],
   "source": [
    "name=input()\n",
    "vowels=input()\n",
    "for i in name:\n",
    "    if i in vowels:\n",
    "        print(\"{} is a vowel\".format(i))\n",
    "    else:\n",
    "        print(\"{} is not a vowel\".format(i))"
   ]
  },
  {
   "cell_type": "code",
   "execution_count": 68,
   "id": "c4b210e8",
   "metadata": {},
   "outputs": [
    {
     "name": "stdout",
     "output_type": "stream",
     "text": [
      "Tasleem\n",
      "AaEeIiOoUu\n",
      "T is not a vowel\n",
      "a is a vowel\n",
      "s is not a vowel\n",
      "l is not a vowel\n",
      "e is a vowel\n",
      "e is a vowel\n",
      "m is not a vowel\n"
     ]
    }
   ],
   "source": [
    "name=input()\n",
    "vowels=input()\n",
    "for i in name:\n",
    "    if i in vowels:\n",
    "        print(\"{} is a vowel\".format(i))\n",
    "    else:\n",
    "        print(\"{} is not a vowel\".format(i))"
   ]
  },
  {
   "cell_type": "code",
   "execution_count": 69,
   "id": "81bc80ea",
   "metadata": {},
   "outputs": [
    {
     "data": {
      "text/plain": [
       "'my name is Krish'"
      ]
     },
     "execution_count": 69,
     "metadata": {},
     "output_type": "execute_result"
    }
   ],
   "source": [
    "\"{} name is Krish\".format(\"my\")"
   ]
  },
  {
   "cell_type": "code",
   "execution_count": 70,
   "id": "8db00968",
   "metadata": {},
   "outputs": [
    {
     "data": {
      "text/plain": [
       "'my name is Krish'"
      ]
     },
     "execution_count": 70,
     "metadata": {},
     "output_type": "execute_result"
    }
   ],
   "source": [
    "\"{} name {} Krish\".format(\"my\",\"is\")"
   ]
  },
  {
   "cell_type": "code",
   "execution_count": 71,
   "id": "07efbd33",
   "metadata": {},
   "outputs": [
    {
     "name": "stdout",
     "output_type": "stream",
     "text": [
      "V is not a vowel\n",
      "i is a vowel\n",
      "j is not a vowel\n",
      "a is not a vowel\n",
      "y is not a vowel\n"
     ]
    }
   ],
   "source": [
    "name=\"Vijay\"\n",
    "vowels=\"AeEeIiOoUu\"\n",
    "for i in name:\n",
    "    if i in vowels:\n",
    "        print(\"{} is a vowel\".format(i))\n",
    "    else:\n",
    "        print(\"{} is not a vowel\".format(i))"
   ]
  },
  {
   "cell_type": "code",
   "execution_count": 72,
   "id": "032d9eee",
   "metadata": {},
   "outputs": [
    {
     "name": "stdout",
     "output_type": "stream",
     "text": [
      "B is not a vowel\n",
      "h is not a vowel\n",
      "u is a vowel\n",
      "s is not a vowel\n",
      "h is not a vowel\n",
      "a is a vowel\n",
      "n is not a vowel\n"
     ]
    }
   ],
   "source": [
    "name=\"Bhushan\"\n",
    "vowels=\"AaEeIiOoUu\"\n",
    "for i in name:\n",
    "    if i in vowels:\n",
    "        print(\"{} is a vowel\".format(i))\n",
    "    else:\n",
    "        print(\"{} is not a vowel\".format(i))"
   ]
  },
  {
   "cell_type": "code",
   "execution_count": 73,
   "id": "cd6d66e3",
   "metadata": {},
   "outputs": [
    {
     "name": "stdout",
     "output_type": "stream",
     "text": [
      "Bhushan\n",
      "Naga\n"
     ]
    }
   ],
   "source": [
    "x=input()\n",
    "y=input()"
   ]
  },
  {
   "cell_type": "code",
   "execution_count": 78,
   "id": "8e48b436",
   "metadata": {},
   "outputs": [
    {
     "data": {
      "text/plain": [
       "'Bhushan name Naga Bhushan NagaBhushan'"
      ]
     },
     "execution_count": 78,
     "metadata": {},
     "output_type": "execute_result"
    }
   ],
   "source": [
    "\"{} name {} Bhushan {}\".format(x,y,\"NagaBhushan\")"
   ]
  },
  {
   "cell_type": "code",
   "execution_count": 80,
   "id": "1c16e7ae",
   "metadata": {},
   "outputs": [],
   "source": [
    "a=\"xyz\"\n",
    "b=2002\n",
    "c=\"eye\"\n",
    "d=\"nitin\""
   ]
  },
  {
   "cell_type": "code",
   "execution_count": 84,
   "id": "336f843e",
   "metadata": {},
   "outputs": [
    {
     "name": "stdout",
     "output_type": "stream",
     "text": [
      "enter a data for which you would like to check pelindromxyz\n",
      "its not a same\n"
     ]
    }
   ],
   "source": [
    "s=input(\"enter a data for which you would like to check pelindrom\")\n",
    "s1=s[::-1]\n",
    "if s ==s1:\n",
    "    print('its a same')\n",
    "else:\n",
    "    print('its not a same')"
   ]
  },
  {
   "cell_type": "code",
   "execution_count": 85,
   "id": "07f46037",
   "metadata": {},
   "outputs": [
    {
     "name": "stdout",
     "output_type": "stream",
     "text": [
      "enter a data for which you would like to check pelindrom2002\n",
      "its a same\n"
     ]
    }
   ],
   "source": [
    "s=input(\"enter a data for which you would like to check pelindrom\")\n",
    "s1=s[::-1]\n",
    "if s ==s1:\n",
    "    print('its a same')\n",
    "else:\n",
    "    print('its not a same')"
   ]
  },
  {
   "cell_type": "code",
   "execution_count": 86,
   "id": "22f1f4e3",
   "metadata": {},
   "outputs": [
    {
     "name": "stdout",
     "output_type": "stream",
     "text": [
      "enter a data for which you would like to check pelindromeye\n",
      "its a same\n"
     ]
    }
   ],
   "source": [
    "s=input(\"enter a data for which you would like to check pelindrom\")\n",
    "s1=s[::-1]\n",
    "if s ==s1:\n",
    "    print('its a same')\n",
    "else:\n",
    "    print('its not a same')"
   ]
  },
  {
   "cell_type": "code",
   "execution_count": 87,
   "id": "5d86439e",
   "metadata": {},
   "outputs": [
    {
     "name": "stdout",
     "output_type": "stream",
     "text": [
      "enter a data for which you would like to check pelindromnitin\n",
      "its a same\n"
     ]
    }
   ],
   "source": [
    "s=input(\"enter a data for which you would like to check pelindrom\")\n",
    "s1=s[::-1]\n",
    "if s ==s1:\n",
    "    print('its a same')\n",
    "else:\n",
    "    print('its not a same')"
   ]
  },
  {
   "cell_type": "markdown",
   "id": "b046609d",
   "metadata": {},
   "source": [
    "# List "
   ]
  },
  {
   "cell_type": "code",
   "execution_count": 88,
   "id": "143e1ece",
   "metadata": {},
   "outputs": [],
   "source": [
    "l=[\"Krish\",34,34,45,[34,45]]"
   ]
  },
  {
   "cell_type": "code",
   "execution_count": 89,
   "id": "7736a283",
   "metadata": {},
   "outputs": [
    {
     "data": {
      "text/plain": [
       "45"
      ]
     },
     "execution_count": 89,
     "metadata": {},
     "output_type": "execute_result"
    }
   ],
   "source": [
    "l[3]"
   ]
  },
  {
   "cell_type": "code",
   "execution_count": 90,
   "id": "069f49a1",
   "metadata": {},
   "outputs": [
    {
     "data": {
      "text/plain": [
       "['Krish', 34, 34]"
      ]
     },
     "execution_count": 90,
     "metadata": {},
     "output_type": "execute_result"
    }
   ],
   "source": [
    "l[0:3]"
   ]
  },
  {
   "cell_type": "code",
   "execution_count": 91,
   "id": "153e2c8b",
   "metadata": {},
   "outputs": [
    {
     "data": {
      "text/plain": [
       "[]"
      ]
     },
     "execution_count": 91,
     "metadata": {},
     "output_type": "execute_result"
    }
   ],
   "source": [
    "l[0:3:-1]"
   ]
  },
  {
   "cell_type": "code",
   "execution_count": 92,
   "id": "12e05e1b",
   "metadata": {},
   "outputs": [
    {
     "data": {
      "text/plain": [
       "[45, 34, 34]"
      ]
     },
     "execution_count": 92,
     "metadata": {},
     "output_type": "execute_result"
    }
   ],
   "source": [
    "l[3:0:-1]"
   ]
  },
  {
   "cell_type": "code",
   "execution_count": 93,
   "id": "6cfe2511",
   "metadata": {},
   "outputs": [
    {
     "data": {
      "text/plain": [
       "[[34, 45], 45, 34, 34, 'Krish']"
      ]
     },
     "execution_count": 93,
     "metadata": {},
     "output_type": "execute_result"
    }
   ],
   "source": [
    "l[::-1]"
   ]
  },
  {
   "cell_type": "code",
   "execution_count": 94,
   "id": "5e8e05f9",
   "metadata": {},
   "outputs": [],
   "source": [
    "s=\"Krish\""
   ]
  },
  {
   "cell_type": "code",
   "execution_count": 95,
   "id": "27524bad",
   "metadata": {},
   "outputs": [
    {
     "ename": "TypeError",
     "evalue": "can only concatenate list (not \"str\") to list",
     "output_type": "error",
     "traceback": [
      "\u001b[1;31m---------------------------------------------------------------------------\u001b[0m",
      "\u001b[1;31mTypeError\u001b[0m                                 Traceback (most recent call last)",
      "\u001b[1;32m<ipython-input-95-c62842885d3f>\u001b[0m in \u001b[0;36m<module>\u001b[1;34m\u001b[0m\n\u001b[1;32m----> 1\u001b[1;33m \u001b[0ml\u001b[0m\u001b[1;33m+\u001b[0m\u001b[0ms\u001b[0m\u001b[1;33m\u001b[0m\u001b[1;33m\u001b[0m\u001b[0m\n\u001b[0m",
      "\u001b[1;31mTypeError\u001b[0m: can only concatenate list (not \"str\") to list"
     ]
    }
   ],
   "source": [
    "l+s"
   ]
  },
  {
   "cell_type": "code",
   "execution_count": 96,
   "id": "0f456029",
   "metadata": {},
   "outputs": [],
   "source": [
    "s=\"Krish\"\n",
    "s=list(s)"
   ]
  },
  {
   "cell_type": "code",
   "execution_count": 97,
   "id": "9e4399ad",
   "metadata": {},
   "outputs": [
    {
     "data": {
      "text/plain": [
       "['Krish', 34, 34, 45, [34, 45], 'K', 'r', 'i', 's', 'h']"
      ]
     },
     "execution_count": 97,
     "metadata": {},
     "output_type": "execute_result"
    }
   ],
   "source": [
    "l+s"
   ]
  },
  {
   "cell_type": "code",
   "execution_count": 98,
   "id": "398ab0ce",
   "metadata": {},
   "outputs": [
    {
     "data": {
      "text/plain": [
       "['Krish', 34, 34, 45, [34, 45], 'Krish', 34, 34, 45, [34, 45]]"
      ]
     },
     "execution_count": 98,
     "metadata": {},
     "output_type": "execute_result"
    }
   ],
   "source": [
    "l*2"
   ]
  },
  {
   "cell_type": "code",
   "execution_count": 99,
   "id": "6cf133a7",
   "metadata": {},
   "outputs": [
    {
     "data": {
      "text/plain": [
       "5"
      ]
     },
     "execution_count": 99,
     "metadata": {},
     "output_type": "execute_result"
    }
   ],
   "source": [
    "len(l)"
   ]
  },
  {
   "cell_type": "code",
   "execution_count": 100,
   "id": "381ba991",
   "metadata": {},
   "outputs": [
    {
     "data": {
      "text/plain": [
       "True"
      ]
     },
     "execution_count": 100,
     "metadata": {},
     "output_type": "execute_result"
    }
   ],
   "source": [
    "\"Krish\" in l"
   ]
  },
  {
   "cell_type": "code",
   "execution_count": 101,
   "id": "564f5f23",
   "metadata": {},
   "outputs": [
    {
     "data": {
      "text/plain": [
       "False"
      ]
     },
     "execution_count": 101,
     "metadata": {},
     "output_type": "execute_result"
    }
   ],
   "source": [
    "454 in l"
   ]
  },
  {
   "cell_type": "code",
   "execution_count": null,
   "id": "1446e9b5",
   "metadata": {},
   "outputs": [],
   "source": []
  }
 ],
 "metadata": {
  "kernelspec": {
   "display_name": "Python 3",
   "language": "python",
   "name": "python3"
  },
  "language_info": {
   "codemirror_mode": {
    "name": "ipython",
    "version": 3
   },
   "file_extension": ".py",
   "mimetype": "text/x-python",
   "name": "python",
   "nbconvert_exporter": "python",
   "pygments_lexer": "ipython3",
   "version": "3.8.8"
  }
 },
 "nbformat": 4,
 "nbformat_minor": 5
}
