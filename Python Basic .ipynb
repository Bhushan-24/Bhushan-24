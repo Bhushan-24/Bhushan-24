{
 "cells": [
  {
   "cell_type": "markdown",
   "id": "727e544a",
   "metadata": {},
   "source": [
    "   # Python Basics- Full Stack Data Science "
   ]
  },
  {
   "cell_type": "markdown",
   "id": "d166fcb6",
   "metadata": {},
   "source": [
    "# Print Functions"
   ]
  },
  {
   "cell_type": "code",
   "execution_count": 1,
   "id": "526808bb",
   "metadata": {},
   "outputs": [
    {
     "name": "stdout",
     "output_type": "stream",
     "text": [
      "this is my first python program\n"
     ]
    }
   ],
   "source": [
    "print(\"this is my first python program\")               "
   ]
  },
  {
   "cell_type": "code",
   "execution_count": 2,
   "id": "261b7baf",
   "metadata": {},
   "outputs": [
    {
     "ename": "SyntaxError",
     "evalue": "EOL while scanning string literal (<ipython-input-2-cd638ce7666b>, line 1)",
     "output_type": "error",
     "traceback": [
      "\u001b[1;36m  File \u001b[1;32m\"<ipython-input-2-cd638ce7666b>\"\u001b[1;36m, line \u001b[1;32m1\u001b[0m\n\u001b[1;33m    print(\"this is my first python program)\u001b[0m\n\u001b[1;37m                                                          ^\u001b[0m\n\u001b[1;31mSyntaxError\u001b[0m\u001b[1;31m:\u001b[0m EOL while scanning string literal\n"
     ]
    }
   ],
   "source": [
    "print(\"this is my first python program)               "
   ]
  },
  {
   "cell_type": "code",
   "execution_count": 3,
   "id": "d414ca8d",
   "metadata": {},
   "outputs": [
    {
     "name": "stdout",
     "output_type": "stream",
     "text": [
      "this is my first python program\n"
     ]
    }
   ],
   "source": [
    "print('this is my first python program')"
   ]
  },
  {
   "cell_type": "code",
   "execution_count": 4,
   "id": "70dc391d",
   "metadata": {},
   "outputs": [
    {
     "ename": "SyntaxError",
     "evalue": "Missing parentheses in call to 'print'. Did you mean print(\"this is my first program\")? (<ipython-input-4-f89b24272783>, line 1)",
     "output_type": "error",
     "traceback": [
      "\u001b[1;36m  File \u001b[1;32m\"<ipython-input-4-f89b24272783>\"\u001b[1;36m, line \u001b[1;32m1\u001b[0m\n\u001b[1;33m    print \"this is my first program\"\u001b[0m\n\u001b[1;37m          ^\u001b[0m\n\u001b[1;31mSyntaxError\u001b[0m\u001b[1;31m:\u001b[0m Missing parentheses in call to 'print'. Did you mean print(\"this is my first program\")?\n"
     ]
    }
   ],
   "source": [
    "print \"this is my first program\""
   ]
  },
  {
   "cell_type": "code",
   "execution_count": 7,
   "id": "01e7bdf4",
   "metadata": {},
   "outputs": [
    {
     "ename": "SyntaxError",
     "evalue": "invalid syntax (<ipython-input-7-03cbaf022584>, line 1)",
     "output_type": "error",
     "traceback": [
      "\u001b[1;36m  File \u001b[1;32m\"<ipython-input-7-03cbaf022584>\"\u001b[1;36m, line \u001b[1;32m1\u001b[0m\n\u001b[1;33m    my name is bhushan\u001b[0m\n\u001b[1;37m       ^\u001b[0m\n\u001b[1;31mSyntaxError\u001b[0m\u001b[1;31m:\u001b[0m invalid syntax\n"
     ]
    }
   ],
   "source": [
    "my name is bhushan"
   ]
  },
  {
   "cell_type": "code",
   "execution_count": 8,
   "id": "2aae0591",
   "metadata": {},
   "outputs": [],
   "source": [
    "#my name is bhushan"
   ]
  },
  {
   "cell_type": "code",
   "execution_count": 9,
   "id": "24277be6",
   "metadata": {},
   "outputs": [
    {
     "data": {
      "text/plain": [
       "'hi\\nhello\\nhow are you'"
      ]
     },
     "execution_count": 9,
     "metadata": {},
     "output_type": "execute_result"
    }
   ],
   "source": [
    "\"\"\"hi\n",
    "hello\n",
    "how are you\"\"\""
   ]
  },
  {
   "cell_type": "code",
   "execution_count": 11,
   "id": "ace2abd2",
   "metadata": {},
   "outputs": [
    {
     "data": {
      "text/plain": [
       "'print(\"hi\")\\nprint(\"hello\")\\nprint(\"how are you\")'"
      ]
     },
     "execution_count": 11,
     "metadata": {},
     "output_type": "execute_result"
    }
   ],
   "source": [
    "\"\"\"print(\"hi\")\n",
    "print(\"hello\")\n",
    "print(\"how are you\")\"\"\""
   ]
  },
  {
   "cell_type": "markdown",
   "id": "c58f6475",
   "metadata": {},
   "source": [
    "# Python Variables"
   ]
  },
  {
   "cell_type": "code",
   "execution_count": 12,
   "id": "2ef9abbd",
   "metadata": {},
   "outputs": [],
   "source": [
    "a=10"
   ]
  },
  {
   "cell_type": "code",
   "execution_count": 13,
   "id": "07094a64",
   "metadata": {},
   "outputs": [
    {
     "data": {
      "text/plain": [
       "10"
      ]
     },
     "execution_count": 13,
     "metadata": {},
     "output_type": "execute_result"
    }
   ],
   "source": [
    "a"
   ]
  },
  {
   "cell_type": "code",
   "execution_count": 14,
   "id": "4bd05fbc",
   "metadata": {},
   "outputs": [
    {
     "data": {
      "text/plain": [
       "int"
      ]
     },
     "execution_count": 14,
     "metadata": {},
     "output_type": "execute_result"
    }
   ],
   "source": [
    "type(a)"
   ]
  },
  {
   "cell_type": "code",
   "execution_count": 15,
   "id": "349425e3",
   "metadata": {},
   "outputs": [],
   "source": [
    "b=\"sudhanshu\""
   ]
  },
  {
   "cell_type": "code",
   "execution_count": 17,
   "id": "9fc1c37e",
   "metadata": {},
   "outputs": [
    {
     "data": {
      "text/plain": [
       "'sudhanshu'"
      ]
     },
     "execution_count": 17,
     "metadata": {},
     "output_type": "execute_result"
    }
   ],
   "source": [
    "b"
   ]
  },
  {
   "cell_type": "code",
   "execution_count": 18,
   "id": "c0cc7674",
   "metadata": {},
   "outputs": [
    {
     "data": {
      "text/plain": [
       "str"
      ]
     },
     "execution_count": 18,
     "metadata": {},
     "output_type": "execute_result"
    }
   ],
   "source": [
    "type(b)"
   ]
  },
  {
   "cell_type": "code",
   "execution_count": 19,
   "id": "087826c0",
   "metadata": {},
   "outputs": [
    {
     "name": "stdout",
     "output_type": "stream",
     "text": [
      "sudhanshu 10\n"
     ]
    }
   ],
   "source": [
    "print(b,a)"
   ]
  },
  {
   "cell_type": "code",
   "execution_count": 20,
   "id": "398d13e4",
   "metadata": {},
   "outputs": [],
   "source": [
    "a=45\n",
    "b=\"sudhanshu\""
   ]
  },
  {
   "cell_type": "code",
   "execution_count": 22,
   "id": "ba354b63",
   "metadata": {},
   "outputs": [],
   "source": [
    "a,b,s=45,\"sudhanshu\", \"this is my name\""
   ]
  },
  {
   "cell_type": "code",
   "execution_count": 23,
   "id": "93dcf578",
   "metadata": {},
   "outputs": [
    {
     "data": {
      "text/plain": [
       "45"
      ]
     },
     "execution_count": 23,
     "metadata": {},
     "output_type": "execute_result"
    }
   ],
   "source": [
    "a"
   ]
  },
  {
   "cell_type": "code",
   "execution_count": 24,
   "id": "9758ac36",
   "metadata": {},
   "outputs": [
    {
     "data": {
      "text/plain": [
       "'sudhanshu'"
      ]
     },
     "execution_count": 24,
     "metadata": {},
     "output_type": "execute_result"
    }
   ],
   "source": [
    "b"
   ]
  },
  {
   "cell_type": "code",
   "execution_count": 25,
   "id": "f163285a",
   "metadata": {},
   "outputs": [
    {
     "data": {
      "text/plain": [
       "'this is my name'"
      ]
     },
     "execution_count": 25,
     "metadata": {},
     "output_type": "execute_result"
    }
   ],
   "source": [
    "s"
   ]
  },
  {
   "cell_type": "markdown",
   "id": "903ea386",
   "metadata": {},
   "source": [
    "# type Casting"
   ]
  },
  {
   "cell_type": "code",
   "execution_count": 26,
   "id": "7daa6628",
   "metadata": {},
   "outputs": [
    {
     "data": {
      "text/plain": [
       "str"
      ]
     },
     "execution_count": 26,
     "metadata": {},
     "output_type": "execute_result"
    }
   ],
   "source": [
    "type(b)"
   ]
  },
  {
   "cell_type": "code",
   "execution_count": 28,
   "id": "13425c29",
   "metadata": {},
   "outputs": [
    {
     "ename": "NameError",
     "evalue": "name 'c' is not defined",
     "output_type": "error",
     "traceback": [
      "\u001b[1;31m---------------------------------------------------------------------------\u001b[0m",
      "\u001b[1;31mNameError\u001b[0m                                 Traceback (most recent call last)",
      "\u001b[1;32m<ipython-input-28-0acc8143872c>\u001b[0m in \u001b[0;36m<module>\u001b[1;34m\u001b[0m\n\u001b[1;32m----> 1\u001b[1;33m \u001b[0mtype\u001b[0m\u001b[1;33m(\u001b[0m\u001b[0mc\u001b[0m\u001b[1;33m)\u001b[0m\u001b[1;33m\u001b[0m\u001b[1;33m\u001b[0m\u001b[0m\n\u001b[0m",
      "\u001b[1;31mNameError\u001b[0m: name 'c' is not defined"
     ]
    }
   ],
   "source": [
    "type(c)"
   ]
  },
  {
   "cell_type": "code",
   "execution_count": 29,
   "id": "c5a0dbcd",
   "metadata": {},
   "outputs": [
    {
     "data": {
      "text/plain": [
       "str"
      ]
     },
     "execution_count": 29,
     "metadata": {},
     "output_type": "execute_result"
    }
   ],
   "source": [
    "type(s)"
   ]
  },
  {
   "cell_type": "code",
   "execution_count": 30,
   "id": "55c95bc6",
   "metadata": {},
   "outputs": [
    {
     "data": {
      "text/plain": [
       "int"
      ]
     },
     "execution_count": 30,
     "metadata": {},
     "output_type": "execute_result"
    }
   ],
   "source": [
    "type(a)"
   ]
  },
  {
   "cell_type": "code",
   "execution_count": 32,
   "id": "b08011da",
   "metadata": {},
   "outputs": [
    {
     "name": "stdout",
     "output_type": "stream",
     "text": [
      "45 sudhanshu this is my name\n"
     ]
    }
   ],
   "source": [
    "print(a,b,s)"
   ]
  },
  {
   "cell_type": "code",
   "execution_count": 33,
   "id": "ac20bc45",
   "metadata": {},
   "outputs": [],
   "source": [
    "b='\"fsdf\"'"
   ]
  },
  {
   "cell_type": "code",
   "execution_count": 34,
   "id": "88851022",
   "metadata": {},
   "outputs": [
    {
     "data": {
      "text/plain": [
       "'\"fsdf\"'"
      ]
     },
     "execution_count": 34,
     "metadata": {},
     "output_type": "execute_result"
    }
   ],
   "source": [
    "b"
   ]
  },
  {
   "cell_type": "code",
   "execution_count": 35,
   "id": "7f7ef546",
   "metadata": {},
   "outputs": [
    {
     "ename": "SyntaxError",
     "evalue": "invalid syntax (<ipython-input-35-010edbf19f08>, line 1)",
     "output_type": "error",
     "traceback": [
      "\u001b[1;36m  File \u001b[1;32m\"<ipython-input-35-010edbf19f08>\"\u001b[1;36m, line \u001b[1;32m1\u001b[0m\n\u001b[1;33m    1b='\"fsdf\"'\u001b[0m\n\u001b[1;37m     ^\u001b[0m\n\u001b[1;31mSyntaxError\u001b[0m\u001b[1;31m:\u001b[0m invalid syntax\n"
     ]
    }
   ],
   "source": [
    "1b='\"fsdf\"'"
   ]
  },
  {
   "cell_type": "code",
   "execution_count": 36,
   "id": "94338ad0",
   "metadata": {},
   "outputs": [],
   "source": [
    "B=\"fsdf\""
   ]
  },
  {
   "cell_type": "code",
   "execution_count": 37,
   "id": "77db6bf6",
   "metadata": {},
   "outputs": [
    {
     "data": {
      "text/plain": [
       "'fsdf'"
      ]
     },
     "execution_count": 37,
     "metadata": {},
     "output_type": "execute_result"
    }
   ],
   "source": [
    "B"
   ]
  },
  {
   "cell_type": "code",
   "execution_count": 38,
   "id": "eb506861",
   "metadata": {},
   "outputs": [],
   "source": [
    "b=\"fsdf\""
   ]
  },
  {
   "cell_type": "code",
   "execution_count": 39,
   "id": "377e0092",
   "metadata": {},
   "outputs": [
    {
     "data": {
      "text/plain": [
       "'fsdf'"
      ]
     },
     "execution_count": 39,
     "metadata": {},
     "output_type": "execute_result"
    }
   ],
   "source": [
    "b"
   ]
  },
  {
   "cell_type": "code",
   "execution_count": 40,
   "id": "899a9dd5",
   "metadata": {},
   "outputs": [
    {
     "ename": "SyntaxError",
     "evalue": "invalid syntax (<ipython-input-40-5da407424872>, line 1)",
     "output_type": "error",
     "traceback": [
      "\u001b[1;36m  File \u001b[1;32m\"<ipython-input-40-5da407424872>\"\u001b[1;36m, line \u001b[1;32m1\u001b[0m\n\u001b[1;33m    2b=\"sdfs\"\u001b[0m\n\u001b[1;37m     ^\u001b[0m\n\u001b[1;31mSyntaxError\u001b[0m\u001b[1;31m:\u001b[0m invalid syntax\n"
     ]
    }
   ],
   "source": [
    "2b=\"sdfs\""
   ]
  },
  {
   "cell_type": "code",
   "execution_count": 42,
   "id": "80ef0396",
   "metadata": {},
   "outputs": [],
   "source": [
    "#b=234534"
   ]
  },
  {
   "cell_type": "code",
   "execution_count": 43,
   "id": "e5244d56",
   "metadata": {},
   "outputs": [
    {
     "ename": "SyntaxError",
     "evalue": "invalid syntax (<ipython-input-43-c5429e8730d7>, line 1)",
     "output_type": "error",
     "traceback": [
      "\u001b[1;36m  File \u001b[1;32m\"<ipython-input-43-c5429e8730d7>\"\u001b[1;36m, line \u001b[1;32m1\u001b[0m\n\u001b[1;33m    @b=234534\u001b[0m\n\u001b[1;37m      ^\u001b[0m\n\u001b[1;31mSyntaxError\u001b[0m\u001b[1;31m:\u001b[0m invalid syntax\n"
     ]
    }
   ],
   "source": [
    "@b=234534"
   ]
  },
  {
   "cell_type": "code",
   "execution_count": 44,
   "id": "12c5f786",
   "metadata": {},
   "outputs": [],
   "source": [
    "_b=234534"
   ]
  },
  {
   "cell_type": "code",
   "execution_count": 45,
   "id": "6cd20ae5",
   "metadata": {},
   "outputs": [
    {
     "data": {
      "text/plain": [
       "234534"
      ]
     },
     "execution_count": 45,
     "metadata": {},
     "output_type": "execute_result"
    }
   ],
   "source": [
    "_b"
   ]
  },
  {
   "cell_type": "code",
   "execution_count": 48,
   "id": "236f8ff7",
   "metadata": {},
   "outputs": [
    {
     "ename": "SyntaxError",
     "evalue": "invalid syntax (<ipython-input-48-c53732bdb246>, line 1)",
     "output_type": "error",
     "traceback": [
      "\u001b[1;36m  File \u001b[1;32m\"<ipython-input-48-c53732bdb246>\"\u001b[1;36m, line \u001b[1;32m1\u001b[0m\n\u001b[1;33m    b& =\"fsds\"\u001b[0m\n\u001b[1;37m       ^\u001b[0m\n\u001b[1;31mSyntaxError\u001b[0m\u001b[1;31m:\u001b[0m invalid syntax\n"
     ]
    }
   ],
   "source": [
    "b& =\"fsds\""
   ]
  },
  {
   "cell_type": "code",
   "execution_count": 49,
   "id": "31bd8563",
   "metadata": {},
   "outputs": [],
   "source": [
    "name=\"Bhushan\"\n",
    "userid=\"101\"\n",
    "password=\"Bhushaan\"\n",
    "mail=\"punyamurthybhushan@gmail.com\""
   ]
  },
  {
   "cell_type": "code",
   "execution_count": 50,
   "id": "500fb8c8",
   "metadata": {},
   "outputs": [
    {
     "name": "stdout",
     "output_type": "stream",
     "text": [
      "My name is Bhushan\n",
      "My userid is 101\n",
      "My password is Bhushaan\n",
      "My mail is punyamurthybhushan@gmail.com\n"
     ]
    }
   ],
   "source": [
    "print('My name is',name)\n",
    "print('My userid is',userid)\n",
    "print('My password is',password)\n",
    "print('My mail is',mail)"
   ]
  },
  {
   "cell_type": "code",
   "execution_count": 51,
   "id": "bb796322",
   "metadata": {},
   "outputs": [],
   "source": [
    "a=1.6"
   ]
  },
  {
   "cell_type": "code",
   "execution_count": 52,
   "id": "c7b4e1b1",
   "metadata": {},
   "outputs": [
    {
     "data": {
      "text/plain": [
       "1.6"
      ]
     },
     "execution_count": 52,
     "metadata": {},
     "output_type": "execute_result"
    }
   ],
   "source": [
    "a"
   ]
  },
  {
   "cell_type": "code",
   "execution_count": 53,
   "id": "290b4874",
   "metadata": {},
   "outputs": [
    {
     "data": {
      "text/plain": [
       "float"
      ]
     },
     "execution_count": 53,
     "metadata": {},
     "output_type": "execute_result"
    }
   ],
   "source": [
    "type(a)"
   ]
  },
  {
   "cell_type": "markdown",
   "id": "50589670",
   "metadata": {},
   "source": [
    "# Boolean Data Types "
   ]
  },
  {
   "cell_type": "code",
   "execution_count": 1,
   "id": "cd9d1884",
   "metadata": {},
   "outputs": [],
   "source": [
    "b=True\n",
    "c=False"
   ]
  },
  {
   "cell_type": "code",
   "execution_count": 2,
   "id": "26790b34",
   "metadata": {},
   "outputs": [
    {
     "data": {
      "text/plain": [
       "bool"
      ]
     },
     "execution_count": 2,
     "metadata": {},
     "output_type": "execute_result"
    }
   ],
   "source": [
    "type(b)"
   ]
  },
  {
   "cell_type": "code",
   "execution_count": 3,
   "id": "7d160553",
   "metadata": {},
   "outputs": [
    {
     "data": {
      "text/plain": [
       "bool"
      ]
     },
     "execution_count": 3,
     "metadata": {},
     "output_type": "execute_result"
    }
   ],
   "source": [
    "type(c)"
   ]
  },
  {
   "cell_type": "code",
   "execution_count": 4,
   "id": "38a2b3d0",
   "metadata": {},
   "outputs": [
    {
     "name": "stdout",
     "output_type": "stream",
     "text": [
      "4\n"
     ]
    }
   ],
   "source": [
    "print(True+True+True+False+True)"
   ]
  },
  {
   "cell_type": "code",
   "execution_count": 6,
   "id": "ec32f469",
   "metadata": {},
   "outputs": [
    {
     "name": "stdout",
     "output_type": "stream",
     "text": [
      "0\n"
     ]
    }
   ],
   "source": [
    "print(False-True+True)"
   ]
  },
  {
   "cell_type": "code",
   "execution_count": 7,
   "id": "681de896",
   "metadata": {},
   "outputs": [
    {
     "data": {
      "text/plain": [
       "2"
      ]
     },
     "execution_count": 7,
     "metadata": {},
     "output_type": "execute_result"
    }
   ],
   "source": [
    "True+True"
   ]
  },
  {
   "cell_type": "code",
   "execution_count": 8,
   "id": "c03b9809",
   "metadata": {},
   "outputs": [
    {
     "data": {
      "text/plain": [
       "2"
      ]
     },
     "execution_count": 8,
     "metadata": {},
     "output_type": "execute_result"
    }
   ],
   "source": [
    "True+True-False"
   ]
  },
  {
   "cell_type": "code",
   "execution_count": 9,
   "id": "24004e29",
   "metadata": {},
   "outputs": [
    {
     "data": {
      "text/plain": [
       "1"
      ]
     },
     "execution_count": 9,
     "metadata": {},
     "output_type": "execute_result"
    }
   ],
   "source": [
    "True*True"
   ]
  },
  {
   "cell_type": "code",
   "execution_count": 13,
   "id": "e8af626f",
   "metadata": {},
   "outputs": [
    {
     "ename": "ZeroDivisionError",
     "evalue": "division by zero",
     "output_type": "error",
     "traceback": [
      "\u001b[1;31m---------------------------------------------------------------------------\u001b[0m",
      "\u001b[1;31mZeroDivisionError\u001b[0m                         Traceback (most recent call last)",
      "\u001b[1;32m<ipython-input-13-f8487d9d0863>\u001b[0m in \u001b[0;36m<module>\u001b[1;34m\u001b[0m\n\u001b[1;32m----> 1\u001b[1;33m \u001b[1;32mTrue\u001b[0m \u001b[1;33m/\u001b[0m \u001b[1;32mFalse\u001b[0m\u001b[1;33m\u001b[0m\u001b[1;33m\u001b[0m\u001b[0m\n\u001b[0m",
      "\u001b[1;31mZeroDivisionError\u001b[0m: division by zero"
     ]
    }
   ],
   "source": [
    "True / False"
   ]
  },
  {
   "cell_type": "markdown",
   "id": "d5df6d19",
   "metadata": {},
   "source": [
    "# Complex"
   ]
  },
  {
   "cell_type": "code",
   "execution_count": 14,
   "id": "c9d61477",
   "metadata": {},
   "outputs": [],
   "source": [
    "n=45+6j"
   ]
  },
  {
   "cell_type": "code",
   "execution_count": 15,
   "id": "a64984a1",
   "metadata": {},
   "outputs": [
    {
     "data": {
      "text/plain": [
       "complex"
      ]
     },
     "execution_count": 15,
     "metadata": {},
     "output_type": "execute_result"
    }
   ],
   "source": [
    "type(n)"
   ]
  },
  {
   "cell_type": "code",
   "execution_count": 16,
   "id": "5c92f55c",
   "metadata": {},
   "outputs": [
    {
     "data": {
      "text/plain": [
       "(45+6j)"
      ]
     },
     "execution_count": 16,
     "metadata": {},
     "output_type": "execute_result"
    }
   ],
   "source": [
    "n"
   ]
  },
  {
   "cell_type": "code",
   "execution_count": 17,
   "id": "c95d889a",
   "metadata": {},
   "outputs": [
    {
     "data": {
      "text/plain": [
       "45.0"
      ]
     },
     "execution_count": 17,
     "metadata": {},
     "output_type": "execute_result"
    }
   ],
   "source": [
    "n.real"
   ]
  },
  {
   "cell_type": "code",
   "execution_count": 18,
   "id": "1d7fb17f",
   "metadata": {},
   "outputs": [
    {
     "data": {
      "text/plain": [
       "6.0"
      ]
     },
     "execution_count": 18,
     "metadata": {},
     "output_type": "execute_result"
    }
   ],
   "source": [
    "n.imag"
   ]
  },
  {
   "cell_type": "code",
   "execution_count": 19,
   "id": "a7bb1b65",
   "metadata": {},
   "outputs": [
    {
     "data": {
      "text/plain": [
       "(2472+696j)"
      ]
     },
     "execution_count": 19,
     "metadata": {},
     "output_type": "execute_result"
    }
   ],
   "source": [
    "n=45+6j\n",
    "m=56+8j\n",
    "n*m"
   ]
  },
  {
   "cell_type": "code",
   "execution_count": 20,
   "id": "636fc8a6",
   "metadata": {},
   "outputs": [],
   "source": [
    "b=\"sbf\""
   ]
  },
  {
   "cell_type": "code",
   "execution_count": 21,
   "id": "c1918f10",
   "metadata": {},
   "outputs": [
    {
     "data": {
      "text/plain": [
       "str"
      ]
     },
     "execution_count": 21,
     "metadata": {},
     "output_type": "execute_result"
    }
   ],
   "source": [
    "type(b)"
   ]
  },
  {
   "cell_type": "code",
   "execution_count": 24,
   "id": "2dc0a53e",
   "metadata": {},
   "outputs": [
    {
     "data": {
      "text/plain": [
       "'1sudh'"
      ]
     },
     "execution_count": 24,
     "metadata": {},
     "output_type": "execute_result"
    }
   ],
   "source": [
    "str(1) + \"sudh\""
   ]
  },
  {
   "cell_type": "code",
   "execution_count": 25,
   "id": "e62a4a6c",
   "metadata": {},
   "outputs": [
    {
     "data": {
      "text/plain": [
       "2.0"
      ]
     },
     "execution_count": 25,
     "metadata": {},
     "output_type": "execute_result"
    }
   ],
   "source": [
    "1+1.0"
   ]
  },
  {
   "cell_type": "code",
   "execution_count": 26,
   "id": "9b0ab7ea",
   "metadata": {},
   "outputs": [
    {
     "data": {
      "text/plain": [
       "'BhuBhuBhu'"
      ]
     },
     "execution_count": 26,
     "metadata": {},
     "output_type": "execute_result"
    }
   ],
   "source": [
    "\"Bhu\"+\"Bhu\"+\"Bhu\""
   ]
  },
  {
   "cell_type": "code",
   "execution_count": 28,
   "id": "a340d137",
   "metadata": {},
   "outputs": [
    {
     "data": {
      "text/plain": [
       "'BhuBhuBhu'"
      ]
     },
     "execution_count": 28,
     "metadata": {},
     "output_type": "execute_result"
    }
   ],
   "source": [
    "\"Bhu\" *3"
   ]
  },
  {
   "cell_type": "code",
   "execution_count": 29,
   "id": "ad4d7a64",
   "metadata": {},
   "outputs": [
    {
     "ename": "TypeError",
     "evalue": "unsupported operand type(s) for -: 'str' and 'str'",
     "output_type": "error",
     "traceback": [
      "\u001b[1;31m---------------------------------------------------------------------------\u001b[0m",
      "\u001b[1;31mTypeError\u001b[0m                                 Traceback (most recent call last)",
      "\u001b[1;32m<ipython-input-29-cfe042bdcbd6>\u001b[0m in \u001b[0;36m<module>\u001b[1;34m\u001b[0m\n\u001b[1;32m----> 1\u001b[1;33m \u001b[1;34m\"Bhu\"\u001b[0m\u001b[1;33m-\u001b[0m\u001b[1;34m\"Bhu\"\u001b[0m\u001b[1;33m\u001b[0m\u001b[1;33m\u001b[0m\u001b[0m\n\u001b[0m",
      "\u001b[1;31mTypeError\u001b[0m: unsupported operand type(s) for -: 'str' and 'str'"
     ]
    }
   ],
   "source": [
    "\"Bhu\"-\"Bhu\""
   ]
  },
  {
   "cell_type": "markdown",
   "id": "8cad4167",
   "metadata": {},
   "source": [
    "# User Input/OutPut Functions"
   ]
  },
  {
   "cell_type": "code",
   "execution_count": 1,
   "id": "612f7384",
   "metadata": {},
   "outputs": [],
   "source": [
    "a=10"
   ]
  },
  {
   "cell_type": "code",
   "execution_count": 3,
   "id": "c81d0ad3",
   "metadata": {},
   "outputs": [
    {
     "name": "stdout",
     "output_type": "stream",
     "text": [
      "enter a Interger10\n"
     ]
    },
    {
     "data": {
      "text/plain": [
       "str"
      ]
     },
     "execution_count": 3,
     "metadata": {},
     "output_type": "execute_result"
    }
   ],
   "source": [
    "a=input(\"enter a Interger\")\n",
    "type(a)"
   ]
  },
  {
   "cell_type": "code",
   "execution_count": 4,
   "id": "a2f1d179",
   "metadata": {},
   "outputs": [
    {
     "name": "stdout",
     "output_type": "stream",
     "text": [
      "this is my variable a345\n"
     ]
    }
   ],
   "source": [
    "a=input(\"this is my variable a\")"
   ]
  },
  {
   "cell_type": "code",
   "execution_count": 5,
   "id": "869b8c87",
   "metadata": {},
   "outputs": [
    {
     "data": {
      "text/plain": [
       "'345'"
      ]
     },
     "execution_count": 5,
     "metadata": {},
     "output_type": "execute_result"
    }
   ],
   "source": [
    "a"
   ]
  },
  {
   "cell_type": "code",
   "execution_count": 9,
   "id": "a86815fd",
   "metadata": {},
   "outputs": [
    {
     "name": "stdout",
     "output_type": "stream",
     "text": [
      "this is my var a45\n",
      "this is my var b56\n",
      "this is my var c34\n"
     ]
    }
   ],
   "source": [
    "a=int(input(\"this is my var a\"))\n",
    "b=int(input(\"this is my var b\"))\n",
    "c=int(input(\"this is my var c\"))"
   ]
  },
  {
   "cell_type": "code",
   "execution_count": 10,
   "id": "4750e99b",
   "metadata": {},
   "outputs": [
    {
     "data": {
      "text/plain": [
       "(45, 56, 34)"
      ]
     },
     "execution_count": 10,
     "metadata": {},
     "output_type": "execute_result"
    }
   ],
   "source": [
    "a,b,c"
   ]
  },
  {
   "cell_type": "code",
   "execution_count": 14,
   "id": "286a2835",
   "metadata": {},
   "outputs": [
    {
     "data": {
      "text/plain": [
       "(78+6j)"
      ]
     },
     "execution_count": 14,
     "metadata": {},
     "output_type": "execute_result"
    }
   ],
   "source": [
    "o=a+b/c\n",
    "o\n",
    "o1=78+6j\n",
    "o1"
   ]
  },
  {
   "cell_type": "code",
   "execution_count": 16,
   "id": "dd47196b",
   "metadata": {},
   "outputs": [
    {
     "data": {
      "text/plain": [
       "complex"
      ]
     },
     "execution_count": 16,
     "metadata": {},
     "output_type": "execute_result"
    }
   ],
   "source": [
    "type(o1)"
   ]
  },
  {
   "cell_type": "code",
   "execution_count": 17,
   "id": "2406b228",
   "metadata": {},
   "outputs": [
    {
     "data": {
      "text/plain": [
       "45"
      ]
     },
     "execution_count": 17,
     "metadata": {},
     "output_type": "execute_result"
    }
   ],
   "source": [
    "a"
   ]
  },
  {
   "cell_type": "code",
   "execution_count": 18,
   "id": "79995036",
   "metadata": {},
   "outputs": [
    {
     "data": {
      "text/plain": [
       "int"
      ]
     },
     "execution_count": 18,
     "metadata": {},
     "output_type": "execute_result"
    }
   ],
   "source": [
    "type(a)"
   ]
  },
  {
   "cell_type": "code",
   "execution_count": 20,
   "id": "be72e153",
   "metadata": {},
   "outputs": [
    {
     "data": {
      "text/plain": [
       "46.64705882352941"
      ]
     },
     "execution_count": 20,
     "metadata": {},
     "output_type": "execute_result"
    }
   ],
   "source": [
    "o"
   ]
  },
  {
   "cell_type": "code",
   "execution_count": 22,
   "id": "af97ffdd",
   "metadata": {},
   "outputs": [
    {
     "data": {
      "text/plain": [
       "'(78+6j)bhushan'"
      ]
     },
     "execution_count": 22,
     "metadata": {},
     "output_type": "execute_result"
    }
   ],
   "source": [
    "str(o1)+\"bhushan\""
   ]
  },
  {
   "cell_type": "markdown",
   "id": "3b93be54",
   "metadata": {},
   "source": [
    "# Decision Making(if,ifelse,elif)"
   ]
  },
  {
   "cell_type": "code",
   "execution_count": 25,
   "id": "da433155",
   "metadata": {},
   "outputs": [
    {
     "name": "stdout",
     "output_type": "stream",
     "text": [
      "input a number -- 24\n"
     ]
    }
   ],
   "source": [
    "a=int(input(\"input a number -- \"))"
   ]
  },
  {
   "cell_type": "code",
   "execution_count": 26,
   "id": "c5e741a5",
   "metadata": {},
   "outputs": [
    {
     "data": {
      "text/plain": [
       "24"
      ]
     },
     "execution_count": 26,
     "metadata": {},
     "output_type": "execute_result"
    }
   ],
   "source": [
    "a"
   ]
  },
  {
   "cell_type": "code",
   "execution_count": 27,
   "id": "6adba61f",
   "metadata": {},
   "outputs": [
    {
     "name": "stdout",
     "output_type": "stream",
     "text": [
      "data input is lesser then 34 and i am fine with it\n"
     ]
    }
   ],
   "source": [
    "if a<34:\n",
    "    print(\"data input is lesser then 34 and i am fine with it\")"
   ]
  },
  {
   "cell_type": "code",
   "execution_count": 31,
   "id": "ab9fd728",
   "metadata": {},
   "outputs": [
    {
     "name": "stdout",
     "output_type": "stream",
     "text": [
      "input a number24\n",
      "data input is lesser then 34 and i am fine with it\n"
     ]
    }
   ],
   "source": [
    "x=int(input(\"input a number\"))\n",
    "if x<34:\n",
    "    print(\"data input is lesser then 34 and i am fine with it\")"
   ]
  },
  {
   "cell_type": "code",
   "execution_count": 34,
   "id": "2fcb54c1",
   "metadata": {},
   "outputs": [
    {
     "name": "stdout",
     "output_type": "stream",
     "text": [
      "input a number78\n",
      "my data is lesser then 100\n"
     ]
    }
   ],
   "source": [
    "x=int(input(\"input a number\"))\n",
    "if x<34:\n",
    "   print(\"data input is lesser then 34 and i am fine with it\")\n",
    "elif a<100:\n",
    "    print(\"my data is lesser then 100\")\n",
    "else:\n",
    "    print(\"user input is not lesser then 34\")"
   ]
  },
  {
   "cell_type": "code",
   "execution_count": 41,
   "id": "78d621a5",
   "metadata": {},
   "outputs": [
    {
     "name": "stdout",
     "output_type": "stream",
     "text": [
      "enter your salary10056\n",
      "you salary is good\n",
      "i will go with a card nano\n",
      "false code\n"
     ]
    }
   ],
   "source": [
    "salary = int(input(\"enter your salary\"))\n",
    "if( salary > 1000):\n",
    "    print(\"you salary is good\")\n",
    "    if salary > 5000:\n",
    "        print(\"i will go with a card nano\")\n",
    "        if True:\n",
    "            print(\"false code\")\n",
    "    elif salary >10000:\n",
    "        print(\"i will go with maruti\")\n",
    "    elif salary > 50000:\n",
    "        print(\"i wil go with toyota\")\n",
    "    else :\n",
    "        print(\"i will rent a car \")\n",
    "elif salary > 500:\n",
    "    print(\" i will go for bike \")\n",
    "elif salary> 100:\n",
    "    print(\"i will not buy anyting\")\n",
    "else :\n",
    "    print(\"i will go for savinig \")"
   ]
  },
  {
   "cell_type": "code",
   "execution_count": 42,
   "id": "b5003042",
   "metadata": {},
   "outputs": [
    {
     "data": {
      "text/plain": [
       "True"
      ]
     },
     "execution_count": 42,
     "metadata": {},
     "output_type": "execute_result"
    }
   ],
   "source": [
    "salary > 5000"
   ]
  },
  {
   "cell_type": "code",
   "execution_count": 43,
   "id": "8cf00ead",
   "metadata": {},
   "outputs": [
    {
     "ename": "SyntaxError",
     "evalue": "invalid syntax (<ipython-input-43-15b4298fcf41>, line 1)",
     "output_type": "error",
     "traceback": [
      "\u001b[1;36m  File \u001b[1;32m\"<ipython-input-43-15b4298fcf41>\"\u001b[1;36m, line \u001b[1;32m1\u001b[0m\n\u001b[1;33m    void test(int i , float j ){\u001b[0m\n\u001b[1;37m         ^\u001b[0m\n\u001b[1;31mSyntaxError\u001b[0m\u001b[1;31m:\u001b[0m invalid syntax\n"
     ]
    }
   ],
   "source": [
    "void test(int i , float j ){\n",
    "    \n",
    "}"
   ]
  },
  {
   "cell_type": "code",
   "execution_count": 44,
   "id": "e680f3ef",
   "metadata": {},
   "outputs": [],
   "source": [
    "name = \"bhushan\"\n",
    "test = \"dfsfsf\""
   ]
  },
  {
   "cell_type": "code",
   "execution_count": 45,
   "id": "84ee5d98",
   "metadata": {},
   "outputs": [],
   "source": [
    "def test(name = str  , test = int):\n",
    "    name = \"fsfds\"\n",
    "    test= \"fsdfs\"\n",
    "    print(name, test)"
   ]
  },
  {
   "cell_type": "code",
   "execution_count": 46,
   "id": "decdf49c",
   "metadata": {},
   "outputs": [
    {
     "name": "stdout",
     "output_type": "stream",
     "text": [
      "fsfds fsdfs\n"
     ]
    }
   ],
   "source": [
    "test()"
   ]
  },
  {
   "cell_type": "code",
   "execution_count": 48,
   "id": "6fdef0ae",
   "metadata": {},
   "outputs": [
    {
     "name": "stdout",
     "output_type": "stream",
     "text": [
      "fsfds fsdfs\n"
     ]
    }
   ],
   "source": [
    "test(\"Sds\",\"ds\")"
   ]
  },
  {
   "cell_type": "code",
   "execution_count": 49,
   "id": "297ced79",
   "metadata": {},
   "outputs": [],
   "source": [
    "def test():\n",
    "        return \"dasas\""
   ]
  },
  {
   "cell_type": "code",
   "execution_count": 50,
   "id": "9f4cd48b",
   "metadata": {},
   "outputs": [
    {
     "data": {
      "text/plain": [
       "'dasas'"
      ]
     },
     "execution_count": 50,
     "metadata": {},
     "output_type": "execute_result"
    }
   ],
   "source": [
    "test()"
   ]
  },
  {
   "cell_type": "code",
   "execution_count": null,
   "id": "d19ec3ee",
   "metadata": {},
   "outputs": [],
   "source": []
  }
 ],
 "metadata": {
  "kernelspec": {
   "display_name": "Python 3",
   "language": "python",
   "name": "python3"
  },
  "language_info": {
   "codemirror_mode": {
    "name": "ipython",
    "version": 3
   },
   "file_extension": ".py",
   "mimetype": "text/x-python",
   "name": "python",
   "nbconvert_exporter": "python",
   "pygments_lexer": "ipython3",
   "version": "3.8.8"
  }
 },
 "nbformat": 4,
 "nbformat_minor": 5
}
