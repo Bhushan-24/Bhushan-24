{
 "cells": [
  {
   "cell_type": "markdown",
   "id": "cf35e6ca",
   "metadata": {},
   "source": [
    "# List manipulation "
   ]
  },
  {
   "cell_type": "code",
   "execution_count": 1,
   "id": "1d332eb7",
   "metadata": {},
   "outputs": [],
   "source": [
    "l=[\"Krish Naik\",234,45,56,[45,56,6,\"c\"],True]"
   ]
  },
  {
   "cell_type": "code",
   "execution_count": 2,
   "id": "05bef5dd",
   "metadata": {},
   "outputs": [
    {
     "data": {
      "text/plain": [
       "['Krish Naik', 234, 45, 56, [45, 56, 6, 'c'], True]"
      ]
     },
     "execution_count": 2,
     "metadata": {},
     "output_type": "execute_result"
    }
   ],
   "source": [
    "l"
   ]
  },
  {
   "cell_type": "code",
   "execution_count": 3,
   "id": "a39e26d0",
   "metadata": {},
   "outputs": [
    {
     "name": "stdout",
     "output_type": "stream",
     "text": [
      "['Krish Naik', 234, 45, 56, [45, 56, 6, 'c'], True]\n",
      "['Krish Naik', 234, 45, 56, [45, 56, 6, 'c'], True]\n",
      "['Krish Naik', 234, 45, 56, [45, 56, 6, 'c'], True]\n",
      "['Krish Naik', 234, 45, 56, [45, 56, 6, 'c'], True]\n",
      "['Krish Naik', 234, 45, 56, [45, 56, 6, 'c'], True]\n",
      "['Krish Naik', 234, 45, 56, [45, 56, 6, 'c'], True]\n"
     ]
    }
   ],
   "source": [
    "for i in l:\n",
    "    print(l)"
   ]
  },
  {
   "cell_type": "code",
   "execution_count": 4,
   "id": "4ae364c9",
   "metadata": {},
   "outputs": [
    {
     "name": "stdout",
     "output_type": "stream",
     "text": [
      "Krish Naik\n",
      "234\n",
      "45\n",
      "56\n",
      "[45, 56, 6, 'c']\n",
      "True\n"
     ]
    }
   ],
   "source": [
    "l=[\"Krish Naik\",234,45,56,[45,56,6,\"c\"],True]\n",
    "for i in l:\n",
    "    print(i)"
   ]
  },
  {
   "cell_type": "markdown",
   "id": "f29d3402",
   "metadata": {},
   "source": [
    "# List Indexing"
   ]
  },
  {
   "cell_type": "code",
   "execution_count": 5,
   "id": "c9cd9949",
   "metadata": {},
   "outputs": [
    {
     "data": {
      "text/plain": [
       "'Krish Naik'"
      ]
     },
     "execution_count": 5,
     "metadata": {},
     "output_type": "execute_result"
    }
   ],
   "source": [
    "l[0]"
   ]
  },
  {
   "cell_type": "code",
   "execution_count": 6,
   "id": "6941d7ea",
   "metadata": {},
   "outputs": [
    {
     "data": {
      "text/plain": [
       "234"
      ]
     },
     "execution_count": 6,
     "metadata": {},
     "output_type": "execute_result"
    }
   ],
   "source": [
    "l[1]"
   ]
  },
  {
   "cell_type": "code",
   "execution_count": 7,
   "id": "910eaaa6",
   "metadata": {},
   "outputs": [
    {
     "data": {
      "text/plain": [
       "[234, 45, 56, [45, 56, 6, 'c'], True]"
      ]
     },
     "execution_count": 7,
     "metadata": {},
     "output_type": "execute_result"
    }
   ],
   "source": [
    "l[1::]"
   ]
  },
  {
   "cell_type": "code",
   "execution_count": 8,
   "id": "09c09dc9",
   "metadata": {},
   "outputs": [
    {
     "name": "stdout",
     "output_type": "stream",
     "text": [
      "no element is not a list Krish Naik\n",
      "no element is not a list 234\n",
      "no element is not a list 45\n",
      "no element is not a list 56\n",
      "this is a list [45, 56, 6, 'c']\n",
      "no element is not a list True\n"
     ]
    }
   ],
   "source": [
    "for i in l:\n",
    "    if type(i)==list:\n",
    "        print(\"this is a list\",i)\n",
    "    else:\n",
    "        print(\"no element is not a list\",i)"
   ]
  },
  {
   "cell_type": "code",
   "execution_count": 9,
   "id": "5207795d",
   "metadata": {},
   "outputs": [
    {
     "data": {
      "text/plain": [
       "['Krish Naik', 234, 45, 56, [45, 56, 6, 'c'], True]"
      ]
     },
     "execution_count": 9,
     "metadata": {},
     "output_type": "execute_result"
    }
   ],
   "source": [
    "l"
   ]
  },
  {
   "cell_type": "code",
   "execution_count": 10,
   "id": "aff05aa6",
   "metadata": {},
   "outputs": [],
   "source": [
    "l1=[345,2345,\"ineuron\",\"tech\"]"
   ]
  },
  {
   "cell_type": "code",
   "execution_count": 11,
   "id": "0778ed26",
   "metadata": {},
   "outputs": [
    {
     "data": {
      "text/plain": [
       "['Krish Naik',\n",
       " 234,\n",
       " 45,\n",
       " 56,\n",
       " [45, 56, 6, 'c'],\n",
       " True,\n",
       " 345,\n",
       " 2345,\n",
       " 'ineuron',\n",
       " 'tech']"
      ]
     },
     "execution_count": 11,
     "metadata": {},
     "output_type": "execute_result"
    }
   ],
   "source": [
    "l+l1"
   ]
  },
  {
   "cell_type": "code",
   "execution_count": 12,
   "id": "723d2a0b",
   "metadata": {},
   "outputs": [
    {
     "data": {
      "text/plain": [
       "['Krish Naik',\n",
       " 234,\n",
       " 45,\n",
       " 56,\n",
       " [45, 56, 6, 'c'],\n",
       " True,\n",
       " 'Krish Naik',\n",
       " 234,\n",
       " 45,\n",
       " 56,\n",
       " [45, 56, 6, 'c'],\n",
       " True]"
      ]
     },
     "execution_count": 12,
     "metadata": {},
     "output_type": "execute_result"
    }
   ],
   "source": [
    "l*2"
   ]
  },
  {
   "cell_type": "code",
   "execution_count": 13,
   "id": "67b14f69",
   "metadata": {},
   "outputs": [
    {
     "data": {
      "text/plain": [
       "6"
      ]
     },
     "execution_count": 13,
     "metadata": {},
     "output_type": "execute_result"
    }
   ],
   "source": [
    "len(l)"
   ]
  },
  {
   "cell_type": "code",
   "execution_count": 14,
   "id": "bc474c11",
   "metadata": {},
   "outputs": [
    {
     "data": {
      "text/plain": [
       "True"
      ]
     },
     "execution_count": 14,
     "metadata": {},
     "output_type": "execute_result"
    }
   ],
   "source": [
    "True in l"
   ]
  },
  {
   "cell_type": "code",
   "execution_count": 15,
   "id": "a262b97a",
   "metadata": {},
   "outputs": [
    {
     "data": {
      "text/plain": [
       "False"
      ]
     },
     "execution_count": 15,
     "metadata": {},
     "output_type": "execute_result"
    }
   ],
   "source": [
    "False in l"
   ]
  },
  {
   "cell_type": "code",
   "execution_count": 16,
   "id": "37614edb",
   "metadata": {},
   "outputs": [
    {
     "data": {
      "text/plain": [
       "True"
      ]
     },
     "execution_count": 16,
     "metadata": {},
     "output_type": "execute_result"
    }
   ],
   "source": [
    "\"Krish Naik\" in l"
   ]
  },
  {
   "cell_type": "code",
   "execution_count": 17,
   "id": "cd19a2bb",
   "metadata": {},
   "outputs": [
    {
     "data": {
      "text/plain": [
       "False"
      ]
     },
     "execution_count": 17,
     "metadata": {},
     "output_type": "execute_result"
    }
   ],
   "source": [
    "345 in l"
   ]
  },
  {
   "cell_type": "code",
   "execution_count": 18,
   "id": "4c8ad834",
   "metadata": {},
   "outputs": [
    {
     "name": "stdout",
     "output_type": "stream",
     "text": [
      "5\n"
     ]
    }
   ],
   "source": [
    "print(max([1,2,3,4,5]))"
   ]
  },
  {
   "cell_type": "code",
   "execution_count": 19,
   "id": "5b04ea78",
   "metadata": {},
   "outputs": [
    {
     "name": "stdout",
     "output_type": "stream",
     "text": [
      "1\n"
     ]
    }
   ],
   "source": [
    "print(min([1,2,3,4,5]))"
   ]
  },
  {
   "cell_type": "code",
   "execution_count": 20,
   "id": "28426f27",
   "metadata": {},
   "outputs": [
    {
     "name": "stdout",
     "output_type": "stream",
     "text": [
      "Sudh\n"
     ]
    }
   ],
   "source": [
    "print(max([\"Krish Naik\",\"Sudh\",\"AI\"]))"
   ]
  },
  {
   "cell_type": "code",
   "execution_count": 21,
   "id": "6f6efbc5",
   "metadata": {},
   "outputs": [
    {
     "name": "stdout",
     "output_type": "stream",
     "text": [
      "Krish Naik\n"
     ]
    }
   ],
   "source": [
    "print(min([\"Krish Naik\",\"sudh\",\"ML\"]))"
   ]
  },
  {
   "cell_type": "code",
   "execution_count": 22,
   "id": "4184bf09",
   "metadata": {},
   "outputs": [
    {
     "data": {
      "text/plain": [
       "[2, 4, 6, 8, 'Krish Naik', 'Sudh']"
      ]
     },
     "execution_count": 22,
     "metadata": {},
     "output_type": "execute_result"
    }
   ],
   "source": [
    "l=[2,4,6,8,\"Krish Naik\"]\n",
    "l.append(\"Sudh\")\n",
    "l"
   ]
  },
  {
   "cell_type": "code",
   "execution_count": 23,
   "id": "86c2c940",
   "metadata": {},
   "outputs": [
    {
     "data": {
      "text/plain": [
       "[2, 4, 6, 8, 'Krish', [1, 2, 3, 4]]"
      ]
     },
     "execution_count": 23,
     "metadata": {},
     "output_type": "execute_result"
    }
   ],
   "source": [
    "l=[2,4,6,8,\"Krish\"]\n",
    "l.append([1,2,3,4])\n",
    "l"
   ]
  },
  {
   "cell_type": "code",
   "execution_count": 24,
   "id": "5b7974fd",
   "metadata": {},
   "outputs": [
    {
     "data": {
      "text/plain": [
       "[2, 4, 6, 8, 'Krish', (3+9j)]"
      ]
     },
     "execution_count": 24,
     "metadata": {},
     "output_type": "execute_result"
    }
   ],
   "source": [
    "l=[2,4,6,8,\"Krish\"]\n",
    "l.append(3+9j)\n",
    "l"
   ]
  },
  {
   "cell_type": "code",
   "execution_count": 25,
   "id": "400da541",
   "metadata": {},
   "outputs": [
    {
     "data": {
      "text/plain": [
       "[2, 4, 6, 8, 'Krish', (3+9j)]"
      ]
     },
     "execution_count": 25,
     "metadata": {},
     "output_type": "execute_result"
    }
   ],
   "source": [
    "l"
   ]
  },
  {
   "cell_type": "code",
   "execution_count": 26,
   "id": "0d072a6b",
   "metadata": {},
   "outputs": [
    {
     "data": {
      "text/plain": [
       "[1, 2, 3, 4, 'Krish Naik', 'Bhushan']"
      ]
     },
     "execution_count": 26,
     "metadata": {},
     "output_type": "execute_result"
    }
   ],
   "source": [
    "l=[1,2,3,4,\"Krish Naik\"]\n",
    "l.append(\"Bhushan\")\n",
    "l"
   ]
  },
  {
   "cell_type": "code",
   "execution_count": 27,
   "id": "761d349f",
   "metadata": {},
   "outputs": [],
   "source": [
    "l.insert(3,'Sudh')"
   ]
  },
  {
   "cell_type": "code",
   "execution_count": 28,
   "id": "1c023dda",
   "metadata": {},
   "outputs": [
    {
     "data": {
      "text/plain": [
       "[1, 2, 3, 'Sudh', 4, 'Krish Naik', 'Bhushan']"
      ]
     },
     "execution_count": 28,
     "metadata": {},
     "output_type": "execute_result"
    }
   ],
   "source": [
    "l"
   ]
  },
  {
   "cell_type": "code",
   "execution_count": 29,
   "id": "cc38496e",
   "metadata": {},
   "outputs": [],
   "source": [
    "l.insert(-1,'Tasleem')"
   ]
  },
  {
   "cell_type": "code",
   "execution_count": 30,
   "id": "cdbfa749",
   "metadata": {},
   "outputs": [
    {
     "data": {
      "text/plain": [
       "[1, 2, 3, 'Sudh', 4, 'Krish Naik', 'Tasleem', 'Bhushan']"
      ]
     },
     "execution_count": 30,
     "metadata": {},
     "output_type": "execute_result"
    }
   ],
   "source": [
    "l"
   ]
  },
  {
   "cell_type": "code",
   "execution_count": 31,
   "id": "efef14d8",
   "metadata": {},
   "outputs": [
    {
     "data": {
      "text/plain": [
       "1"
      ]
     },
     "execution_count": 31,
     "metadata": {},
     "output_type": "execute_result"
    }
   ],
   "source": [
    "l.count('Krish Naik')"
   ]
  },
  {
   "cell_type": "code",
   "execution_count": 32,
   "id": "7bd1c41b",
   "metadata": {},
   "outputs": [],
   "source": [
    "l.extend('Tasleem')"
   ]
  },
  {
   "cell_type": "code",
   "execution_count": 33,
   "id": "cf073cc3",
   "metadata": {},
   "outputs": [
    {
     "data": {
      "text/plain": [
       "[1,\n",
       " 2,\n",
       " 3,\n",
       " 'Sudh',\n",
       " 4,\n",
       " 'Krish Naik',\n",
       " 'Tasleem',\n",
       " 'Bhushan',\n",
       " 'T',\n",
       " 'a',\n",
       " 's',\n",
       " 'l',\n",
       " 'e',\n",
       " 'e',\n",
       " 'm']"
      ]
     },
     "execution_count": 33,
     "metadata": {},
     "output_type": "execute_result"
    }
   ],
   "source": [
    "l"
   ]
  },
  {
   "cell_type": "code",
   "execution_count": 34,
   "id": "021b75df",
   "metadata": {},
   "outputs": [
    {
     "data": {
      "text/plain": [
       "['B', 'h', 'u', 's', 'h', 'a', 'n']"
      ]
     },
     "execution_count": 34,
     "metadata": {},
     "output_type": "execute_result"
    }
   ],
   "source": [
    "s='Bhushan'\n",
    "list(s)"
   ]
  },
  {
   "cell_type": "code",
   "execution_count": 35,
   "id": "6cb36311",
   "metadata": {},
   "outputs": [
    {
     "data": {
      "text/plain": [
       "['Bhushan', 'Krish', 'SudhanshuKumar', 'sunny']"
      ]
     },
     "execution_count": 35,
     "metadata": {},
     "output_type": "execute_result"
    }
   ],
   "source": [
    "l=['Bhushan','Krish','SudhanshuKumar']\n",
    "l.append('sunny')\n",
    "l"
   ]
  },
  {
   "cell_type": "code",
   "execution_count": 36,
   "id": "b42beaef",
   "metadata": {},
   "outputs": [],
   "source": [
    "l.extend([1,2,3,4,5,['xyz']])"
   ]
  },
  {
   "cell_type": "code",
   "execution_count": 37,
   "id": "dfa50294",
   "metadata": {},
   "outputs": [
    {
     "data": {
      "text/plain": [
       "['Bhushan', 'Krish', 'SudhanshuKumar', 'sunny', 1, 2, 3, 4, 5, ['xyz']]"
      ]
     },
     "execution_count": 37,
     "metadata": {},
     "output_type": "execute_result"
    }
   ],
   "source": [
    "l"
   ]
  },
  {
   "cell_type": "code",
   "execution_count": 38,
   "id": "6faa207b",
   "metadata": {},
   "outputs": [
    {
     "data": {
      "text/plain": [
       "6"
      ]
     },
     "execution_count": 38,
     "metadata": {},
     "output_type": "execute_result"
    }
   ],
   "source": [
    "l.index(3)"
   ]
  },
  {
   "cell_type": "code",
   "execution_count": 39,
   "id": "4254aa1f",
   "metadata": {},
   "outputs": [
    {
     "data": {
      "text/plain": [
       "10"
      ]
     },
     "execution_count": 39,
     "metadata": {},
     "output_type": "execute_result"
    }
   ],
   "source": [
    "l=[1,2,3,4,5,6,7,8,9,10]\n",
    "l.pop(9)"
   ]
  },
  {
   "cell_type": "code",
   "execution_count": 40,
   "id": "708b45a7",
   "metadata": {},
   "outputs": [
    {
     "data": {
      "text/plain": [
       "[1, 2, 3, 4, 5, 6, 7, 8, 9]"
      ]
     },
     "execution_count": 40,
     "metadata": {},
     "output_type": "execute_result"
    }
   ],
   "source": [
    "l"
   ]
  },
  {
   "cell_type": "code",
   "execution_count": 41,
   "id": "0d68b003",
   "metadata": {},
   "outputs": [],
   "source": [
    "l.remove(5)"
   ]
  },
  {
   "cell_type": "code",
   "execution_count": 42,
   "id": "39abb98f",
   "metadata": {},
   "outputs": [
    {
     "data": {
      "text/plain": [
       "[1, 2, 3, 4, 6, 7, 8, 9]"
      ]
     },
     "execution_count": 42,
     "metadata": {},
     "output_type": "execute_result"
    }
   ],
   "source": [
    "l"
   ]
  },
  {
   "cell_type": "code",
   "execution_count": 43,
   "id": "5e05e6d2",
   "metadata": {},
   "outputs": [],
   "source": [
    "l.reverse()"
   ]
  },
  {
   "cell_type": "code",
   "execution_count": 44,
   "id": "3d35bc89",
   "metadata": {},
   "outputs": [
    {
     "data": {
      "text/plain": [
       "[9, 8, 7, 6, 4, 3, 2, 1]"
      ]
     },
     "execution_count": 44,
     "metadata": {},
     "output_type": "execute_result"
    }
   ],
   "source": [
    "l"
   ]
  },
  {
   "cell_type": "code",
   "execution_count": 45,
   "id": "1d256823",
   "metadata": {},
   "outputs": [],
   "source": [
    "l.sort()"
   ]
  },
  {
   "cell_type": "code",
   "execution_count": 46,
   "id": "9a3f184e",
   "metadata": {},
   "outputs": [
    {
     "data": {
      "text/plain": [
       "[1, 2, 3, 4, 6, 7, 8, 9]"
      ]
     },
     "execution_count": 46,
     "metadata": {},
     "output_type": "execute_result"
    }
   ],
   "source": [
    "l"
   ]
  },
  {
   "cell_type": "code",
   "execution_count": 47,
   "id": "c402c7ab",
   "metadata": {},
   "outputs": [],
   "source": [
    "l=[10,9,8,7,6,5,4,3,2,1,0]\n",
    "l.sort()"
   ]
  },
  {
   "cell_type": "code",
   "execution_count": 48,
   "id": "1b2d0a08",
   "metadata": {},
   "outputs": [
    {
     "data": {
      "text/plain": [
       "[0, 1, 2, 3, 4, 5, 6, 7, 8, 9, 10]"
      ]
     },
     "execution_count": 48,
     "metadata": {},
     "output_type": "execute_result"
    }
   ],
   "source": [
    "l"
   ]
  },
  {
   "cell_type": "code",
   "execution_count": 49,
   "id": "0b6bb8bf",
   "metadata": {},
   "outputs": [
    {
     "data": {
      "text/plain": [
       "[[4, 5, 'Sameer', 'Sameer', 'Sameer'],\n",
       " [346, 7, 3426, 76],\n",
       " [34657, 'Jadhav', 74557, 45, 6],\n",
       " (3+6j),\n",
       " 23095,\n",
       " 'ineuron',\n",
       " [67, 67],\n",
       " [55, 55]]"
      ]
     },
     "execution_count": 49,
     "metadata": {},
     "output_type": "execute_result"
    }
   ],
   "source": [
    "l=[[4,5,\"Sameer\",\"Sameer\",\"Sameer\"],[346,7,3426,76],[34657,\"Jadhav\",74557,45,6],23095,'ineuron']\n",
    "l.append([67,67])\n",
    "l.append([55,55])\n",
    "l.insert(3,3+6j)\n",
    "l"
   ]
  },
  {
   "cell_type": "code",
   "execution_count": 50,
   "id": "70bd0d0e",
   "metadata": {},
   "outputs": [
    {
     "name": "stdout",
     "output_type": "stream",
     "text": [
      " got Sameer string at [4, 5, 'Sameer', 'Sameer', 'Sameer'] location\n",
      "[4, 5, 'Sameer', 'Sameer']\n",
      " got Sameer string at [4, 5, 'Sameer', 'Sameer'] location\n",
      "[4, 5, 'Sameer']\n",
      " got Jadhav string at [34657, 'Jadhav', 74557, 45, 6] location\n",
      "[34657, 74557, 45, 6]\n"
     ]
    }
   ],
   "source": [
    "l=[[4,5,\"Sameer\",\"Sameer\",\"Sameer\"],[346,7,3426,76],[34657,\"Jadhav\",74557,45,6],23095,'ineuron']\n",
    "l.append([67,67])\n",
    "l.append([55,55])\n",
    "l.insert(3,3+6j)\n",
    "l\n",
    "\n",
    "for i in l:\n",
    "    if type(i)==list:\n",
    "        for j in i:\n",
    "            if type(j)== str:\n",
    "                print (\" got {} string at {} location\".format(j,i))\n",
    "                i.remove(j)\n",
    "                print(i)\n"
   ]
  },
  {
   "cell_type": "code",
   "execution_count": 51,
   "id": "6e9678f8",
   "metadata": {},
   "outputs": [
    {
     "name": "stdout",
     "output_type": "stream",
     "text": [
      "Main List :  [[1, 2, 3], [11, 12, 'b', 'b', 'b'], [21, 't', 223], [4, 5, 6], [7, 8, 9], 'demo', 12.5]\n",
      "Index :  2\n",
      "Index :  2\n",
      "Index :  1\n",
      "Second Element :  2\n",
      "Second Element :  12\n",
      "Second Element :  223\n",
      "Second Element :  5\n",
      "Second Element :  8\n"
     ]
    }
   ],
   "source": [
    "# This is 100% working \n",
    "\n",
    "l1 = [[1,2,3],[4,5,6],[7,8,9],'demo',12.5]\n",
    "l2 = [11,12,'b','b','b']\n",
    "l3 = [21,'t',223]\n",
    "# 1)\n",
    "l1.insert(1,l2)\n",
    "l1.insert(2,l3)\n",
    "print(\"Main List : \",l1)\n",
    "# 2)\n",
    "\n",
    "for i in l1:\n",
    "    if type(i)== list:\n",
    "        for j in i:\n",
    "            if type(j) == str:\n",
    "                print(\"Index : \",i.index(j))\n",
    "                i.remove(j)\n",
    "                \n",
    "# 3) \n",
    "for i in l1:\n",
    "    if type(i)== list:\n",
    "        print(\"Second Element : \",i[1])\n"
   ]
  },
  {
   "cell_type": "code",
   "execution_count": 52,
   "id": "48e3c4a6",
   "metadata": {},
   "outputs": [
    {
     "data": {
      "text/plain": [
       "[[1, 2, 3], [11, 12, 'b'], [21, 223], [4, 5, 6], [7, 8, 9], 'demo', 12.5]"
      ]
     },
     "execution_count": 52,
     "metadata": {},
     "output_type": "execute_result"
    }
   ],
   "source": [
    "l1"
   ]
  },
  {
   "cell_type": "code",
   "execution_count": 53,
   "id": "1a459dbf",
   "metadata": {},
   "outputs": [
    {
     "data": {
      "text/plain": [
       "[[1, 2, 3],\n",
       " [11, 12, 'b', 'b', 'b'],\n",
       " [21, 't', 223],\n",
       " [4, 5, 6],\n",
       " [7, 8, 9],\n",
       " 'demo',\n",
       " 12.5]"
      ]
     },
     "execution_count": 53,
     "metadata": {},
     "output_type": "execute_result"
    }
   ],
   "source": [
    "l1 = [[1,2,3],[4,5,6],[7,8,9],'demo',12.5]\n",
    "l2 = [11,12,'b','b','b']\n",
    "l3 = [21,'t',223]\n",
    "# 1)\n",
    "l1.insert(1,l2)\n",
    "l1.insert(2,l3)\n",
    "l1"
   ]
  },
  {
   "cell_type": "code",
   "execution_count": 54,
   "id": "d3c41543",
   "metadata": {},
   "outputs": [],
   "source": [
    "l = [[1, 2, 3],\n",
    " [11, 12, 'b', 'b', 'b'],\n",
    " [21, 't', 223],\n",
    " [4, 5, 6],\n",
    " [7, 8, 9],\n",
    " 'demo',\n",
    " 12.5]"
   ]
  },
  {
   "cell_type": "code",
   "execution_count": 55,
   "id": "4123935b",
   "metadata": {},
   "outputs": [
    {
     "data": {
      "text/plain": [
       "[[1, 2, 3],\n",
       " [11, 12, 'b', 'b', 'b'],\n",
       " [21, 't', 223],\n",
       " [4, 5, 6],\n",
       " [7, 8, 9],\n",
       " 'demo',\n",
       " 12.5]"
      ]
     },
     "execution_count": 55,
     "metadata": {},
     "output_type": "execute_result"
    }
   ],
   "source": [
    "l"
   ]
  },
  {
   "cell_type": "code",
   "execution_count": 56,
   "id": "1c347f05",
   "metadata": {},
   "outputs": [
    {
     "name": "stdout",
     "output_type": "stream",
     "text": [
      "Ans 2:  5\n",
      "[[1, 2, 3], [11, 12, 'b', 'b', 'b'], [21, 't', 223], [4, 5, 6], [7, 8, 9], 12.5]\n",
      "string: demo\n"
     ]
    },
    {
     "ename": "TypeError",
     "evalue": "'float' object is not subscriptable",
     "output_type": "error",
     "traceback": [
      "\u001b[1;31m---------------------------------------------------------------------------\u001b[0m",
      "\u001b[1;31mTypeError\u001b[0m                                 Traceback (most recent call last)",
      "\u001b[1;32m<ipython-input-56-d4bc60cb68ba>\u001b[0m in \u001b[0;36m<module>\u001b[1;34m\u001b[0m\n\u001b[0;32m     16\u001b[0m \u001b[1;31m#3\u001b[0m\u001b[1;33m\u001b[0m\u001b[1;33m\u001b[0m\u001b[1;33m\u001b[0m\u001b[0m\n\u001b[0;32m     17\u001b[0m \u001b[1;33m\u001b[0m\u001b[0m\n\u001b[1;32m---> 18\u001b[1;33m \u001b[0mb\u001b[0m \u001b[1;33m=\u001b[0m \u001b[1;33m[\u001b[0m\u001b[0mel\u001b[0m\u001b[1;33m[\u001b[0m\u001b[1;36m1\u001b[0m\u001b[1;33m]\u001b[0m \u001b[1;32mfor\u001b[0m \u001b[0mel\u001b[0m \u001b[1;32min\u001b[0m \u001b[0ml\u001b[0m\u001b[1;33m]\u001b[0m\u001b[1;33m\u001b[0m\u001b[1;33m\u001b[0m\u001b[0m\n\u001b[0m\u001b[0;32m     19\u001b[0m \u001b[0mprint\u001b[0m\u001b[1;33m(\u001b[0m\u001b[0mb\u001b[0m\u001b[1;33m)\u001b[0m\u001b[1;33m\u001b[0m\u001b[1;33m\u001b[0m\u001b[0m\n",
      "\u001b[1;32m<ipython-input-56-d4bc60cb68ba>\u001b[0m in \u001b[0;36m<listcomp>\u001b[1;34m(.0)\u001b[0m\n\u001b[0;32m     16\u001b[0m \u001b[1;31m#3\u001b[0m\u001b[1;33m\u001b[0m\u001b[1;33m\u001b[0m\u001b[1;33m\u001b[0m\u001b[0m\n\u001b[0;32m     17\u001b[0m \u001b[1;33m\u001b[0m\u001b[0m\n\u001b[1;32m---> 18\u001b[1;33m \u001b[0mb\u001b[0m \u001b[1;33m=\u001b[0m \u001b[1;33m[\u001b[0m\u001b[0mel\u001b[0m\u001b[1;33m[\u001b[0m\u001b[1;36m1\u001b[0m\u001b[1;33m]\u001b[0m \u001b[1;32mfor\u001b[0m \u001b[0mel\u001b[0m \u001b[1;32min\u001b[0m \u001b[0ml\u001b[0m\u001b[1;33m]\u001b[0m\u001b[1;33m\u001b[0m\u001b[1;33m\u001b[0m\u001b[0m\n\u001b[0m\u001b[0;32m     19\u001b[0m \u001b[0mprint\u001b[0m\u001b[1;33m(\u001b[0m\u001b[0mb\u001b[0m\u001b[1;33m)\u001b[0m\u001b[1;33m\u001b[0m\u001b[1;33m\u001b[0m\u001b[0m\n",
      "\u001b[1;31mTypeError\u001b[0m: 'float' object is not subscriptable"
     ]
    }
   ],
   "source": [
    "l = [[1, 2, 3],\n",
    " [11, 12, 'b', 'b', 'b'],\n",
    " [21, 't', 223],\n",
    " [4, 5, 6],\n",
    " [7, 8, 9],\n",
    " 'demo',\n",
    " 12.5]\n",
    "\n",
    "\n",
    "for i in l:\n",
    "    if type(i)==str:\n",
    "        print(\"Ans 2: \",l.index(i))\n",
    "        l.pop(l.index(i))\n",
    "        print(l)\n",
    "        print(\"string:\",i)\n",
    "#3\n",
    "\n",
    "b = [el[1] for el in l]\n",
    "print(b)\n"
   ]
  },
  {
   "cell_type": "code",
   "execution_count": 57,
   "id": "db169951",
   "metadata": {},
   "outputs": [
    {
     "name": "stdout",
     "output_type": "stream",
     "text": [
      "index of string in the list is  2\n",
      "index of string in the list is  3\n",
      "index of string in the list is  4\n",
      "index of string in the list is  1\n",
      "[[1, 2, 3], [11, 12, 'ccc', 'ccc', 'ccc'], [21, 'ccc', 223], [4, 5, 6], [7, 8, 9], 'demo', 12.5]\n"
     ]
    },
    {
     "data": {
      "text/plain": [
       "[2, 12, 'ccc', 5, 8]"
      ]
     },
     "execution_count": 57,
     "metadata": {},
     "output_type": "execute_result"
    }
   ],
   "source": [
    "l = [[1, 2, 3],\n",
    " [11, 12, 'b', 'b', 'b'],\n",
    " [21, 't', 223],\n",
    " [4, 5, 6],\n",
    " [7, 8, 9],\n",
    " 'demo',\n",
    " 12.5]\n",
    "\n",
    "li=[]\n",
    "for i,j in enumerate(l):\n",
    "    if type(j) == list:\n",
    "        for k,d in enumerate(j):\n",
    "            if type(d) == str:\n",
    "                print('index of string in the list is ',k)\n",
    "                l[i][k] = 'ccc'\n",
    "            if k == 1:\n",
    "                li.append(j[k])\n",
    "print(l)\n",
    "li\n"
   ]
  },
  {
   "cell_type": "code",
   "execution_count": 58,
   "id": "6bde5cb8",
   "metadata": {},
   "outputs": [
    {
     "data": {
      "text/plain": [
       "[[1, 2, 3],\n",
       " [11, 12, 'ccc', 'ccc', 'ccc'],\n",
       " [21, 'ccc', 223],\n",
       " [4, 5, 6],\n",
       " [7, 8, 9],\n",
       " 'demo',\n",
       " 12.5]"
      ]
     },
     "execution_count": 58,
     "metadata": {},
     "output_type": "execute_result"
    }
   ],
   "source": [
    "l"
   ]
  },
  {
   "cell_type": "code",
   "execution_count": 59,
   "id": "17ff31a8",
   "metadata": {},
   "outputs": [
    {
     "name": "stdout",
     "output_type": "stream",
     "text": [
      "index of string 3\n",
      "6\n",
      "[[1, 2, 3, 4], [5, 6, 7, 'hi', 8], [8, 7, 66], 2, 6, [2, 3, 4], (3+9j), [5, 6, 7]]\n"
     ]
    }
   ],
   "source": [
    "l=[[1,2,3,4],[5,6,7,\"hello\",8],[8,7,66],2,6]\n",
    "l.append([2,3,4])\n",
    "l.append(3+9j)\n",
    "l.append([5,6,7])\n",
    "for i in l:\n",
    "    if type(i)==list:\n",
    "        for j,v in enumerate(i):\n",
    "            if type(v)==str:\n",
    "                print('index of string',j)\n",
    "                i[j]=\"hi\"\n",
    "                print(i[1])\n",
    "                print(l)\n"
   ]
  },
  {
   "cell_type": "code",
   "execution_count": 61,
   "id": "4e61f6d5",
   "metadata": {},
   "outputs": [],
   "source": [
    "l=[[1,2,3],[4,5,6],[7,8,9,'xyz'],10,'Krish',True]\n",
    "# part 1\n",
    "l.insert(2,[11,12])\n",
    "l.insert(-1,[13,14])\n",
    "l.append(3+9j)"
   ]
  },
  {
   "cell_type": "code",
   "execution_count": 62,
   "id": "dc292870",
   "metadata": {},
   "outputs": [
    {
     "data": {
      "text/plain": [
       "[[1, 2, 3],\n",
       " [4, 5, 6],\n",
       " [11, 12],\n",
       " [7, 8, 9, 'xyz'],\n",
       " 10,\n",
       " 'Krish',\n",
       " [13, 14],\n",
       " True,\n",
       " (3+9j)]"
      ]
     },
     "execution_count": 62,
     "metadata": {},
     "output_type": "execute_result"
    }
   ],
   "source": [
    "l"
   ]
  },
  {
   "cell_type": "code",
   "execution_count": 71,
   "id": "5f051842",
   "metadata": {},
   "outputs": [
    {
     "name": "stdout",
     "output_type": "stream",
     "text": [
      "[[1, 2, 3], [4, 5, 6], [11, 12], [7, 8, 9, 'xyz'], 10, 'krish', [13, 14], True, (3+9j)]\n"
     ]
    }
   ],
   "source": [
    "l=[[1,2,3],[4,5,6],[7,8,9,'xyz'],10,'krish',True]\n",
    "l.insert(2,[11,12])\n",
    "l.insert(-1,[13,14])\n",
    "l.append(3+9j)\n",
    "print(l)"
   ]
  },
  {
   "cell_type": "code",
   "execution_count": 72,
   "id": "2447fabe",
   "metadata": {},
   "outputs": [
    {
     "name": "stdout",
     "output_type": "stream",
     "text": [
      "3\n"
     ]
    }
   ],
   "source": [
    "for i in l:\n",
    "    if type(i)==list:\n",
    "        for j in i:\n",
    "            if type(j)==str:\n",
    "                print(l.index(i))\n"
   ]
  },
  {
   "cell_type": "code",
   "execution_count": 73,
   "id": "355e534f",
   "metadata": {},
   "outputs": [
    {
     "data": {
      "text/plain": [
       "[[1, 2, 3],\n",
       " [4, 5, 6],\n",
       " [11, 12],\n",
       " [7, 8, 9, 'xyz'],\n",
       " 10,\n",
       " 'krish',\n",
       " [13, 14],\n",
       " True,\n",
       " (3+9j)]"
      ]
     },
     "execution_count": 73,
     "metadata": {},
     "output_type": "execute_result"
    }
   ],
   "source": [
    "l"
   ]
  },
  {
   "cell_type": "markdown",
   "id": "3d4aafea",
   "metadata": {},
   "source": [
    "Q1) append 2 more list one complex number in this list in between a existing list"
   ]
  },
  {
   "cell_type": "code",
   "execution_count": 74,
   "id": "d46cedf7",
   "metadata": {},
   "outputs": [
    {
     "name": "stdout",
     "output_type": "stream",
     "text": [
      "[[1, 2, 3], [4, 5, 6], ['sai', 'vijay'], [7, 8, 'krish'], 'Bhushan', 'vasudha']\n",
      "[[1, 2, 3], [4, 5, 6], ['sai', 'vijay'], ['xyz', 'pqr'], [7, 8, 'krish'], 'Bhushan', 'vasudha']\n",
      "After complex number: [[1, 2, 3], (3+9j), [4, 5, 6], ['sai', 'vijay'], ['xyz', 'pqr'], [7, 8, 'krish'], 'Bhushan', 'vasudha']\n"
     ]
    }
   ],
   "source": [
    "l=[[1,2,3],[4,5,6],[7,8,'krish'],'Bhushan','vasudha']\n",
    "# Q1\n",
    "l.insert(2,['sai','vijay'])\n",
    "print(l)\n",
    "l.insert(3,['xyz','pqr'])\n",
    "print(l)\n",
    "l.insert(1,(3+9j))\n",
    "print('After complex number:',l)"
   ]
  },
  {
   "cell_type": "markdown",
   "id": "daa66694",
   "metadata": {},
   "source": [
    "# Q2) if your nested list cotain string then find index in list and print those remove the string"
   ]
  },
  {
   "cell_type": "code",
   "execution_count": 76,
   "id": "c48add83",
   "metadata": {},
   "outputs": [
    {
     "name": "stdout",
     "output_type": "stream",
     "text": [
      "Found string in neasted list at index=['vijay'] : vijay\n",
      "Removed vijay\n",
      "List after remove [[1, 2, 3], (3+9j), [4, 5, 6], [], ['pqr'], [7, 8], 'Bhushan', 'vasudha']\n",
      "Found string in neasted list at index=['pqr'] : pqr\n",
      "Removed pqr\n",
      "List after remove [[1, 2, 3], (3+9j), [4, 5, 6], [], [], [7, 8], 'Bhushan', 'vasudha']\n"
     ]
    }
   ],
   "source": [
    "for i in l:\n",
    "    if type(i)==list:\n",
    "        for j in i:\n",
    "            if type(j)==str:\n",
    "                print('Found string in neasted list at index={} : {}'.format(i,j))\n",
    "                print('Removed',j)\n",
    "                i.remove(j)\n",
    "                print('List after remove',l)"
   ]
  },
  {
   "cell_type": "markdown",
   "id": "c39f612b",
   "metadata": {},
   "source": [
    "Q3) you have to extract 2nd element of each nested list"
   ]
  },
  {
   "cell_type": "code",
   "execution_count": 79,
   "id": "5c2324d0",
   "metadata": {},
   "outputs": [
    {
     "name": "stdout",
     "output_type": "stream",
     "text": [
      "nested list 1\n",
      "2nd element of it is= 2\n",
      "nested list 2\n",
      "2nd element of it is= 5\n",
      "nested list 3\n",
      "2nd element of it is= 8\n"
     ]
    }
   ],
   "source": [
    "k=1\n",
    "for i in l:\n",
    "    if type(i)==list and len(i)>=2:\n",
    "        print('nested list',k)\n",
    "        print('2nd element of it is=',i[1])\n",
    "        k+=1"
   ]
  },
  {
   "cell_type": "code",
   "execution_count": 83,
   "id": "69b2e10a",
   "metadata": {},
   "outputs": [
    {
     "data": {
      "text/plain": [
       "[[1, 2],\n",
       " [3, 4],\n",
       " [3, 4, 5],\n",
       " [5, 6, 'Bhushan'],\n",
       " ['xyz', 'Vijaya'],\n",
       " [7, 8, 9],\n",
       " (3+9j)]"
      ]
     },
     "execution_count": 83,
     "metadata": {},
     "output_type": "execute_result"
    }
   ],
   "source": [
    "l=[[1,2],[3,4],[5,6,'Bhushan'],['xyz','Vijaya']]\n",
    "l.insert(2,[3,4,5])\n",
    "l.insert(6,[7,8,9])\n",
    "l.append(3+9j)\n",
    "l"
   ]
  },
  {
   "cell_type": "code",
   "execution_count": 84,
   "id": "4f84958c",
   "metadata": {},
   "outputs": [],
   "source": [
    "l=[1,2,3,4,5]"
   ]
  },
  {
   "cell_type": "code",
   "execution_count": 85,
   "id": "8f818c56",
   "metadata": {},
   "outputs": [],
   "source": [
    "l1=[]"
   ]
  },
  {
   "cell_type": "code",
   "execution_count": 90,
   "id": "5655981f",
   "metadata": {},
   "outputs": [],
   "source": [
    "for i in \"krish\":\n",
    "    l1.append(i)"
   ]
  },
  {
   "cell_type": "code",
   "execution_count": 91,
   "id": "8778961f",
   "metadata": {},
   "outputs": [
    {
     "data": {
      "text/plain": [
       "[1, 1, 1, 1, 1, 1, 1, 1, 1, 1, 'k', 'r', 'i', 's', 'h']"
      ]
     },
     "execution_count": 91,
     "metadata": {},
     "output_type": "execute_result"
    }
   ],
   "source": [
    "l1"
   ]
  },
  {
   "cell_type": "code",
   "execution_count": 92,
   "id": "5031ae1a",
   "metadata": {},
   "outputs": [
    {
     "data": {
      "text/plain": [
       "['K', 'r', 'i', 's', 'h']"
      ]
     },
     "execution_count": 92,
     "metadata": {},
     "output_type": "execute_result"
    }
   ],
   "source": [
    "[i for i in \"Krish\"]"
   ]
  },
  {
   "cell_type": "code",
   "execution_count": 93,
   "id": "5d9095bb",
   "metadata": {},
   "outputs": [
    {
     "data": {
      "text/plain": [
       "[['K'], ['r'], ['i'], ['s'], ['h']]"
      ]
     },
     "execution_count": 93,
     "metadata": {},
     "output_type": "execute_result"
    }
   ],
   "source": [
    "[[i] for i in \"Krish\"]"
   ]
  },
  {
   "cell_type": "code",
   "execution_count": 94,
   "id": "2a75c075",
   "metadata": {},
   "outputs": [],
   "source": [
    "l=[]\n",
    "for i in range(10):\n",
    "    if i%2==0:\n",
    "        l.append(i)"
   ]
  },
  {
   "cell_type": "code",
   "execution_count": 95,
   "id": "7efdd98d",
   "metadata": {},
   "outputs": [
    {
     "data": {
      "text/plain": [
       "[0, 2, 4, 6, 8]"
      ]
     },
     "execution_count": 95,
     "metadata": {},
     "output_type": "execute_result"
    }
   ],
   "source": [
    "l"
   ]
  },
  {
   "cell_type": "code",
   "execution_count": 96,
   "id": "3f826600",
   "metadata": {},
   "outputs": [
    {
     "data": {
      "text/plain": [
       "[0, 2, 4, 6, 8]"
      ]
     },
     "execution_count": 96,
     "metadata": {},
     "output_type": "execute_result"
    }
   ],
   "source": [
    "[i for i in range(10) if i%2==0]"
   ]
  },
  {
   "cell_type": "code",
   "execution_count": 97,
   "id": "75662366",
   "metadata": {},
   "outputs": [
    {
     "data": {
      "text/plain": [
       "2"
      ]
     },
     "execution_count": 97,
     "metadata": {},
     "output_type": "execute_result"
    }
   ],
   "source": [
    "8%3"
   ]
  },
  {
   "cell_type": "code",
   "execution_count": 98,
   "id": "ed15ae6c",
   "metadata": {},
   "outputs": [
    {
     "data": {
      "text/plain": [
       "0"
      ]
     },
     "execution_count": 98,
     "metadata": {},
     "output_type": "execute_result"
    }
   ],
   "source": [
    "8%2"
   ]
  },
  {
   "cell_type": "code",
   "execution_count": 100,
   "id": "191b2448",
   "metadata": {},
   "outputs": [],
   "source": [
    "l=[]\n",
    "for i in range(10):\n",
    "    if i%2!=0:\n",
    "        l.append('even')\n",
    "    else:\n",
    "        l.append('odd')"
   ]
  },
  {
   "cell_type": "code",
   "execution_count": 101,
   "id": "360ad266",
   "metadata": {},
   "outputs": [
    {
     "data": {
      "text/plain": [
       "['odd', 'even', 'odd', 'even', 'odd', 'even', 'odd', 'even', 'odd', 'even']"
      ]
     },
     "execution_count": 101,
     "metadata": {},
     "output_type": "execute_result"
    }
   ],
   "source": [
    "l"
   ]
  },
  {
   "cell_type": "code",
   "execution_count": 102,
   "id": "94b5ff1c",
   "metadata": {},
   "outputs": [
    {
     "data": {
      "text/plain": [
       "['even', 'odd', 'even', 'odd', 'even', 'odd', 'even', 'odd', 'even', 'odd']"
      ]
     },
     "execution_count": 102,
     "metadata": {},
     "output_type": "execute_result"
    }
   ],
   "source": [
    "[\"odd\" if i%2!=0 else \"even\" for i in range(10)]"
   ]
  },
  {
   "cell_type": "code",
   "execution_count": 103,
   "id": "3541c4ea",
   "metadata": {},
   "outputs": [
    {
     "data": {
      "text/plain": [
       "[[0, 1, 2], [0, 1, 2], [0, 1, 2]]"
      ]
     },
     "execution_count": 103,
     "metadata": {},
     "output_type": "execute_result"
    }
   ],
   "source": [
    "mat=[]\n",
    "for i in range(3):\n",
    "    mat.append([])\n",
    "    for j in range(3):\n",
    "        mat[i].append(j)\n",
    "mat"
   ]
  },
  {
   "cell_type": "code",
   "execution_count": null,
   "id": "246e73c0",
   "metadata": {},
   "outputs": [],
   "source": []
  }
 ],
 "metadata": {
  "kernelspec": {
   "display_name": "Python 3",
   "language": "python",
   "name": "python3"
  }
 },
 "nbformat": 4,
 "nbformat_minor": 5
}
