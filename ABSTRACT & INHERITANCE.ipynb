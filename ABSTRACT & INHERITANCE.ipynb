{
 "cells": [
  {
   "cell_type": "code",
   "execution_count": 1,
   "id": "ca05669f",
   "metadata": {},
   "outputs": [],
   "source": [
    "class OS:\n",
    "    multi_task=True\n",
    "class Windows(OS):\n",
    "      def __init__(self):\n",
    "          if self.multi_task is True:\n",
    "             print('multi task')\n",
    "          "
   ]
  },
  {
   "cell_type": "code",
   "execution_count": 2,
   "id": "37c1a28b",
   "metadata": {},
   "outputs": [
    {
     "name": "stdout",
     "output_type": "stream",
     "text": [
      "multi task\n"
     ]
    }
   ],
   "source": [
    "Windows=Windows()"
   ]
  },
  {
   "cell_type": "code",
   "execution_count": 3,
   "id": "0b18c2ce",
   "metadata": {},
   "outputs": [],
   "source": [
    "class Ineuron:\n",
    "          company_website='https://ineuron.ai/'\n",
    "          name='iNeuron'\n",
    "          def contact_details(self):\n",
    "               print('Contact us at', self.company_website)\n",
    "\n",
    "class Datascience(Ineuron):\n",
    "          def __init__(self):\n",
    "              self.year_of_establishment=2018\n",
    "          def est_detalis(self):\n",
    "               print('{0} Company was established in {1}'. format(self.name,self.year_of_establishment))\n"
   ]
  },
  {
   "cell_type": "code",
   "execution_count": 4,
   "id": "cb0e52f8",
   "metadata": {},
   "outputs": [],
   "source": [
    "ds=Datascience()"
   ]
  },
  {
   "cell_type": "code",
   "execution_count": 5,
   "id": "abf93170",
   "metadata": {},
   "outputs": [
    {
     "name": "stdout",
     "output_type": "stream",
     "text": [
      "iNeuron Company was established in 2018\n"
     ]
    }
   ],
   "source": [
    "ds.est_detalis()"
   ]
  },
  {
   "cell_type": "code",
   "execution_count": 6,
   "id": "b4a1d0e1",
   "metadata": {},
   "outputs": [],
   "source": [
    "class OS:\n",
    "          multi_task=True\n",
    "          os_name='Windows Os'\n",
    "\n",
    "class windows(OS,Ineuron):\n",
    "           def __init__(self):\n",
    "                  if self.multi_task is True:\n",
    "                       print('multi task')\n",
    "                       print('Name: {}'.format(self.name))\n"
   ]
  },
  {
   "cell_type": "code",
   "execution_count": 7,
   "id": "b3402594",
   "metadata": {},
   "outputs": [
    {
     "name": "stdout",
     "output_type": "stream",
     "text": [
      "multi task\n",
      "Name: iNeuron\n"
     ]
    }
   ],
   "source": [
    "windows=windows()"
   ]
  },
  {
   "cell_type": "code",
   "execution_count": 8,
   "id": "be5b3b89",
   "metadata": {},
   "outputs": [],
   "source": [
    "class OS:\n",
    "          multi_task=True\n",
    "          name='Bhushan'\n",
    "\n",
    "class windows(OS,Ineuron):\n",
    "           def __init__(self):\n",
    "                  if self.multi_task is True:\n",
    "                       print('multi task')\n",
    "                       print('Name: {}'.format(self.name))\n"
   ]
  },
  {
   "cell_type": "code",
   "execution_count": 9,
   "id": "2046a625",
   "metadata": {},
   "outputs": [
    {
     "name": "stdout",
     "output_type": "stream",
     "text": [
      "multi task\n",
      "Name: Bhushan\n"
     ]
    }
   ],
   "source": [
    "windows=windows()"
   ]
  },
  {
   "cell_type": "code",
   "execution_count": 10,
   "id": "08e367ea",
   "metadata": {},
   "outputs": [],
   "source": [
    "class OS:\n",
    "          multi_task=True\n",
    "          name='Bhushan'\n",
    "\n",
    "class windows(Ineuron,OS):\n",
    "           def __init__(self):\n",
    "                  if self.multi_task is True:\n",
    "                       print('multi task')\n",
    "                       print('Name: {}'.format(self.name))\n"
   ]
  },
  {
   "cell_type": "code",
   "execution_count": 11,
   "id": "e86c3484",
   "metadata": {},
   "outputs": [
    {
     "name": "stdout",
     "output_type": "stream",
     "text": [
      "multi task\n",
      "Name: iNeuron\n"
     ]
    }
   ],
   "source": [
    "windows=windows()"
   ]
  },
  {
   "cell_type": "code",
   "execution_count": 12,
   "id": "b2799d7c",
   "metadata": {},
   "outputs": [],
   "source": [
    "class iNeuron:\n",
    "          num_of_courses=12\n",
    "\n",
    "class Datascience(iNeuron):\n",
    "          course_type='Data-science'\n",
    "\n",
    "class AI(Datascience):\n",
    "          def __init__(self):\n",
    "               self.company=\"iNeuron\"\n",
    "               print('The company {0} offers total {1} different types of courses.Most trending course is {2}'.format(self.company,self.num_of_courses, self.course_type))\n",
    "\n",
    "\n"
   ]
  },
  {
   "cell_type": "code",
   "execution_count": 13,
   "id": "2430bc29",
   "metadata": {},
   "outputs": [
    {
     "name": "stdout",
     "output_type": "stream",
     "text": [
      "The company iNeuron offers total 12 different types of courses.Most trending course is Data-science\n"
     ]
    }
   ],
   "source": [
    "AI=AI()"
   ]
  },
  {
   "cell_type": "code",
   "execution_count": 14,
   "id": "d5a07739",
   "metadata": {},
   "outputs": [
    {
     "name": "stderr",
     "output_type": "stream",
     "text": [
      "ERROR: Could not find a version that satisfies the requirement sqllite3 (from versions: none)\n",
      "ERROR: No matching distribution found for sqllite3\n"
     ]
    }
   ],
   "source": [
    "!pip install sqllite3"
   ]
  },
  {
   "cell_type": "code",
   "execution_count": 15,
   "id": "fa462673",
   "metadata": {},
   "outputs": [
    {
     "name": "stderr",
     "output_type": "stream",
     "text": [
      "ERROR: Could not find a version that satisfies the requirement sqllite (from versions: none)\n",
      "ERROR: No matching distribution found for sqllite\n"
     ]
    }
   ],
   "source": [
    "!pip install sqllite"
   ]
  },
  {
   "cell_type": "code",
   "execution_count": 16,
   "id": "514c4cca",
   "metadata": {},
   "outputs": [
    {
     "name": "stdout",
     "output_type": "stream",
     "text": [
      "Collecting pysqlite3\n",
      "  Using cached pysqlite3-0.4.7.tar.gz (40 kB)\n",
      "Building wheels for collected packages: pysqlite3\n",
      "  Building wheel for pysqlite3 (setup.py): started\n",
      "  Building wheel for pysqlite3 (setup.py): finished with status 'done'\n",
      "  Running setup.py clean for pysqlite3\n",
      "Failed to build pysqlite3\n",
      "Installing collected packages: pysqlite3\n",
      "    Running setup.py install for pysqlite3: started\n",
      "    Running setup.py install for pysqlite3: finished with status 'done'\n",
      "Successfully installed pysqlite3\n"
     ]
    },
    {
     "name": "stderr",
     "output_type": "stream",
     "text": [
      "  WARNING: Legacy build of wheel for 'pysqlite3' created no files.\n",
      "  Command arguments: 'E:\\Backup 22-03-2021\\Desktop\\python.exe' -u -c 'import io, os, sys, setuptools, tokenize; sys.argv[0] = '\"'\"'C:\\\\Users\\\\vasudha\\\\AppData\\\\Local\\\\Temp\\\\pip-install-qtz2sqzo\\\\pysqlite3_ca6a1cca5778474a9124800010d355d5\\\\setup.py'\"'\"'; __file__='\"'\"'C:\\\\Users\\\\vasudha\\\\AppData\\\\Local\\\\Temp\\\\pip-install-qtz2sqzo\\\\pysqlite3_ca6a1cca5778474a9124800010d355d5\\\\setup.py'\"'\"';f = getattr(tokenize, '\"'\"'open'\"'\"', open)(__file__) if os.path.exists(__file__) else io.StringIO('\"'\"'from setuptools import setup; setup()'\"'\"');code = f.read().replace('\"'\"'\\r\\n'\"'\"', '\"'\"'\\n'\"'\"');f.close();exec(compile(code, __file__, '\"'\"'exec'\"'\"'))' bdist_wheel -d 'C:\\Users\\vasudha\\AppData\\Local\\Temp\\pip-wheel-prsv1zyj'\n",
      "  Command output: [use --verbose to show]\n"
     ]
    }
   ],
   "source": [
    "!pip install pysqlite3"
   ]
  },
  {
   "cell_type": "code",
   "execution_count": 17,
   "id": "9b788443",
   "metadata": {},
   "outputs": [
    {
     "name": "stdout",
     "output_type": "stream",
     "text": [
      "Requirement already satisfied: db-sqlite3 in e:\\backup 22-03-2021\\desktop\\lib\\site-packages (0.0.1)\n",
      "Requirement already satisfied: db in e:\\backup 22-03-2021\\desktop\\lib\\site-packages (from db-sqlite3) (0.1.1)\n",
      "Requirement already satisfied: antiorm in e:\\backup 22-03-2021\\desktop\\lib\\site-packages (from db->db-sqlite3) (1.2.1)\n"
     ]
    }
   ],
   "source": [
    "!pip install db-sqlite3"
   ]
  },
  {
   "cell_type": "code",
   "execution_count": 18,
   "id": "5043f071",
   "metadata": {},
   "outputs": [
    {
     "name": "stdout",
     "output_type": "stream",
     "text": [
      "Opened database successfully\n"
     ]
    }
   ],
   "source": [
    "import sqlite3\n",
    "conn = sqlite3.connect('test.db')\n",
    "print (\"Opened database successfully\")"
   ]
  },
  {
   "cell_type": "code",
   "execution_count": 19,
   "id": "198e363a",
   "metadata": {},
   "outputs": [
    {
     "name": "stdout",
     "output_type": "stream",
     "text": [
      "Requirement already satisfied: pymysql in e:\\backup 22-03-2021\\desktop\\lib\\site-packages (1.0.2)\n"
     ]
    }
   ],
   "source": [
    "!pip install pymysql"
   ]
  },
  {
   "cell_type": "code",
   "execution_count": 20,
   "id": "ad61202f",
   "metadata": {},
   "outputs": [],
   "source": [
    "import sqlite3\n",
    "\n",
    "class DataBaseOperations:\n",
    "\n",
    "    def __init__(self,databasename):\n",
    "        \n",
    "        self.databasename = databasename\n",
    "\n",
    "    def createDatabase(self):\n",
    "        try:\n",
    "            conn = sqlite3.connect(self.databasename)\n",
    "        except ConnectionError:\n",
    "            raise ConnectionError\n",
    "        return conn\n",
    "\n",
    "    def createTable(self,tablename,dictionaryOfcolumnNamesAndcolumnDatatypes):\n",
    "        try:\n",
    "            conn = self.createDatabase()\n",
    "            c = conn.cursor()\n",
    "            for key in dictionaryOfcolumnNamesAndcolumnDatatypes.keys():\n",
    "                datatype = dictionaryOfcolumnNamesAndcolumnDatatypes[key]\n",
    "                try:\n",
    "                    conn.execute(\n",
    "                        'ALTER TABLE {tableName} ADD COLUMN \"{column_name}\" {dataType}'.format(tableName=tablename,\n",
    "                                                                                               column_name=key,\n",
    "                                                                                               dataType=datatype))\n",
    "                except:\n",
    "                    conn.execute('CREATE TABLE {tableName} ({column_name} {dataType})'.format(tableName=tablename,\n",
    "                                                                                              column_name=key,\n",
    "                                                                                              dataType=datatype))\n",
    "            print(\"Table {0} created in database {1}\".format(tablename,self.databasename))\n",
    "            self.closeDbConnection(conn)\n",
    "            print(\"Connection to database closed!!\")\n",
    "        except Exception as e:\n",
    "            conn.rollback()\n",
    "            self.closeDbConnection(conn)\n",
    "            print(\"Connection to database closed!!\")\n",
    "\n",
    "            print(\"Exception occured: \" + str(e))\n",
    "\n",
    "    def insertIntoTable(self,tablename, listOfvaluesToInsert):\n",
    "        try:\n",
    "            conn = self.createDatabase()\n",
    "            conn.execute('INSERT INTO {tablename}  values ({values})'.format(tablename = tablename,values=(listOfvaluesToInsert)))\n",
    "            conn.commit()\n",
    "            print(\"Values Inserted Successfully!!!\")\n",
    "            self.closeDbConnection(conn)\n",
    "            print(\"Connection to database closed!!\")\n",
    "        except Exception as e:\n",
    "            conn.rollback()\n",
    "            self.closeDbConnection(conn)\n",
    "            print(\"Connection to database closed!!\")\n",
    "            print(\"Error occured: \" + str(e))\n",
    "\n",
    "        # self.closeDbconnection()\n",
    "    \n",
    "    def selectFromTable(self,tablename):\n",
    "\n",
    "        try:\n",
    "            conn = self.createDatabase()\n",
    "            c = conn.cursor()\n",
    "            c.execute(\"SELECT *  FROM {table}\".format(table=tablename))\n",
    "            print(\"values in table : \" ,c.fetchall())\n",
    "            self.closeDbConnection(conn)\n",
    "            print(\"Connection to database closed!!\")\n",
    "            \n",
    "        except Exception as e:\n",
    "            self.closeDbConnection(conn)\n",
    "            print(\"Connection to database closed!!\")\n",
    "            print(\"Error occured: \" + str(e))\n",
    "    \n",
    "    def closeDbConnection(self,connection):\n",
    "       \n",
    "        connection.close()"
   ]
  },
  {
   "cell_type": "code",
   "execution_count": 21,
   "id": "704eb63e",
   "metadata": {},
   "outputs": [],
   "source": [
    "class StudentMarks(DataBaseOperations): # inheriting the DatabaseOperation class\n",
    "    \n",
    "    def __init__ (self, ID, RollNumber, Marks):\n",
    "        \n",
    "        self.id= ID\n",
    "        self.RollNum = RollNumber\n",
    "        self.Marks = Marks\n",
    "        self.databasename = \"StudentDetails\""
   ]
  },
  {
   "cell_type": "code",
   "execution_count": 22,
   "id": "0a94e385",
   "metadata": {},
   "outputs": [
    {
     "data": {
      "text/plain": [
       "<__main__.StudentMarks at 0x475f1d8>"
      ]
     },
     "execution_count": 22,
     "metadata": {},
     "output_type": "execute_result"
    }
   ],
   "source": [
    "student1 = StudentMarks(23,34,76)\n",
    "student1"
   ]
  },
  {
   "cell_type": "code",
   "execution_count": 23,
   "id": "40637072",
   "metadata": {},
   "outputs": [
    {
     "data": {
      "text/plain": [
       "<sqlite3.Connection at 0x48acb48>"
      ]
     },
     "execution_count": 23,
     "metadata": {},
     "output_type": "execute_result"
    }
   ],
   "source": [
    "student1.createDatabase()"
   ]
  },
  {
   "cell_type": "code",
   "execution_count": 24,
   "id": "92125cbc",
   "metadata": {},
   "outputs": [],
   "source": [
    "class test:\n",
    "    def __init__(self,a,b,c):\n",
    "        self.a=a\n",
    "        self.b=b\n",
    "        self.c=c\n",
    "    def __str__(self):\n",
    "        return \"this is the return class from my test class\"\n",
    "class test1:\n",
    "    def __init__(self,a,b,c):\n",
    "        self.a=a\n",
    "        self.b=b\n",
    "        self.c=c\n",
    "    def __str__(self):\n",
    "        return \"this is the return class form my test1 class\"\n",
    "class test2:\n",
    "    def __init__(self,a,b,c):\n",
    "        self.a=a\n",
    "        self.b=b\n",
    "        self.c=c\n",
    "    def __str__(self):\n",
    "        return \"this is the return class from my test2 class\"\n",
    "    \n",
    "class test3:\n",
    "    def __init__(self,a,b,c):\n",
    "        self.a=a\n",
    "        self.b=b\n",
    "        self.c=c\n",
    "    def __str__(self):\n",
    "        return \"this is the return clas from my test3 class\"\n",
    "class test4:\n",
    "    def __init__(self,a,b,c):\n",
    "        self.a=a\n",
    "        self.b=b\n",
    "        self.c=c\n",
    "    def __str__(self):\n",
    "        return \"this is the return clas from my test4 class\"\n",
    "    \n",
    "class test5:\n",
    "    def __init__(self,a,b,c):\n",
    "        self.a=a\n",
    "        self.b=b\n",
    "        self.c=c\n",
    "    def __str__(self):\n",
    "        return \"this is the return clas from my test5 class\"\n",
    "    \n",
    "class test6:\n",
    "    def __init__(self,a,b,c):\n",
    "        self.a=a\n",
    "        self.b=b\n",
    "        self.c=c\n",
    "    def __str__(self):\n",
    "        return \"this is the return clas from my test6 class\"\n",
    "    \n",
    "class test7:\n",
    "    def __init__(self,a,b,c):\n",
    "        self.a=a\n",
    "        self.b=b\n",
    "        self.c=c\n",
    "    def __str__(self):\n",
    "        return \"this is the return clas from my test7 class\"\n",
    "    \n",
    "class test8:\n",
    "    def __init__(self,a,b,c):\n",
    "        self.a=a\n",
    "        self.b=b\n",
    "        self.c=c\n",
    "    def __str__(self):\n",
    "        return \"this is the return clas from my test8 class\"\n",
    "    \n",
    "class test9:\n",
    "    def __init__(self,a,b,c):\n",
    "        self.a=a\n",
    "        self.b=b\n",
    "        self.c=c\n",
    "    def __str__(self):\n",
    "        return \"this is the return clas from my test9 class\"\n",
    "    \n",
    "class test10:\n",
    "    def __init__(self,a,b,c):\n",
    "        self.a=a\n",
    "        self.b=b\n",
    "        self.c=c\n",
    "    def __str__(self):\n",
    "        return \"this is the return clas from my test10 class\"\n",
    "    \n",
    "class final:\n",
    "    def __init__(self,x,y,z):\n",
    "        self.x=x\n",
    "        self.y=y\n",
    "        self.z=z\n",
    "    def __str__(self):\n",
    "        return str(self.x) + \" \" + str(self.y) + \" \" + str(self.z)"
   ]
  },
  {
   "cell_type": "code",
   "execution_count": 25,
   "id": "c51db59f",
   "metadata": {},
   "outputs": [],
   "source": [
    "t=test(4,5,6)"
   ]
  },
  {
   "cell_type": "code",
   "execution_count": 26,
   "id": "88a34708",
   "metadata": {},
   "outputs": [
    {
     "data": {
      "text/plain": [
       "4"
      ]
     },
     "execution_count": 26,
     "metadata": {},
     "output_type": "execute_result"
    }
   ],
   "source": [
    "t.a"
   ]
  },
  {
   "cell_type": "code",
   "execution_count": 27,
   "id": "e5fdd525",
   "metadata": {},
   "outputs": [
    {
     "data": {
      "text/plain": [
       "5"
      ]
     },
     "execution_count": 27,
     "metadata": {},
     "output_type": "execute_result"
    }
   ],
   "source": [
    "t.b"
   ]
  },
  {
   "cell_type": "code",
   "execution_count": 28,
   "id": "85ec1e31",
   "metadata": {},
   "outputs": [
    {
     "data": {
      "text/plain": [
       "6"
      ]
     },
     "execution_count": 28,
     "metadata": {},
     "output_type": "execute_result"
    }
   ],
   "source": [
    "t.c"
   ]
  },
  {
   "cell_type": "code",
   "execution_count": 29,
   "id": "1a2c1fed",
   "metadata": {},
   "outputs": [],
   "source": [
    "t1=test1(3,4,5)\n",
    "t2=test2(6,7,8)\n",
    "t3=test3(9,10,11)\n",
    "t4=test4(12,13,14)\n",
    "t5=test5(15,16,17)\n",
    "t6=test6(18,19,20)\n",
    "t7=test7(21,22,23)\n",
    "t8=test8(24,25,26)\n",
    "t9=test9(27,28,29)\n",
    "t10=test10(30,31,32)\n",
    "f = final(t,t1,\"sudh\")"
   ]
  },
  {
   "cell_type": "code",
   "execution_count": 30,
   "id": "6f551a49",
   "metadata": {},
   "outputs": [
    {
     "name": "stdout",
     "output_type": "stream",
     "text": [
      "this is the return class from my test class this is the return class form my test1 class sudh\n"
     ]
    }
   ],
   "source": [
    "print(f)"
   ]
  },
  {
   "cell_type": "code",
   "execution_count": 31,
   "id": "84d7aea8",
   "metadata": {},
   "outputs": [],
   "source": [
    "class Student:\n",
    "    def __init__(self,student_id,student_name,gender):\n",
    "        self.student_id=student_id\n",
    "        self.student_name=student_name\n",
    "        self.gender=gender\n",
    "    def __str__(self):\n",
    "        return 'this is my student class'\n",
    "class Employee:\n",
    "    def __init__(self,emp_id,emp_name,gender,salary,work_location,data_of_join,job_role):\n",
    "        self.emp_id=emp_id\n",
    "        self.emp_name=emp_name\n",
    "        self.gender=gender\n",
    "        self.salary=salary\n",
    "        self.work_location=work_location\n",
    "        self.data_of_join=data_of_join\n",
    "        self.job_role=job_role\n",
    "    def __str__(self):\n",
    "        return 'this is my employee class'"
   ]
  },
  {
   "cell_type": "code",
   "execution_count": 32,
   "id": "8e0c9357",
   "metadata": {},
   "outputs": [],
   "source": [
    "s1=Student('17U91A0574','Bhushan','male')\n",
    "s2=Student('17U91A0575','Ravi','male')\n",
    "s3=Student('17U91A0576','Bhavya','female')\n",
    "s4=Student('17U91A0577','Sarath','male')\n",
    "s5=Student('17U91A0578','raju','male')\n",
    "s6=Student('17U91A0579','Prasanna','female')\n",
    "s7=Student('17U91A0580','Pavan','male')\n",
    "s8=Student('17U91A0581','Silaja','female')\n",
    "s9=Student('17U91A0582','Ravi','male')\n",
    "s10=Student('17U91A0583','Samba','male')"
   ]
  },
  {
   "cell_type": "code",
   "execution_count": 33,
   "id": "a308a51b",
   "metadata": {},
   "outputs": [
    {
     "name": "stdout",
     "output_type": "stream",
     "text": [
      "17U91A0574 Bhushan male\n",
      "17U91A0575 Ravi male\n",
      "17U91A0576 Bhavya female\n",
      "17U91A0577 Sarath male\n",
      "17U91A0578 raju male\n",
      "17U91A0579 Prasanna female\n",
      "17U91A0580 Pavan male\n"
     ]
    },
    {
     "ename": "AttributeError",
     "evalue": "'Student' object has no attribute 'ender'",
     "output_type": "error",
     "traceback": [
      "\u001b[1;31m---------------------------------------------------------------------------\u001b[0m",
      "\u001b[1;31mAttributeError\u001b[0m                            Traceback (most recent call last)",
      "\u001b[1;32m~\\AppData\\Local\\Temp/ipykernel_11424/3310321109.py\u001b[0m in \u001b[0;36m<module>\u001b[1;34m\u001b[0m\n\u001b[0;32m      6\u001b[0m \u001b[0mprint\u001b[0m\u001b[1;33m(\u001b[0m\u001b[0ms6\u001b[0m\u001b[1;33m.\u001b[0m\u001b[0mstudent_id\u001b[0m\u001b[1;33m,\u001b[0m\u001b[0ms6\u001b[0m\u001b[1;33m.\u001b[0m\u001b[0mstudent_name\u001b[0m\u001b[1;33m,\u001b[0m\u001b[0ms6\u001b[0m\u001b[1;33m.\u001b[0m\u001b[0mgender\u001b[0m\u001b[1;33m)\u001b[0m\u001b[1;33m\u001b[0m\u001b[1;33m\u001b[0m\u001b[0m\n\u001b[0;32m      7\u001b[0m \u001b[0mprint\u001b[0m\u001b[1;33m(\u001b[0m\u001b[0ms7\u001b[0m\u001b[1;33m.\u001b[0m\u001b[0mstudent_id\u001b[0m\u001b[1;33m,\u001b[0m\u001b[0ms7\u001b[0m\u001b[1;33m.\u001b[0m\u001b[0mstudent_name\u001b[0m\u001b[1;33m,\u001b[0m\u001b[0ms7\u001b[0m\u001b[1;33m.\u001b[0m\u001b[0mgender\u001b[0m\u001b[1;33m)\u001b[0m\u001b[1;33m\u001b[0m\u001b[1;33m\u001b[0m\u001b[0m\n\u001b[1;32m----> 8\u001b[1;33m \u001b[0mprint\u001b[0m\u001b[1;33m(\u001b[0m\u001b[0ms8\u001b[0m\u001b[1;33m.\u001b[0m\u001b[0mstudent_id\u001b[0m\u001b[1;33m,\u001b[0m\u001b[0ms8\u001b[0m\u001b[1;33m.\u001b[0m\u001b[0mstudent_name\u001b[0m\u001b[1;33m,\u001b[0m\u001b[0ms8\u001b[0m\u001b[1;33m.\u001b[0m\u001b[0mender\u001b[0m\u001b[1;33m)\u001b[0m\u001b[1;33m\u001b[0m\u001b[1;33m\u001b[0m\u001b[0m\n\u001b[0m\u001b[0;32m      9\u001b[0m \u001b[0mprint\u001b[0m\u001b[1;33m(\u001b[0m\u001b[0ms9\u001b[0m\u001b[1;33m.\u001b[0m\u001b[0mstudent_id\u001b[0m\u001b[1;33m,\u001b[0m\u001b[0ms9\u001b[0m\u001b[1;33m.\u001b[0m\u001b[0mstudent_name\u001b[0m\u001b[1;33m,\u001b[0m\u001b[0ms9\u001b[0m\u001b[1;33m.\u001b[0m\u001b[0mgender\u001b[0m\u001b[1;33m)\u001b[0m\u001b[1;33m\u001b[0m\u001b[1;33m\u001b[0m\u001b[0m\n\u001b[0;32m     10\u001b[0m \u001b[0mprint\u001b[0m\u001b[1;33m(\u001b[0m\u001b[0ms10\u001b[0m\u001b[1;33m.\u001b[0m\u001b[0mstudent_id\u001b[0m\u001b[1;33m,\u001b[0m\u001b[0ms10\u001b[0m\u001b[1;33m.\u001b[0m\u001b[0mstudent_name\u001b[0m\u001b[1;33m,\u001b[0m\u001b[0ms10\u001b[0m\u001b[1;33m.\u001b[0m\u001b[0mgender\u001b[0m\u001b[1;33m)\u001b[0m\u001b[1;33m\u001b[0m\u001b[1;33m\u001b[0m\u001b[0m\n",
      "\u001b[1;31mAttributeError\u001b[0m: 'Student' object has no attribute 'ender'"
     ]
    }
   ],
   "source": [
    "print(s1.student_id,s1.student_name,s1.gender)\n",
    "print(s2.student_id,s2.student_name,s2.gender)\n",
    "print(s3.student_id,s3.student_name,s3.gender)\n",
    "print(s4.student_id,s4.student_name,s4.gender)\n",
    "print(s5.student_id,s5.student_name,s5.gender)\n",
    "print(s6.student_id,s6.student_name,s6.gender)\n",
    "print(s7.student_id,s7.student_name,s7.gender)\n",
    "print(s8.student_id,s8.student_name,s8.ender)\n",
    "print(s9.student_id,s9.student_name,s9.gender)\n",
    "print(s10.student_id,s10.student_name,s10.gender)"
   ]
  },
  {
   "cell_type": "code",
   "execution_count": null,
   "id": "5f830768",
   "metadata": {},
   "outputs": [],
   "source": []
  }
 ],
 "metadata": {
  "kernelspec": {
   "display_name": "Python 3 (ipykernel)",
   "language": "python",
   "name": "python3"
  },
  "language_info": {
   "codemirror_mode": {
    "name": "ipython",
    "version": 3
   },
   "file_extension": ".py",
   "mimetype": "text/x-python",
   "name": "python",
   "nbconvert_exporter": "python",
   "pygments_lexer": "ipython3",
   "version": "3.9.7"
  }
 },
 "nbformat": 4,
 "nbformat_minor": 5
}
