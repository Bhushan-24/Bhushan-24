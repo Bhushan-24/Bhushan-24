{
  "nbformat": 4,
  "nbformat_minor": 0,
  "metadata": {
    "colab": {
      "name": "Class & Objects",
      "provenance": [],
      "collapsed_sections": []
    },
    "kernelspec": {
      "name": "python3",
      "display_name": "Python 3"
    },
    "language_info": {
      "name": "python"
    }
  },
  "cells": [
    {
      "cell_type": "code",
      "execution_count": null,
      "metadata": {
        "id": "NMDaogL8Wd5z"
      },
      "outputs": [],
      "source": [
        "class car:\n",
        "    pass"
      ]
    },
    {
      "cell_type": "code",
      "source": [
        "car()"
      ],
      "metadata": {
        "colab": {
          "base_uri": "https://localhost:8080/"
        },
        "id": "R3urquodWqbI",
        "outputId": "4a5af1ef-1d16-453e-fd72-9cf1a8d46374"
      },
      "execution_count": null,
      "outputs": [
        {
          "output_type": "execute_result",
          "data": {
            "text/plain": [
              "<__main__.car at 0x7fdb80389050>"
            ]
          },
          "metadata": {},
          "execution_count": 3
        }
      ]
    },
    {
      "cell_type": "code",
      "source": [
        "class laptop:\n",
        "    def __init__(self,laptop_name):\n",
        "        self.laptop_name=laptop_name\n",
        "        print('my laptop name is',laptop_name)"
      ],
      "metadata": {
        "id": "d0n39GfqYilu"
      },
      "execution_count": null,
      "outputs": []
    },
    {
      "cell_type": "code",
      "source": [
        "lap=laptop('DELL')"
      ],
      "metadata": {
        "colab": {
          "base_uri": "https://localhost:8080/"
        },
        "id": "hrodD4FYORYT",
        "outputId": "2241dc45-d48b-4297-cc53-5d2b1c35dcc3"
      },
      "execution_count": null,
      "outputs": [
        {
          "output_type": "stream",
          "name": "stdout",
          "text": [
            "my laptop name is DELL\n"
          ]
        }
      ]
    },
    {
      "cell_type": "code",
      "source": [
        "class car:\n",
        "    def __init__(self,car_name):\n",
        "        self.car_name=car_name\n",
        "        print('my car name is',car_name)"
      ],
      "metadata": {
        "id": "MeE0Bo87OU0n"
      },
      "execution_count": null,
      "outputs": []
    },
    {
      "cell_type": "code",
      "source": [
        "n=car('nano')"
      ],
      "metadata": {
        "colab": {
          "base_uri": "https://localhost:8080/"
        },
        "id": "r6t2OYWIO2Ox",
        "outputId": "9f7c6330-02e1-4b40-9fd7-9a419b897546"
      },
      "execution_count": null,
      "outputs": [
        {
          "output_type": "stream",
          "name": "stdout",
          "text": [
            "my car name is nano\n"
          ]
        }
      ]
    },
    {
      "cell_type": "code",
      "source": [
        "class Int:\n",
        "    a=10\n",
        "    print('the value of a is',a)\n",
        "class Float:\n",
        "    b=3.14\n",
        "    print('the value of b is',b)\n",
        "class String:\n",
        "    c='bhushan'\n",
        "    print('the value of c is',c)"
      ],
      "metadata": {
        "colab": {
          "base_uri": "https://localhost:8080/"
        },
        "id": "1QBS5JE-O8eh",
        "outputId": "34915cc6-ea32-454c-b30b-753d5b297136"
      },
      "execution_count": null,
      "outputs": [
        {
          "output_type": "stream",
          "name": "stdout",
          "text": [
            "the value of a is 10\n",
            "the value of b is 3.14\n",
            "the value of c is bhushan\n"
          ]
        }
      ]
    },
    {
      "cell_type": "code",
      "source": [
        "class car:\n",
        "    pass\n"
      ],
      "metadata": {
        "id": "YCa89YaAQT2c"
      },
      "execution_count": null,
      "outputs": []
    },
    {
      "cell_type": "code",
      "source": [
        "car()"
      ],
      "metadata": {
        "colab": {
          "base_uri": "https://localhost:8080/"
        },
        "id": "aeQeEd7qQ6J4",
        "outputId": "e59e1360-dcea-42c4-f6cf-969192f37308"
      },
      "execution_count": null,
      "outputs": [
        {
          "output_type": "execute_result",
          "data": {
            "text/plain": [
              "<__main__.car at 0x7fc94cceba90>"
            ]
          },
          "metadata": {},
          "execution_count": 14
        }
      ]
    },
    {
      "cell_type": "code",
      "source": [
        "audiq7=car()"
      ],
      "metadata": {
        "id": "JXSEkqMKQ_2X"
      },
      "execution_count": null,
      "outputs": []
    },
    {
      "cell_type": "code",
      "source": [
        "audiq7"
      ],
      "metadata": {
        "colab": {
          "base_uri": "https://localhost:8080/"
        },
        "id": "tyg2KKK2Rhhp",
        "outputId": "1ff87fbb-6299-48bf-a181-71293005cf82"
      },
      "execution_count": null,
      "outputs": [
        {
          "output_type": "execute_result",
          "data": {
            "text/plain": [
              "<__main__.car at 0x7fc94cc99210>"
            ]
          },
          "metadata": {},
          "execution_count": 16
        }
      ]
    },
    {
      "cell_type": "code",
      "source": [
        "audiq7.milage=10\n",
        "audiq7.year=2022\n",
        "audiq7.make=345\n",
        "audiq7.model=\"fsdf\""
      ],
      "metadata": {
        "id": "cnK5KyumRjpB"
      },
      "execution_count": null,
      "outputs": []
    },
    {
      "cell_type": "code",
      "source": [
        "audiq7.milage"
      ],
      "metadata": {
        "colab": {
          "base_uri": "https://localhost:8080/"
        },
        "id": "t1PWXS0ER8Hl",
        "outputId": "7f4da6a7-6660-4558-cd0c-b7be0f9d1f24"
      },
      "execution_count": null,
      "outputs": [
        {
          "output_type": "execute_result",
          "data": {
            "text/plain": [
              "10"
            ]
          },
          "metadata": {},
          "execution_count": 20
        }
      ]
    },
    {
      "cell_type": "code",
      "source": [
        "milage"
      ],
      "metadata": {
        "colab": {
          "base_uri": "https://localhost:8080/",
          "height": 165
        },
        "id": "rm71yaySSpWI",
        "outputId": "2238f710-eae3-4a61-b8d4-0793a20ad66f"
      },
      "execution_count": null,
      "outputs": [
        {
          "output_type": "error",
          "ename": "NameError",
          "evalue": "ignored",
          "traceback": [
            "\u001b[0;31m---------------------------------------------------------------------------\u001b[0m",
            "\u001b[0;31mNameError\u001b[0m                                 Traceback (most recent call last)",
            "\u001b[0;32m<ipython-input-21-e6d08bcec70d>\u001b[0m in \u001b[0;36m<module>\u001b[0;34m()\u001b[0m\n\u001b[0;32m----> 1\u001b[0;31m \u001b[0mmilage\u001b[0m\u001b[0;34m\u001b[0m\u001b[0;34m\u001b[0m\u001b[0m\n\u001b[0m",
            "\u001b[0;31mNameError\u001b[0m: name 'milage' is not defined"
          ]
        }
      ]
    },
    {
      "cell_type": "code",
      "source": [
        "audiq7.year"
      ],
      "metadata": {
        "colab": {
          "base_uri": "https://localhost:8080/"
        },
        "id": "Rrn6Y1LdStZf",
        "outputId": "c0e27e5d-c7f7-429b-bf81-ede68f81faee"
      },
      "execution_count": null,
      "outputs": [
        {
          "output_type": "execute_result",
          "data": {
            "text/plain": [
              "2022"
            ]
          },
          "metadata": {},
          "execution_count": 22
        }
      ]
    },
    {
      "cell_type": "code",
      "source": [
        "audiq7.make"
      ],
      "metadata": {
        "colab": {
          "base_uri": "https://localhost:8080/"
        },
        "id": "0-Z5C-tdSyf8",
        "outputId": "573fc811-dd69-460a-ae85-fee44716beed"
      },
      "execution_count": null,
      "outputs": [
        {
          "output_type": "execute_result",
          "data": {
            "text/plain": [
              "345"
            ]
          },
          "metadata": {},
          "execution_count": 23
        }
      ]
    },
    {
      "cell_type": "code",
      "source": [
        "audiq7.model"
      ],
      "metadata": {
        "colab": {
          "base_uri": "https://localhost:8080/",
          "height": 35
        },
        "id": "iz3zlc7QS05f",
        "outputId": "e9d26aac-381c-4c87-e736-87d5bf64beb4"
      },
      "execution_count": null,
      "outputs": [
        {
          "output_type": "execute_result",
          "data": {
            "application/vnd.google.colaboratory.intrinsic+json": {
              "type": "string"
            },
            "text/plain": [
              "'fsdf'"
            ]
          },
          "metadata": {},
          "execution_count": 24
        }
      ]
    },
    {
      "cell_type": "code",
      "source": [
        "nano=car()"
      ],
      "metadata": {
        "id": "Ju1BI0TjS2yM"
      },
      "execution_count": null,
      "outputs": []
    },
    {
      "cell_type": "code",
      "source": [
        "nano.milage=20\n",
        "nano.year=2021\n",
        "nano.make=234\n",
        "nano.model='sdfa'\n",
        "nano.engino=345554554353"
      ],
      "metadata": {
        "id": "1vwNyVtfTB-9"
      },
      "execution_count": null,
      "outputs": []
    },
    {
      "cell_type": "code",
      "source": [
        "nano.milage"
      ],
      "metadata": {
        "colab": {
          "base_uri": "https://localhost:8080/"
        },
        "id": "REYRIopqTK0x",
        "outputId": "56e22755-37c9-4c94-e610-33ae4564cf4d"
      },
      "execution_count": null,
      "outputs": [
        {
          "output_type": "execute_result",
          "data": {
            "text/plain": [
              "20"
            ]
          },
          "metadata": {},
          "execution_count": 28
        }
      ]
    },
    {
      "cell_type": "code",
      "source": [
        "nano.year"
      ],
      "metadata": {
        "colab": {
          "base_uri": "https://localhost:8080/"
        },
        "id": "G8vsox_zTvJ5",
        "outputId": "18a507e5-4f5b-4d62-a755-6de02715b385"
      },
      "execution_count": null,
      "outputs": [
        {
          "output_type": "execute_result",
          "data": {
            "text/plain": [
              "2021"
            ]
          },
          "metadata": {},
          "execution_count": 29
        }
      ]
    },
    {
      "cell_type": "code",
      "source": [
        "nano.make"
      ],
      "metadata": {
        "colab": {
          "base_uri": "https://localhost:8080/"
        },
        "id": "yrH2vO6tTxT2",
        "outputId": "ffebf81f-3975-4e38-eefa-ca98445c718b"
      },
      "execution_count": null,
      "outputs": [
        {
          "output_type": "execute_result",
          "data": {
            "text/plain": [
              "234"
            ]
          },
          "metadata": {},
          "execution_count": 30
        }
      ]
    },
    {
      "cell_type": "code",
      "source": [
        "nano.model"
      ],
      "metadata": {
        "colab": {
          "base_uri": "https://localhost:8080/",
          "height": 35
        },
        "id": "YcRWM0shTy2B",
        "outputId": "d0f3f8e9-515d-4025-9dce-45c488eaf1ef"
      },
      "execution_count": null,
      "outputs": [
        {
          "output_type": "execute_result",
          "data": {
            "application/vnd.google.colaboratory.intrinsic+json": {
              "type": "string"
            },
            "text/plain": [
              "'sdfa'"
            ]
          },
          "metadata": {},
          "execution_count": 31
        }
      ]
    },
    {
      "cell_type": "code",
      "source": [
        "nano.engino"
      ],
      "metadata": {
        "colab": {
          "base_uri": "https://localhost:8080/"
        },
        "id": "Cv3Lfo1hT0ua",
        "outputId": "4e484789-8736-4eee-f26c-72b92b7b0b49"
      },
      "execution_count": null,
      "outputs": [
        {
          "output_type": "execute_result",
          "data": {
            "text/plain": [
              "345554554353"
            ]
          },
          "metadata": {},
          "execution_count": 32
        }
      ]
    },
    {
      "cell_type": "code",
      "source": [
        "print(nano.milage,audiq7.milage)"
      ],
      "metadata": {
        "colab": {
          "base_uri": "https://localhost:8080/"
        },
        "id": "tWLNdpA9T2Xn",
        "outputId": "c49167f9-8d2a-4323-ab09-37d2ec9d7e4e"
      },
      "execution_count": null,
      "outputs": [
        {
          "output_type": "stream",
          "name": "stdout",
          "text": [
            "20 10\n"
          ]
        }
      ]
    },
    {
      "cell_type": "code",
      "source": [
        "print(nano.year,audiq7.year)"
      ],
      "metadata": {
        "colab": {
          "base_uri": "https://localhost:8080/"
        },
        "id": "NwZ5GnpLT8eT",
        "outputId": "375e5d87-0dcd-4861-e640-2961d46890cf"
      },
      "execution_count": null,
      "outputs": [
        {
          "output_type": "stream",
          "name": "stdout",
          "text": [
            "2021 2022\n"
          ]
        }
      ]
    },
    {
      "cell_type": "code",
      "source": [
        "class car:\n",
        "    def __init__(self,milage,year,make,model,engino):\n",
        "        self.milage=milage\n",
        "        self.year=year\n",
        "        self.make=make\n",
        "        self.model=model\n",
        "        self.engino=engino"
      ],
      "metadata": {
        "id": "cdcljaYgUPLo"
      },
      "execution_count": null,
      "outputs": []
    },
    {
      "cell_type": "code",
      "source": [
        "audiq7=car(10,2020,234,'sdfa',3455545353)"
      ],
      "metadata": {
        "id": "o0MuO7bdUt5R"
      },
      "execution_count": null,
      "outputs": []
    },
    {
      "cell_type": "code",
      "source": [
        "audiq7.milage"
      ],
      "metadata": {
        "colab": {
          "base_uri": "https://localhost:8080/"
        },
        "id": "R3xnwW88U7Pv",
        "outputId": "a01e27bf-c63f-4e4d-cb60-649e08cf53b1"
      },
      "execution_count": null,
      "outputs": [
        {
          "output_type": "execute_result",
          "data": {
            "text/plain": [
              "10"
            ]
          },
          "metadata": {},
          "execution_count": 39
        }
      ]
    },
    {
      "cell_type": "code",
      "source": [
        "audiq7.year"
      ],
      "metadata": {
        "colab": {
          "base_uri": "https://localhost:8080/"
        },
        "id": "Q_mZpZ6nU_WY",
        "outputId": "47b89df7-ce28-4c71-e390-de3fa136aeac"
      },
      "execution_count": null,
      "outputs": [
        {
          "output_type": "execute_result",
          "data": {
            "text/plain": [
              "2020"
            ]
          },
          "metadata": {},
          "execution_count": 40
        }
      ]
    },
    {
      "cell_type": "code",
      "source": [
        "audiq7.make"
      ],
      "metadata": {
        "colab": {
          "base_uri": "https://localhost:8080/"
        },
        "id": "Q9gVkq29VHW0",
        "outputId": "37e7410a-41bd-4af3-8140-f8b3b058ce2b"
      },
      "execution_count": null,
      "outputs": [
        {
          "output_type": "execute_result",
          "data": {
            "text/plain": [
              "234"
            ]
          },
          "metadata": {},
          "execution_count": 41
        }
      ]
    },
    {
      "cell_type": "code",
      "source": [
        "audiq7.model"
      ],
      "metadata": {
        "colab": {
          "base_uri": "https://localhost:8080/",
          "height": 35
        },
        "id": "lsui416YVLFw",
        "outputId": "a2ba01c4-4ae6-4385-a732-ca854314e370"
      },
      "execution_count": null,
      "outputs": [
        {
          "output_type": "execute_result",
          "data": {
            "application/vnd.google.colaboratory.intrinsic+json": {
              "type": "string"
            },
            "text/plain": [
              "'sdfa'"
            ]
          },
          "metadata": {},
          "execution_count": 42
        }
      ]
    },
    {
      "cell_type": "code",
      "source": [
        "audiq7.engino"
      ],
      "metadata": {
        "colab": {
          "base_uri": "https://localhost:8080/"
        },
        "id": "Obsx0k5zVOa_",
        "outputId": "c7abc003-f4b9-4fb0-c72e-6cf0cfae3139"
      },
      "execution_count": null,
      "outputs": [
        {
          "output_type": "execute_result",
          "data": {
            "text/plain": [
              "3455545353"
            ]
          },
          "metadata": {},
          "execution_count": 43
        }
      ]
    },
    {
      "cell_type": "code",
      "source": [
        "class car:\n",
        "    def __init__(a,milage,year,make,model):\n",
        "        a.milage=milage\n",
        "        a.year=year\n",
        "        a.make=make\n",
        "        a.model=model"
      ],
      "metadata": {
        "id": "AT9fyG7AVRFz"
      },
      "execution_count": null,
      "outputs": []
    },
    {
      "cell_type": "code",
      "source": [
        "nano1=car(20,2000,342,'234fsdf')\n",
        "audiq1=car(10,2001,342,'sdfs')\n",
        "nano2=car(20,2000,342,'234fsdf')\n",
        "audiq2=car(10,2001,342,'sdfs')\n",
        "nano3=car(20,2000,342,'234fsdf')\n",
        "audiq3=car(10,2001,342,'sdfs')\n",
        "nano4=car(20,2000,342,'234fsdf')\n",
        "audiq4=car(10,2001,342,'sdfs')\n",
        "nano5=car(20,2000,342,'234fsdf')\n",
        "audiq5=car(10,2001,342,'sdfs')"
      ],
      "metadata": {
        "id": "93eRhM9XWVRk"
      },
      "execution_count": null,
      "outputs": []
    },
    {
      "cell_type": "code",
      "source": [
        "nano1.milage"
      ],
      "metadata": {
        "colab": {
          "base_uri": "https://localhost:8080/"
        },
        "id": "aMU8EAoZWkHh",
        "outputId": "d9d5a520-bdce-4e1d-e6ec-0a3aad8ccf42"
      },
      "execution_count": null,
      "outputs": [
        {
          "output_type": "execute_result",
          "data": {
            "text/plain": [
              "20"
            ]
          },
          "metadata": {},
          "execution_count": 51
        }
      ]
    },
    {
      "cell_type": "code",
      "source": [
        "class car:\n",
        "    def __init__(a, m,y,na,mo):\n",
        "        a.milage=m\n",
        "        a.year=y\n",
        "        a.make=na\n",
        "        a.model=mo"
      ],
      "metadata": {
        "id": "M36mMiCYXibd"
      },
      "execution_count": null,
      "outputs": []
    },
    {
      "cell_type": "code",
      "source": [
        "nano67=car(20,2020,345324,\"234fsdf\")"
      ],
      "metadata": {
        "id": "b_zcjpSsYb4l"
      },
      "execution_count": null,
      "outputs": []
    },
    {
      "cell_type": "code",
      "source": [
        "nano67.milage"
      ],
      "metadata": {
        "colab": {
          "base_uri": "https://localhost:8080/"
        },
        "id": "Yd_r4I1ZZhLY",
        "outputId": "11560b5c-8903-494a-fdee-1df156dbc94f"
      },
      "execution_count": null,
      "outputs": [
        {
          "output_type": "execute_result",
          "data": {
            "text/plain": [
              "20"
            ]
          },
          "metadata": {},
          "execution_count": 58
        }
      ]
    },
    {
      "cell_type": "code",
      "source": [
        "class car:\n",
        "    def __init__(a,m,y,na,mo):\n",
        "        a.milage=m\n",
        "        a.year=y\n",
        "        a.make=na\n",
        "        a.model=mo\n",
        "    def age(self,current_year):\n",
        "        return current_year-self.year"
      ],
      "metadata": {
        "id": "Z-OE542SZweL"
      },
      "execution_count": null,
      "outputs": []
    },
    {
      "cell_type": "code",
      "source": [
        "nano67=car(20,2020,345234,'234fsdf')"
      ],
      "metadata": {
        "id": "hmRL5BRub_4p"
      },
      "execution_count": null,
      "outputs": []
    },
    {
      "cell_type": "code",
      "source": [
        "nano67.milage"
      ],
      "metadata": {
        "colab": {
          "base_uri": "https://localhost:8080/"
        },
        "id": "pdjDXuklcG1E",
        "outputId": "58ab49a6-8ee7-4b08-8a66-63e20a4ef7d9"
      },
      "execution_count": null,
      "outputs": [
        {
          "output_type": "execute_result",
          "data": {
            "text/plain": [
              "20"
            ]
          },
          "metadata": {},
          "execution_count": 65
        }
      ]
    },
    {
      "cell_type": "code",
      "source": [
        "nano67.age(2021)"
      ],
      "metadata": {
        "colab": {
          "base_uri": "https://localhost:8080/"
        },
        "id": "ZpFI8B7kcJMH",
        "outputId": "59dbcb1e-d531-4dea-dccb-662d2459b32c"
      },
      "execution_count": null,
      "outputs": [
        {
          "output_type": "execute_result",
          "data": {
            "text/plain": [
              "1"
            ]
          },
          "metadata": {},
          "execution_count": 66
        }
      ]
    },
    {
      "cell_type": "code",
      "source": [
        "class car:\n",
        "    def __init__(a,m,y,na,mo):\n",
        "        a.milage=m\n",
        "        a.year=y\n",
        "        a.make=na\n",
        "        a.model=mo\n",
        "    def age(b,current_year):\n",
        "        return current_year-b.year"
      ],
      "metadata": {
        "id": "4OdCANi0cM3x"
      },
      "execution_count": null,
      "outputs": []
    },
    {
      "cell_type": "code",
      "source": [
        "nano67=car(20,2020,345234,'234fsdf')"
      ],
      "metadata": {
        "id": "PEVNp7Z6c64o"
      },
      "execution_count": null,
      "outputs": []
    },
    {
      "cell_type": "code",
      "source": [
        "nano67.milage"
      ],
      "metadata": {
        "colab": {
          "base_uri": "https://localhost:8080/"
        },
        "id": "yp0dev0zc9eE",
        "outputId": "f9bf82fc-05ba-4052-a487-dcdf146c8ef1"
      },
      "execution_count": null,
      "outputs": [
        {
          "output_type": "execute_result",
          "data": {
            "text/plain": [
              "20"
            ]
          },
          "metadata": {},
          "execution_count": 69
        }
      ]
    },
    {
      "cell_type": "code",
      "source": [
        "nano67.age(2021)"
      ],
      "metadata": {
        "colab": {
          "base_uri": "https://localhost:8080/"
        },
        "id": "8Oh_zT8Oc_26",
        "outputId": "c736d0c4-e2fd-4d3c-f903-a845a4bc6a84"
      },
      "execution_count": null,
      "outputs": [
        {
          "output_type": "execute_result",
          "data": {
            "text/plain": [
              "1"
            ]
          },
          "metadata": {},
          "execution_count": 70
        }
      ]
    },
    {
      "cell_type": "code",
      "source": [
        "class car:\n",
        "    def __init__(a,m,y,na,mo):\n",
        "        a.milage=m\n",
        "        a.year=y\n",
        "        a.make=na\n",
        "        a.model=mo\n",
        "    def age(b,current_year):\n",
        "        return current_year-b.year\n",
        "    def milage1(self):\n",
        "        print(\"print a milage of car\",self.milage)\n",
        "        # return self.milage\n",
        "    def __str__(c):\n",
        "        return \"this is my car class i have created\""
      ],
      "metadata": {
        "id": "Dl-HGISfdBww"
      },
      "execution_count": null,
      "outputs": []
    },
    {
      "cell_type": "code",
      "source": [
        "nano67=car(20,2020,345234,'234fsdf')"
      ],
      "metadata": {
        "id": "i5S1pgJMd5Ou"
      },
      "execution_count": null,
      "outputs": []
    },
    {
      "cell_type": "code",
      "source": [
        "nano67.milage1()"
      ],
      "metadata": {
        "colab": {
          "base_uri": "https://localhost:8080/"
        },
        "id": "sXFH5xE6d8ni",
        "outputId": "29db5548-4f90-46d9-8aae-c609b9a8dead"
      },
      "execution_count": null,
      "outputs": [
        {
          "output_type": "stream",
          "name": "stdout",
          "text": [
            "print a milage of car 20\n"
          ]
        }
      ]
    },
    {
      "cell_type": "code",
      "source": [
        "nano67.age(2021)"
      ],
      "metadata": {
        "colab": {
          "base_uri": "https://localhost:8080/"
        },
        "id": "_mth9eC8eEGf",
        "outputId": "05815583-15d0-47ea-f38e-27eb9a1de026"
      },
      "execution_count": null,
      "outputs": [
        {
          "output_type": "execute_result",
          "data": {
            "text/plain": [
              "1"
            ]
          },
          "metadata": {},
          "execution_count": 84
        }
      ]
    },
    {
      "cell_type": "code",
      "source": [
        "nano67"
      ],
      "metadata": {
        "colab": {
          "base_uri": "https://localhost:8080/"
        },
        "id": "LOmwl6gdeaFC",
        "outputId": "e3b53cd7-adb0-4e7d-98e8-afb1c757fe5a"
      },
      "execution_count": null,
      "outputs": [
        {
          "output_type": "execute_result",
          "data": {
            "text/plain": [
              "<__main__.car at 0x7fc94c65c090>"
            ]
          },
          "metadata": {},
          "execution_count": 85
        }
      ]
    },
    {
      "cell_type": "code",
      "source": [
        "print(nano67)"
      ],
      "metadata": {
        "colab": {
          "base_uri": "https://localhost:8080/"
        },
        "id": "KXkKVvpTemey",
        "outputId": "04820dc3-14d0-437d-a805-682e7987baef"
      },
      "execution_count": null,
      "outputs": [
        {
          "output_type": "stream",
          "name": "stdout",
          "text": [
            "this is my car class i have created\n"
          ]
        }
      ]
    },
    {
      "cell_type": "code",
      "source": [
        "class student:\n",
        "    def __init__(self,name,rollno,joining_date,current_topic):\n",
        "        self.name=name\n",
        "        self.rollno=rollno\n",
        "        self.joining_date=joining_date\n",
        "        self.current_topic=current_topic\n",
        "    def name_parsing(self):\n",
        "        if type(self.name)==list:\n",
        "            for i in self.name:\n",
        "                print(\"name of the student\",i)\n",
        "        else:\n",
        "                print('provided name is not is a from of list ')\n",
        "    def crt_topic(self):\n",
        "        print(\"current topic discussed in my class is\",self.current_topic)\n",
        "    def str_rollno(self):\n",
        "        try:\n",
        "            if type(self.rollno)==str:\n",
        "                 print(\"do nothing\")\n",
        "            else:\n",
        "                 return str(self.rollno)\n",
        "        except Exception as e:\n",
        "            print(\"this is my erro msg\")\n",
        "    def duration(self,current_date):\n",
        "        print('duration of student in my class is',current_date-self.joining_date)\n",
        "\n",
        "    def __str__(self):\n",
        "        return \"this is student class where they can tyr to input there own data and they can try to\"\n"
      ],
      "metadata": {
        "id": "uxWS3O4Aev6K"
      },
      "execution_count": null,
      "outputs": []
    },
    {
      "cell_type": "code",
      "source": [
        "srini=student('srini',546546,2021,\"oops\")"
      ],
      "metadata": {
        "id": "Tl6HxZ7NlFvl"
      },
      "execution_count": null,
      "outputs": []
    },
    {
      "cell_type": "code",
      "source": [
        "srini.duration(2021)"
      ],
      "metadata": {
        "colab": {
          "base_uri": "https://localhost:8080/"
        },
        "id": "-RgfgGH5nF8D",
        "outputId": "59e91a4b-b38a-4719-fa1c-99688ee35ff0"
      },
      "execution_count": null,
      "outputs": [
        {
          "output_type": "stream",
          "name": "stdout",
          "text": [
            "duration of student in my class is 0\n"
          ]
        }
      ]
    },
    {
      "cell_type": "code",
      "source": [
        "srini.str_rollno()"
      ],
      "metadata": {
        "colab": {
          "base_uri": "https://localhost:8080/",
          "height": 35
        },
        "id": "cK1jWBdWnJ1a",
        "outputId": "de62cf0c-5945-482e-a523-d1725758e337"
      },
      "execution_count": null,
      "outputs": [
        {
          "output_type": "execute_result",
          "data": {
            "application/vnd.google.colaboratory.intrinsic+json": {
              "type": "string"
            },
            "text/plain": [
              "'546546'"
            ]
          },
          "metadata": {},
          "execution_count": 104
        }
      ]
    },
    {
      "cell_type": "code",
      "source": [
        "print(srini)"
      ],
      "metadata": {
        "colab": {
          "base_uri": "https://localhost:8080/"
        },
        "id": "_73zsASknRZi",
        "outputId": "e054387c-a321-4fce-f024-962354aff346"
      },
      "execution_count": null,
      "outputs": [
        {
          "output_type": "stream",
          "name": "stdout",
          "text": [
            "this is student class where they can tyr to input there own data and they can try to\n"
          ]
        }
      ]
    },
    {
      "cell_type": "code",
      "source": [
        "marur=student(\"marur\",\"dfsf\",55345,345)"
      ],
      "metadata": {
        "id": "Dne7SzeL1z55"
      },
      "execution_count": null,
      "outputs": []
    },
    {
      "cell_type": "code",
      "source": [
        "pawan=student([\"naveen\",\"jay\",\"krish\",\"naik\"],[234,2423,423,34,234],2021, \"oops\")"
      ],
      "metadata": {
        "id": "DjVLTJfenkKY"
      },
      "execution_count": null,
      "outputs": []
    },
    {
      "cell_type": "code",
      "source": [
        "pawan.name_parsing()"
      ],
      "metadata": {
        "colab": {
          "base_uri": "https://localhost:8080/",
          "height": 165
        },
        "id": "8sv5c0tp4CX2",
        "outputId": "8c7e2a72-4c47-4520-d645-25ab60b0422a"
      },
      "execution_count": null,
      "outputs": [
        {
          "output_type": "error",
          "ename": "AttributeError",
          "evalue": "ignored",
          "traceback": [
            "\u001b[0;31m---------------------------------------------------------------------------\u001b[0m",
            "\u001b[0;31mAttributeError\u001b[0m                            Traceback (most recent call last)",
            "\u001b[0;32m<ipython-input-116-e46f6564e5b6>\u001b[0m in \u001b[0;36m<module>\u001b[0;34m()\u001b[0m\n\u001b[0;32m----> 1\u001b[0;31m \u001b[0mpawan\u001b[0m\u001b[0;34m.\u001b[0m\u001b[0mname_parsing\u001b[0m\u001b[0;34m(\u001b[0m\u001b[0;34m)\u001b[0m\u001b[0;34m\u001b[0m\u001b[0;34m\u001b[0m\u001b[0m\n\u001b[0m",
            "\u001b[0;31mAttributeError\u001b[0m: 'student' object has no attribute 'name_parsing'"
          ]
        }
      ]
    },
    {
      "cell_type": "code",
      "source": [
        "class employee():\n",
        "    def __init__(self,emp_id,emp_name,salary):\n",
        "        self.emp_id=emp_id\n",
        "        self.emp_name=emp_name\n",
        "        self.salary=salary\n",
        "    def current_salary(self,current_salary):\n",
        "        self.current_salary=current_salary\n",
        "        print('current salary of the employee is',self.current_salary)\n",
        "\n"
      ],
      "metadata": {
        "id": "VoTxE4aF4KB_"
      },
      "execution_count": null,
      "outputs": []
    },
    {
      "cell_type": "code",
      "source": [
        "emp=employee(101,'xyz',20000)"
      ],
      "metadata": {
        "id": "Gn98-scO6T7j"
      },
      "execution_count": null,
      "outputs": []
    },
    {
      "cell_type": "code",
      "source": [
        "emp.emp_id"
      ],
      "metadata": {
        "colab": {
          "base_uri": "https://localhost:8080/"
        },
        "id": "VTI-gi266aDn",
        "outputId": "f36f6f03-2f01-4b4a-e5df-42ffa105b318"
      },
      "execution_count": null,
      "outputs": [
        {
          "output_type": "execute_result",
          "data": {
            "text/plain": [
              "101"
            ]
          },
          "metadata": {},
          "execution_count": 133
        }
      ]
    },
    {
      "cell_type": "code",
      "source": [
        "emp.emp_name"
      ],
      "metadata": {
        "colab": {
          "base_uri": "https://localhost:8080/",
          "height": 35
        },
        "id": "PApJlvsA6coB",
        "outputId": "ab0b5252-7acb-41b6-cc7a-1482cf5205b7"
      },
      "execution_count": null,
      "outputs": [
        {
          "output_type": "execute_result",
          "data": {
            "application/vnd.google.colaboratory.intrinsic+json": {
              "type": "string"
            },
            "text/plain": [
              "'xyz'"
            ]
          },
          "metadata": {},
          "execution_count": 134
        }
      ]
    },
    {
      "cell_type": "code",
      "source": [
        "emp.salary"
      ],
      "metadata": {
        "colab": {
          "base_uri": "https://localhost:8080/"
        },
        "id": "wmdassHA6elf",
        "outputId": "09107b7f-16f4-44bc-8829-5da812a9de04"
      },
      "execution_count": null,
      "outputs": [
        {
          "output_type": "execute_result",
          "data": {
            "text/plain": [
              "20000"
            ]
          },
          "metadata": {},
          "execution_count": 135
        }
      ]
    },
    {
      "cell_type": "code",
      "source": [
        "emp.current_salary(30000)"
      ],
      "metadata": {
        "colab": {
          "base_uri": "https://localhost:8080/"
        },
        "id": "uenh7wPl6h8m",
        "outputId": "0beccf35-cec0-4e85-8fca-dbca8a067b5f"
      },
      "execution_count": null,
      "outputs": [
        {
          "output_type": "stream",
          "name": "stdout",
          "text": [
            "current salary of the employee is 30000\n"
          ]
        }
      ]
    },
    {
      "cell_type": "code",
      "source": [
        "class data:\n",
        "    def __init__(self,file_name,file_type,data,size):\n",
        "        self.file_name=file_name\n",
        "        self.file_type=file_type\n",
        "        self.data=data\n",
        "        self.size=size\n",
        "    def fileopen(self):\n",
        "        f=open(self.file_name,'w')\n",
        "        f.write('this is text file')\n",
        "        f.close()\n",
        "    def fileread(self):\n",
        "        f=open(self.file_name,'r')\n",
        "        print(f.read())\n",
        "        f.close()\n",
        "    def fileappend(self):\n",
        "        f=open(self.file_name,'a')\n",
        "        f.write('Appending data to file')\n",
        "        f.close()"
      ],
      "metadata": {
        "id": "gDFveTlEx-Ek"
      },
      "execution_count": null,
      "outputs": []
    },
    {
      "cell_type": "code",
      "source": [
        "file1=data('file1','txt','2021-4-11','2mb')\n",
        "file1.fileopen()\n",
        "file1.fileread()\n",
        "file1.fileappend()"
      ],
      "metadata": {
        "colab": {
          "base_uri": "https://localhost:8080/"
        },
        "id": "8U--BhUMykh0",
        "outputId": "66f28813-239c-4621-dbf6-8697bc0bfa6e"
      },
      "execution_count": null,
      "outputs": [
        {
          "output_type": "stream",
          "name": "stdout",
          "text": [
            "this is text file\n"
          ]
        }
      ]
    },
    {
      "cell_type": "markdown",
      "source": [
        ""
      ],
      "metadata": {
        "id": "zdWdGXSn6SF1"
      }
    },
    {
      "cell_type": "code",
      "source": [
        ""
      ],
      "metadata": {
        "id": "onrppPbU6TLl"
      },
      "execution_count": null,
      "outputs": []
    }
  ]
}