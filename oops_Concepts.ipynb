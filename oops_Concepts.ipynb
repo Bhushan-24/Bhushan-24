{
  "nbformat": 4,
  "nbformat_minor": 0,
  "metadata": {
    "colab": {
      "name": "oops Concepts",
      "provenance": []
    },
    "kernelspec": {
      "name": "python3",
      "display_name": "Python 3"
    },
    "language_info": {
      "name": "python"
    }
  },
  "cells": [
    {
      "cell_type": "code",
      "execution_count": null,
      "metadata": {
        "id": "8hVlMdknZNQk"
      },
      "outputs": [],
      "source": [
        "class Tyres:\n",
        "    def __init__(self,branch,belted_bias,opt_pressure):\n",
        "        self.branch=branch\n",
        "        self.belted_bias=belted_bias\n",
        "        self.opt_pressure=opt_pressure\n",
        "    def __str__(self):\n",
        "        return (\"Tyres:\\n\\tbranch:\"+self.branch+\"\\n\\t belted_bias:\"+str(self.belted_bias) +\"\\n \\t opt_pressure:\"+str(self.opt_pressure))\n",
        "class Engine:\n",
        "    def __init__(self,fuel_type,noise_level):\n",
        "        self.fuel_type=fuel_type\n",
        "        self.noise_level=noise_level\n",
        "    def __str__(self):\n",
        "        return (\"Engine:\\n\\t fuel_type:\"+self.fuel_type+\"\\n\\t noise_level:\"+str(self.fual_type)+\"\\n \\t noise_level:\"+str(self.noise_level))\n",
        "\n",
        "class Car:\n",
        "    def __init__(c,tyres,engine):\n",
        "        c.tyres=tyres\n",
        "        c.engine=engine\n",
        "    def __init__(self):\n",
        "        return str(self.tyres)+ \"\\n\" +str(self.engine)\n",
        "\n"
      ]
    },
    {
      "cell_type": "code",
      "source": [
        "t=Tyres('pirelli',True,2.0)\n",
        "e=Engine('Diesel',3)"
      ],
      "metadata": {
        "id": "ka2jenuDZuAS"
      },
      "execution_count": null,
      "outputs": []
    },
    {
      "cell_type": "code",
      "source": [
        "class Par:\n",
        "    a=10\n",
        "    b=20\n",
        "    def __init__(self,Par_a,Par_b):\n",
        "        self.Par_a=Par_a\n",
        "        self.Par_b=Par_b\n",
        "class child(Par):\n",
        "    print(Par.a)\n"
      ],
      "metadata": {
        "colab": {
          "base_uri": "https://localhost:8080/"
        },
        "id": "0tDt8DA2hXTO",
        "outputId": "1c893bb5-0206-447a-a834-ca249b93608a"
      },
      "execution_count": null,
      "outputs": [
        {
          "output_type": "stream",
          "name": "stdout",
          "text": [
            "10\n"
          ]
        }
      ]
    },
    {
      "cell_type": "code",
      "source": [
        "class Father:\n",
        "    a=10\n",
        "    b=40\n",
        "    def __init__(self,Father_a,Father_b):\n",
        "        self.Father_a=Father_a\n",
        "        self.Father_b=Father_b\n",
        "class Sun(Father):\n",
        "    print(Father.a)"
      ],
      "metadata": {
        "colab": {
          "base_uri": "https://localhost:8080/"
        },
        "id": "jxDswY4EjCkc",
        "outputId": "85e0f909-37dd-4410-8d2a-204933bf4ccd"
      },
      "execution_count": null,
      "outputs": [
        {
          "output_type": "stream",
          "name": "stdout",
          "text": [
            "10\n"
          ]
        }
      ]
    },
    {
      "cell_type": "code",
      "source": [
        "class Dog:\n",
        "    def __init__(self,name,yearofbirth,bread):\n",
        "        self.name=name\n",
        "        self.yearofbirth=yearofbirth\n",
        "        self.bread=bread\n",
        "    def __str__(self):\n",
        "        return \"%s is a %s born in %s.\" % (self.name,self.yearofbirth,self.bread)"
      ],
      "metadata": {
        "id": "PiYuF6UCpSj_"
      },
      "execution_count": null,
      "outputs": []
    },
    {
      "cell_type": "code",
      "source": [
        "pet=Dog('pet',1995,'Laika')\n",
        "print(pet)"
      ],
      "metadata": {
        "id": "sSgR5nlMgxVH",
        "colab": {
          "base_uri": "https://localhost:8080/"
        },
        "outputId": "6c868af1-a710-4562-a9e3-d8ec4fd1012c"
      },
      "execution_count": null,
      "outputs": [
        {
          "output_type": "stream",
          "name": "stdout",
          "text": [
            "pet is a 1995 born in Laika.\n"
          ]
        }
      ]
    },
    {
      "cell_type": "code",
      "source": [
        "class Student:\n",
        "    def __init__(self,name,id,school_name,address):\n",
        "        self.name=name\n",
        "        self.id=id\n",
        "        self.school_name=school_name\n",
        "        self.address=address\n",
        "    def __str__(self):\n",
        "        return str(self.name) + \" \" + str(self. id) + \" \" + str(self. school_name) + \" \" + str(self. address)"
      ],
      "metadata": {
        "id": "WhppqkDyp-ir"
      },
      "execution_count": null,
      "outputs": []
    },
    {
      "cell_type": "code",
      "source": [
        "stu=Student('Krish',1,'Ineuron','Banguler')"
      ],
      "metadata": {
        "id": "rSU0Jqj5r5ak"
      },
      "execution_count": null,
      "outputs": []
    },
    {
      "cell_type": "code",
      "source": [
        "print(stu.name)"
      ],
      "metadata": {
        "colab": {
          "base_uri": "https://localhost:8080/"
        },
        "id": "Xnej_koHtoqE",
        "outputId": "00666393-8162-4529-f24c-88ae16d57fe4"
      },
      "execution_count": null,
      "outputs": [
        {
          "output_type": "stream",
          "name": "stdout",
          "text": [
            "Krish\n"
          ]
        }
      ]
    },
    {
      "cell_type": "code",
      "source": [
        "print(stu.id)"
      ],
      "metadata": {
        "colab": {
          "base_uri": "https://localhost:8080/"
        },
        "id": "d07rMBkfuhdu",
        "outputId": "365b3e3d-bacf-4786-e7ee-143a8c4e7c18"
      },
      "execution_count": null,
      "outputs": [
        {
          "output_type": "stream",
          "name": "stdout",
          "text": [
            "1\n"
          ]
        }
      ]
    },
    {
      "cell_type": "code",
      "source": [
        "dog=Student(pet,'1975','Laika','Guntur')"
      ],
      "metadata": {
        "id": "11PqbdISupk_"
      },
      "execution_count": null,
      "outputs": []
    },
    {
      "cell_type": "code",
      "source": [
        "class Dog:\n",
        "    def __init__(self,name,age,color,bread,gender):\n",
        "        self.name=name\n",
        "        self.age=age\n",
        "        self.color=color\n",
        "        self.bread=bread\n",
        "        self.gender=gender \n",
        "\n",
        "class Dog1(Dog):\n",
        "    def __init__(self,name,age, yearofbirth,color,bread,gender):\n",
        "        self.name=name\n",
        "        self.age=age\n",
        "        self.yearofbirth=yearofbirth\n",
        "        self.color=color\n",
        "        self.bread=bread\n",
        "        self.gender=gender   "
      ],
      "metadata": {
        "id": "VkbMxnxuw-_M"
      },
      "execution_count": null,
      "outputs": []
    },
    {
      "cell_type": "code",
      "source": [
        "d=Dog1('tommy',10,1995,'white','hydribed','male')"
      ],
      "metadata": {
        "id": "4PTvaw8nptG9"
      },
      "execution_count": null,
      "outputs": []
    },
    {
      "cell_type": "code",
      "source": [
        "print(d.name)"
      ],
      "metadata": {
        "colab": {
          "base_uri": "https://localhost:8080/"
        },
        "id": "TF0N9dRMqjJP",
        "outputId": "567db73b-cc0a-4353-aeef-29e14f0517af"
      },
      "execution_count": null,
      "outputs": [
        {
          "output_type": "stream",
          "name": "stdout",
          "text": [
            "tommy\n"
          ]
        }
      ]
    },
    {
      "cell_type": "code",
      "source": [
        "print(d.color)"
      ],
      "metadata": {
        "colab": {
          "base_uri": "https://localhost:8080/"
        },
        "id": "Dt-P7PWQqlXv",
        "outputId": "1014a77c-c62c-47de-d49e-d236312f1fe9"
      },
      "execution_count": null,
      "outputs": [
        {
          "output_type": "stream",
          "name": "stdout",
          "text": [
            "white\n"
          ]
        }
      ]
    },
    {
      "cell_type": "code",
      "source": [
        "print(d.gender)"
      ],
      "metadata": {
        "colab": {
          "base_uri": "https://localhost:8080/"
        },
        "id": "ko8t0KPCq0RP",
        "outputId": "d61feaaf-0b5c-4c49-d388-5c1ff1e04b43"
      },
      "execution_count": null,
      "outputs": [
        {
          "output_type": "stream",
          "name": "stdout",
          "text": [
            "male\n"
          ]
        }
      ]
    },
    {
      "cell_type": "code",
      "source": [
        "class BonusDistribution:\n",
        "    def __init__(self,employee_id,employee_Rating):\n",
        "        self.employee_id=employee_id\n",
        "        self.employee_Rating=employee_Rating\n",
        "        self.__bonusforRatingA='70%'\n",
        "        self.__bonusforRatingB='60%'\n",
        "        self.__bonusforRatingC='50%'\n",
        "        self.__bonusforRatingD='30%'\n",
        "        self.__bonusforRatingForRest='No Bonus'\n",
        "    def BonusCalculator(self):\n",
        "        if self.employee_Rating=='A':\n",
        "            bonus=self.__bonusforRatingA\n",
        "            msg=\"Bonus for this employee is : \"+bonus\n",
        "            return msg\n",
        "        elif self.employee_Rating=='B':\n",
        "            bonus=self.__bonusforRatingB\n",
        "            msg=\"Bonus for this employee is : \"+bonus\n",
        "            return msg\n",
        "        elif self.employee_Rating=='C':\n",
        "            bonus=self.__bonusforRatingC\n",
        "            msg=\"Bonus for this employee is : \"+bonus\n",
        "            return msg\n",
        "        elif self.employee_Rating=='D':\n",
        "            bonus=self.__bonusforRatingD\n",
        "            msg=\"Bonus for this employee is : \"+bonus\n",
        "            return msg\n",
        "        else:\n",
        "            bonus=self.__bonusforRatingForRest\n",
        "            msg=\"Bonus for this employee is : \"+bonus\n",
        "            return msg\n",
        "    def changevariable(self,value):\n",
        "        self.__bonusforRatingB=value\n",
        "\n"
      ],
      "metadata": {
        "id": "2sKU6Mf2q3Bf"
      },
      "execution_count": null,
      "outputs": []
    },
    {
      "cell_type": "code",
      "source": [
        "emp1=BonusDistribution(12332,'B')\n",
        "emp2=BonusDistribution(1343,'A')\n",
        "emp3=BonusDistribution(1031,'E')"
      ],
      "metadata": {
        "id": "MEyzddSbv0pn"
      },
      "execution_count": null,
      "outputs": []
    },
    {
      "cell_type": "code",
      "source": [
        "emp1.BonusCalculator()"
      ],
      "metadata": {
        "colab": {
          "base_uri": "https://localhost:8080/",
          "height": 36
        },
        "id": "F_Tj8HLrw2P9",
        "outputId": "bba988fd-7cf0-4d19-d690-c939e97b4ab8"
      },
      "execution_count": null,
      "outputs": [
        {
          "output_type": "execute_result",
          "data": {
            "text/plain": [
              "'Bonus for this employee is : 60%'"
            ],
            "application/vnd.google.colaboratory.intrinsic+json": {
              "type": "string"
            }
          },
          "metadata": {},
          "execution_count": 4
        }
      ]
    },
    {
      "cell_type": "code",
      "source": [
        "emp3.BonusCalculator()"
      ],
      "metadata": {
        "colab": {
          "base_uri": "https://localhost:8080/",
          "height": 36
        },
        "id": "ocsm9RUuw8j_",
        "outputId": "96f725b3-a22e-46f6-c2ff-ec55792a0234"
      },
      "execution_count": null,
      "outputs": [
        {
          "output_type": "execute_result",
          "data": {
            "text/plain": [
              "'Bonus for this employee is : No Bonus'"
            ],
            "application/vnd.google.colaboratory.intrinsic+json": {
              "type": "string"
            }
          },
          "metadata": {},
          "execution_count": 5
        }
      ]
    },
    {
      "cell_type": "code",
      "source": [
        "emp2.BonusCalculator()"
      ],
      "metadata": {
        "colab": {
          "base_uri": "https://localhost:8080/",
          "height": 36
        },
        "id": "-7iK7aOT0_0V",
        "outputId": "83ac98af-39f4-410d-9a34-3ca0fc0b501c"
      },
      "execution_count": null,
      "outputs": [
        {
          "output_type": "execute_result",
          "data": {
            "text/plain": [
              "'Bonus for this employee is : 70%'"
            ],
            "application/vnd.google.colaboratory.intrinsic+json": {
              "type": "string"
            }
          },
          "metadata": {},
          "execution_count": 6
        }
      ]
    },
    {
      "cell_type": "code",
      "source": [
        "emp1.__bonusforRatingA='90%'"
      ],
      "metadata": {
        "id": "oxIqSU6R1JSs"
      },
      "execution_count": null,
      "outputs": []
    },
    {
      "cell_type": "code",
      "source": [
        "emp1.BonusCalculator()"
      ],
      "metadata": {
        "colab": {
          "base_uri": "https://localhost:8080/",
          "height": 36
        },
        "id": "1AZficAe1x_g",
        "outputId": "6ad1c9c6-7089-4672-afe8-c814b0061c5d"
      },
      "execution_count": null,
      "outputs": [
        {
          "output_type": "execute_result",
          "data": {
            "text/plain": [
              "'Bonus for this employee is : 60%'"
            ],
            "application/vnd.google.colaboratory.intrinsic+json": {
              "type": "string"
            }
          },
          "metadata": {},
          "execution_count": 8
        }
      ]
    },
    {
      "cell_type": "code",
      "source": [
        "emp1._BonusDistribution__bonusforRatingB='90%'"
      ],
      "metadata": {
        "id": "W1lbU6S710IB"
      },
      "execution_count": null,
      "outputs": []
    },
    {
      "cell_type": "code",
      "source": [
        "emp1.BonusCalculator()"
      ],
      "metadata": {
        "colab": {
          "base_uri": "https://localhost:8080/",
          "height": 36
        },
        "id": "xudfu8I337tl",
        "outputId": "3edc80ea-ca11-4605-f684-ed3d2898ddbf"
      },
      "execution_count": null,
      "outputs": [
        {
          "output_type": "execute_result",
          "data": {
            "text/plain": [
              "'Bonus for this employee is : 90%'"
            ],
            "application/vnd.google.colaboratory.intrinsic+json": {
              "type": "string"
            }
          },
          "metadata": {},
          "execution_count": 10
        }
      ]
    },
    {
      "cell_type": "code",
      "source": [
        "emp1.changevariable(\"85%\")"
      ],
      "metadata": {
        "id": "V8kKaNyoBKu6"
      },
      "execution_count": null,
      "outputs": []
    },
    {
      "cell_type": "code",
      "source": [
        "emp1.BonusCalculator()"
      ],
      "metadata": {
        "colab": {
          "base_uri": "https://localhost:8080/",
          "height": 36
        },
        "id": "vuHXiUQIEhWh",
        "outputId": "477191b6-535d-4e84-c317-844c2c7b950c"
      },
      "execution_count": null,
      "outputs": [
        {
          "output_type": "execute_result",
          "data": {
            "text/plain": [
              "'Bonus for this employee is : 85%'"
            ],
            "application/vnd.google.colaboratory.intrinsic+json": {
              "type": "string"
            }
          },
          "metadata": {},
          "execution_count": 12
        }
      ]
    },
    {
      "cell_type": "code",
      "source": [
        "emp2.BonusCalculator()"
      ],
      "metadata": {
        "colab": {
          "base_uri": "https://localhost:8080/",
          "height": 36
        },
        "id": "F_WX4ruMElCV",
        "outputId": "c0b57e6c-f2f3-4651-e61a-4f0c449db321"
      },
      "execution_count": null,
      "outputs": [
        {
          "output_type": "execute_result",
          "data": {
            "text/plain": [
              "'Bonus for this employee is : 70%'"
            ],
            "application/vnd.google.colaboratory.intrinsic+json": {
              "type": "string"
            }
          },
          "metadata": {},
          "execution_count": 13
        }
      ]
    },
    {
      "cell_type": "code",
      "source": [
        "class multiplynumeric():\n",
        "    def __init__(self,a):\n",
        "        self.a=a"
      ],
      "metadata": {
        "id": "xFgb60RAE2NT"
      },
      "execution_count": null,
      "outputs": []
    },
    {
      "cell_type": "code",
      "source": [
        "mul=multiplynumeric(9)\n",
        "mul1=multiplynumeric(2)"
      ],
      "metadata": {
        "id": "sXqlXSqjIKYx"
      },
      "execution_count": null,
      "outputs": []
    },
    {
      "cell_type": "code",
      "source": [
        "mul.a * mul1.a"
      ],
      "metadata": {
        "colab": {
          "base_uri": "https://localhost:8080/"
        },
        "id": "_ZSOxpzXITyc",
        "outputId": "7764cada-36e3-4f36-d4c4-58b62ee384bd"
      },
      "execution_count": null,
      "outputs": [
        {
          "output_type": "execute_result",
          "data": {
            "text/plain": [
              "18"
            ]
          },
          "metadata": {},
          "execution_count": 20
        }
      ]
    },
    {
      "cell_type": "code",
      "source": [
        "9 *2"
      ],
      "metadata": {
        "colab": {
          "base_uri": "https://localhost:8080/"
        },
        "id": "wzFFQuk7IX6H",
        "outputId": "ff283276-a49a-4c74-afd0-83ee4ab7590f"
      },
      "execution_count": null,
      "outputs": [
        {
          "output_type": "execute_result",
          "data": {
            "text/plain": [
              "18"
            ]
          },
          "metadata": {},
          "execution_count": 21
        }
      ]
    },
    {
      "cell_type": "code",
      "source": [
        "class multiplynumeric():\n",
        "    def __init__(self,a):\n",
        "        self.a=a\n",
        "    def __mul__(self,other):\n",
        "        return self.a * self.other"
      ],
      "metadata": {
        "id": "-oTD1EEsIt9B"
      },
      "execution_count": null,
      "outputs": []
    },
    {
      "cell_type": "code",
      "source": [
        "mul=multiplynumeric(10)\n",
        "mul1=multiplynumeric(2)"
      ],
      "metadata": {
        "id": "TWZwBWpaJhkN"
      },
      "execution_count": null,
      "outputs": []
    },
    {
      "cell_type": "code",
      "source": [
        "mul.a*mul1.a"
      ],
      "metadata": {
        "colab": {
          "base_uri": "https://localhost:8080/"
        },
        "id": "SeXC4HR0Jkrk",
        "outputId": "e68da4a6-498e-4557-f791-75eb5d43de00"
      },
      "execution_count": null,
      "outputs": [
        {
          "output_type": "execute_result",
          "data": {
            "text/plain": [
              "20"
            ]
          },
          "metadata": {},
          "execution_count": 25
        }
      ]
    },
    {
      "cell_type": "code",
      "source": [
        "def test(x,y):\n",
        "    return x+y"
      ],
      "metadata": {
        "id": "Zx2fG7OTJrx6"
      },
      "execution_count": null,
      "outputs": []
    },
    {
      "cell_type": "code",
      "source": [
        "print(test(5,6))\n",
        "print(test(\"bhushan\",\"kumar\"))\n",
        "print(test([1,2,3,4,5],[6,7,8,9]))"
      ],
      "metadata": {
        "colab": {
          "base_uri": "https://localhost:8080/"
        },
        "id": "-2k724kNLZQF",
        "outputId": "e5beec0d-c6b2-49e2-e8a0-0d9ba0f4a2bc"
      },
      "execution_count": null,
      "outputs": [
        {
          "output_type": "stream",
          "name": "stdout",
          "text": [
            "11\n",
            "bhushankumar\n",
            "[1, 2, 3, 4, 5, 6, 7, 8, 9]\n"
          ]
        }
      ]
    },
    {
      "cell_type": "code",
      "source": [
        "def test(p,q):\n",
        "    return p+q"
      ],
      "metadata": {
        "id": "GLtxLcCELi0c"
      },
      "execution_count": 1,
      "outputs": []
    },
    {
      "cell_type": "code",
      "source": [
        "print(test(5,6))\n",
        "print(test(\"Python\",\"developer\"))\n",
        "print(test([1,2,3,4],[5,6,7,8]))"
      ],
      "metadata": {
        "colab": {
          "base_uri": "https://localhost:8080/"
        },
        "id": "Q5godxhzg7rH",
        "outputId": "298df34e-f864-4b98-ae77-382ff75b8dca"
      },
      "execution_count": 3,
      "outputs": [
        {
          "output_type": "stream",
          "name": "stdout",
          "text": [
            "11\n",
            "Pythondeveloper\n",
            "[1, 2, 3, 4, 5, 6, 7, 8]\n"
          ]
        }
      ]
    },
    {
      "cell_type": "code",
      "source": [
        "class Ineuron:\n",
        "    def msg(self):\n",
        "        print('this is a msg to Ineuron')\n",
        "class abc:\n",
        "    def msg(self):\n",
        "        print('this is a msg to abc')\n"
      ],
      "metadata": {
        "id": "TXZmVHGChLbd"
      },
      "execution_count": 15,
      "outputs": []
    },
    {
      "cell_type": "code",
      "source": [
        "def test(notes):\n",
        "    notes.msg()"
      ],
      "metadata": {
        "id": "DL1NjVlzjaOm"
      },
      "execution_count": 16,
      "outputs": []
    },
    {
      "cell_type": "code",
      "source": [
        "i=Ineuron()\n",
        "a=abc()"
      ],
      "metadata": {
        "id": "KQrwqCpHjkKu"
      },
      "execution_count": 17,
      "outputs": []
    },
    {
      "cell_type": "code",
      "source": [
        "test(i)"
      ],
      "metadata": {
        "colab": {
          "base_uri": "https://localhost:8080/"
        },
        "id": "S4xmVe4tju9u",
        "outputId": "578e6767-e534-4d92-8403-54491d17cc2f"
      },
      "execution_count": 18,
      "outputs": [
        {
          "output_type": "stream",
          "name": "stdout",
          "text": [
            "this is a msg to Ineuron\n"
          ]
        }
      ]
    },
    {
      "cell_type": "code",
      "source": [
        "test(x)"
      ],
      "metadata": {
        "colab": {
          "base_uri": "https://localhost:8080/"
        },
        "id": "PR51EejtjxpL",
        "outputId": "8876b99e-be17-4df7-84cb-95687e53ac48"
      },
      "execution_count": 19,
      "outputs": [
        {
          "output_type": "stream",
          "name": "stdout",
          "text": [
            "this is a msg to abc\n"
          ]
        }
      ]
    },
    {
      "cell_type": "code",
      "source": [
        "|"
      ],
      "metadata": {
        "id": "HEr55lHTlTph"
      },
      "execution_count": null,
      "outputs": []
    }
  ]
}